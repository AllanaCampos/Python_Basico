{
 "cells": [
  {
   "cell_type": "markdown",
   "metadata": {},
   "source": [
    "Criando o conjunto de dados"
   ]
  },
  {
   "cell_type": "code",
   "execution_count": 1,
   "metadata": {},
   "outputs": [],
   "source": [
    "import pandas as pd\n",
    "\n",
    "identificador = [\"tic18Py06799\", \"tic18Py07100\", \"tic18Py05996\", \"tic18Py07799\", \"tic18Py08099\"]\n",
    "idade = [24, 23, 27, 24, 24]\n",
    "formacao = [3, 2, 2, 2, 2]\n",
    "formacaoGeral = [1, 0, 0, 0, 0]\n",
    "formacaoEspecifica = [\"Ciência da Computação\", \"Engenharia Elétrica\", \"Engenharia Química\", \"Engenharia Química\", \"Engenharia Química\"]\n",
    "andamentoGraduacao = [None, 90.16, 81.38, 76.94, 75.58]\n",
    "tempoFormacao = [1, None, None, None, None]\n",
    "experienciaPrevia = [True, True, True, True, True]"
   ]
  },
  {
   "cell_type": "markdown",
   "metadata": {},
   "source": [
    "Criando um objeto Index"
   ]
  },
  {
   "cell_type": "code",
   "execution_count": 2,
   "metadata": {},
   "outputs": [],
   "source": [
    "index = pd.Index(identificador, name=\"Identificador\")"
   ]
  },
  {
   "cell_type": "markdown",
   "metadata": {},
   "source": [
    "Gerando objetos da classe Series utilizando as listas do conjunto de dados"
   ]
  },
  {
   "cell_type": "code",
   "execution_count": 3,
   "metadata": {},
   "outputs": [],
   "source": [
    "idade = pd.Series(idade, index = index, name=\"Idade\")\n",
    "formacao = pd.Series(formacao, index = index, name=\"Formação\")\n",
    "formacaoGeral = pd.Series(formacaoGeral, index = index, name=\"Formação Geral\")\n",
    "formacaoEspecifica = pd.Series(formacaoEspecifica, index = index, name=\"Formação Específica\")\n",
    "andamentoGraduacao = pd.Series(andamentoGraduacao, index = index, name=\"Porcentagem Graduação\")\n",
    "tempoFormacao = pd.Series(tempoFormacao, index = index, name=\"Tempo de Formação\")\n",
    "experienciaPrevia = pd.Series(experienciaPrevia, index = index, name=\"Experiencia Prévia\")"
   ]
  },
  {
   "cell_type": "markdown",
   "metadata": {},
   "source": [
    "Criando funções auxiliares"
   ]
  },
  {
   "cell_type": "code",
   "execution_count": 4,
   "metadata": {},
   "outputs": [],
   "source": [
    "def getFormacao(val):\n",
    "    match(val):\n",
    "        case 0: return \"Formação técnica\"\n",
    "        case 1: return \"Formação técnica graduação em andamento\"\n",
    "        case 2: return \"Graduação em andamento\"\n",
    "        case 3: return \"Graduação concluída\"\n",
    "\n",
    "def getFormacaoGeral(val):\n",
    "    if(val == 0):\n",
    "        return \"Engenharia\"\n",
    "    else:\n",
    "        return \"Computação\""
   ]
  },
  {
   "cell_type": "markdown",
   "metadata": {},
   "source": [
    "Calculando as métricas"
   ]
  },
  {
   "cell_type": "code",
   "execution_count": 5,
   "metadata": {},
   "outputs": [
    {
     "name": "stdout",
     "output_type": "stream",
     "text": [
      "A idade média dos membros é:  24.4\n"
     ]
    }
   ],
   "source": [
    "idadeMedia = idade.mean()\n",
    "print(\"A idade média dos membros é: \", idadeMedia)"
   ]
  },
  {
   "cell_type": "code",
   "execution_count": 6,
   "metadata": {},
   "outputs": [
    {
     "name": "stdout",
     "output_type": "stream",
     "text": [
      "O membro mais velho é:  tic18Py05996. E possui:  27  anos\n"
     ]
    }
   ],
   "source": [
    "print(\"O membro mais velho é: \", idade.idxmax() + \". E possui: \", idade.max(), \" anos\")"
   ]
  },
  {
   "cell_type": "code",
   "execution_count": 7,
   "metadata": {},
   "outputs": [
    {
     "name": "stdout",
     "output_type": "stream",
     "text": [
      "O membro mais novo é:  tic18Py07100. E possui:  23  anos\n"
     ]
    }
   ],
   "source": [
    "print(\"O membro mais novo é: \", idade.idxmin() + \". E possui: \", idade.min(), \" anos\")"
   ]
  },
  {
   "cell_type": "code",
   "execution_count": 8,
   "metadata": {},
   "outputs": [
    {
     "name": "stdout",
     "output_type": "stream",
     "text": [
      "O perfil de formação predominante na équipe é:  Graduação em andamento\n"
     ]
    }
   ],
   "source": [
    "perfilFormacao = formacao.mode()\n",
    "\n",
    "print(\"O perfil de formação predominante na équipe é: \", getFormacao(perfilFormacao.values))"
   ]
  },
  {
   "cell_type": "code",
   "execution_count": 9,
   "metadata": {},
   "outputs": [
    {
     "name": "stdout",
     "output_type": "stream",
     "text": [
      "A equipe é formada maioritariamente por alunos da área de Engenharia\n"
     ]
    }
   ],
   "source": [
    "perfilFormacaoGeral = formacaoGeral.mode()\n",
    "print(\"A equipe é formada maioritariamente por alunos da área de\", getFormacaoGeral(perfilFormacaoGeral.values))"
   ]
  },
  {
   "cell_type": "markdown",
   "metadata": {},
   "source": [
    "Gerando o DataFrame"
   ]
  },
  {
   "cell_type": "code",
   "execution_count": 10,
   "metadata": {},
   "outputs": [
    {
     "data": {
      "text/html": [
       "<div>\n",
       "<style scoped>\n",
       "    .dataframe tbody tr th:only-of-type {\n",
       "        vertical-align: middle;\n",
       "    }\n",
       "\n",
       "    .dataframe tbody tr th {\n",
       "        vertical-align: top;\n",
       "    }\n",
       "\n",
       "    .dataframe thead th {\n",
       "        text-align: right;\n",
       "    }\n",
       "</style>\n",
       "<table border=\"1\" class=\"dataframe\">\n",
       "  <thead>\n",
       "    <tr style=\"text-align: right;\">\n",
       "      <th></th>\n",
       "      <th>Idade</th>\n",
       "      <th>Formação</th>\n",
       "      <th>Formação Geral</th>\n",
       "      <th>Formação Específica</th>\n",
       "      <th>Porcentagem Graduação</th>\n",
       "      <th>Tempo de Formação</th>\n",
       "      <th>Experiencia Prévia</th>\n",
       "    </tr>\n",
       "    <tr>\n",
       "      <th>Identificador</th>\n",
       "      <th></th>\n",
       "      <th></th>\n",
       "      <th></th>\n",
       "      <th></th>\n",
       "      <th></th>\n",
       "      <th></th>\n",
       "      <th></th>\n",
       "    </tr>\n",
       "  </thead>\n",
       "  <tbody>\n",
       "    <tr>\n",
       "      <th>tic18Py06799</th>\n",
       "      <td>24</td>\n",
       "      <td>3</td>\n",
       "      <td>1</td>\n",
       "      <td>Ciência da Computação</td>\n",
       "      <td>NaN</td>\n",
       "      <td>1.0</td>\n",
       "      <td>True</td>\n",
       "    </tr>\n",
       "    <tr>\n",
       "      <th>tic18Py07100</th>\n",
       "      <td>23</td>\n",
       "      <td>2</td>\n",
       "      <td>0</td>\n",
       "      <td>Engenharia Elétrica</td>\n",
       "      <td>90.16</td>\n",
       "      <td>NaN</td>\n",
       "      <td>True</td>\n",
       "    </tr>\n",
       "    <tr>\n",
       "      <th>tic18Py05996</th>\n",
       "      <td>27</td>\n",
       "      <td>2</td>\n",
       "      <td>0</td>\n",
       "      <td>Engenharia Química</td>\n",
       "      <td>81.38</td>\n",
       "      <td>NaN</td>\n",
       "      <td>True</td>\n",
       "    </tr>\n",
       "    <tr>\n",
       "      <th>tic18Py07799</th>\n",
       "      <td>24</td>\n",
       "      <td>2</td>\n",
       "      <td>0</td>\n",
       "      <td>Engenharia Química</td>\n",
       "      <td>76.94</td>\n",
       "      <td>NaN</td>\n",
       "      <td>True</td>\n",
       "    </tr>\n",
       "    <tr>\n",
       "      <th>tic18Py08099</th>\n",
       "      <td>24</td>\n",
       "      <td>2</td>\n",
       "      <td>0</td>\n",
       "      <td>Engenharia Química</td>\n",
       "      <td>75.58</td>\n",
       "      <td>NaN</td>\n",
       "      <td>True</td>\n",
       "    </tr>\n",
       "  </tbody>\n",
       "</table>\n",
       "</div>"
      ],
      "text/plain": [
       "               Idade  Formação  Formação Geral    Formação Específica  \\\n",
       "Identificador                                                           \n",
       "tic18Py06799      24         3               1  Ciência da Computação   \n",
       "tic18Py07100      23         2               0    Engenharia Elétrica   \n",
       "tic18Py05996      27         2               0     Engenharia Química   \n",
       "tic18Py07799      24         2               0     Engenharia Química   \n",
       "tic18Py08099      24         2               0     Engenharia Química   \n",
       "\n",
       "               Porcentagem Graduação  Tempo de Formação  Experiencia Prévia  \n",
       "Identificador                                                                \n",
       "tic18Py06799                     NaN                1.0                True  \n",
       "tic18Py07100                   90.16                NaN                True  \n",
       "tic18Py05996                   81.38                NaN                True  \n",
       "tic18Py07799                   76.94                NaN                True  \n",
       "tic18Py08099                   75.58                NaN                True  "
      ]
     },
     "execution_count": 10,
     "metadata": {},
     "output_type": "execute_result"
    }
   ],
   "source": [
    "dataFrame = pd.concat([idade, formacao, formacaoGeral, formacaoEspecifica, andamentoGraduacao, tempoFormacao, experienciaPrevia], axis=1)\n",
    "dataFrame"
   ]
  },
  {
   "cell_type": "markdown",
   "metadata": {},
   "source": [
    "Calculando as métricas"
   ]
  },
  {
   "cell_type": "code",
   "execution_count": 11,
   "metadata": {},
   "outputs": [
    {
     "name": "stdout",
     "output_type": "stream",
     "text": [
      "A idade média dos membros é:  24.4\n"
     ]
    }
   ],
   "source": [
    "idadeMediaDF = dataFrame.loc[:][\"Idade\"].mean()\n",
    "print(\"A idade média dos membros é: \", idadeMediaDF)"
   ]
  },
  {
   "cell_type": "code",
   "execution_count": 12,
   "metadata": {},
   "outputs": [
    {
     "name": "stdout",
     "output_type": "stream",
     "text": [
      "O membro mais velho é:  tic18Py05996. E possui:  27  anos\n"
     ]
    }
   ],
   "source": [
    "idadeMaxDF = dataFrame.loc[:][\"Idade\"].max()\n",
    "idadeIndexMaxDF = dataFrame.loc[:][\"Idade\"].idxmax()\n",
    "print(\"O membro mais velho é: \", idadeIndexMaxDF + \". E possui: \", idadeMaxDF, \" anos\")"
   ]
  },
  {
   "cell_type": "code",
   "execution_count": 13,
   "metadata": {},
   "outputs": [
    {
     "name": "stdout",
     "output_type": "stream",
     "text": [
      "O membro mais novo é:  tic18Py07100. E possui:  23  anos\n"
     ]
    }
   ],
   "source": [
    "idadeMinDF = dataFrame.loc[:][\"Idade\"].min()\n",
    "idadeIndexMinDF = dataFrame.loc[:][\"Idade\"].idxmin()\n",
    "print(\"O membro mais novo é: \", idadeIndexMinDF + \". E possui: \", idadeMinDF, \" anos\")"
   ]
  },
  {
   "cell_type": "code",
   "execution_count": 14,
   "metadata": {},
   "outputs": [
    {
     "name": "stdout",
     "output_type": "stream",
     "text": [
      "O perfil de formação predominante na équipe é:  Graduação em andamento\n"
     ]
    }
   ],
   "source": [
    "perfilFormacaoDF = dataFrame.loc[:][\"Formação\"].mode()\n",
    "print(\"O perfil de formação predominante na équipe é: \", getFormacao(perfilFormacaoDF.values))"
   ]
  },
  {
   "cell_type": "code",
   "execution_count": 15,
   "metadata": {},
   "outputs": [
    {
     "name": "stdout",
     "output_type": "stream",
     "text": [
      "A equipe é formada maioritariamente por alunos da área de Engenharia\n"
     ]
    }
   ],
   "source": [
    "perfilFormacaoGeralDF = dataFrame.loc[:][\"Formação Geral\"].mode()\n",
    "print(\"A equipe é formada maioritariamente por alunos da área de\", getFormacaoGeral(perfilFormacaoGeralDF.values))"
   ]
  },
  {
   "cell_type": "markdown",
   "metadata": {},
   "source": [
    "Para padrônizar os valores da formação específica, podemos gerar uma lista com as palavras que são frequentemente simplificadas pelo usuário e filtrar os dados atravez da lista, verificando se existe alguma entrada semelhante. \n",
    "\n",
    "Comumente as palavras simplificadas são seguidas de espaço ou ponto, então para obter apenas a string desejada podemos remover esses caracteres.\n",
    "Após remover os caracteres indesejados e filtrar as entradas, a idéia é substituir as simplificações com as palavras originais, após isso unir as palavras resultantes do processo. Como no exemplo abaixo:"
   ]
  },
  {
   "cell_type": "code",
   "execution_count": 16,
   "metadata": {},
   "outputs": [
    {
     "name": "stdout",
     "output_type": "stream",
     "text": [
      "['Engenharia  Ambiental', 'Engenharia Produção', 'Engenharia prod Engenharia', 'Engenharia Elétrica']\n"
     ]
    }
   ],
   "source": [
    "dados = [\"Eng. Ambiental\", \"Eng Prod\", \"eng.prod.\", \"Eng elét\"]\n",
    "nomes = [\"Engenharia\", \"Produção\", \"Elétrica\", \"Mecânica\", \"Civíl\", \"Computação\", \"Ciência\", \"Análise\", \"Sistemas\"]\n",
    "newDados = []\n",
    "for i in dados:\n",
    "    curso = i\n",
    "\n",
    "    if(i.find(\".\") >= 0 ):\n",
    "        curso = i.split(\".\")\n",
    "    elif(i.find(\" \") >= 0):\n",
    "        curso = i.split(\" \")\n",
    "\n",
    "    palavra = [a for a in nomes if curso[0].capitalize() in a]\n",
    "    if(len(palavra)>0):\n",
    "        curso[0] = palavra[0]\n",
    "    palavra = [a for a in nomes if curso[-1].capitalize() in a]\n",
    "    if(len(palavra)>0):\n",
    "        curso[-1] = palavra[0]\n",
    "    \n",
    "    curso = \" \".join(curso)\n",
    "    newDados.append(curso)\n",
    "print(newDados)"
   ]
  },
  {
   "cell_type": "markdown",
   "metadata": {},
   "source": [
    "Utilizando MultiIndex"
   ]
  },
  {
   "cell_type": "markdown",
   "metadata": {},
   "source": [
    "Listas com os dados para Java, criação do index e os objetos Series"
   ]
  },
  {
   "cell_type": "code",
   "execution_count": 17,
   "metadata": {},
   "outputs": [],
   "source": [
    "#Java\n",
    "identificadorJA = [\"tic18Jav08200\", \"tic18Jav86059\", \"tic18Jav05999\"]\n",
    "idadeJA = [23, 22, 24]\n",
    "formacaoJA = [1, 1, 2]\n",
    "formacaoGeralJA = [1, 1, 0]\n",
    "formacaoEspecificaJA = [\"Ciência da Computação\", \"Ciência da Computação\", \"Engenharia Elétrica\"]\n",
    "andamentoGraduacaoJA = [66, 66, 99]\n",
    "tempoFormacaoJA = [None, None, None]\n",
    "experienciaPreviaJA = [True, True, True]\n",
    "\n",
    "indexJA = pd.Index(identificadorJA, name=\"Identificador\")\n",
    "\n",
    "idadeJA = pd.Series(idadeJA, index = indexJA, name=\"Idade\")\n",
    "formacaoJA = pd.Series(formacaoJA, index = indexJA, name=\"Formação\")\n",
    "formacaoGeralJA = pd.Series(formacaoGeralJA, index = indexJA, name=\"Formação Geral\")\n",
    "formacaoEspecificaJA = pd.Series(formacaoEspecificaJA, index = indexJA, name=\"Formação Específica\")\n",
    "andamentoGraduacaoJA = pd.Series(andamentoGraduacaoJA, index = indexJA, name=\"Porcentagem Graduação\")\n",
    "tempoFormacaoJA = pd.Series(tempoFormacaoJA, index = indexJA, name=\"Tempo de Formação\")\n",
    "experienciaPreviaJA = pd.Series(experienciaPreviaJA, index = indexJA, name=\"Experiencia Prévia\")"
   ]
  },
  {
   "cell_type": "markdown",
   "metadata": {},
   "source": [
    "Listas com dados de .Net, criação do index e os objetos Series"
   ]
  },
  {
   "cell_type": "code",
   "execution_count": 18,
   "metadata": {},
   "outputs": [],
   "source": [
    "#.Net\n",
    "identificadorDN = [\"tic18Net06894\", \"tic18Net06200\", \"tic18Net86399\", \"tic18Net05594\", \"tic18Net05800\"]\n",
    "idadeDN = [29, 23, 24, 29, 23]\n",
    "formacaoDN = [3, 2, 2, 3, 2]\n",
    "formacaoGeralDN = [1, 0, 0, 0, 0]\n",
    "formacaoEspecificaDN = [\"Análise e Desenvolvimento\", \"Engenharia Química\", \"Engenharia Química\", \"Engenharia Mecânica\", \"Engenharia Química\"]\n",
    "andamentoGraduacaoDN = [78, 72, 70.16, None, 80]\n",
    "tempoFormacaoDN = [None, None, None, 4, None]\n",
    "experienciaPreviaDN = [False, False, False, False, False]\n",
    "\n",
    "indexDN = pd.Index(identificadorDN, name=\"Identificador\")\n",
    "\n",
    "idadeDN = pd.Series(idadeDN, index = indexDN, name=\"Idade\")\n",
    "formacaoDN = pd.Series(formacaoDN, index = indexDN, name=\"Formação\")\n",
    "formacaoGeralDN = pd.Series(formacaoGeralDN, index = indexDN, name=\"Formação Geral\")\n",
    "formacaoEspecificaDN = pd.Series(formacaoEspecificaDN, index = indexDN, name=\"Formação Específica\")\n",
    "andamentoGraduacaoDN = pd.Series(andamentoGraduacaoDN, index = indexDN, name=\"Porcentagem Graduação\")\n",
    "tempoFormacaoDN = pd.Series(tempoFormacaoDN, index = indexDN, name=\"Tempo de Formação\")\n",
    "experienciaPreviaDN = pd.Series(experienciaPreviaDN, index = indexDN, name=\"Experiencia Prévia\")"
   ]
  },
  {
   "cell_type": "markdown",
   "metadata": {},
   "source": [
    "Criação dos DataFrames"
   ]
  },
  {
   "cell_type": "code",
   "execution_count": 19,
   "metadata": {},
   "outputs": [],
   "source": [
    "#Python\n",
    "dfPY = dataFrame.copy() #Copiando o dataFrame de python\n",
    "miPY = pd.Index([\"Python\"]*len(index), name=\"Trilha\") #Gerando o novo index com a trilha\n",
    "dfPY.index = [miPY, index] #Determinando um multiindex pro dataFrame"
   ]
  },
  {
   "cell_type": "code",
   "execution_count": 20,
   "metadata": {},
   "outputs": [
    {
     "name": "stderr",
     "output_type": "stream",
     "text": [
      "C:\\Users\\renad\\AppData\\Local\\Temp\\ipykernel_19108\\2486528405.py:10: FutureWarning: The behavior of DataFrame concatenation with empty or all-NA entries is deprecated. In a future version, this will no longer exclude empty or all-NA columns when determining the result dtypes. To retain the old behavior, exclude the relevant entries before the concat operation.\n",
      "  multiIndexDF = pd.concat([dfPY, dfJA, dfDN]) #Concatenando os DataFrames\n"
     ]
    },
    {
     "data": {
      "text/html": [
       "<div>\n",
       "<style scoped>\n",
       "    .dataframe tbody tr th:only-of-type {\n",
       "        vertical-align: middle;\n",
       "    }\n",
       "\n",
       "    .dataframe tbody tr th {\n",
       "        vertical-align: top;\n",
       "    }\n",
       "\n",
       "    .dataframe thead th {\n",
       "        text-align: right;\n",
       "    }\n",
       "</style>\n",
       "<table border=\"1\" class=\"dataframe\">\n",
       "  <thead>\n",
       "    <tr style=\"text-align: right;\">\n",
       "      <th></th>\n",
       "      <th></th>\n",
       "      <th>Idade</th>\n",
       "      <th>Formação</th>\n",
       "      <th>Formação Geral</th>\n",
       "      <th>Formação Específica</th>\n",
       "      <th>Porcentagem Graduação</th>\n",
       "      <th>Tempo de Formação</th>\n",
       "      <th>Experiencia Prévia</th>\n",
       "    </tr>\n",
       "    <tr>\n",
       "      <th>Trilha</th>\n",
       "      <th>Identificador</th>\n",
       "      <th></th>\n",
       "      <th></th>\n",
       "      <th></th>\n",
       "      <th></th>\n",
       "      <th></th>\n",
       "      <th></th>\n",
       "      <th></th>\n",
       "    </tr>\n",
       "  </thead>\n",
       "  <tbody>\n",
       "    <tr>\n",
       "      <th rowspan=\"5\" valign=\"top\">Python</th>\n",
       "      <th>tic18Py06799</th>\n",
       "      <td>24</td>\n",
       "      <td>3</td>\n",
       "      <td>1</td>\n",
       "      <td>Ciência da Computação</td>\n",
       "      <td>NaN</td>\n",
       "      <td>1.0</td>\n",
       "      <td>True</td>\n",
       "    </tr>\n",
       "    <tr>\n",
       "      <th>tic18Py07100</th>\n",
       "      <td>23</td>\n",
       "      <td>2</td>\n",
       "      <td>0</td>\n",
       "      <td>Engenharia Elétrica</td>\n",
       "      <td>90.16</td>\n",
       "      <td>NaN</td>\n",
       "      <td>True</td>\n",
       "    </tr>\n",
       "    <tr>\n",
       "      <th>tic18Py05996</th>\n",
       "      <td>27</td>\n",
       "      <td>2</td>\n",
       "      <td>0</td>\n",
       "      <td>Engenharia Química</td>\n",
       "      <td>81.38</td>\n",
       "      <td>NaN</td>\n",
       "      <td>True</td>\n",
       "    </tr>\n",
       "    <tr>\n",
       "      <th>tic18Py07799</th>\n",
       "      <td>24</td>\n",
       "      <td>2</td>\n",
       "      <td>0</td>\n",
       "      <td>Engenharia Química</td>\n",
       "      <td>76.94</td>\n",
       "      <td>NaN</td>\n",
       "      <td>True</td>\n",
       "    </tr>\n",
       "    <tr>\n",
       "      <th>tic18Py08099</th>\n",
       "      <td>24</td>\n",
       "      <td>2</td>\n",
       "      <td>0</td>\n",
       "      <td>Engenharia Química</td>\n",
       "      <td>75.58</td>\n",
       "      <td>NaN</td>\n",
       "      <td>True</td>\n",
       "    </tr>\n",
       "    <tr>\n",
       "      <th rowspan=\"3\" valign=\"top\">Java</th>\n",
       "      <th>tic18Jav08200</th>\n",
       "      <td>23</td>\n",
       "      <td>1</td>\n",
       "      <td>1</td>\n",
       "      <td>Ciência da Computação</td>\n",
       "      <td>66.00</td>\n",
       "      <td>NaN</td>\n",
       "      <td>True</td>\n",
       "    </tr>\n",
       "    <tr>\n",
       "      <th>tic18Jav86059</th>\n",
       "      <td>22</td>\n",
       "      <td>1</td>\n",
       "      <td>1</td>\n",
       "      <td>Ciência da Computação</td>\n",
       "      <td>66.00</td>\n",
       "      <td>NaN</td>\n",
       "      <td>True</td>\n",
       "    </tr>\n",
       "    <tr>\n",
       "      <th>tic18Jav05999</th>\n",
       "      <td>24</td>\n",
       "      <td>2</td>\n",
       "      <td>0</td>\n",
       "      <td>Engenharia Elétrica</td>\n",
       "      <td>99.00</td>\n",
       "      <td>NaN</td>\n",
       "      <td>True</td>\n",
       "    </tr>\n",
       "    <tr>\n",
       "      <th rowspan=\"5\" valign=\"top\">.Net</th>\n",
       "      <th>tic18Net06894</th>\n",
       "      <td>29</td>\n",
       "      <td>3</td>\n",
       "      <td>1</td>\n",
       "      <td>Análise e Desenvolvimento</td>\n",
       "      <td>78.00</td>\n",
       "      <td>NaN</td>\n",
       "      <td>False</td>\n",
       "    </tr>\n",
       "    <tr>\n",
       "      <th>tic18Net06200</th>\n",
       "      <td>23</td>\n",
       "      <td>2</td>\n",
       "      <td>0</td>\n",
       "      <td>Engenharia Química</td>\n",
       "      <td>72.00</td>\n",
       "      <td>NaN</td>\n",
       "      <td>False</td>\n",
       "    </tr>\n",
       "    <tr>\n",
       "      <th>tic18Net86399</th>\n",
       "      <td>24</td>\n",
       "      <td>2</td>\n",
       "      <td>0</td>\n",
       "      <td>Engenharia Química</td>\n",
       "      <td>70.16</td>\n",
       "      <td>NaN</td>\n",
       "      <td>False</td>\n",
       "    </tr>\n",
       "    <tr>\n",
       "      <th>tic18Net05594</th>\n",
       "      <td>29</td>\n",
       "      <td>3</td>\n",
       "      <td>0</td>\n",
       "      <td>Engenharia Mecânica</td>\n",
       "      <td>NaN</td>\n",
       "      <td>4.0</td>\n",
       "      <td>False</td>\n",
       "    </tr>\n",
       "    <tr>\n",
       "      <th>tic18Net05800</th>\n",
       "      <td>23</td>\n",
       "      <td>2</td>\n",
       "      <td>0</td>\n",
       "      <td>Engenharia Química</td>\n",
       "      <td>80.00</td>\n",
       "      <td>NaN</td>\n",
       "      <td>False</td>\n",
       "    </tr>\n",
       "  </tbody>\n",
       "</table>\n",
       "</div>"
      ],
      "text/plain": [
       "                      Idade  Formação  Formação Geral  \\\n",
       "Trilha Identificador                                    \n",
       "Python tic18Py06799      24         3               1   \n",
       "       tic18Py07100      23         2               0   \n",
       "       tic18Py05996      27         2               0   \n",
       "       tic18Py07799      24         2               0   \n",
       "       tic18Py08099      24         2               0   \n",
       "Java   tic18Jav08200     23         1               1   \n",
       "       tic18Jav86059     22         1               1   \n",
       "       tic18Jav05999     24         2               0   \n",
       ".Net   tic18Net06894     29         3               1   \n",
       "       tic18Net06200     23         2               0   \n",
       "       tic18Net86399     24         2               0   \n",
       "       tic18Net05594     29         3               0   \n",
       "       tic18Net05800     23         2               0   \n",
       "\n",
       "                            Formação Específica  Porcentagem Graduação  \\\n",
       "Trilha Identificador                                                     \n",
       "Python tic18Py06799       Ciência da Computação                    NaN   \n",
       "       tic18Py07100         Engenharia Elétrica                  90.16   \n",
       "       tic18Py05996          Engenharia Química                  81.38   \n",
       "       tic18Py07799          Engenharia Química                  76.94   \n",
       "       tic18Py08099          Engenharia Química                  75.58   \n",
       "Java   tic18Jav08200      Ciência da Computação                  66.00   \n",
       "       tic18Jav86059      Ciência da Computação                  66.00   \n",
       "       tic18Jav05999        Engenharia Elétrica                  99.00   \n",
       ".Net   tic18Net06894  Análise e Desenvolvimento                  78.00   \n",
       "       tic18Net06200         Engenharia Química                  72.00   \n",
       "       tic18Net86399         Engenharia Química                  70.16   \n",
       "       tic18Net05594        Engenharia Mecânica                    NaN   \n",
       "       tic18Net05800         Engenharia Química                  80.00   \n",
       "\n",
       "                      Tempo de Formação  Experiencia Prévia  \n",
       "Trilha Identificador                                         \n",
       "Python tic18Py06799                 1.0                True  \n",
       "       tic18Py07100                 NaN                True  \n",
       "       tic18Py05996                 NaN                True  \n",
       "       tic18Py07799                 NaN                True  \n",
       "       tic18Py08099                 NaN                True  \n",
       "Java   tic18Jav08200                NaN                True  \n",
       "       tic18Jav86059                NaN                True  \n",
       "       tic18Jav05999                NaN                True  \n",
       ".Net   tic18Net06894                NaN               False  \n",
       "       tic18Net06200                NaN               False  \n",
       "       tic18Net86399                NaN               False  \n",
       "       tic18Net05594                4.0               False  \n",
       "       tic18Net05800                NaN               False  "
      ]
     },
     "execution_count": 20,
     "metadata": {},
     "output_type": "execute_result"
    }
   ],
   "source": [
    "#Criando o DataFrame de .Net\n",
    "dfDN = pd.concat([idadeDN, formacaoDN, formacaoGeralDN, formacaoEspecificaDN, andamentoGraduacaoDN, tempoFormacaoDN, experienciaPreviaDN], axis=1)\n",
    "miDN = pd.Index([\".Net\"]*len(indexDN), name=\"Trilha\") #Gerando o novo index com a trilha\n",
    "dfDN.index = [miDN, indexDN] #Determinando um multiindex pro dataFrame\n",
    "#Criando o DataFrame de Java\n",
    "dfJA = pd.concat([idadeJA, formacaoJA, formacaoGeralJA, formacaoEspecificaJA, andamentoGraduacaoJA, tempoFormacaoJA, experienciaPreviaJA], axis=1)\n",
    "miJA = pd.Index([\"Java\"]*len(indexJA), name=\"Trilha\") #Gerando o novo index com a trilha\n",
    "dfJA.index = [miJA, indexJA] #Determinando um multiindex pro dataFrame\n",
    "\n",
    "multiIndexDF = pd.concat([dfPY, dfJA, dfDN]) #Concatenando os DataFrames\n",
    "multiIndexDF"
   ]
  },
  {
   "cell_type": "code",
   "execution_count": 21,
   "metadata": {},
   "outputs": [
    {
     "name": "stdout",
     "output_type": "stream",
     "text": [
      "A idade média dos alunos é:  24.53846153846154\n"
     ]
    }
   ],
   "source": [
    "idadeMediaMIDF = multiIndexDF.loc[:][\"Idade\"].mean()\n",
    "print(\"A idade média dos alunos é: \", idadeMediaMIDF)"
   ]
  },
  {
   "cell_type": "code",
   "execution_count": 22,
   "metadata": {},
   "outputs": [
    {
     "name": "stdout",
     "output_type": "stream",
     "text": [
      "O membro mais velho é:  tic18Net06894. E possui:  29  anos\n"
     ]
    }
   ],
   "source": [
    "idadeMaxMIDF = multiIndexDF.loc[:][\"Idade\"].max()\n",
    "idadeIndexMaxMIDF = multiIndexDF.loc[:][\"Idade\"].idxmax()\n",
    "print(\"O membro mais velho é: \", idadeIndexMaxMIDF[1] + \". E possui: \", str(idadeMaxMIDF), \" anos\")"
   ]
  },
  {
   "cell_type": "code",
   "execution_count": 23,
   "metadata": {},
   "outputs": [
    {
     "name": "stdout",
     "output_type": "stream",
     "text": [
      "O membro mais novo é:  tic18Jav86059. E possui:  22  anos\n"
     ]
    }
   ],
   "source": [
    "idadeMinMIDF = multiIndexDF.loc[:][\"Idade\"].min()\n",
    "idadeIndexMinMIDF = multiIndexDF.loc[:][\"Idade\"].idxmin()\n",
    "print(\"O membro mais novo é: \", idadeIndexMinMIDF[1] + \". E possui: \", str(idadeMinMIDF), \" anos\")"
   ]
  },
  {
   "cell_type": "code",
   "execution_count": 24,
   "metadata": {},
   "outputs": [
    {
     "name": "stdout",
     "output_type": "stream",
     "text": [
      "O perfil de formação predominante dos alunos é:  Graduação em andamento\n"
     ]
    }
   ],
   "source": [
    "perfilFormacaoMIDF = multiIndexDF.loc[:][\"Formação\"].mode()\n",
    "print(\"O perfil de formação predominante dos alunos é: \", getFormacao(perfilFormacaoMIDF.values))"
   ]
  },
  {
   "cell_type": "code",
   "execution_count": 25,
   "metadata": {},
   "outputs": [
    {
     "name": "stdout",
     "output_type": "stream",
     "text": [
      "O conjunto é formada maioritariamente por alunos da área de Engenharia\n"
     ]
    }
   ],
   "source": [
    "perfilFormacaoGeralMIDF = multiIndexDF.loc[:][\"Formação Geral\"].mode()\n",
    "print(\"O conjunto é formada maioritariamente por alunos da área de\", getFormacaoGeral(perfilFormacaoGeralMIDF.values))"
   ]
  },
  {
   "cell_type": "code",
   "execution_count": 26,
   "metadata": {},
   "outputs": [
    {
     "name": "stdout",
     "output_type": "stream",
     "text": [
      "A idade média dos alunos de Python é:  24.4\n",
      "A idade média dos alunos de Java é:  23.0\n",
      "A idade média dos alunos de .Net é:  25.6\n"
     ]
    }
   ],
   "source": [
    "idadeMediaMIDFPY = multiIndexDF.loc[\"Python\"][\"Idade\"].mean()\n",
    "print(\"A idade média dos alunos de Python é: \", idadeMediaMIDFPY)\n",
    "idadeMediaMIDFPJA = multiIndexDF.loc[\"Java\"][\"Idade\"].mean()\n",
    "print(\"A idade média dos alunos de Java é: \", idadeMediaMIDFPJA)\n",
    "idadeMediaMIDFDN = multiIndexDF.loc[\".Net\"][\"Idade\"].mean()\n",
    "print(\"A idade média dos alunos de .Net é: \", idadeMediaMIDFDN)"
   ]
  },
  {
   "cell_type": "code",
   "execution_count": 27,
   "metadata": {},
   "outputs": [
    {
     "name": "stdout",
     "output_type": "stream",
     "text": [
      "O perfil de formação predominante dos alunos de Python é:  Graduação em andamento\n",
      "O perfil de formação predominante dos alunos de Java é:  Formação técnica graduação em andamento\n",
      "O perfil de formação predominante dos alunos de .Net é:  Graduação em andamento\n"
     ]
    }
   ],
   "source": [
    "perfilFormacaoMIDFPY = multiIndexDF.loc[\"Python\"][\"Formação\"].mode()\n",
    "perfilFormacaoMIDFJA = multiIndexDF.loc[\"Java\"][\"Formação\"].mode()\n",
    "perfilFormacaoMIDFDN = multiIndexDF.loc[\".Net\"][\"Formação\"].mode()\n",
    "print(\"O perfil de formação predominante dos alunos de Python é: \", getFormacao(perfilFormacaoMIDFPY.values))\n",
    "print(\"O perfil de formação predominante dos alunos de Java é: \", getFormacao(perfilFormacaoMIDFJA.values))\n",
    "print(\"O perfil de formação predominante dos alunos de .Net é: \", getFormacao(perfilFormacaoMIDFDN.values))"
   ]
  },
  {
   "cell_type": "code",
   "execution_count": 28,
   "metadata": {},
   "outputs": [
    {
     "name": "stdout",
     "output_type": "stream",
     "text": [
      "Os estudantes de Python são maioritariamente alunos da área de Engenharia\n",
      "Os estudantes de Java são maioritariamente alunos da área de Computação\n",
      "Os estudantes de .Net são maioritariamente alunos da área de Engenharia\n"
     ]
    }
   ],
   "source": [
    "perfilFormacaoGeralMIDFPY = multiIndexDF.loc[\"Python\"][\"Formação Geral\"].mode()\n",
    "perfilFormacaoGeralMIDFJA = multiIndexDF.loc[\"Java\"][\"Formação Geral\"].mode()\n",
    "perfilFormacaoGeralMIDFDN = multiIndexDF.loc[\".Net\"][\"Formação Geral\"].mode()\n",
    "print(\"Os estudantes de Python são maioritariamente alunos da área de\", getFormacaoGeral(perfilFormacaoGeralMIDFPY.values))\n",
    "print(\"Os estudantes de Java são maioritariamente alunos da área de\", getFormacaoGeral(perfilFormacaoGeralMIDFJA.values))\n",
    "print(\"Os estudantes de .Net são maioritariamente alunos da área de\", getFormacaoGeral(perfilFormacaoGeralMIDFDN.values))"
   ]
  }
 ],
 "metadata": {
  "kernelspec": {
   "display_name": "p10",
   "language": "python",
   "name": "python3"
  },
  "language_info": {
   "codemirror_mode": {
    "name": "ipython",
    "version": 3
   },
   "file_extension": ".py",
   "mimetype": "text/x-python",
   "name": "python",
   "nbconvert_exporter": "python",
   "pygments_lexer": "ipython3",
   "version": "3.10.13"
  }
 },
 "nbformat": 4,
 "nbformat_minor": 2
}
