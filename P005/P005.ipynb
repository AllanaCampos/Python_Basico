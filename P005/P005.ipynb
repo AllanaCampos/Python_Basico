{
 "cells": [
  {
   "cell_type": "code",
   "execution_count": 1,
   "metadata": {},
   "outputs": [
    {
     "name": "stdout",
     "output_type": "stream",
     "text": [
      "1.26.2\n",
      "2.1.4\n"
     ]
    }
   ],
   "source": [
    "import numpy as np\n",
    "import pandas as pd\n",
    "\n",
    "print(np.__version__)\n",
    "print(pd.__version__)"
   ]
  },
  {
   "cell_type": "markdown",
   "metadata": {},
   "source": [
    "# Exercício 1: Criando um conjunto de dados"
   ]
  },
  {
   "cell_type": "code",
   "execution_count": 2,
   "metadata": {},
   "outputs": [],
   "source": [
    "id = [\"tic18Py06799\",\"tic18Py07100\",\"tic18Py05996\",\"tic18Py07799\",\"tic18Py08099\"]\n",
    "idade = [24,23,27,24,24]\n",
    "formacao = [3,2,1,2,2]\n",
    "formacaoGeral = [1,0,0,0,0]\n",
    "formarcaoEspecifica = [\"Ciência da Computação\",\"Engenharia Elétrica\",\"Engenharia Química\",\"Engenharia Química\",\"Engenharia Química\"]\n",
    "andamentoGraduacao = [None,90.16,81.38,76.94,75.58]\n",
    "tempoFormacao = [1,None,None,None,None]\n",
    "experienciaPrevia = [True,True,True,True,True]"
   ]
  },
  {
   "cell_type": "markdown",
   "metadata": {},
   "source": [
    "# Exercício 2: Trabalhando com Series"
   ]
  },
  {
   "cell_type": "code",
   "execution_count": 3,
   "metadata": {},
   "outputs": [],
   "source": [
    "index = pd.Index(id)\n",
    "idadeS = pd.Series(idade,index=index)\n",
    "formacaoS = pd.Series(formacao,index=index)\n",
    "formacaoGeralS = pd.Series(formacaoGeral,index=index)\n",
    "formacaoEspecificaS = pd.Series(formarcaoEspecifica,index=index)\n",
    "andamentoGraducaoS = pd.Series(andamentoGraduacao,index=index)\n",
    "tempoFormacaoS = pd.Series(tempoFormacao,index=index)\n",
    "experienciaPreviaS = pd.Series(experienciaPrevia,index=index)\n"
   ]
  },
  {
   "cell_type": "code",
   "execution_count": 4,
   "metadata": {},
   "outputs": [
    {
     "name": "stdout",
     "output_type": "stream",
     "text": [
      "idade media = 24.4\n",
      "idade minima =  23 pertencente a tic18Py07100\n",
      "idade maxima =  27 pertencente a tic18Py05996\n"
     ]
    }
   ],
   "source": [
    "print(\"idade media =\",idadeS.mean())\n",
    "minIdade = idadeS.idxmin()\n",
    "maxIdade = idadeS.idxmax()\n",
    "print(\"idade minima = \",idadeS[minIdade], \"pertencente a\", minIdade)\n",
    "print(\"idade maxima = \",idadeS[maxIdade], \"pertencente a\", maxIdade)"
   ]
  },
  {
   "cell_type": "markdown",
   "metadata": {},
   "source": [
    "Criando funções auxiliares"
   ]
  },
  {
   "cell_type": "code",
   "execution_count": 5,
   "metadata": {},
   "outputs": [],
   "source": [
    "def getFormacao(val):\n",
    "    match(val):\n",
    "        case 0: return \"Formação técnica\"\n",
    "        case 1: return \"Formação técnica graduação em andamento\"\n",
    "        case 2: return \"Graduação em andamento\"\n",
    "        case 3: return \"Graduação concluída\"\n",
    "\n",
    "def getFormacaoGeral(val):\n",
    "    if(val == 0):\n",
    "        return \"Engenharia\"\n",
    "    else:\n",
    "        return \"Computação\""
   ]
  },
  {
   "cell_type": "code",
   "execution_count": 6,
   "metadata": {},
   "outputs": [
    {
     "name": "stdout",
     "output_type": "stream",
     "text": [
      "O perfil de formação predominante na équipe é:  Graduação em andamento\n"
     ]
    }
   ],
   "source": [
    "perfilFormacaoS = formacaoS.mode()\n",
    "\n",
    "print(\"O perfil de formação predominante na équipe é: \", getFormacao(perfilFormacaoS.values))\n"
   ]
  },
  {
   "cell_type": "code",
   "execution_count": 7,
   "metadata": {},
   "outputs": [
    {
     "name": "stdout",
     "output_type": "stream",
     "text": [
      "A equipe é formada maioritariamente por alunos da área de Engenharia\n"
     ]
    }
   ],
   "source": [
    "perfilFormacaoGeralS = formacaoGeralS.mode()\n",
    "print(\"A equipe é formada maioritariamente por alunos da área de\", getFormacaoGeral(perfilFormacaoGeralS.values))"
   ]
  },
  {
   "cell_type": "markdown",
   "metadata": {},
   "source": [
    "Exercício 3: Trabalhando com DataFrames"
   ]
  },
  {
   "cell_type": "code",
   "execution_count": 8,
   "metadata": {},
   "outputs": [
    {
     "data": {
      "text/html": [
       "<div>\n",
       "<style scoped>\n",
       "    .dataframe tbody tr th:only-of-type {\n",
       "        vertical-align: middle;\n",
       "    }\n",
       "\n",
       "    .dataframe tbody tr th {\n",
       "        vertical-align: top;\n",
       "    }\n",
       "\n",
       "    .dataframe thead th {\n",
       "        text-align: right;\n",
       "    }\n",
       "</style>\n",
       "<table border=\"1\" class=\"dataframe\">\n",
       "  <thead>\n",
       "    <tr style=\"text-align: right;\">\n",
       "      <th></th>\n",
       "      <th>Idade</th>\n",
       "      <th>Formação</th>\n",
       "      <th>Formação Geral</th>\n",
       "      <th>Formação Específica</th>\n",
       "      <th>Andamento da Graduação</th>\n",
       "      <th>Tempo de Formação</th>\n",
       "      <th>Experiencia com Programação</th>\n",
       "    </tr>\n",
       "  </thead>\n",
       "  <tbody>\n",
       "    <tr>\n",
       "      <th>tic18Py06799</th>\n",
       "      <td>24</td>\n",
       "      <td>3</td>\n",
       "      <td>1</td>\n",
       "      <td>Ciência da Computação</td>\n",
       "      <td>NaN</td>\n",
       "      <td>1.0</td>\n",
       "      <td>True</td>\n",
       "    </tr>\n",
       "    <tr>\n",
       "      <th>tic18Py07100</th>\n",
       "      <td>23</td>\n",
       "      <td>2</td>\n",
       "      <td>0</td>\n",
       "      <td>Engenharia Elétrica</td>\n",
       "      <td>90.16</td>\n",
       "      <td>NaN</td>\n",
       "      <td>True</td>\n",
       "    </tr>\n",
       "    <tr>\n",
       "      <th>tic18Py05996</th>\n",
       "      <td>27</td>\n",
       "      <td>1</td>\n",
       "      <td>0</td>\n",
       "      <td>Engenharia Química</td>\n",
       "      <td>81.38</td>\n",
       "      <td>NaN</td>\n",
       "      <td>True</td>\n",
       "    </tr>\n",
       "    <tr>\n",
       "      <th>tic18Py07799</th>\n",
       "      <td>24</td>\n",
       "      <td>2</td>\n",
       "      <td>0</td>\n",
       "      <td>Engenharia Química</td>\n",
       "      <td>76.94</td>\n",
       "      <td>NaN</td>\n",
       "      <td>True</td>\n",
       "    </tr>\n",
       "    <tr>\n",
       "      <th>tic18Py08099</th>\n",
       "      <td>24</td>\n",
       "      <td>2</td>\n",
       "      <td>0</td>\n",
       "      <td>Engenharia Química</td>\n",
       "      <td>75.58</td>\n",
       "      <td>NaN</td>\n",
       "      <td>True</td>\n",
       "    </tr>\n",
       "  </tbody>\n",
       "</table>\n",
       "</div>"
      ],
      "text/plain": [
       "              Idade  Formação  Formação Geral    Formação Específica  \\\n",
       "tic18Py06799     24         3               1  Ciência da Computação   \n",
       "tic18Py07100     23         2               0    Engenharia Elétrica   \n",
       "tic18Py05996     27         1               0     Engenharia Química   \n",
       "tic18Py07799     24         2               0     Engenharia Química   \n",
       "tic18Py08099     24         2               0     Engenharia Química   \n",
       "\n",
       "              Andamento da Graduação  Tempo de Formação  \\\n",
       "tic18Py06799                     NaN                1.0   \n",
       "tic18Py07100                   90.16                NaN   \n",
       "tic18Py05996                   81.38                NaN   \n",
       "tic18Py07799                   76.94                NaN   \n",
       "tic18Py08099                   75.58                NaN   \n",
       "\n",
       "              Experiencia com Programação  \n",
       "tic18Py06799                         True  \n",
       "tic18Py07100                         True  \n",
       "tic18Py05996                         True  \n",
       "tic18Py07799                         True  \n",
       "tic18Py08099                         True  "
      ]
     },
     "execution_count": 8,
     "metadata": {},
     "output_type": "execute_result"
    }
   ],
   "source": [
    "dadosDic = {'Idade':idade,\n",
    "            'Formação':formacao,\n",
    "            'Formação Geral':formacaoGeral,\n",
    "            'Formação Específica':formarcaoEspecifica,\n",
    "            'Andamento da Graduação':andamentoGraduacao,\n",
    "            'Tempo de Formação':tempoFormacao,\n",
    "            'Experiencia com Programação':experienciaPrevia}\n",
    "df = pd.DataFrame(dadosDic,index=id)\n",
    "df"
   ]
  },
  {
   "cell_type": "markdown",
   "metadata": {},
   "source": [
    "### Tratamento de Dados faltando"
   ]
  },
  {
   "cell_type": "markdown",
   "metadata": {},
   "source": [
    "O dados faltando podem ser lidados com uma filtragem dos mesmos para a realização de calculos como apresentado abaixo"
   ]
  },
  {
   "cell_type": "code",
   "execution_count": 9,
   "metadata": {},
   "outputs": [
    {
     "data": {
      "text/plain": [
       "81.015"
      ]
     },
     "execution_count": 9,
     "metadata": {},
     "output_type": "execute_result"
    }
   ],
   "source": [
    "#media do andamento de graduação\n",
    "\n",
    "df.loc[:,'Andamento da Graduação'].dropna().mean()"
   ]
  },
  {
   "cell_type": "code",
   "execution_count": 10,
   "metadata": {},
   "outputs": [
    {
     "name": "stdout",
     "output_type": "stream",
     "text": [
      "idade media = 24.4\n",
      "idade minima =  23 pertencente a tic18Py07100\n",
      "idade maxima =  27 pertencente a tic18Py05996\n"
     ]
    }
   ],
   "source": [
    "\n",
    "print(\"idade media =\",df.loc[:,'Idade'].mean())\n",
    "minIdade = df.loc[:,'Idade'].idxmin()\n",
    "maxIdade = df.loc[:,'Idade'].idxmax()\n",
    "print(\"idade minima = \",df.loc[minIdade,'Idade'], \"pertencente a\", minIdade)\n",
    "print(\"idade maxima = \",df.loc[maxIdade,'Idade'], \"pertencente a\", maxIdade)\n"
   ]
  },
  {
   "cell_type": "code",
   "execution_count": 11,
   "metadata": {},
   "outputs": [
    {
     "name": "stdout",
     "output_type": "stream",
     "text": [
      "idade media = 24.4\n",
      "idade minima =  23 pertencente a tic18Py07100\n",
      "idade maxima =  27 pertencente a tic18Py05996\n"
     ]
    }
   ],
   "source": [
    "print(\"idade media =\",df.loc[:,'Idade'].mean())\n",
    "minIdade = df.loc[:,'Idade'].idxmin()\n",
    "maxIdade = df.loc[:,'Idade'].idxmax()\n",
    "print(\"idade minima = \",df.loc[minIdade,'Idade'], \"pertencente a\", minIdade)\n",
    "print(\"idade maxima = \",df.loc[maxIdade,'Idade'], \"pertencente a\", maxIdade)"
   ]
  },
  {
   "cell_type": "code",
   "execution_count": 12,
   "metadata": {},
   "outputs": [
    {
     "name": "stdout",
     "output_type": "stream",
     "text": [
      "O perfil de formação predominante na équipe é:  Graduação em andamento\n"
     ]
    }
   ],
   "source": [
    "perfilFormacaoDF = df.loc[:][\"Formação\"].mode()\n",
    "print(\"O perfil de formação predominante na équipe é: \", getFormacao(perfilFormacaoDF.values))"
   ]
  },
  {
   "cell_type": "code",
   "execution_count": 13,
   "metadata": {},
   "outputs": [
    {
     "name": "stdout",
     "output_type": "stream",
     "text": [
      "A equipe é formada maioritariamente por alunos da área de Engenharia\n"
     ]
    }
   ],
   "source": [
    "perfilFormacaoGeralDF = df.loc[:][\"Formação Geral\"].mode()\n",
    "print(\"A equipe é formada maioritariamente por alunos da área de\", getFormacaoGeral(perfilFormacaoGeralDF.values))"
   ]
  },
  {
   "cell_type": "markdown",
   "metadata": {},
   "source": [
    "### Tratamento de Dados da Formação especifica\n"
   ]
  },
  {
   "cell_type": "markdown",
   "metadata": {},
   "source": [
    "O campo de formação expecifica, se preenchido pelo usuario, pode gerar diversas inconsitencias. Duas possiveis soluções são: ter um banco de dados com os nomes de cada formação especifica possivel, e fazer o usuario selecionar uma delas, contudo pode gerar o problema das opções disponiveis não conteplarem a formação do usuario, uma possivel solução é caso o usuario não encontre sua formação especifica é pela interação com o usuario adicionar uma nova formação"
   ]
  },
  {
   "cell_type": "code",
   "execution_count": 14,
   "metadata": {},
   "outputs": [
    {
     "name": "stdout",
     "output_type": "stream",
     "text": [
      "0 - engenharia elétrica\n",
      "1 - engenharia química\n",
      "2 - engenharia mecanica\n",
      "3 - ciencia da computação\n",
      "digite o indice que corresponde a sua formação (caso não esteja disponivel digite -1)\n",
      "\n"
     ]
    }
   ],
   "source": [
    "\n",
    "formações = ['engenharia elétrica','engenharia química','engenharia mecanica','ciencia da computação']\n",
    "for i,formacao in enumerate(formações):\n",
    "    print(str(i)+\" - \"+str(formacao))\n",
    "print(\"digite o indice que corresponde a sua formação (caso não esteja disponivel digite -1)\")\n",
    "print()\n",
    "try:\n",
    "    indice = int(input())\n",
    "except:\n",
    "    print(\"valor invalido\")\n",
    "\n",
    "formacao = None\n",
    "\n",
    "if indice>-1 and indice<len(formações):\n",
    "    if indice!=1:\n",
    "        formacao = formações[indice]\n",
    "    else:\n",
    "        print(\"digite o nome da nova formação\")\n",
    "        novaFormação = input().lower()\n",
    "        formacao = novaFormação\n",
    "        formações.append(novaFormação)\n",
    "else:\n",
    "    print(\"valor invalido\")\n",
    "\n",
    "print(\"formacao = \",formacao)\n"
   ]
  },
  {
   "cell_type": "markdown",
   "metadata": {},
   "source": [
    "Contudo, caso o banco de dados já esteja populado podemos seguir a seguinte idéia:\n",
    "\n",
    "Para padrônizar os valores da formação específica, podemos gerar uma lista com as palavras que são frequentemente simplificadas pelo usuário e filtrar os dados atravez da lista, verificando se existe alguma entrada semelhante. \n",
    "\n",
    "Comumente as palavras simplificadas são seguidas de espaço ou ponto, então para obter apenas a string desejada podemos remover esses caracteres.\n",
    "Após remover os caracteres indesejados e filtrar as entradas, a idéia é substituir as simplificações com as palavras originais, após isso unir as palavras resultantes do processo. Como no exemplo abaixo:"
   ]
  },
  {
   "cell_type": "code",
   "execution_count": 14,
   "metadata": {},
   "outputs": [
    {
     "name": "stdout",
     "output_type": "stream",
     "text": [
      "['Engenharia  Ambiental', 'Engenharia Produção', 'Engenharia prod Engenharia', 'Engenharia Elétrica']\n"
     ]
    }
   ],
   "source": [
    "dados = [\"Eng. Ambiental\", \"Eng Prod\", \"eng.prod.\", \"Eng elét\"]\n",
    "nomes = [\"Engenharia\", \"Produção\", \"Elétrica\", \"Mecânica\", \"Civíl\", \"Computação\", \"Ciência\", \"Análise\", \"Sistemas\"]\n",
    "newDados = []\n",
    "for i in dados:\n",
    "    curso = i\n",
    "\n",
    "    if(i.find(\".\") >= 0 ):\n",
    "        curso = i.split(\".\")\n",
    "    elif(i.find(\" \") >= 0):\n",
    "        curso = i.split(\" \")\n",
    "\n",
    "    palavra = [a for a in nomes if curso[0].capitalize() in a]\n",
    "    if(len(palavra)>0):\n",
    "        curso[0] = palavra[0]\n",
    "    palavra = [a for a in nomes if curso[-1].capitalize() in a]\n",
    "    if(len(palavra)>0):\n",
    "        curso[-1] = palavra[0]\n",
    "    \n",
    "    curso = \" \".join(curso)\n",
    "    newDados.append(curso)\n",
    "print(newDados)"
   ]
  },
  {
   "cell_type": "markdown",
   "metadata": {},
   "source": [
    "# Exercício 4: Trabalhando com MultiIndex"
   ]
  },
  {
   "cell_type": "code",
   "execution_count": 22,
   "metadata": {},
   "outputs": [],
   "source": [
    "tic18Py = [[\"tic18Py\",\"06799\",24,3,1,\"Ciência da Computação\",None,1,True],\n",
    "           [\"tic18Py\",\"07100\",23,2,0,\"Engenharia Elétrica\",90.16,None,True],\n",
    "           [\"tic18Py\",\"05996\",27,1,0,\"Engenharia Química\",81.38,None,True],\n",
    "           [\"tic18Py\",\"07799\",24,1,0,\"Engenharia Química\",76.94,None,True],\n",
    "           [\"tic18Py\",\"08099\",24,1,0,\"Engenharia Química\",75.58,None,True]]\n",
    "\n",
    "tic18Net = [[\"tic18Net\",\"08200\",23,1,1,\"Ciência da Computação\",66.00,None,True],\n",
    "            [\"tic18Net\",\"86001\",22,1,1,\"Ciência da Computação\",66.00,None,True],\n",
    "            [\"tic18Net\",\"05999\",24,2,0,\"Engenharia Elétrica\",99.00,None,True]]\n",
    "\n",
    "tic18Jav = [[\"tic18Jav\",\"06894\",29,2,1,\"Análise e Desenvolvimento de Sistemas\",78.00,None,False],\n",
    "            [\"tic18Jav\",\"06200\",23,2,0,\"Engenharia Elétrica\",72.00,None,False],\n",
    "            [\"tic18Jav\",\"86399\",24,2,0,\"Engenharia Química\",70.16,None,False],\n",
    "            [\"tic18Jav\",\"05594\",29,3,0,\"Engenharia Mecânica\",None,4,False],\n",
    "            [\"tic18Jav\",\"05800\",23,2,0,\"Engenharia Química\",80.00,None,False]]\n",
    "\n",
    "colunas = ['trilha','identificacao','idade','formacao','formacaoGeral','formacaoEspecifica','andamentoGraduacao','tempoFormacao','experienciaProgramacao']"
   ]
  },
  {
   "cell_type": "code",
   "execution_count": 23,
   "metadata": {},
   "outputs": [
    {
     "data": {
      "text/html": [
       "<div>\n",
       "<style scoped>\n",
       "    .dataframe tbody tr th:only-of-type {\n",
       "        vertical-align: middle;\n",
       "    }\n",
       "\n",
       "    .dataframe tbody tr th {\n",
       "        vertical-align: top;\n",
       "    }\n",
       "\n",
       "    .dataframe thead th {\n",
       "        text-align: right;\n",
       "    }\n",
       "</style>\n",
       "<table border=\"1\" class=\"dataframe\">\n",
       "  <thead>\n",
       "    <tr style=\"text-align: right;\">\n",
       "      <th></th>\n",
       "      <th></th>\n",
       "      <th>idade</th>\n",
       "      <th>formacao</th>\n",
       "      <th>formacaoGeral</th>\n",
       "      <th>formacaoEspecifica</th>\n",
       "      <th>andamentoGraduacao</th>\n",
       "      <th>tempoFormacao</th>\n",
       "      <th>experienciaProgramacao</th>\n",
       "    </tr>\n",
       "    <tr>\n",
       "      <th>trilha</th>\n",
       "      <th>identificacao</th>\n",
       "      <th></th>\n",
       "      <th></th>\n",
       "      <th></th>\n",
       "      <th></th>\n",
       "      <th></th>\n",
       "      <th></th>\n",
       "      <th></th>\n",
       "    </tr>\n",
       "  </thead>\n",
       "  <tbody>\n",
       "    <tr>\n",
       "      <th rowspan=\"5\" valign=\"top\">tic18Py</th>\n",
       "      <th>06799</th>\n",
       "      <td>24</td>\n",
       "      <td>3</td>\n",
       "      <td>1</td>\n",
       "      <td>Ciência da Computação</td>\n",
       "      <td>NaN</td>\n",
       "      <td>1.0</td>\n",
       "      <td>True</td>\n",
       "    </tr>\n",
       "    <tr>\n",
       "      <th>07100</th>\n",
       "      <td>23</td>\n",
       "      <td>2</td>\n",
       "      <td>0</td>\n",
       "      <td>Engenharia Elétrica</td>\n",
       "      <td>90.16</td>\n",
       "      <td>NaN</td>\n",
       "      <td>True</td>\n",
       "    </tr>\n",
       "    <tr>\n",
       "      <th>05996</th>\n",
       "      <td>27</td>\n",
       "      <td>1</td>\n",
       "      <td>0</td>\n",
       "      <td>Engenharia Química</td>\n",
       "      <td>81.38</td>\n",
       "      <td>NaN</td>\n",
       "      <td>True</td>\n",
       "    </tr>\n",
       "    <tr>\n",
       "      <th>07799</th>\n",
       "      <td>24</td>\n",
       "      <td>1</td>\n",
       "      <td>0</td>\n",
       "      <td>Engenharia Química</td>\n",
       "      <td>76.94</td>\n",
       "      <td>NaN</td>\n",
       "      <td>True</td>\n",
       "    </tr>\n",
       "    <tr>\n",
       "      <th>08099</th>\n",
       "      <td>24</td>\n",
       "      <td>1</td>\n",
       "      <td>0</td>\n",
       "      <td>Engenharia Química</td>\n",
       "      <td>75.58</td>\n",
       "      <td>NaN</td>\n",
       "      <td>True</td>\n",
       "    </tr>\n",
       "    <tr>\n",
       "      <th rowspan=\"3\" valign=\"top\">tic18Net</th>\n",
       "      <th>08200</th>\n",
       "      <td>23</td>\n",
       "      <td>1</td>\n",
       "      <td>1</td>\n",
       "      <td>Ciência da Computação</td>\n",
       "      <td>66.00</td>\n",
       "      <td>NaN</td>\n",
       "      <td>True</td>\n",
       "    </tr>\n",
       "    <tr>\n",
       "      <th>86001</th>\n",
       "      <td>22</td>\n",
       "      <td>1</td>\n",
       "      <td>1</td>\n",
       "      <td>Ciência da Computação</td>\n",
       "      <td>66.00</td>\n",
       "      <td>NaN</td>\n",
       "      <td>True</td>\n",
       "    </tr>\n",
       "    <tr>\n",
       "      <th>05999</th>\n",
       "      <td>24</td>\n",
       "      <td>2</td>\n",
       "      <td>0</td>\n",
       "      <td>Engenharia Elétrica</td>\n",
       "      <td>99.00</td>\n",
       "      <td>NaN</td>\n",
       "      <td>True</td>\n",
       "    </tr>\n",
       "    <tr>\n",
       "      <th rowspan=\"5\" valign=\"top\">tic18Jav</th>\n",
       "      <th>06894</th>\n",
       "      <td>29</td>\n",
       "      <td>2</td>\n",
       "      <td>1</td>\n",
       "      <td>Análise e Desenvolvimento de Sistemas</td>\n",
       "      <td>78.00</td>\n",
       "      <td>NaN</td>\n",
       "      <td>False</td>\n",
       "    </tr>\n",
       "    <tr>\n",
       "      <th>06200</th>\n",
       "      <td>23</td>\n",
       "      <td>2</td>\n",
       "      <td>0</td>\n",
       "      <td>Engenharia Elétrica</td>\n",
       "      <td>72.00</td>\n",
       "      <td>NaN</td>\n",
       "      <td>False</td>\n",
       "    </tr>\n",
       "    <tr>\n",
       "      <th>86399</th>\n",
       "      <td>24</td>\n",
       "      <td>2</td>\n",
       "      <td>0</td>\n",
       "      <td>Engenharia Química</td>\n",
       "      <td>70.16</td>\n",
       "      <td>NaN</td>\n",
       "      <td>False</td>\n",
       "    </tr>\n",
       "    <tr>\n",
       "      <th>05594</th>\n",
       "      <td>29</td>\n",
       "      <td>3</td>\n",
       "      <td>0</td>\n",
       "      <td>Engenharia Mecânica</td>\n",
       "      <td>NaN</td>\n",
       "      <td>4.0</td>\n",
       "      <td>False</td>\n",
       "    </tr>\n",
       "    <tr>\n",
       "      <th>05800</th>\n",
       "      <td>23</td>\n",
       "      <td>2</td>\n",
       "      <td>0</td>\n",
       "      <td>Engenharia Química</td>\n",
       "      <td>80.00</td>\n",
       "      <td>NaN</td>\n",
       "      <td>False</td>\n",
       "    </tr>\n",
       "  </tbody>\n",
       "</table>\n",
       "</div>"
      ],
      "text/plain": [
       "                        idade  formacao  formacaoGeral  \\\n",
       "trilha   identificacao                                   \n",
       "tic18Py  06799             24         3              1   \n",
       "         07100             23         2              0   \n",
       "         05996             27         1              0   \n",
       "         07799             24         1              0   \n",
       "         08099             24         1              0   \n",
       "tic18Net 08200             23         1              1   \n",
       "         86001             22         1              1   \n",
       "         05999             24         2              0   \n",
       "tic18Jav 06894             29         2              1   \n",
       "         06200             23         2              0   \n",
       "         86399             24         2              0   \n",
       "         05594             29         3              0   \n",
       "         05800             23         2              0   \n",
       "\n",
       "                                           formacaoEspecifica  \\\n",
       "trilha   identificacao                                          \n",
       "tic18Py  06799                          Ciência da Computação   \n",
       "         07100                            Engenharia Elétrica   \n",
       "         05996                             Engenharia Química   \n",
       "         07799                             Engenharia Química   \n",
       "         08099                             Engenharia Química   \n",
       "tic18Net 08200                          Ciência da Computação   \n",
       "         86001                          Ciência da Computação   \n",
       "         05999                            Engenharia Elétrica   \n",
       "tic18Jav 06894          Análise e Desenvolvimento de Sistemas   \n",
       "         06200                            Engenharia Elétrica   \n",
       "         86399                             Engenharia Química   \n",
       "         05594                            Engenharia Mecânica   \n",
       "         05800                             Engenharia Química   \n",
       "\n",
       "                        andamentoGraduacao  tempoFormacao  \\\n",
       "trilha   identificacao                                      \n",
       "tic18Py  06799                         NaN            1.0   \n",
       "         07100                       90.16            NaN   \n",
       "         05996                       81.38            NaN   \n",
       "         07799                       76.94            NaN   \n",
       "         08099                       75.58            NaN   \n",
       "tic18Net 08200                       66.00            NaN   \n",
       "         86001                       66.00            NaN   \n",
       "         05999                       99.00            NaN   \n",
       "tic18Jav 06894                       78.00            NaN   \n",
       "         06200                       72.00            NaN   \n",
       "         86399                       70.16            NaN   \n",
       "         05594                         NaN            4.0   \n",
       "         05800                       80.00            NaN   \n",
       "\n",
       "                        experienciaProgramacao  \n",
       "trilha   identificacao                          \n",
       "tic18Py  06799                            True  \n",
       "         07100                            True  \n",
       "         05996                            True  \n",
       "         07799                            True  \n",
       "         08099                            True  \n",
       "tic18Net 08200                            True  \n",
       "         86001                            True  \n",
       "         05999                            True  \n",
       "tic18Jav 06894                           False  \n",
       "         06200                           False  \n",
       "         86399                           False  \n",
       "         05594                           False  \n",
       "         05800                           False  "
      ]
     },
     "execution_count": 23,
     "metadata": {},
     "output_type": "execute_result"
    }
   ],
   "source": [
    "df = pd.DataFrame(tic18Py+tic18Net+tic18Jav,columns=colunas)\n",
    "df.set_index(colunas[0:2],inplace=True)\n",
    "df\n",
    "\n"
   ]
  },
  {
   "cell_type": "code",
   "execution_count": 29,
   "metadata": {},
   "outputs": [
    {
     "name": "stdout",
     "output_type": "stream",
     "text": [
      "A idade média dos alunos é:  24.53846153846154\n",
      "O membro mais velho é:  tic18Jav06894. E possui:  29  anos\n",
      "O membro mais novo é:  tic18Net06894. E possui:  22  anos\n"
     ]
    }
   ],
   "source": [
    "idadeMediaMIDF = df.loc[:][\"idade\"].mean()\n",
    "print(\"A idade média dos alunos é: \", idadeMediaMIDF)\n",
    "idadeMaxMIDF = df.loc[:][\"idade\"].max()\n",
    "idadeIndexMaxMIDF = df.loc[:][\"idade\"].idxmax()\n",
    "print(\"O membro mais velho é: \", idadeIndexMaxMIDF[0]+idadeIndexMaxMIDF[1] + \". E possui: \", str(idadeMaxMIDF), \" anos\")\n",
    "idadeMinMIDF = df.loc[:][\"idade\"].min()\n",
    "idadeIndexMinMIDF = df.loc[:][\"idade\"].idxmin()\n",
    "print(\"O membro mais novo é: \", idadeIndexMinMIDF[0]+idadeIndexMaxMIDF[1] + \". E possui: \", str(idadeMinMIDF), \" anos\")"
   ]
  },
  {
   "cell_type": "code",
   "execution_count": 30,
   "metadata": {},
   "outputs": [
    {
     "name": "stdout",
     "output_type": "stream",
     "text": [
      "O perfil de formação predominante dos alunos é:  Graduação em andamento\n",
      "O perfil de formação predominante dos alunos de Python é:  Formação técnica graduação em andamento\n",
      "O perfil de formação predominante dos alunos de Java é:  Graduação em andamento\n",
      "O perfil de formação predominante dos alunos de .Net é:  Formação técnica graduação em andamento\n"
     ]
    }
   ],
   "source": [
    "perfilFormacaoMIDF = df.loc[:][\"formacao\"].mode()\n",
    "print(\"O perfil de formação predominante dos alunos é: \", getFormacao(perfilFormacaoMIDF.values))\n",
    "perfilFormacaoMIDFPY = df.loc[\"tic18Py\"][\"formacao\"].mode()\n",
    "perfilFormacaoMIDFJA = df.loc[\"tic18Jav\"][\"formacao\"].mode()\n",
    "perfilFormacaoMIDFDN = df.loc[\"tic18Net\"][\"formacao\"].mode()\n",
    "print(\"O perfil de formação predominante dos alunos de Python é: \", getFormacao(perfilFormacaoMIDFPY.values))\n",
    "print(\"O perfil de formação predominante dos alunos de Java é: \", getFormacao(perfilFormacaoMIDFJA.values))\n",
    "print(\"O perfil de formação predominante dos alunos de .Net é: \", getFormacao(perfilFormacaoMIDFDN.values))"
   ]
  },
  {
   "cell_type": "code",
   "execution_count": 32,
   "metadata": {},
   "outputs": [
    {
     "name": "stdout",
     "output_type": "stream",
     "text": [
      "O conjunto é formada maioritariamente por alunos da área de Engenharia\n",
      "Os estudantes de Python são maioritariamente alunos da área de Engenharia\n",
      "Os estudantes de Java são maioritariamente alunos da área de Engenharia\n",
      "Os estudantes de .Net são maioritariamente alunos da área de Computação\n"
     ]
    }
   ],
   "source": [
    "perfilFormacaoGeralMIDF = df.loc[:][\"formacaoGeral\"].mode()\n",
    "print(\"O conjunto é formada maioritariamente por alunos da área de\", getFormacaoGeral(perfilFormacaoGeralMIDF.values))\n",
    "perfilFormacaoGeralMIDFPY = df.loc[\"tic18Py\"][\"formacaoGeral\"].mode()\n",
    "perfilFormacaoGeralMIDFJA = df.loc[\"tic18Jav\"][\"formacaoGeral\"].mode()\n",
    "perfilFormacaoGeralMIDFDN = df.loc[\"tic18Net\"][\"formacaoGeral\"].mode()\n",
    "print(\"Os estudantes de Python são maioritariamente alunos da área de\", getFormacaoGeral(perfilFormacaoGeralMIDFPY.values))\n",
    "print(\"Os estudantes de Java são maioritariamente alunos da área de\", getFormacaoGeral(perfilFormacaoGeralMIDFJA.values))\n",
    "print(\"Os estudantes de .Net são maioritariamente alunos da área de\", getFormacaoGeral(perfilFormacaoGeralMIDFDN.values))"
   ]
  }
 ],
 "metadata": {
  "kernelspec": {
   "display_name": "tic18",
   "language": "python",
   "name": "python3"
  },
  "language_info": {
   "codemirror_mode": {
    "name": "ipython",
    "version": 3
   },
   "file_extension": ".py",
   "mimetype": "text/x-python",
   "name": "python",
   "nbconvert_exporter": "python",
   "pygments_lexer": "ipython3",
   "version": "3.10.13"
  }
 },
 "nbformat": 4,
 "nbformat_minor": 2
}
