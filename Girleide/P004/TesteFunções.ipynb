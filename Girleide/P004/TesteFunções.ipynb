{
 "cells": [
  {
   "cell_type": "code",
   "execution_count": 1,
   "metadata": {},
   "outputs": [],
   "source": [
    "import DataFruta_V1 as df\n",
    "import numpy as np"
   ]
  },
  {
   "cell_type": "markdown",
   "metadata": {},
   "source": [
    "Testando o tempo das funções sem ndarray"
   ]
  },
  {
   "cell_type": "code",
   "execution_count": 8,
   "metadata": {},
   "outputs": [
    {
     "name": "stdout",
     "output_type": "stream",
     "text": [
      "750 ns ± 10.5 ns per loop (mean ± std. dev. of 7 runs, 1,000,000 loops each)\n",
      "762 ns ± 28 ns per loop (mean ± std. dev. of 7 runs, 1,000,000 loops each)\n",
      "375 ns ± 18.8 ns per loop (mean ± std. dev. of 7 runs, 1,000,000 loops each)\n",
      "1.5 µs ± 8.66 ns per loop (mean ± std. dev. of 7 runs, 1,000,000 loops each)\n",
      "832 ns ± 8.57 ns per loop (mean ± std. dev. of 7 runs, 1,000,000 loops each)\n",
      "8.58 µs ± 120 ns per loop (mean ± std. dev. of 7 runs, 100,000 loops each)\n",
      "9.07 µs ± 121 ns per loop (mean ± std. dev. of 7 runs, 100,000 loops each)\n",
      "8.65 µs ± 144 ns per loop (mean ± std. dev. of 7 runs, 100,000 loops each)\n",
      "8.88 µs ± 124 ns per loop (mean ± std. dev. of 7 runs, 100,000 loops each)\n"
     ]
    }
   ],
   "source": [
    "salarios = df.ListaSalarios.geraListaSalarios(10)\n",
    "arraySalarios = np.array(salarios.getLista())\n",
    "%timeit salarios.medianaInferior()\n",
    "%timeit salarios.medianaSuperior()\n",
    "%timeit salarios.calculaMediaAritmetica()\n",
    "%timeit salarios.mediaHarmonica()\n",
    "%timeit salarios.mediaGeometrica()\n",
    "%timeit salarios.desvioPadraoPopulacional()\n",
    "%timeit salarios.varianciaPopulacional()\n",
    "%timeit salarios.desvioPadraoAmostral()\n",
    "%timeit salarios.varianciaAmostral()\n"
   ]
  },
  {
   "cell_type": "markdown",
   "metadata": {},
   "source": [
    "Implementando as funções utilizando ndarray"
   ]
  },
  {
   "cell_type": "code",
   "execution_count": 12,
   "metadata": {},
   "outputs": [],
   "source": [
    "salarios = df.ListaSalarios.geraListaSalarios(10)\n",
    "arraySalarios = np.array(salarios.getLista())\n",
    "\n",
    "mediaAritmetica = np.mean(arraySalarios)\n",
    "\n",
    "dadosOrdenados = np.sort(arraySalarios)\n",
    "n = len(dadosOrdenados)\n",
    "indiceMedianaSuperior = (n + 1) // 2\n",
    "medianaSuperior = dadosOrdenados[indiceMedianaSuperior - 1]\n",
    "\n",
    "dadosOrdenados = np.sort(arraySalarios)\n",
    "n = len(dadosOrdenados)\n",
    "indiceMedianaInferior = n // 2\n",
    "medianaInferior = dadosOrdenados[indiceMedianaInferior - 1]\n",
    "\n",
    "mediaGeometrica = np.prod(arraySalarios) ** (1 / len(arraySalarios))\n",
    "\n",
    "mediaHarmonica = len(arraySalarios) / np.sum(1 / np.array(arraySalarios))\n",
    "    \n",
    "desvioPopulacional = np.std(arraySalarios)\n",
    "\n",
    "varianciaPopulacional = np.var(arraySalarios)\n",
    "\n",
    "desvioAmostrl = np.std(arraySalarios, ddof=1)\n",
    "\n",
    "varianciaAmostral = np.var(arraySalarios, ddof=1)"
   ]
  },
  {
   "cell_type": "markdown",
   "metadata": {},
   "source": [
    "Teste para utilização de ndarrays"
   ]
  },
  {
   "cell_type": "code",
   "execution_count": 13,
   "metadata": {},
   "outputs": [
    {
     "name": "stdout",
     "output_type": "stream",
     "text": [
      "19.6 ns ± 0.651 ns per loop (mean ± std. dev. of 7 runs, 10,000,000 loops each)\n",
      "20.8 ns ± 4.05 ns per loop (mean ± std. dev. of 7 runs, 100,000,000 loops each)\n",
      "25.3 ns ± 0.718 ns per loop (mean ± std. dev. of 7 runs, 10,000,000 loops each)\n",
      "25.8 ns ± 1.53 ns per loop (mean ± std. dev. of 7 runs, 10,000,000 loops each)\n",
      "24 ns ± 1.44 ns per loop (mean ± std. dev. of 7 runs, 10,000,000 loops each)\n",
      "25.2 ns ± 0.653 ns per loop (mean ± std. dev. of 7 runs, 10,000,000 loops each)\n",
      "23.6 ns ± 1.89 ns per loop (mean ± std. dev. of 7 runs, 10,000,000 loops each)\n",
      "21.5 ns ± 2.32 ns per loop (mean ± std. dev. of 7 runs, 10,000,000 loops each)\n",
      "22.5 ns ± 1.59 ns per loop (mean ± std. dev. of 7 runs, 10,000,000 loops each)\n"
     ]
    }
   ],
   "source": [
    "salarios = df.ListaSalarios.geraListaSalarios(10)\n",
    "arraySalarios = np.array(salarios.getLista())\n",
    "%timeit mediaAritmetica\n",
    "%timeit medianaSuperior\n",
    "%timeit medianaInferior\n",
    "%timeit mediaGeometrica\n",
    "%timeit mediaHarmonica\n",
    "%timeit desvioPopulacional\n",
    "%timeit varianciaPopulacional\n",
    "%timeit desvioAmostrl\n",
    "%timeit varianciaAmostral"
   ]
  }
 ],
 "metadata": {
  "kernelspec": {
   "display_name": "base",
   "language": "python",
   "name": "python3"
  },
  "language_info": {
   "codemirror_mode": {
    "name": "ipython",
    "version": 3
   },
   "file_extension": ".py",
   "mimetype": "text/x-python",
   "name": "python",
   "nbconvert_exporter": "python",
   "pygments_lexer": "ipython3",
   "version": "3.11.5"
  }
 },
 "nbformat": 4,
 "nbformat_minor": 2
}
