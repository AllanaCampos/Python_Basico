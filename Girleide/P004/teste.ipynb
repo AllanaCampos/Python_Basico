{
 "cells": [
  {
   "cell_type": "code",
   "execution_count": 4,
   "metadata": {},
   "outputs": [],
   "source": [
    "import DataFruta_V2 as df"
   ]
  },
  {
   "cell_type": "code",
   "execution_count": 5,
   "metadata": {},
   "outputs": [
    {
     "name": "stdout",
     "output_type": "stream",
     "text": [
      "[[2.0, 3.0], [4.0, 9.0], [2.0, 5.0]]\n"
     ]
    }
   ],
   "source": [
    "n = df.NotasTurma(3,2)\n",
    "n.leNotas()\n",
    "print(n)"
   ]
  },
  {
   "cell_type": "code",
   "execution_count": 6,
   "metadata": {},
   "outputs": [
    {
     "ename": "AttributeError",
     "evalue": "'NotasTurma' object has no attribute 'calcular_media'",
     "output_type": "error",
     "traceback": [
      "\u001b[1;31m---------------------------------------------------------------------------\u001b[0m",
      "\u001b[1;31mAttributeError\u001b[0m                            Traceback (most recent call last)",
      "Cell \u001b[1;32mIn[6], line 1\u001b[0m\n\u001b[1;32m----> 1\u001b[0m \u001b[43mn\u001b[49m\u001b[38;5;241;43m.\u001b[39;49m\u001b[43mmaiorNota\u001b[49m\u001b[43m(\u001b[49m\u001b[43m)\u001b[49m\n",
      "File \u001b[1;32mc:\\Users\\girle\\Desktop\\Residencia\\MODULO 3\\Python_Basico\\Girleide\\P004\\DataFruta_V2\\_NotasTurma.py:50\u001b[0m, in \u001b[0;36mNotasTurma.maiorNota\u001b[1;34m(self)\u001b[0m\n\u001b[0;32m     48\u001b[0m \u001b[38;5;28;01mdef\u001b[39;00m \u001b[38;5;21mmaiorNota\u001b[39m(\u001b[38;5;28mself\u001b[39m):\n\u001b[0;32m     49\u001b[0m     notasAvaliacoes \u001b[38;5;241m=\u001b[39m [\u001b[38;5;28mmax\u001b[39m(notas) \u001b[38;5;28;01mfor\u001b[39;00m notas \u001b[38;5;129;01min\u001b[39;00m \u001b[38;5;28mzip\u001b[39m(\u001b[38;5;241m*\u001b[39m\u001b[38;5;28mself\u001b[39m\u001b[38;5;241m.\u001b[39m_notas)]\n\u001b[1;32m---> 50\u001b[0m     maiorMediaFinal \u001b[38;5;241m=\u001b[39m \u001b[38;5;28mmax\u001b[39m(\u001b[38;5;28;43mself\u001b[39;49m\u001b[38;5;241;43m.\u001b[39;49m\u001b[43mcalcular_media\u001b[49m(), \u001b[38;5;28mmax\u001b[39m(notasAvaliacoes))\n\u001b[0;32m     51\u001b[0m     \u001b[38;5;28;01mreturn\u001b[39;00m notasAvaliacoes \u001b[38;5;241m+\u001b[39m [maiorMediaFinal]\n",
      "\u001b[1;31mAttributeError\u001b[0m: 'NotasTurma' object has no attribute 'calcular_media'"
     ]
    }
   ],
   "source": [
    "n.maiorNota()"
   ]
  }
 ],
 "metadata": {
  "kernelspec": {
   "display_name": "base",
   "language": "python",
   "name": "python3"
  },
  "language_info": {
   "codemirror_mode": {
    "name": "ipython",
    "version": 3
   },
   "file_extension": ".py",
   "mimetype": "text/x-python",
   "name": "python",
   "nbconvert_exporter": "python",
   "pygments_lexer": "ipython3",
   "version": "3.11.5"
  }
 },
 "nbformat": 4,
 "nbformat_minor": 2
}
