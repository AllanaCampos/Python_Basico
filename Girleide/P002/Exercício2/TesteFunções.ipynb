{
 "cells": [
  {
   "cell_type": "code",
   "execution_count": 8,
   "metadata": {},
   "outputs": [],
   "source": [
    "import DataFruta as df\n",
    "import numpy as np"
   ]
  },
  {
   "cell_type": "code",
   "execution_count": 11,
   "metadata": {},
   "outputs": [
    {
     "name": "stdout",
     "output_type": "stream",
     "text": [
      "[55 40 18 46 53 60 48 24 40 48]\n"
     ]
    }
   ],
   "source": [
    "imin = 18\n",
    "imax = 65\n",
    "idadesAleatorios = np.random.randint(imin, imax, 10)\n",
    "print(idadesAleatorios)"
   ]
  },
  {
   "cell_type": "code",
   "execution_count": 16,
   "metadata": {},
   "outputs": [
    {
     "name": "stdout",
     "output_type": "stream",
     "text": [
      "[ 9884.49353408 11385.25199565  4750.10903404  7869.95171373\n",
      " 12419.42307226  2158.01065689  2623.65819351 10933.2950908\n",
      " 12949.66411483  5284.97335316]\n"
     ]
    }
   ],
   "source": [
    "smin = 1320\n",
    "smax = 13200\n",
    "salariosAleatorios = np.random.uniform(smin, smax, 10)\n",
    "print(salariosAleatorios)"
   ]
  },
  {
   "cell_type": "code",
   "execution_count": 14,
   "metadata": {},
   "outputs": [
    {
     "name": "stdout",
     "output_type": "stream",
     "text": [
      "59.1 µs ± 450 ns per loop (mean ± std. dev. of 7 runs, 10,000 loops each)\n",
      "6.08 µs ± 224 ns per loop (mean ± std. dev. of 7 runs, 100,000 loops each)\n",
      "5.93 µs ± 82.2 ns per loop (mean ± std. dev. of 7 runs, 100,000 loops each)\n"
     ]
    }
   ],
   "source": [
    "idades = df.ListaIdades.geraListaIdades(5000)\n",
    "arrayIdades = np.array(idades.getLista())\n",
    "%timeit mediana = np.median(arrayIdades)\n",
    "%timeit menor = np.min(arrayIdades)\n",
    "%timeit maior = np.max(arrayIdades)"
   ]
  },
  {
   "cell_type": "code",
   "execution_count": 15,
   "metadata": {},
   "outputs": [
    {
     "name": "stdout",
     "output_type": "stream",
     "text": [
      "85.5 µs ± 695 ns per loop (mean ± std. dev. of 7 runs, 10,000 loops each)\n",
      "6.89 µs ± 57.5 ns per loop (mean ± std. dev. of 7 runs, 100,000 loops each)\n",
      "6.75 µs ± 121 ns per loop (mean ± std. dev. of 7 runs, 100,000 loops each)\n"
     ]
    }
   ],
   "source": [
    "salarios = df.ListaSalarios.geraListaSalarios(5000)\n",
    "arraySalarios = np.array(salarios.getLista())\n",
    "%timeit mediana = np.median(arraySalarios)\n",
    "%timeit menor = np.min(arraySalarios)\n",
    "%timeit maior = np.max(arraySalarios)"
   ]
  }
 ],
 "metadata": {
  "kernelspec": {
   "display_name": "base",
   "language": "python",
   "name": "python3"
  },
  "language_info": {
   "codemirror_mode": {
    "name": "ipython",
    "version": 3
   },
   "file_extension": ".py",
   "mimetype": "text/x-python",
   "name": "python",
   "nbconvert_exporter": "python",
   "pygments_lexer": "ipython3",
   "version": "3.11.5"
  }
 },
 "nbformat": 4,
 "nbformat_minor": 2
}
