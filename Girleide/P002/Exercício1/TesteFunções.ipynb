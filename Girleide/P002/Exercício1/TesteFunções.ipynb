{
 "cells": [
  {
   "cell_type": "code",
   "execution_count": 1,
   "metadata": {},
   "outputs": [],
   "source": [
    "import DataFruta as df"
   ]
  },
  {
   "cell_type": "code",
   "execution_count": 2,
   "metadata": {},
   "outputs": [
    {
     "name": "stdout",
     "output_type": "stream",
     "text": [
      "392 µs ± 7.01 µs per loop (mean ± std. dev. of 7 runs, 1,000 loops each)\n",
      "79.1 ns ± 0.49 ns per loop (mean ± std. dev. of 7 runs, 10,000,000 loops each)\n",
      "387 µs ± 3.86 µs per loop (mean ± std. dev. of 7 runs, 1,000 loops each)\n"
     ]
    }
   ],
   "source": [
    "idades = df.ListaIdades.geraListaIdades(5000)\n",
    "%timeit idades.mostraMediana()\n",
    "%timeit idades.mostraMenor\n",
    "%timeit idades.mostraMaior()"
   ]
  },
  {
   "cell_type": "code",
   "execution_count": 3,
   "metadata": {},
   "outputs": [
    {
     "name": "stdout",
     "output_type": "stream",
     "text": [
      "520 µs ± 5.93 µs per loop (mean ± std. dev. of 7 runs, 1,000 loops each)\n",
      "521 µs ± 7.15 µs per loop (mean ± std. dev. of 7 runs, 1,000 loops each)\n",
      "523 µs ± 2.99 µs per loop (mean ± std. dev. of 7 runs, 1,000 loops each)\n"
     ]
    }
   ],
   "source": [
    "salarios = df.ListaSalarios.geraListaSalarios(5000)\n",
    "%timeit salarios.mostraMediana()\n",
    "%timeit salarios.mostraMenor()\n",
    "%timeit salarios.mostraMaior()"
   ]
  }
 ],
 "metadata": {
  "kernelspec": {
   "display_name": "base",
   "language": "python",
   "name": "python3"
  },
  "language_info": {
   "codemirror_mode": {
    "name": "ipython",
    "version": 3
   },
   "file_extension": ".py",
   "mimetype": "text/x-python",
   "name": "python",
   "nbconvert_exporter": "python",
   "pygments_lexer": "ipython3",
   "version": "3.11.5"
  }
 },
 "nbformat": 4,
 "nbformat_minor": 2
}
