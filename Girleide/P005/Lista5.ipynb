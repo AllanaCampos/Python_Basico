{
 "cells": [
  {
   "cell_type": "markdown",
   "metadata": {},
   "source": [
    "Exercício 1: Conjunto de dados"
   ]
  },
  {
   "cell_type": "code",
   "execution_count": 2,
   "metadata": {},
   "outputs": [],
   "source": [
    "identificador = ['tic18Py06799','tic18Py07100','tic18Py05996','tic18Py07799', 'tic18Py08099']\n",
    "idade = [24, 23, 27, 24, 24]\n",
    "formação = [3, 2, 1, 2, 2]\n",
    "formaçãoGeral = [1, 0, 0, 0, 0]\n",
    "formaçãoEspecífica = ['Ciência da computação', 'Engenharia Elétrica', 'Engenharia Química', 'Engenharia Química', 'Engenharia Química' ]\n",
    "andamentoGraduação = [None, 90.6, 81.38, 76.94, 75.58]\n",
    "tempoFormação = [1, None, None, None, None]\n",
    "experiênciaPrevia = [True, True, True, True, True]"
   ]
  },
  {
   "cell_type": "markdown",
   "metadata": {},
   "source": [
    "Exercício 2: Séries "
   ]
  },
  {
   "cell_type": "code",
   "execution_count": 3,
   "metadata": {},
   "outputs": [
    {
     "name": "stdout",
     "output_type": "stream",
     "text": [
      "1.24.3\n",
      "2.0.3\n"
     ]
    }
   ],
   "source": [
    "import numpy as np\n",
    "import pandas as pd\n",
    "print(np.__version__ )\n",
    "print(pd.__version__ )"
   ]
  },
  {
   "cell_type": "markdown",
   "metadata": {},
   "source": [
    "Idade média dos membros da equipe, membros mais jovens e membros mais velhos."
   ]
  },
  {
   "cell_type": "code",
   "execution_count": 17,
   "metadata": {},
   "outputs": [
    {
     "name": "stdout",
     "output_type": "stream",
     "text": [
      "Idade Media:  24.4\n",
      "Idade Mínima:  23\n",
      "Residente de menor idade:  tic18Py07100\n",
      "Idade Máxima:  27\n",
      "Residente de maior idade:  tic18Py05996\n"
     ]
    }
   ],
   "source": [
    "indice = pd.Index(identificador)\n",
    "serie = pd.Series(idade, index = indice)\n",
    "idadeMedia = serie.mean()\n",
    "print(\"Idade Media: \", idadeMedia)\n",
    "idadeMinima = serie.min()\n",
    "print(\"Idade Mínima: \", idadeMinima)\n",
    "indiceMinimo = serie.idxmin()\n",
    "print(\"Residente de menor idade: \", indiceMinimo)\n",
    "idadeMax = serie.max()\n",
    "print(\"Idade Máxima: \", idadeMax)\n",
    "indiceMinimo = serie.idxmax()\n",
    "print(\"Residente de maior idade: \", indiceMinimo)"
   ]
  },
  {
   "cell_type": "markdown",
   "metadata": {},
   "source": [
    "Perfil de formação"
   ]
  },
  {
   "cell_type": "code",
   "execution_count": 27,
   "metadata": {},
   "outputs": [
    {
     "name": "stdout",
     "output_type": "stream",
     "text": [
      "A formação predominante é: 2\n",
      "A quantidade de membros no perfil predominante é: 3\n"
     ]
    }
   ],
   "source": [
    "serieFormacao = pd.Series(formação)\n",
    "contagemFormacao = serieFormacao.value_counts()\n",
    "formacaoPredominante = contagemFormacao.idxmax()\n",
    "print('A formação predominante é:', formacaoPredominante)\n",
    "contagemFormacao[formacaoPredominante]\n",
    "print('A quantidade de membros no perfil predominante é:', contagemFormacao[formacaoPredominante])"
   ]
  },
  {
   "cell_type": "markdown",
   "metadata": {},
   "source": [
    "Formação geral"
   ]
  },
  {
   "cell_type": "code",
   "execution_count": 32,
   "metadata": {},
   "outputs": [
    {
     "name": "stdout",
     "output_type": "stream",
     "text": [
      "A formação geral predominante é: 0 , com quantidade : 4\n"
     ]
    }
   ],
   "source": [
    "serieFormacaoGeral = pd.Series(formaçãoGeral)\n",
    "contagemFormacaoGeral =  serieFormacaoGeral.value_counts()\n",
    "formacaoGeralPredominante = contagemFormacaoGeral.idxmax()\n",
    "contagemFormacaoGeral[formacaoGeralPredominante]\n",
    "print('A formação geral predominante é:', formacaoGeralPredominante,', com quantidade :', contagemFormacaoGeral[formacaoGeralPredominante])"
   ]
  },
  {
   "cell_type": "markdown",
   "metadata": {},
   "source": [
    "Exercício 3: DataFrames"
   ]
  },
  {
   "cell_type": "code",
   "execution_count": 46,
   "metadata": {},
   "outputs": [
    {
     "data": {
      "text/html": [
       "<div>\n",
       "<style scoped>\n",
       "    .dataframe tbody tr th:only-of-type {\n",
       "        vertical-align: middle;\n",
       "    }\n",
       "\n",
       "    .dataframe tbody tr th {\n",
       "        vertical-align: top;\n",
       "    }\n",
       "\n",
       "    .dataframe thead th {\n",
       "        text-align: right;\n",
       "    }\n",
       "</style>\n",
       "<table border=\"1\" class=\"dataframe\">\n",
       "  <thead>\n",
       "    <tr style=\"text-align: right;\">\n",
       "      <th></th>\n",
       "      <th>Idade</th>\n",
       "      <th>Formacao</th>\n",
       "      <th>FormacaoGeral</th>\n",
       "      <th>FormacaoEspecifica</th>\n",
       "      <th>AndamentoGraduacao</th>\n",
       "      <th>TempoFormacao</th>\n",
       "      <th>ExperienciaPrevia</th>\n",
       "    </tr>\n",
       "  </thead>\n",
       "  <tbody>\n",
       "    <tr>\n",
       "      <th>tic18Py06799</th>\n",
       "      <td>24</td>\n",
       "      <td>3</td>\n",
       "      <td>1</td>\n",
       "      <td>Ciência da computação</td>\n",
       "      <td>NaN</td>\n",
       "      <td>1.0</td>\n",
       "      <td>True</td>\n",
       "    </tr>\n",
       "    <tr>\n",
       "      <th>tic18Py07100</th>\n",
       "      <td>23</td>\n",
       "      <td>2</td>\n",
       "      <td>0</td>\n",
       "      <td>Engenharia Elétrica</td>\n",
       "      <td>90.60</td>\n",
       "      <td>NaN</td>\n",
       "      <td>True</td>\n",
       "    </tr>\n",
       "    <tr>\n",
       "      <th>tic18Py05996</th>\n",
       "      <td>27</td>\n",
       "      <td>1</td>\n",
       "      <td>0</td>\n",
       "      <td>Engenharia Química</td>\n",
       "      <td>81.38</td>\n",
       "      <td>NaN</td>\n",
       "      <td>True</td>\n",
       "    </tr>\n",
       "    <tr>\n",
       "      <th>tic18Py07799</th>\n",
       "      <td>24</td>\n",
       "      <td>2</td>\n",
       "      <td>0</td>\n",
       "      <td>Engenharia Química</td>\n",
       "      <td>76.94</td>\n",
       "      <td>NaN</td>\n",
       "      <td>True</td>\n",
       "    </tr>\n",
       "    <tr>\n",
       "      <th>tic18Py08099</th>\n",
       "      <td>24</td>\n",
       "      <td>2</td>\n",
       "      <td>0</td>\n",
       "      <td>Engenharia Química</td>\n",
       "      <td>75.58</td>\n",
       "      <td>NaN</td>\n",
       "      <td>True</td>\n",
       "    </tr>\n",
       "  </tbody>\n",
       "</table>\n",
       "</div>"
      ],
      "text/plain": [
       "              Idade  Formacao  FormacaoGeral     FormacaoEspecifica  \\\n",
       "tic18Py06799     24         3              1  Ciência da computação   \n",
       "tic18Py07100     23         2              0    Engenharia Elétrica   \n",
       "tic18Py05996     27         1              0     Engenharia Química   \n",
       "tic18Py07799     24         2              0     Engenharia Química   \n",
       "tic18Py08099     24         2              0     Engenharia Química   \n",
       "\n",
       "              AndamentoGraduacao  TempoFormacao  ExperienciaPrevia  \n",
       "tic18Py06799                 NaN            1.0               True  \n",
       "tic18Py07100               90.60            NaN               True  \n",
       "tic18Py05996               81.38            NaN               True  \n",
       "tic18Py07799               76.94            NaN               True  \n",
       "tic18Py08099               75.58            NaN               True  "
      ]
     },
     "execution_count": 46,
     "metadata": {},
     "output_type": "execute_result"
    }
   ],
   "source": [
    "Dados = pd.DataFrame({'Idade': idade,'Formacao': formação,'FormacaoGeral': formaçãoGeral,'FormacaoEspecifica': formaçãoEspecífica,'AndamentoGraduacao': andamentoGraduação,'TempoFormacao': tempoFormação,'ExperienciaPrevia': experiênciaPrevia}, index = indice)\n",
    "Dados"
   ]
  }
 ],
 "metadata": {
  "kernelspec": {
   "display_name": "base",
   "language": "python",
   "name": "python3"
  },
  "language_info": {
   "codemirror_mode": {
    "name": "ipython",
    "version": 3
   },
   "file_extension": ".py",
   "mimetype": "text/x-python",
   "name": "python",
   "nbconvert_exporter": "python",
   "pygments_lexer": "ipython3",
   "version": "3.11.5"
  }
 },
 "nbformat": 4,
 "nbformat_minor": 2
}
