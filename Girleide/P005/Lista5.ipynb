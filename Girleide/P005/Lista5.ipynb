{
 "cells": [
  {
   "cell_type": "markdown",
   "metadata": {},
   "source": [
    "Exercício 1: Conjunto de dados"
   ]
  },
  {
   "cell_type": "code",
   "execution_count": 15,
   "metadata": {},
   "outputs": [],
   "source": [
    "identificador = ['tic18Py06799','tic18Py07100','tic18Py05996','tic18Py07799', 'tic18Py08099']\n",
    "idade = [24, 23, 27, 24, 24]\n",
    "formação = [3, 2, 1, 2, 2]\n",
    "formaçãoGeral = [1, 0, 0, 0, 0]\n",
    "formaçãoEspecífica = ['Ciência da computação', 'Engenharia Elétrica', 'Engenharia Química', 'Engenharia Química', 'Engenharia Química' ]\n",
    "andamentoGraduação = [None, 90.6, 81.38, 76.94, 75.58]\n",
    "tempoFormação = [1, None, None, None, None]\n",
    "experiênciaPrevia = [True, True, True, True, True]"
   ]
  },
  {
   "cell_type": "markdown",
   "metadata": {},
   "source": [
    "Exercício 2: Séries "
   ]
  },
  {
   "cell_type": "code",
   "execution_count": 16,
   "metadata": {},
   "outputs": [
    {
     "name": "stdout",
     "output_type": "stream",
     "text": [
      "1.24.3\n",
      "2.0.3\n"
     ]
    }
   ],
   "source": [
    "import numpy as np\n",
    "import pandas as pd\n",
    "print(np.__version__ )\n",
    "print(pd.__version__ )"
   ]
  },
  {
   "cell_type": "markdown",
   "metadata": {},
   "source": [
    "Idade média dos membros da equipe, membros mais jovens e membros mais velhos."
   ]
  },
  {
   "cell_type": "code",
   "execution_count": 17,
   "metadata": {},
   "outputs": [
    {
     "name": "stdout",
     "output_type": "stream",
     "text": [
      "Idade Media:  24.4\n",
      "Idade Mínima:  23\n",
      "Residente de menor idade:  tic18Py07100\n",
      "Idade Máxima:  27\n",
      "Residente de maior idade:  tic18Py05996\n"
     ]
    }
   ],
   "source": [
    "indice = pd.Index(identificador)\n",
    "serie = pd.Series(idade, index = indice)\n",
    "idadeMedia = serie.mean()\n",
    "print(\"Idade Media: \", idadeMedia)\n",
    "idadeMinima = serie.min()\n",
    "print(\"Idade Mínima: \", idadeMinima)\n",
    "indiceMinimo = serie.idxmin()\n",
    "print(\"Residente de menor idade: \", indiceMinimo)\n",
    "idadeMax = serie.max()\n",
    "print(\"Idade Máxima: \", idadeMax)\n",
    "indiceMinimo = serie.idxmax()\n",
    "print(\"Residente de maior idade: \", indiceMinimo)"
   ]
  },
  {
   "cell_type": "markdown",
   "metadata": {},
   "source": [
    "Perfil de formação"
   ]
  },
  {
   "cell_type": "code",
   "execution_count": 18,
   "metadata": {},
   "outputs": [
    {
     "name": "stdout",
     "output_type": "stream",
     "text": [
      "A formação predominante é: 2\n",
      "A quantidade de membros no perfil predominante é: 3\n"
     ]
    }
   ],
   "source": [
    "serieFormacao = pd.Series(formação)\n",
    "contagemFormacao = serieFormacao.value_counts()\n",
    "formacaoPredominante = contagemFormacao.idxmax()\n",
    "print('A formação predominante é:', formacaoPredominante)\n",
    "contagemFormacao[formacaoPredominante]\n",
    "print('A quantidade de membros no perfil predominante é:', contagemFormacao[formacaoPredominante])"
   ]
  },
  {
   "cell_type": "markdown",
   "metadata": {},
   "source": [
    "Formação geral"
   ]
  },
  {
   "cell_type": "code",
   "execution_count": 19,
   "metadata": {},
   "outputs": [
    {
     "name": "stdout",
     "output_type": "stream",
     "text": [
      "A formação geral predominante é: 0 , com quantidade : 4\n"
     ]
    }
   ],
   "source": [
    "serieFormacaoGeral = pd.Series(formaçãoGeral)\n",
    "contagemFormacaoGeral =  serieFormacaoGeral.value_counts()\n",
    "formacaoGeralPredominante = contagemFormacaoGeral.idxmax()\n",
    "contagemFormacaoGeral[formacaoGeralPredominante]\n",
    "print('A formação geral predominante é:', formacaoGeralPredominante,', com quantidade :', contagemFormacaoGeral[formacaoGeralPredominante])"
   ]
  },
  {
   "cell_type": "markdown",
   "metadata": {},
   "source": [
    "Exercício 3: DataFrames"
   ]
  },
  {
   "cell_type": "code",
   "execution_count": 20,
   "metadata": {},
   "outputs": [
    {
     "data": {
      "text/html": [
       "<div>\n",
       "<style scoped>\n",
       "    .dataframe tbody tr th:only-of-type {\n",
       "        vertical-align: middle;\n",
       "    }\n",
       "\n",
       "    .dataframe tbody tr th {\n",
       "        vertical-align: top;\n",
       "    }\n",
       "\n",
       "    .dataframe thead th {\n",
       "        text-align: right;\n",
       "    }\n",
       "</style>\n",
       "<table border=\"1\" class=\"dataframe\">\n",
       "  <thead>\n",
       "    <tr style=\"text-align: right;\">\n",
       "      <th></th>\n",
       "      <th>Idade</th>\n",
       "      <th>Formacao</th>\n",
       "      <th>FormacaoGeral</th>\n",
       "      <th>FormacaoEspecifica</th>\n",
       "      <th>AndamentoGraduacao</th>\n",
       "      <th>TempoFormacao</th>\n",
       "      <th>ExperienciaPrevia</th>\n",
       "    </tr>\n",
       "  </thead>\n",
       "  <tbody>\n",
       "    <tr>\n",
       "      <th>tic18Py06799</th>\n",
       "      <td>24</td>\n",
       "      <td>3</td>\n",
       "      <td>1</td>\n",
       "      <td>Ciência da computação</td>\n",
       "      <td>NaN</td>\n",
       "      <td>1.0</td>\n",
       "      <td>True</td>\n",
       "    </tr>\n",
       "    <tr>\n",
       "      <th>tic18Py07100</th>\n",
       "      <td>23</td>\n",
       "      <td>2</td>\n",
       "      <td>0</td>\n",
       "      <td>Engenharia Elétrica</td>\n",
       "      <td>90.60</td>\n",
       "      <td>NaN</td>\n",
       "      <td>True</td>\n",
       "    </tr>\n",
       "    <tr>\n",
       "      <th>tic18Py05996</th>\n",
       "      <td>27</td>\n",
       "      <td>1</td>\n",
       "      <td>0</td>\n",
       "      <td>Engenharia Química</td>\n",
       "      <td>81.38</td>\n",
       "      <td>NaN</td>\n",
       "      <td>True</td>\n",
       "    </tr>\n",
       "    <tr>\n",
       "      <th>tic18Py07799</th>\n",
       "      <td>24</td>\n",
       "      <td>2</td>\n",
       "      <td>0</td>\n",
       "      <td>Engenharia Química</td>\n",
       "      <td>76.94</td>\n",
       "      <td>NaN</td>\n",
       "      <td>True</td>\n",
       "    </tr>\n",
       "    <tr>\n",
       "      <th>tic18Py08099</th>\n",
       "      <td>24</td>\n",
       "      <td>2</td>\n",
       "      <td>0</td>\n",
       "      <td>Engenharia Química</td>\n",
       "      <td>75.58</td>\n",
       "      <td>NaN</td>\n",
       "      <td>True</td>\n",
       "    </tr>\n",
       "  </tbody>\n",
       "</table>\n",
       "</div>"
      ],
      "text/plain": [
       "              Idade  Formacao  FormacaoGeral     FormacaoEspecifica  \\\n",
       "tic18Py06799     24         3              1  Ciência da computação   \n",
       "tic18Py07100     23         2              0    Engenharia Elétrica   \n",
       "tic18Py05996     27         1              0     Engenharia Química   \n",
       "tic18Py07799     24         2              0     Engenharia Química   \n",
       "tic18Py08099     24         2              0     Engenharia Química   \n",
       "\n",
       "              AndamentoGraduacao  TempoFormacao  ExperienciaPrevia  \n",
       "tic18Py06799                 NaN            1.0               True  \n",
       "tic18Py07100               90.60            NaN               True  \n",
       "tic18Py05996               81.38            NaN               True  \n",
       "tic18Py07799               76.94            NaN               True  \n",
       "tic18Py08099               75.58            NaN               True  "
      ]
     },
     "execution_count": 20,
     "metadata": {},
     "output_type": "execute_result"
    }
   ],
   "source": [
    "Dados = pd.DataFrame({'Idade': idade,\n",
    "                      'Formacao': formação,\n",
    "                      'FormacaoGeral': formaçãoGeral,\n",
    "                      'FormacaoEspecifica': formaçãoEspecífica,\n",
    "                      'AndamentoGraduacao': andamentoGraduação,\n",
    "                      'TempoFormacao': tempoFormação,\n",
    "                      'ExperienciaPrevia': experiênciaPrevia}, index = indice)\n",
    "Dados"
   ]
  },
  {
   "cell_type": "markdown",
   "metadata": {},
   "source": [
    "Exercício anterior com os dados do DataFrame"
   ]
  },
  {
   "cell_type": "code",
   "execution_count": 21,
   "metadata": {},
   "outputs": [
    {
     "name": "stdout",
     "output_type": "stream",
     "text": [
      "Idade Média: 24.4\n",
      "Idade Máxima: 27\n",
      "Idade Mínima: 23\n"
     ]
    }
   ],
   "source": [
    "idadeMedia = Dados['Idade'].mean()\n",
    "print(\"Idade Média:\", idadeMedia)\n",
    "\n",
    "idadeMaxima = Dados['Idade'].max()\n",
    "print(\"Idade Máxima:\", idadeMaxima)\n",
    "\n",
    "idadeMinima = Dados['Idade'].min()\n",
    "print(\"Idade Mínima:\", idadeMinima)"
   ]
  },
  {
   "cell_type": "code",
   "execution_count": 22,
   "metadata": {},
   "outputs": [
    {
     "name": "stdout",
     "output_type": "stream",
     "text": [
      "Formação Predominante: 2\n",
      "Quantidade:  3\n"
     ]
    }
   ],
   "source": [
    "contagemFormacao = Dados['Formacao'].value_counts()\n",
    "formacaoPredominante = contagemFormacao.idxmax()\n",
    "print(\"Formação Predominante:\", formacaoPredominante)\n",
    "print(\"Quantidade: \", contagemFormacao.max())"
   ]
  },
  {
   "cell_type": "code",
   "execution_count": 23,
   "metadata": {},
   "outputs": [
    {
     "name": "stdout",
     "output_type": "stream",
     "text": [
      "Engenheiros: 4\n",
      "Computação: 1\n",
      "equipe formada majoritariamente por engenheiros\n"
     ]
    }
   ],
   "source": [
    "contagemFormacaoGeral = Dados['FormacaoGeral'].value_counts()\n",
    "engenharia = contagemFormacaoGeral.get(0,0)\n",
    "computação = contagemFormacaoGeral.get(1,0)\n",
    "print(\"Engenheiros:\", engenharia)\n",
    "print(\"Computação:\", computação)\n",
    "if (engenharia > computação):\n",
    "    print(\"equipe formada majoritariamente por engenheiros\")\n",
    "elif(engenharia < computação):\n",
    "    print(\"equipe formada majoritariamente por cientistas da computação\")\n",
    "else:\n",
    "    print(\"Quantidade igual de engenheiros e cientistas da computação\")\n",
    "    \n",
    "\n"
   ]
  },
  {
   "cell_type": "markdown",
   "metadata": {},
   "source": [
    "Tratamento dos dados de formação específica"
   ]
  },
  {
   "cell_type": "code",
   "execution_count": 28,
   "metadata": {},
   "outputs": [
    {
     "data": {
      "text/plain": [
       "tic18Py06799    Ciência da computação\n",
       "tic18Py07100      Engenharia Elétrica\n",
       "tic18Py05996       Engenharia Química\n",
       "tic18Py07799       Engenharia Química\n",
       "tic18Py08099       Engenharia Química\n",
       "Name: FormacaoEspecifica, dtype: object"
      ]
     },
     "execution_count": 28,
     "metadata": {},
     "output_type": "execute_result"
    }
   ],
   "source": [
    "agrupamento = {\n",
    "    'comp': 'Ciência da Computação',\n",
    "    'cc': 'Ciência da Computação',\n",
    "    'eng elétrica': 'Engenharia Elétrica',\n",
    "    'eng elétr': 'Engenharia Elétrica',\n",
    "    'eng. el.': 'Engenharia Elétrica',\n",
    "    'eng el': 'Engenharia Elétrica',\n",
    "    'eng quím': 'Engenharia Química',\n",
    "    'eng quim': 'Engenharia Química',\n",
    "    'eng. quim': 'Engenharia Química',\n",
    "    'engenharia q': 'Engenharia Química',\n",
    "    'eng mec': 'Engenharia Mecânica',\n",
    "    'eng. mec': 'Engenharia Mecânica'\n",
    "    \n",
    "}\n",
    "for abreviacao, categoria in agrupamento.items():\n",
    "    Dados['FormacaoEspecifica'] = Dados['FormacaoEspecifica'].replace(fr'\\b{abreviacao}\\b', categoria, regex=True)\n",
    "\n",
    "Dados['FormacaoEspecifica']\n",
    "\n"
   ]
  },
  {
   "cell_type": "markdown",
   "metadata": {},
   "source": [
    "Exercício 4: MultiIndex"
   ]
  },
  {
   "cell_type": "markdown",
   "metadata": {},
   "source": [
    "Dados \"Java\""
   ]
  },
  {
   "cell_type": "code",
   "execution_count": 34,
   "metadata": {},
   "outputs": [
    {
     "data": {
      "text/html": [
       "<div>\n",
       "<style scoped>\n",
       "    .dataframe tbody tr th:only-of-type {\n",
       "        vertical-align: middle;\n",
       "    }\n",
       "\n",
       "    .dataframe tbody tr th {\n",
       "        vertical-align: top;\n",
       "    }\n",
       "\n",
       "    .dataframe thead th {\n",
       "        text-align: right;\n",
       "    }\n",
       "</style>\n",
       "<table border=\"1\" class=\"dataframe\">\n",
       "  <thead>\n",
       "    <tr style=\"text-align: right;\">\n",
       "      <th></th>\n",
       "      <th>Idade</th>\n",
       "      <th>Formacao</th>\n",
       "      <th>FormacaoGeral</th>\n",
       "      <th>FormacaoEspecifica</th>\n",
       "      <th>AndamentoGraduacao</th>\n",
       "      <th>TempoFormacao</th>\n",
       "      <th>ExperienciaPrevia</th>\n",
       "    </tr>\n",
       "  </thead>\n",
       "  <tbody>\n",
       "    <tr>\n",
       "      <th>tic18Jav08200</th>\n",
       "      <td>23</td>\n",
       "      <td>1</td>\n",
       "      <td>1</td>\n",
       "      <td>Ciência da Computação</td>\n",
       "      <td>66</td>\n",
       "      <td>None</td>\n",
       "      <td>True</td>\n",
       "    </tr>\n",
       "    <tr>\n",
       "      <th>tic18Jav86059</th>\n",
       "      <td>22</td>\n",
       "      <td>1</td>\n",
       "      <td>1</td>\n",
       "      <td>Ciência da Computação</td>\n",
       "      <td>66</td>\n",
       "      <td>None</td>\n",
       "      <td>True</td>\n",
       "    </tr>\n",
       "    <tr>\n",
       "      <th>tic18Jav05999</th>\n",
       "      <td>24</td>\n",
       "      <td>2</td>\n",
       "      <td>0</td>\n",
       "      <td>Engenharia Elétrica</td>\n",
       "      <td>99</td>\n",
       "      <td>None</td>\n",
       "      <td>True</td>\n",
       "    </tr>\n",
       "  </tbody>\n",
       "</table>\n",
       "</div>"
      ],
      "text/plain": [
       "               Idade  Formacao  FormacaoGeral     FormacaoEspecifica  \\\n",
       "tic18Jav08200     23         1              1  Ciência da Computação   \n",
       "tic18Jav86059     22         1              1  Ciência da Computação   \n",
       "tic18Jav05999     24         2              0    Engenharia Elétrica   \n",
       "\n",
       "               AndamentoGraduacao TempoFormacao  ExperienciaPrevia  \n",
       "tic18Jav08200                  66          None               True  \n",
       "tic18Jav86059                  66          None               True  \n",
       "tic18Jav05999                  99          None               True  "
      ]
     },
     "execution_count": 34,
     "metadata": {},
     "output_type": "execute_result"
    }
   ],
   "source": [
    "identificador = [\"tic18Jav08200\", \"tic18Jav86059\", \"tic18Jav05999\"]\n",
    "idadeJava = [23, 22, 24]\n",
    "formaçãoJava = [1, 1, 2]\n",
    "formaçãoGeralJava = [1, 1, 0]\n",
    "formaçãoEspecíficaJava = [\"Ciência da Computação\", \"Ciência da Computação\", \"Engenharia Elétrica\"]\n",
    "andamentoGraduaçãoJava = [66, 66, 99]\n",
    "tempoFormaçãoJava = [None, None, None]\n",
    "experiênciaPreviaJava = [True, True, True]\n",
    "\n",
    "indiceJava = pd.Index(identificador)\n",
    "\n",
    "\n",
    "DadosJava = pd.DataFrame({'Idade': idadeJava,\n",
    "                      'Formacao': formaçãoJava,\n",
    "                      'FormacaoGeral': formaçãoGeralJava,\n",
    "                      'FormacaoEspecifica': formaçãoEspecíficaJava,\n",
    "                      'AndamentoGraduacao': andamentoGraduaçãoJava,\n",
    "                      'TempoFormacao': tempoFormaçãoJava,\n",
    "                      'ExperienciaPrevia': experiênciaPreviaJava}, index = indiceJava)\n",
    "DadosJava"
   ]
  },
  {
   "cell_type": "markdown",
   "metadata": {},
   "source": [
    "Dados \".NET\"\n"
   ]
  },
  {
   "cell_type": "code",
   "execution_count": 35,
   "metadata": {},
   "outputs": [
    {
     "data": {
      "text/html": [
       "<div>\n",
       "<style scoped>\n",
       "    .dataframe tbody tr th:only-of-type {\n",
       "        vertical-align: middle;\n",
       "    }\n",
       "\n",
       "    .dataframe tbody tr th {\n",
       "        vertical-align: top;\n",
       "    }\n",
       "\n",
       "    .dataframe thead th {\n",
       "        text-align: right;\n",
       "    }\n",
       "</style>\n",
       "<table border=\"1\" class=\"dataframe\">\n",
       "  <thead>\n",
       "    <tr style=\"text-align: right;\">\n",
       "      <th></th>\n",
       "      <th>Idade</th>\n",
       "      <th>Formacao</th>\n",
       "      <th>FormacaoGeral</th>\n",
       "      <th>FormacaoEspecifica</th>\n",
       "      <th>AndamentoGraduacao</th>\n",
       "      <th>TempoFormacao</th>\n",
       "      <th>ExperienciaPrevia</th>\n",
       "    </tr>\n",
       "  </thead>\n",
       "  <tbody>\n",
       "    <tr>\n",
       "      <th>tic18Net06894</th>\n",
       "      <td>29</td>\n",
       "      <td>3</td>\n",
       "      <td>1</td>\n",
       "      <td>Análise e Desenvolvimento</td>\n",
       "      <td>78.00</td>\n",
       "      <td>NaN</td>\n",
       "      <td>False</td>\n",
       "    </tr>\n",
       "    <tr>\n",
       "      <th>tic18Net06200</th>\n",
       "      <td>23</td>\n",
       "      <td>2</td>\n",
       "      <td>0</td>\n",
       "      <td>Engenharia Química</td>\n",
       "      <td>72.00</td>\n",
       "      <td>NaN</td>\n",
       "      <td>False</td>\n",
       "    </tr>\n",
       "    <tr>\n",
       "      <th>tic18Net86399</th>\n",
       "      <td>24</td>\n",
       "      <td>2</td>\n",
       "      <td>0</td>\n",
       "      <td>Engenharia Química</td>\n",
       "      <td>70.16</td>\n",
       "      <td>NaN</td>\n",
       "      <td>False</td>\n",
       "    </tr>\n",
       "    <tr>\n",
       "      <th>tic18Net05594</th>\n",
       "      <td>29</td>\n",
       "      <td>3</td>\n",
       "      <td>0</td>\n",
       "      <td>Engenharia Mecânica</td>\n",
       "      <td>NaN</td>\n",
       "      <td>4.0</td>\n",
       "      <td>False</td>\n",
       "    </tr>\n",
       "    <tr>\n",
       "      <th>tic18Net05800</th>\n",
       "      <td>23</td>\n",
       "      <td>2</td>\n",
       "      <td>0</td>\n",
       "      <td>Engenharia Química</td>\n",
       "      <td>80.00</td>\n",
       "      <td>NaN</td>\n",
       "      <td>False</td>\n",
       "    </tr>\n",
       "  </tbody>\n",
       "</table>\n",
       "</div>"
      ],
      "text/plain": [
       "               Idade  Formacao  FormacaoGeral         FormacaoEspecifica  \\\n",
       "tic18Net06894     29         3              1  Análise e Desenvolvimento   \n",
       "tic18Net06200     23         2              0         Engenharia Química   \n",
       "tic18Net86399     24         2              0         Engenharia Química   \n",
       "tic18Net05594     29         3              0        Engenharia Mecânica   \n",
       "tic18Net05800     23         2              0         Engenharia Química   \n",
       "\n",
       "               AndamentoGraduacao  TempoFormacao  ExperienciaPrevia  \n",
       "tic18Net06894               78.00            NaN              False  \n",
       "tic18Net06200               72.00            NaN              False  \n",
       "tic18Net86399               70.16            NaN              False  \n",
       "tic18Net05594                 NaN            4.0              False  \n",
       "tic18Net05800               80.00            NaN              False  "
      ]
     },
     "execution_count": 35,
     "metadata": {},
     "output_type": "execute_result"
    }
   ],
   "source": [
    "identificador = [\"tic18Net06894\", \"tic18Net06200\", \"tic18Net86399\", \"tic18Net05594\", \"tic18Net05800\"]\n",
    "idadeDotNet = [29, 23, 24, 29, 23]\n",
    "formacaoDotNet = [3, 2, 2, 3, 2]\n",
    "formacaoGeralDotNet = [1, 0, 0, 0, 0]\n",
    "formacaoEspecificaDotNet = [\"Análise e Desenvolvimento\", \"Engenharia Química\", \"Engenharia Química\", \"Engenharia Mecânica\", \"Engenharia Química\"]\n",
    "andamentoGraduacaoDotNet = [78, 72, 70.16, None, 80]\n",
    "tempoFormacaoDotNet = [None, None, None, 4, None]\n",
    "experienciaPreviaDotNet = [False, False, False, False, False]\n",
    "\n",
    "indiceDotNet = pd.Index(identificador)\n",
    "\n",
    "DadosDotNet = pd.DataFrame({'Idade': idadeDotNet,\n",
    "                      'Formacao': formacaoDotNet,\n",
    "                      'FormacaoGeral': formacaoGeralDotNet,\n",
    "                      'FormacaoEspecifica': formacaoEspecificaDotNet,\n",
    "                      'AndamentoGraduacao': andamentoGraduacaoDotNet,\n",
    "                      'TempoFormacao': tempoFormacaoDotNet,\n",
    "                      'ExperienciaPrevia': experienciaPreviaDotNet}, index = indiceDotNet)\n",
    "DadosDotNet"
   ]
  },
  {
   "cell_type": "code",
   "execution_count": 40,
   "metadata": {},
   "outputs": [
    {
     "data": {
      "text/html": [
       "<div>\n",
       "<style scoped>\n",
       "    .dataframe tbody tr th:only-of-type {\n",
       "        vertical-align: middle;\n",
       "    }\n",
       "\n",
       "    .dataframe tbody tr th {\n",
       "        vertical-align: top;\n",
       "    }\n",
       "\n",
       "    .dataframe thead th {\n",
       "        text-align: right;\n",
       "    }\n",
       "</style>\n",
       "<table border=\"1\" class=\"dataframe\">\n",
       "  <thead>\n",
       "    <tr style=\"text-align: right;\">\n",
       "      <th></th>\n",
       "      <th>Idade</th>\n",
       "      <th>Formacao</th>\n",
       "      <th>FormacaoGeral</th>\n",
       "      <th>FormacaoEspecifica</th>\n",
       "      <th>AndamentoGraduacao</th>\n",
       "      <th>TempoFormacao</th>\n",
       "      <th>ExperienciaPrevia</th>\n",
       "    </tr>\n",
       "  </thead>\n",
       "  <tbody>\n",
       "    <tr>\n",
       "      <th>tic18Py06799</th>\n",
       "      <td>24</td>\n",
       "      <td>3</td>\n",
       "      <td>1</td>\n",
       "      <td>Ciência da computação</td>\n",
       "      <td>NaN</td>\n",
       "      <td>1.0</td>\n",
       "      <td>True</td>\n",
       "    </tr>\n",
       "    <tr>\n",
       "      <th>tic18Py07100</th>\n",
       "      <td>23</td>\n",
       "      <td>2</td>\n",
       "      <td>0</td>\n",
       "      <td>Engenharia Elétrica</td>\n",
       "      <td>90.60</td>\n",
       "      <td>NaN</td>\n",
       "      <td>True</td>\n",
       "    </tr>\n",
       "    <tr>\n",
       "      <th>tic18Py05996</th>\n",
       "      <td>27</td>\n",
       "      <td>1</td>\n",
       "      <td>0</td>\n",
       "      <td>Engenharia Química</td>\n",
       "      <td>81.38</td>\n",
       "      <td>NaN</td>\n",
       "      <td>True</td>\n",
       "    </tr>\n",
       "    <tr>\n",
       "      <th>tic18Py07799</th>\n",
       "      <td>24</td>\n",
       "      <td>2</td>\n",
       "      <td>0</td>\n",
       "      <td>Engenharia Química</td>\n",
       "      <td>76.94</td>\n",
       "      <td>NaN</td>\n",
       "      <td>True</td>\n",
       "    </tr>\n",
       "    <tr>\n",
       "      <th>tic18Py08099</th>\n",
       "      <td>24</td>\n",
       "      <td>2</td>\n",
       "      <td>0</td>\n",
       "      <td>Engenharia Química</td>\n",
       "      <td>75.58</td>\n",
       "      <td>NaN</td>\n",
       "      <td>True</td>\n",
       "    </tr>\n",
       "    <tr>\n",
       "      <th>tic18Jav08200</th>\n",
       "      <td>23</td>\n",
       "      <td>1</td>\n",
       "      <td>1</td>\n",
       "      <td>Ciência da Computação</td>\n",
       "      <td>66.00</td>\n",
       "      <td>None</td>\n",
       "      <td>True</td>\n",
       "    </tr>\n",
       "    <tr>\n",
       "      <th>tic18Jav86059</th>\n",
       "      <td>22</td>\n",
       "      <td>1</td>\n",
       "      <td>1</td>\n",
       "      <td>Ciência da Computação</td>\n",
       "      <td>66.00</td>\n",
       "      <td>None</td>\n",
       "      <td>True</td>\n",
       "    </tr>\n",
       "    <tr>\n",
       "      <th>tic18Jav05999</th>\n",
       "      <td>24</td>\n",
       "      <td>2</td>\n",
       "      <td>0</td>\n",
       "      <td>Engenharia Elétrica</td>\n",
       "      <td>99.00</td>\n",
       "      <td>None</td>\n",
       "      <td>True</td>\n",
       "    </tr>\n",
       "    <tr>\n",
       "      <th>tic18Net06894</th>\n",
       "      <td>29</td>\n",
       "      <td>3</td>\n",
       "      <td>1</td>\n",
       "      <td>Análise e Desenvolvimento</td>\n",
       "      <td>78.00</td>\n",
       "      <td>NaN</td>\n",
       "      <td>False</td>\n",
       "    </tr>\n",
       "    <tr>\n",
       "      <th>tic18Net06200</th>\n",
       "      <td>23</td>\n",
       "      <td>2</td>\n",
       "      <td>0</td>\n",
       "      <td>Engenharia Química</td>\n",
       "      <td>72.00</td>\n",
       "      <td>NaN</td>\n",
       "      <td>False</td>\n",
       "    </tr>\n",
       "    <tr>\n",
       "      <th>tic18Net86399</th>\n",
       "      <td>24</td>\n",
       "      <td>2</td>\n",
       "      <td>0</td>\n",
       "      <td>Engenharia Química</td>\n",
       "      <td>70.16</td>\n",
       "      <td>NaN</td>\n",
       "      <td>False</td>\n",
       "    </tr>\n",
       "    <tr>\n",
       "      <th>tic18Net05594</th>\n",
       "      <td>29</td>\n",
       "      <td>3</td>\n",
       "      <td>0</td>\n",
       "      <td>Engenharia Mecânica</td>\n",
       "      <td>NaN</td>\n",
       "      <td>4.0</td>\n",
       "      <td>False</td>\n",
       "    </tr>\n",
       "    <tr>\n",
       "      <th>tic18Net05800</th>\n",
       "      <td>23</td>\n",
       "      <td>2</td>\n",
       "      <td>0</td>\n",
       "      <td>Engenharia Química</td>\n",
       "      <td>80.00</td>\n",
       "      <td>NaN</td>\n",
       "      <td>False</td>\n",
       "    </tr>\n",
       "  </tbody>\n",
       "</table>\n",
       "</div>"
      ],
      "text/plain": [
       "               Idade  Formacao  FormacaoGeral         FormacaoEspecifica  \\\n",
       "tic18Py06799      24         3              1      Ciência da computação   \n",
       "tic18Py07100      23         2              0        Engenharia Elétrica   \n",
       "tic18Py05996      27         1              0         Engenharia Química   \n",
       "tic18Py07799      24         2              0         Engenharia Química   \n",
       "tic18Py08099      24         2              0         Engenharia Química   \n",
       "tic18Jav08200     23         1              1      Ciência da Computação   \n",
       "tic18Jav86059     22         1              1      Ciência da Computação   \n",
       "tic18Jav05999     24         2              0        Engenharia Elétrica   \n",
       "tic18Net06894     29         3              1  Análise e Desenvolvimento   \n",
       "tic18Net06200     23         2              0         Engenharia Química   \n",
       "tic18Net86399     24         2              0         Engenharia Química   \n",
       "tic18Net05594     29         3              0        Engenharia Mecânica   \n",
       "tic18Net05800     23         2              0         Engenharia Química   \n",
       "\n",
       "               AndamentoGraduacao TempoFormacao  ExperienciaPrevia  \n",
       "tic18Py06799                  NaN           1.0               True  \n",
       "tic18Py07100                90.60           NaN               True  \n",
       "tic18Py05996                81.38           NaN               True  \n",
       "tic18Py07799                76.94           NaN               True  \n",
       "tic18Py08099                75.58           NaN               True  \n",
       "tic18Jav08200               66.00          None               True  \n",
       "tic18Jav86059               66.00          None               True  \n",
       "tic18Jav05999               99.00          None               True  \n",
       "tic18Net06894               78.00           NaN              False  \n",
       "tic18Net06200               72.00           NaN              False  \n",
       "tic18Net86399               70.16           NaN              False  \n",
       "tic18Net05594                 NaN           4.0              False  \n",
       "tic18Net05800               80.00           NaN              False  "
      ]
     },
     "execution_count": 40,
     "metadata": {},
     "output_type": "execute_result"
    }
   ],
   "source": [
    "novoDataframe = pd.concat([Dados, DadosJava, DadosDotNet]) \n",
    "novoDataframe"
   ]
  }
 ],
 "metadata": {
  "kernelspec": {
   "display_name": "base",
   "language": "python",
   "name": "python3"
  },
  "language_info": {
   "codemirror_mode": {
    "name": "ipython",
    "version": 3
   },
   "file_extension": ".py",
   "mimetype": "text/x-python",
   "name": "python",
   "nbconvert_exporter": "python",
   "pygments_lexer": "ipython3",
   "version": "3.11.5"
  }
 },
 "nbformat": 4,
 "nbformat_minor": 2
}
