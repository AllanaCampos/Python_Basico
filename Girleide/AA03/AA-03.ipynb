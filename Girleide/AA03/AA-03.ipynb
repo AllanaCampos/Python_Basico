{
 "cells": [
  {
   "cell_type": "markdown",
   "metadata": {},
   "source": [
    "# Segunda Avaliação Parcial\n",
    "\n",
    "Neste módulo trabalhamos a visualização de dados, assim como as técnicas para acessar estes dados da internet. As técnicas de web scraping que estudamos, usando __Requests__, __Beautiful Soup__ e __Selenium__, permitem implementar aplicações que processam informação diretamente da rede.  \n",
    "\n",
    "Desde a Instrução prática 7, por exemplo, estamos trabalhando com dados que baixamos do [Instituto Nacional de Meteorologia](https://portal.inmet.gov.br/dadoshistoricos).  \n",
    "\n",
    "Aprendemos também como implementar uma aplicação com GUI utilizando o __TK Inter__. \n",
    "\n",
    "Neste contexto vamos implementar uma aplicação que, a traves de uma GUI, permita gerar gráficos de precipitações e temperaturas medias mensais de um determinado ano, para uma estação meteorológica. A atividade deve ser organizada da seguinte forma."
   ]
  },
  {
   "cell_type": "markdown",
   "metadata": {},
   "source": [
    "## Exercício 1\n",
    "\n",
    "__Primeiro protótipo__: Desenvolva uma interface gráfica que pegue, em tempo real, as informações sobre os dados de quais anos estão disponíveis no site do [Instituto Nacional de Meteorologia](https://portal.inmet.gov.br/dadoshistoricos). Os anos disponíveis devem ser apresentados utilizando um widget apropriado que permita selecionar um, e apenas um ano. Se não tiver conexão a Internet ou se o site não estiver disponível o aplicativo deve mostrar uma mensagem de erro na interface.\n"
   ]
  },
  {
   "cell_type": "code",
   "execution_count": null,
   "metadata": {},
   "outputs": [],
   "source": [
    "%run -m metereologico_V1"
   ]
  },
  {
   "cell_type": "markdown",
   "metadata": {},
   "source": [
    "<h1>Explicação</h1>\n",
    "No primeiro protótipo foram criadas três classes. \n",
    "A primeira, intitulada de \"BuscaDados\", dedicada à buscar os dados requeridos a partir da url informada, conta com a utilização de bibliotecas como a requests, beautifulSoup, HTTPError e re. Esta classe possui um método que busca os dados do INMET, faz tratamento de exceções e retorna uma lista de tuplas contendo os anos disponíveis (formatados com o re.search()) no site e seus respectivos links, além de uma variável contendo um erro, caso haja exceção."
   ]
  },
  {
   "cell_type": "code",
   "execution_count": null,
   "metadata": {},
   "outputs": [],
   "source": [
    "# Define a classe BuscaDados\n",
    "class BuscaDados:\n",
    "\n",
    "    # Construtor da classe com parâmetros anos e erro\n",
    "    def __init__(self, anos, erro):\n",
    "        self.__anos = anos \n",
    "        self.__erro = erro  \n",
    "\n",
    "\n",
    "    def buscaDados(self):\n",
    "        # Define o cabeçalho para simular um navegador ao enviar a requisição\n",
    "        headers = {\n",
    "            'User-Agent': 'Mozilla/5.0 (Windows NT 10.0; Win64; x64) AppleWebKit/537.36 (KHTML, like Gecko) Chrome/58.0.3029.110 Safari/537.3'\n",
    "        }\n",
    "\n",
    "        url = \"https://portal.inmet.gov.br/dadoshistoricos\"  # URL do portal de dados históricos\n",
    "\n",
    "        self.__anos = []\n",
    "        self.__erro = None\n",
    "\n",
    "        try:\n",
    "            # Envia uma requisição HTTP GET para a URL\n",
    "            resposta = requests.get(url, headers=headers)\n",
    "            resposta.raise_for_status()  # Lança uma exceção se a resposta contiver um erro HTTP\n",
    "        except HTTPError as http_err:\n",
    "            self.__erro = http_err  \n",
    "        except Exception as err:\n",
    "            self.__erro = err  \n",
    "        else:\n",
    "            respostaHtml = BeautifulSoup(resposta.text, 'html.parser') # retorna um html\n",
    "            anosTag = respostaHtml.find_all('article')  # Encontra todas as tags 'article' no HTML\n",
    "            for ano in anosTag:\n",
    "                # Usa expressão regular para extrair o ano de uma string\n",
    "                anoFormat = re.search(r'\\d{4}', ano.find('a').string)\n",
    "                # Adiciona uma tupla contendo o ano e o link correspondente à lista de anos\n",
    "                self.__anos.append((anoFormat.group(), ano.find('a')['href']))\n",
    "\n",
    "        return self.__anos, self.__erro\n"
   ]
  },
  {
   "cell_type": "markdown",
   "metadata": {},
   "source": [
    "Na segunda classe, intitulada \"Interface\", utiliza-se a biblioteca tkinter para a geração da janela que irá interagir com o usuário."
   ]
  },
  {
   "cell_type": "code",
   "execution_count": null,
   "metadata": {},
   "outputs": [],
   "source": [
    "def interface(self):\n",
    "        # Cria uma instância do objeto Tk, que representa a janela principal da interface\n",
    "        app = tk.Tk()\n",
    "\n",
    "        # Configurações iniciais da janela\n",
    "        app.title(\"Dados Meteorológicos\")\n",
    "        app.geometry('500x300')  \n",
    "        app.configure(background='#c38680')  \n",
    "\n",
    "        self.anos, self.erro = self.busca.buscaDados()\n",
    "\n",
    "        # Verifica se ocorreu algum erro durante a busca\n",
    "        if self.erro:\n",
    "            # Cria um rótulo para exibir a mensagem de erro na interface\n",
    "            mensagemErro = tk.Label(app, text=f\"Erro ao obter dados: {self.erro}\", background='#c38680', wraplength=450)\n",
    "            mensagemErro.place(x=10, y=70, width=450, height=30)\n",
    "        else:\n",
    "            # Se não houver erro, cria um menu suspenso com os anos disponíveis\n",
    "            opcao = tk.StringVar(app)\n",
    "            opcao.set(\"ANO\")\n",
    "            texto1 = tk.OptionMenu(app, opcao, *[ano[0] for ano in self.anos])\n",
    "            texto1.place(x=10, y=10, width=100, height=50)  # Define a posição e o tamanho do menu suspenso\n",
    "\n",
    "        # Inicia o loop principal da interface gráfica\n",
    "        app.mainloop()"
   ]
  },
  {
   "cell_type": "markdown",
   "metadata": {},
   "source": [
    "## Exercício 2\n",
    "\n",
    "__Segundo protótipo__: Com base no ano escolhido sua aplicação deve baixar o arquivo compactado, com os dados de todas as estações, descompactar ele numa pasta temporária e mostrar em um outro widget a lista de estações disponíveis para selecionar uma e apenas uma delas. O widget do protótipo anterior deve ficar disponível para que o usuário possa trocar o ano se desejar. Nesse caso um novo arquivo será baixado e descompactado e as estações disponíveis exibidas para seleção."
   ]
  },
  {
   "cell_type": "code",
   "execution_count": null,
   "metadata": {},
   "outputs": [],
   "source": [
    "%run -m metereologico_V2"
   ]
  },
  {
   "cell_type": "markdown",
   "metadata": {},
   "source": [
    "No segundo protótipo, o botão que contém as opções dos anos disponíveis emite um comando para a função escolhaCidades que por sua vez chama uma nova classe \"DownloadDados\" para receber as ciades disponíveis e mostrá-las em m novo botão."
   ]
  },
  {
   "cell_type": "code",
   "execution_count": null,
   "metadata": {},
   "outputs": [],
   "source": [
    "#....\n",
    "texto1 = tk.OptionMenu(app, opcao, *[ano[0] for ano in self.anos],\n",
    "                                    command=lambda anoSelecionado: self.escolhaCidades(anoSelecionado, app))\n",
    "texto1.place(x=10, y=10, width=100, height=50) \n",
    "app.mainloop()\n",
    "\n",
    "    # Método para escolher cidades após a seleção de um ano\n",
    "    def escolhaCidades(self, anoSelecionado, app):\n",
    "        # Chama o método downloadDados da classe DownloadDados para obter as cidades disponíveis\n",
    "        self.cidades = self.down.downloadDados(anoSelecionado, self.anos)\n",
    "        opcao2 = tk.StringVar(app)\n",
    "        opcao2.set(\"CIDADE\")\n",
    "        # Cria um novo menu suspenso com as cidades disponíveis\n",
    "        texto2 = tk.OptionMenu(app, opcao2, *self.cidades)\n",
    "        texto2.place(x=10, y=70, width=150, height=50)  "
   ]
  },
  {
   "cell_type": "markdown",
   "metadata": {},
   "source": [
    "Enquanto isso, na classe DownloadDados, possui um método chamado downloadDados que baixa e extrai dados para o ano selecionado. Neste, utiliza-se a biblioteca wget para baixar o arquivo zip do link correspondente ao ano e a zipfile para extrair o conteúdo do arquivo zip na pasta 'csvs'. Em seguida, itera sobre os títulos dos arquivos extraídos para obter os nomes das cidades formatados e retorna a lista de nomes de cidades.."
   ]
  },
  {
   "cell_type": "code",
   "execution_count": null,
   "metadata": {},
   "outputs": [],
   "source": [
    "class DownloadDados:\n",
    "\n",
    "    # Método para baixar dados para o ano selecionado\n",
    "    def downloadDados(self, anoSelecionado, anos):\n",
    "        link = None\n",
    "\n",
    "        # Procura o link correspondente ao ano selecionado\n",
    "        for ano in anos:\n",
    "            if ano[0] == anoSelecionado:\n",
    "                link = ano[1]\n",
    "                # Faz o download do arquivo zip para a pasta 'csvs' com o nome do ano selecionado\n",
    "                wget.download(link, f'csvs/{anoSelecionado}.zip')\n",
    "        \n",
    "        # Define o caminho do arquivo zip baixado\n",
    "        caminho = f'csvs/{anoSelecionado}.zip'\n",
    "        \n",
    "        # Extrai o conteúdo do arquivo zip para a pasta 'csvs'\n",
    "        with zipfile.ZipFile(caminho, 'r') as zip_ref:\n",
    "            zip_ref.extractall(f'csvs')\n",
    "            titulosArquivos = zip_ref.namelist()\n",
    "            \n",
    "            nomesCidades = []\n",
    "            for titulo in titulosArquivos:\n",
    "                partes = titulo.split('_')\n",
    "                if len(partes) >= 5:\n",
    "                    cidade = partes[4]\n",
    "                    nomesCidades.append(cidade)\n",
    "        return nomesCidades"
   ]
  },
  {
   "cell_type": "markdown",
   "metadata": {},
   "source": [
    "# Exercício 3\n",
    "\n",
    "__Terceiro protótipo__: Com base na estação selecionada gere e exiba dentro da aplicação os gráficos de precipitações e temperaturas medias mensais para a estação selecionada. A interface deve permitir que o usuário troque a estação selecionada a qualquer momento, assim como foi feito co o ano, gerando novos gráficos.   "
   ]
  },
  {
   "cell_type": "code",
   "execution_count": null,
   "metadata": {},
   "outputs": [],
   "source": [
    "%run -m metereologico_V3/metereologico/"
   ]
  },
  {
   "cell_type": "markdown",
   "metadata": {},
   "source": [
    "No terceiro prótótipo a principal mudança é a adição da classe Graficos. A classe recebe os titulos obtidos no módulo _downloadDados e utiliza para criar o caminho que será usado para gerar o dataFrame. Em seguida, ocorre um tratamento dos dados para enfim criar os gráficos utilizando subplots\n",
    "O método tratamentoDados realiza algumas manipulações no DataFrame. Além disso, pequenos ajustes foram feitos na classe Interface, para receber os gráficos plotados e ajustá-los à janela da aplicação."
   ]
  },
  {
   "cell_type": "code",
   "execution_count": null,
   "metadata": {},
   "outputs": [],
   "source": [
    "#....    \n",
    "    # Método para criar um DataFrame a partir dos dados baixados\n",
    "    def dataFrame(self, cidade, anoSelecionado, anos):\n",
    "        self.dow = _downloadDados.DownloadDados()\n",
    "        tituloArquivos = self.dow.downloadDados(anoSelecionado, anos)[1]\n",
    "        for titulo in tituloArquivos:\n",
    "            if cidade in titulo:\n",
    "                caminhoCSV = f'csvs/{titulo}'\n",
    "        \n",
    "        # Lê o arquivo CSV e cria um dataframe\n",
    "        self.__df = pd.read_csv(caminhoCSV, encoding=\"iso-8859-1\", decimal=',', sep=';', skiprows=8)\n",
    "\n",
    "    # Método para realizar tratamento nos dados do DataFrame\n",
    "    def tratamentoDados(self):\n",
    "        self.__df.rename({\"DATA (YYYY-MM-DD)\":\"Data\",\"HORA (UTC)\":\"Hora\",\"Hora UTC\":\"Hora\"}, axis=1, inplace=True)\n",
    "        self.__df.index = pd.DatetimeIndex(self.__df[\"Data\"]+\" \"+self.__df[\"Hora\"], name=\"DATA\")\n",
    "        self.__df.loc[self.__df[\"PRECIPITAÇÃO TOTAL, HORÁRIO (mm)\"].abs() > 1000, \"PRECIPITAÇÃO TOTAL, HORÁRIO (mm)\"] = None\n",
    "        self.__df.loc[self.__df[\"TEMPERATURA DO PONTO DE ORVALHO (°C)\"].abs() > 1000, \"TEMPERATURA DO PONTO DE ORVALHO (°C)\"] = None\n",
    "    \n",
    "    # Método para plotar gráficos de temperatura média mensal e precipitação média mensal\n",
    "    def plotGrafTemp(self):\n",
    "        # Calcula a média mensal da temperatura do ponto de orvalho\n",
    "        df = self.__df.groupby(self.__df.index.month)[\"TEMPERATURA DO PONTO DE ORVALHO (°C)\"].mean()\n",
    "        \n",
    "        # Configuração do primeiro subplot (Temperatura Média Mensal)\n",
    "        plt.clf()\n",
    "        plt.subplot(2,1,1)\n",
    "        plt.plot(df.index, df, marker='s')\n",
    "        plt.title('Temperatura Média Mensal')\n",
    "        plt.xlabel('Mês')\n",
    "        plt.ylabel('Temperatura (°C)')\n",
    "        plt.grid(True)\n",
    "\n",
    "        # Calcula a média mensal da precipitação total horária\n",
    "        dfT = self.__df.groupby(self.__df.index.month)[\"PRECIPITAÇÃO TOTAL, HORÁRIO (mm)\"].mean()\n",
    "        \n",
    "        # Configuração do segundo subplot (Precipitação Média Mensal)\n",
    "        plt.subplot(2,1,2)\n",
    "        plt.plot(dfT.index, dfT, marker='s')\n",
    "        plt.title('Precipitação Média Mensal')\n",
    "        plt.xlabel('Mês')\n",
    "        plt.ylabel('Temperatura (°C)')\n",
    "        plt.grid(True)\n",
    "        plt.subplots_adjust(wspace=0, hspace=1)\n",
    "\n",
    "# Função para criar uma instância de Graficos, baixar dados, realizar tratamento e plotar gráficos\n",
    "def plotGrafico(cidade, anoSelecionado, anos):\n",
    "    df = Graficos()\n",
    "    df.dataFrame(cidade, anoSelecionado, anos)\n",
    "    df.tratamentoDados()\n",
    "    df.plotGrafTemp()\n"
   ]
  },
  {
   "cell_type": "markdown",
   "metadata": {},
   "source": [
    "## Respostas\n",
    "\n",
    "Implemente sua aplicação como um pacote __Python__ e disponibilize neste __Notebook__ um explicação dos principais pontos da implementação. Utilize o comando mágico ``%run`` para executar o aplicativo desenvolvido.  Envie o __Notebook__ via __Moodle__ assim como o repositório com a implementação do aplicativo até o final do prazo. "
   ]
  }
 ],
 "metadata": {
  "kernelspec": {
   "display_name": "Python 3 (ipykernel)",
   "language": "python",
   "name": "python3"
  },
  "language_info": {
   "codemirror_mode": {
    "name": "ipython",
    "version": 3
   },
   "file_extension": ".py",
   "mimetype": "text/x-python",
   "name": "python",
   "nbconvert_exporter": "python",
   "pygments_lexer": "ipython3",
   "version": "3.10.13"
  }
 },
 "nbformat": 4,
 "nbformat_minor": 2
}
