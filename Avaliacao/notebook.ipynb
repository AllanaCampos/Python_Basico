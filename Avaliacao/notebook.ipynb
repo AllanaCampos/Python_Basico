{
 "cells": [
  {
   "cell_type": "markdown",
   "metadata": {},
   "source": [
    "Para o desenvolvimento do primeiro protótipo implementou-se uma classe App representando um aplicativo tkinter.\n",
    "Com a instanciação da classe define-se algumas configurações como título e tamanho de tela:\n",
    " ```\n",
    "        self.title('Dados Meteorológicos')\n",
    "        self.geometry('720x500')\n",
    "        self.rowconfigure(0, weight=1)\n",
    "        self.columnconfigure(0, weight=1)\n",
    " ```"
   ]
  },
  {
   "cell_type": "markdown",
   "metadata": {},
   "source": [
    "A apresentação dos dados foi feita através de um treeView, para impedir a multipla seleção utilizou-se o selection mode browse e por conta da quantidade de dados esperado foi adicionado um scrollbar:\n",
    "```\n",
    "     tree = ttk.Treeview(self, selectmode='browse')\n",
    "     tree.heading('#0', text='Anos', anchor=tk.W)\n",
    "\n",
    "     tree.grid(row=0, column=0, sticky=tk.NSEW)\n",
    "\n",
    "     scrollbar = ttk.Scrollbar(self, orient=tk.VERTICAL, command=tree.yview)\n",
    "     tree.configure(yscroll=scrollbar.set)\n",
    "     scrollbar.grid(row=0, column=2, sticky=tk.NSEW)\n",
    "```"
   ]
  },
  {
   "cell_type": "markdown",
   "metadata": {},
   "source": [
    "Para obter os dados o método getDados foi definido, através dele obtêm-se os anos e os links para posterior download dos arquivos.\n",
    "\n",
    "Também verifica o status da requisição e apresenta uma mensagem de erro caso não seja possível estabelecer uma conexão.\n",
    "\n",
    "```\n",
    "    def getDados(self):\n",
    "        url = 'https://portal.inmet.gov.br/dadoshistoricos'\n",
    "        headers = {\n",
    "            'User-Agent': 'Mozilla/5.0 (Windows NT 10.0; Win64; x64) AppleWebKit/537.36 (KHTML, like Gecko) Chrome/58.0.3029.110 Safari/537.3'\n",
    "        }\n",
    "        requisicao = requests.get(url, headers=headers)\n",
    "        if requisicao.status_code != 200:\n",
    "            messagebox.showerror(title=\"Erro de aquisição de dados\", message=\"Não foi possível obter os dados tente novamente\")\n",
    "            self.destroy()\n",
    "        texto = BeautifulSoup(requisicao.text, 'html.parser')\n",
    "        articles = texto.find_all('article')\n",
    "        ano =  []\n",
    "        link = []\n",
    "        for i in articles:\n",
    "            ano.append(i.find('a').string)\n",
    "            link.append(i.find('a')['href'])\n",
    "        return ano, link\n",
    "```"
   ]
  },
  {
   "cell_type": "markdown",
   "metadata": {},
   "source": [
    "Com os valores em mãos pode-se popular a treeView:\n",
    "```\n",
    "    ano, link = self.getDados()\n",
    "    id = 0\n",
    "    for i in ano:\n",
    "        tree.insert('', tk.END, text=i.split(' ')[1], iid=id, open=False, values=link[id])\n",
    "        id+=1\n",
    "\n",
    "```"
   ]
  },
  {
   "cell_type": "markdown",
   "metadata": {},
   "source": [
    "Para executar o módulo do protótipo 1 segue o comando abaixo:"
   ]
  },
  {
   "cell_type": "code",
   "execution_count": null,
   "metadata": {},
   "outputs": [],
   "source": [
    "%run -m p1"
   ]
  },
  {
   "cell_type": "markdown",
   "metadata": {},
   "source": [
    "O segundo protótipo permite o download dos arquivos cujos links foram obtidos no primeiro protótipo.\n",
    "\n",
    "Para isso gerou-se o método item_selected que executa o download a partir da seleção de algum ano apresentado, e adiciona como filhos do ano, as cidades disponíveis.\n",
    "\n",
    "```\n",
    "    def item_selected(self, event):\n",
    "        for selected_item in self.tree.selection():\n",
    "            item = self.tree.item(selected_item)\n",
    "            record = item['values']\n",
    "            path = 'p2\\downloads\\\\'\n",
    "            if(not self.tree.parent(selected_item)):\n",
    "                if(os.path.isfile(path+item['text']+'.zip')):\n",
    "                    pass\n",
    "                else:\n",
    "                    filename = wget.download(str(record[0]), out = path+item['text']+'.zip')\n",
    "                    with zipfile.ZipFile(filename, 'r') as zip:\n",
    "                        zip.extractall(path=path)\n",
    "                id = 0\n",
    "                ch = 0\n",
    "                for child in self.tree.get_children():\n",
    "                    if item['text'] in self.tree.item(child)['text']:\n",
    "                        pid = id\n",
    "                    ch += len(self.tree.get_children([child]))\n",
    "                    id+=1\n",
    "                cd = len(self.tree.get_children()) + ch\n",
    "                if not self.tree.get_children([pid]):\n",
    "                    id = 0\n",
    "                    for f in os.listdir(path+item['text']):\n",
    "                        self.tree.insert('', tk.END, text=f.split('_')[4], iid=id+cd, open=False, values=f)\n",
    "                        self.tree.move(id+cd, pid, id)\n",
    "                        id+=1\n",
    "```"
   ]
  },
  {
   "cell_type": "markdown",
   "metadata": {},
   "source": [
    "Ao fechar a tela do aplicativo, todos os downloads feitos serão apagados utilizando o seguinte método:\n",
    "```\n",
    "    def close_window(self):\n",
    "        path = 'p2\\downloads\\\\'\n",
    "        arq = os.listdir(path)\n",
    "        for file in arq:\n",
    "            if os.path.isfile(path + file):\n",
    "                os.remove(path + file)\n",
    "            if os.path.isdir(path + file):\n",
    "                shutil.rmtree(path + file)\n",
    "        self.destroy()\n",
    "```"
   ]
  },
  {
   "cell_type": "markdown",
   "metadata": {},
   "source": [
    "Execução do módulo do protótipo 2:"
   ]
  },
  {
   "cell_type": "code",
   "execution_count": null,
   "metadata": {},
   "outputs": [],
   "source": [
    "%run -m p2"
   ]
  },
  {
   "cell_type": "markdown",
   "metadata": {},
   "source": [
    "O terceiro protótipo gera gráficos da média da temperatura e da média da precipitação para cada mês do ano de acordo com a seleção da cidade.\n",
    "\n",
    "Para isso, os dados meteorológicos foram passados para um dataframe, definiu-se o index como dateTime e reorganizou-se alguns valores (as temperaturas com valores abaixo de -20 e as precipitações cujos valores foram negativos foram substituídas por None), com as novas alterações gerou-se a média dos valores e o plot dos mesmos.\n",
    "\n",
    "O plot foi apresentado utilizando a biblioteca matplotlib:\n",
    "\n",
    "```\n",
    "    def create_graph_widget(self, file):\n",
    "        fig = Figure(figsize=(5,4), dpi=100)\n",
    "        ax = fig.add_subplot(211)\n",
    "        ax2 = fig.add_subplot(212)\n",
    "        df = pd.read_csv(file, encoding='iso-8859-1', decimal=',', delimiter=';', skiprows=8)\n",
    "        index = pd.DatetimeIndex(df.iloc[:, 0], name='Data')\n",
    "        df.drop(columns=df.columns[0], axis=1, inplace=True)\n",
    "        df.set_index(index, inplace=True)\n",
    "        df['TEMPERATURA MÁXIMA NA HORA ANT. (AUT) (°C)'] = df['TEMPERATURA MÁXIMA NA HORA ANT. (AUT) (°C)'].apply(lambda x : None if x < -20 else x)\n",
    "        temp = df.groupby(df.index)['TEMPERATURA MÁXIMA NA HORA ANT. (AUT) (°C)'].mean()\n",
    "        temp.index = temp.index.strftime(\"%b\")\n",
    "        temp.plot(ax=ax, title=\"Temperatura\", ylabel=\"(°C)\")\n",
    "        df['PRECIPITAÇÃO TOTAL, HORÁRIO (mm)'] = df['PRECIPITAÇÃO TOTAL, HORÁRIO (mm)'].apply(lambda x : None if x < 0 else x)\n",
    "        prec = df.groupby(df.index)['PRECIPITAÇÃO TOTAL, HORÁRIO (mm)'].mean()\n",
    "        prec.index = prec.index.strftime(\"%b\")\n",
    "        prec.plot(ax=ax2, title=\"Precipitação\", ylabel=\"(mm)\")\n",
    "        fig.subplots_adjust(wspace=1, hspace=1)\n",
    "        canvas = FigureCanvasTkAgg(fig, self)\n",
    "        canvas.get_tk_widget().grid(row=0, column=1)\n",
    "```"
   ]
  },
  {
   "cell_type": "markdown",
   "metadata": {},
   "source": [
    "Para execução do módulo do protótipo 3:"
   ]
  },
  {
   "cell_type": "code",
   "execution_count": null,
   "metadata": {},
   "outputs": [],
   "source": [
    "%run -m p3"
   ]
  }
 ],
 "metadata": {
  "kernelspec": {
   "display_name": "p10",
   "language": "python",
   "name": "python3"
  },
  "language_info": {
   "codemirror_mode": {
    "name": "ipython",
    "version": 3
   },
   "file_extension": ".py",
   "mimetype": "text/x-python",
   "name": "python",
   "nbconvert_exporter": "python",
   "pygments_lexer": "ipython3",
   "version": "3.11.5"
  }
 },
 "nbformat": 4,
 "nbformat_minor": 2
}
