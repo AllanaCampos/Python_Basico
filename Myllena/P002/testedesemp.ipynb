{
 "cells": [
  {
   "cell_type": "code",
   "execution_count": null,
   "metadata": {},
   "outputs": [],
   "source": [
    "from DataFruta.ListaIdades import ListaIdades\n",
    "idades = ListaIdades.geraListaIdade(5000)\n",
    "print (idades.mostraMaior())\n",
    "print (idades.mostraMediana())\n",
    "print (idades.mostraMenor())"
   ]
  },
  {
   "cell_type": "code",
   "execution_count": null,
   "metadata": {},
   "outputs": [],
   "source": [
    "%timeit idades.mostraMediana()\n",
    "%timeit idades.mostraMenor()\n",
    "%timeit idades.mostraMaior()"
   ]
  },
  {
   "cell_type": "code",
   "execution_count": null,
   "metadata": {},
   "outputs": [],
   "source": [
    "from DataFruta.ListaSalarios import ListaSalarios\n",
    "salarios = ListaSalarios.geraListaSalario(5000)\n",
    "print (salarios.mostraMaior())\n",
    "print (salarios.mostraMediana())\n",
    "print (salarios.mostraMenor())"
   ]
  },
  {
   "cell_type": "code",
   "execution_count": null,
   "metadata": {},
   "outputs": [],
   "source": [
    "%timeit salarios.mostraMediana()\n",
    "%timeit salarios.mostraMenor()\n",
    "%timeit salarios.mostraMaior()"
   ]
  },
  {
   "cell_type": "code",
   "execution_count": null,
   "metadata": {},
   "outputs": [],
   "source": [
    "import numpy as np\n",
    "np_idades = np.array(idades.lista)\n",
    "np_salarios = np.array(salarios.lista)"
   ]
  },
  {
   "cell_type": "code",
   "execution_count": null,
   "metadata": {},
   "outputs": [],
   "source": [
    "%timeit np.median(np_idades)\n",
    "%timeit np.max(np_idades)\n",
    "%timeit np.min(np_idades)"
   ]
  },
  {
   "cell_type": "code",
   "execution_count": null,
   "metadata": {},
   "outputs": [],
   "source": [
    "%timeit np.median(np_salarios)\n",
    "%timeit np.max(np_salarios)\n",
    "%timeit np.min(np_salarios)"
   ]
  }
 ],
 "metadata": {
  "kernelspec": {
   "display_name": "Python 3 (ipykernel)",
   "language": "python",
   "name": "python3"
  },
  "language_info": {
   "codemirror_mode": {
    "name": "ipython",
    "version": 3
   },
   "file_extension": ".py",
   "mimetype": "text/x-python",
   "name": "python",
   "nbconvert_exporter": "python",
   "pygments_lexer": "ipython3",
   "version": "3.11.5"
  }
 },
 "nbformat": 4,
 "nbformat_minor": 2
}
