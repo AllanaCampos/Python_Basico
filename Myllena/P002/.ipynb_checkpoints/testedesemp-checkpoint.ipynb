{
 "cells": [
  {
   "cell_type": "code",
   "execution_count": 3,
   "metadata": {},
   "outputs": [
    {
     "ename": "ImportError",
     "evalue": "cannot import name 'AnaliseDados' from partially initialized module 'DataFruta' (most likely due to a circular import) (C:\\Users\\mylle\\Desktop\\CEPEDI\\Python_trilha\\Python_Basico\\Myllena\\P002\\DataFruta\\__init__.py)",
     "output_type": "error",
     "traceback": [
      "\u001b[1;31m---------------------------------------------------------------------------\u001b[0m",
      "\u001b[1;31mImportError\u001b[0m                               Traceback (most recent call last)",
      "Cell \u001b[1;32mIn[3], line 1\u001b[0m\n\u001b[1;32m----> 1\u001b[0m \u001b[38;5;28;01mimport\u001b[39;00m \u001b[38;5;21;01mDataFruta\u001b[39;00m \u001b[38;5;28;01mas\u001b[39;00m \u001b[38;5;21;01mdf\u001b[39;00m \n\u001b[0;32m      2\u001b[0m idades \u001b[38;5;241m=\u001b[39m df\u001b[38;5;241m.\u001b[39mListaIdade\u001b[38;5;241m.\u001b[39mgeraListaIdade(\u001b[38;5;241m5000\u001b[39m)\n\u001b[0;32m      3\u001b[0m \u001b[38;5;28mprint\u001b[39m (idades\u001b[38;5;241m.\u001b[39mmostraMaior())\n",
      "File \u001b[1;32m~\\Desktop\\CEPEDI\\Python_trilha\\Python_Basico\\Myllena\\P002\\DataFruta\\__init__.py:1\u001b[0m\n\u001b[1;32m----> 1\u001b[0m \u001b[38;5;28;01mfrom\u001b[39;00m \u001b[38;5;21;01m.\u001b[39;00m\u001b[38;5;21;01mListaDatas\u001b[39;00m \u001b[38;5;28;01mimport\u001b[39;00m ListaDatas\n\u001b[0;32m      2\u001b[0m \u001b[38;5;28;01mfrom\u001b[39;00m \u001b[38;5;21;01m.\u001b[39;00m\u001b[38;5;21;01manaliseDados\u001b[39;00m \u001b[38;5;28;01mimport\u001b[39;00m AnaliseDados\n\u001b[0;32m      3\u001b[0m \u001b[38;5;28;01mfrom\u001b[39;00m \u001b[38;5;21;01m.\u001b[39;00m\u001b[38;5;21;01mlistaNomes\u001b[39;00m \u001b[38;5;28;01mimport\u001b[39;00m ListaNomes\n",
      "File \u001b[1;32m~\\Desktop\\CEPEDI\\Python_trilha\\Python_Basico\\Myllena\\P002\\DataFruta\\ListaDatas.py:1\u001b[0m\n\u001b[1;32m----> 1\u001b[0m \u001b[38;5;28;01mfrom\u001b[39;00m \u001b[38;5;21;01mDataFruta\u001b[39;00m \u001b[38;5;28;01mimport\u001b[39;00m AnaliseDados, Data\n\u001b[0;32m      3\u001b[0m \u001b[38;5;28;01mclass\u001b[39;00m \u001b[38;5;21;01mListaDatas\u001b[39;00m(AnaliseDados):\n\u001b[0;32m      5\u001b[0m     \u001b[38;5;28;01mdef\u001b[39;00m \u001b[38;5;21m__init__\u001b[39m(\u001b[38;5;28mself\u001b[39m):\n",
      "\u001b[1;31mImportError\u001b[0m: cannot import name 'AnaliseDados' from partially initialized module 'DataFruta' (most likely due to a circular import) (C:\\Users\\mylle\\Desktop\\CEPEDI\\Python_trilha\\Python_Basico\\Myllena\\P002\\DataFruta\\__init__.py)"
     ]
    }
   ],
   "source": [
    "import DataFruta as df \n",
    "idades = df.ListaIdade.geraListaIdade(5000)\n",
    "print (idades.mostraMaior())\n",
    "print (idades.mostraMediana())\n",
    "print (idades.mostraMenor())"
   ]
  },
  {
   "cell_type": "code",
   "execution_count": null,
   "metadata": {},
   "outputs": [],
   "source": []
  }
 ],
 "metadata": {
  "kernelspec": {
   "display_name": "Python 3 (ipykernel)",
   "language": "python",
   "name": "python3"
  },
  "language_info": {
   "codemirror_mode": {
    "name": "ipython",
    "version": 3
   },
   "file_extension": ".py",
   "mimetype": "text/x-python",
   "name": "python",
   "nbconvert_exporter": "python",
   "pygments_lexer": "ipython3",
   "version": "3.11.5"
  }
 },
 "nbformat": 4,
 "nbformat_minor": 2
}
