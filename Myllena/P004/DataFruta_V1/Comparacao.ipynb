{
 "cells": [
  {
   "cell_type": "markdown",
   "metadata": {},
   "source": [
    "Para a comparação criaremos uma lista de salários com 5000 valores aleatórios"
   ]
  },
  {
   "cell_type": "code",
   "execution_count": 11,
   "metadata": {},
   "outputs": [
    {
     "name": "stdout",
     "output_type": "stream",
     "text": [
      "[9424.966986044019, 6722.7768148832865, 2267.189479507144, 4472.119953453304, 9085.181201465128]\n"
     ]
    }
   ],
   "source": [
    "import DataFruta_V1 as df\n",
    "salarios = df.ListaSalarios.geraListaSalario(5000)\n",
    "print(salarios.lista[:5])\n"
   ]
  },
  {
   "cell_type": "markdown",
   "metadata": {},
   "source": [
    "Com a nova implementação"
   ]
  },
  {
   "cell_type": "code",
   "execution_count": null,
   "metadata": {},
   "outputs": [],
   "source": [
    "import DataFruta_V1 as df\n",
    "salarios2 = df.ListaSalarios.geraListaSalario(5000)\n",
    "print(salarios2.lista[:5])"
   ]
  },
  {
   "cell_type": "markdown",
   "metadata": {},
   "source": [
    "Agora avaliaremos o tempo necessário para calcular algumas métricas com a lista a partir dos métodos desenvolvidos"
   ]
  },
  {
   "cell_type": "code",
   "execution_count": 13,
   "metadata": {},
   "outputs": [
    {
     "name": "stdout",
     "output_type": "stream",
     "text": [
      "870 µs ± 111 µs per loop (mean ± std. dev. of 7 runs, 1,000 loops each)\n",
      "785 µs ± 32.9 µs per loop (mean ± std. dev. of 7 runs, 1,000 loops each)\n",
      "838 µs ± 108 µs per loop (mean ± std. dev. of 7 runs, 1,000 loops each)\n",
      "1.93 ms ± 202 µs per loop (mean ± std. dev. of 7 runs, 1,000 loops each)\n",
      "2.71 ms ± 845 µs per loop (mean ± std. dev. of 7 runs, 1,000 loops each)\n",
      "31 µs ± 5.47 µs per loop (mean ± std. dev. of 7 runs, 10,000 loops each)\n",
      "476 µs ± 120 µs per loop (mean ± std. dev. of 7 runs, 1,000 loops each)\n",
      "780 µs ± 70.9 µs per loop (mean ± std. dev. of 7 runs, 1,000 loops each)\n",
      "2.12 ms ± 384 µs per loop (mean ± std. dev. of 7 runs, 100 loops each)\n",
      "2.14 ms ± 161 µs per loop (mean ± std. dev. of 7 runs, 1,000 loops each)\n"
     ]
    }
   ],
   "source": [
    "%timeit salarios.mostraMediana()\n",
    "%timeit salarios.mostraMenor()\n",
    "%timeit salarios.mostraMaior()\n",
    "%timeit salarios.mostraDesvPadAmostral()\n",
    "%timeit salarios.mostraDesvPadPopulacional()\n",
    "%timeit salarios.mostraMediaAritmetica()\n",
    "%timeit salarios.mostraMediaGeometrica()\n",
    "%timeit salarios.mostraMediaHarmonica()\n",
    "%timeit salarios.mostraVarianciaAmostral()\n",
    "%timeit salarios.mostraVarianciaPopulacional()\n"
   ]
  },
  {
   "cell_type": "markdown",
   "metadata": {},
   "source": [
    "Agora observaremos o tempo utilizado para os mesmos cálculos com o ndarray"
   ]
  },
  {
   "cell_type": "code",
   "execution_count": 15,
   "metadata": {},
   "outputs": [
    {
     "name": "stdout",
     "output_type": "stream",
     "text": [
      "166 µs ± 14 µs per loop (mean ± std. dev. of 7 runs, 10,000 loops each)\n",
      "6.49 µs ± 794 ns per loop (mean ± std. dev. of 7 runs, 100,000 loops each)\n",
      "6.19 µs ± 1.19 µs per loop (mean ± std. dev. of 7 runs, 100,000 loops each)\n",
      "71.4 µs ± 12.6 µs per loop (mean ± std. dev. of 7 runs, 10,000 loops each)\n",
      "77.4 µs ± 12.3 µs per loop (mean ± std. dev. of 7 runs, 10,000 loops each)\n",
      "18.9 µs ± 2.63 µs per loop (mean ± std. dev. of 7 runs, 100,000 loops each)\n",
      "26.8 µs ± 4.85 µs per loop (mean ± std. dev. of 7 runs, 10,000 loops each)\n",
      "25.8 µs ± 5.49 µs per loop (mean ± std. dev. of 7 runs, 10,000 loops each)\n",
      "76.7 µs ± 8.26 µs per loop (mean ± std. dev. of 7 runs, 10,000 loops each)\n",
      "78.9 µs ± 9.22 µs per loop (mean ± std. dev. of 7 runs, 10,000 loops each)\n"
     ]
    }
   ],
   "source": [
    "%timeit salarios2.mostraMediana()\n",
    "%timeit salarios2.mostraMenor()\n",
    "%timeit salarios2.mostraMaior()\n",
    "%timeit salarios2.mostraDesvPadAmostral()\n",
    "%timeit salarios2.mostraDesvPadPopulacional()\n",
    "%timeit salarios2.mostraMediaAritmetica()\n",
    "%timeit salarios2.mostraMediaGeometrica()\n",
    "%timeit salarios2.mostraMediaHarmonica()\n",
    "%timeit salarios2.mostraVarianciaAmostral()\n",
    "%timeit salarios2.mostraVarianciaPopulacional()"
   ]
  },
  {
   "cell_type": "markdown",
   "metadata": {},
   "source": [
    "Algumas vantagens e desvantagens na utilização de ndarray em comparação com listas:\n",
    "\n",
    "Vantagens:\n",
    "\n",
    "- Rapidez: Para os cálculos estatísticos ndarray são mais rápidos, comprova-se vizualizando o tempo gasto para cada cálculo feito anteriormente."
   ]
  },
  {
   "cell_type": "markdown",
   "metadata": {},
   "source": [
    "- ufunc: com a utilização de ufuncs o que seria necessário utilizar loops em listas se torna simples e menos verboso ao utilizar apenas um comando se tentarmos utilizar em listas da erro como a seguir:"
   ]
  },
  {
   "cell_type": "code",
   "execution_count": 16,
   "metadata": {},
   "outputs": [
    {
     "name": "stdout",
     "output_type": "stream",
     "text": [
      "[1884.99339721 1344.55536298  453.4378959   894.42399069 1817.03624029]\n",
      "unsupported operand type(s) for /: 'list' and 'int'\n"
     ]
    }
   ],
   "source": [
    "ex = np_salarios/5\n",
    "print(ex[:5])\n",
    "try:\n",
    "    ex = salarios.lista/5\n",
    "except Exception as e:\n",
    "    print(e)"
   ]
  },
  {
   "cell_type": "markdown",
   "metadata": {},
   "source": [
    "- diversidade: os ndarrays possuem uma variedade de funções que as listas não possuem como observado abaixo:"
   ]
  },
  {
   "cell_type": "code",
   "execution_count": 17,
   "metadata": {},
   "outputs": [
    {
     "name": "stdout",
     "output_type": "stream",
     "text": [
      "['T', '__abs__', '__add__', '__and__', '__array__', '__array_finalize__', '__array_function__', '__array_interface__', '__array_prepare__', '__array_priority__', '__array_struct__', '__array_ufunc__', '__array_wrap__', '__bool__', '__class__', '__class_getitem__', '__complex__', '__contains__', '__copy__', '__deepcopy__', '__delattr__', '__delitem__', '__dir__', '__divmod__', '__dlpack__', '__dlpack_device__', '__doc__', '__eq__', '__float__', '__floordiv__', '__format__', '__ge__', '__getattribute__', '__getitem__', '__gt__', '__hash__', '__iadd__', '__iand__', '__ifloordiv__', '__ilshift__', '__imatmul__', '__imod__', '__imul__', '__index__', '__init__', '__init_subclass__', '__int__', '__invert__', '__ior__', '__ipow__', '__irshift__', '__isub__', '__iter__', '__itruediv__', '__ixor__', '__le__', '__len__', '__lshift__', '__lt__', '__matmul__', '__mod__', '__mul__', '__ne__', '__neg__', '__new__', '__or__', '__pos__', '__pow__', '__radd__', '__rand__', '__rdivmod__', '__reduce__', '__reduce_ex__', '__repr__', '__rfloordiv__', '__rlshift__', '__rmatmul__', '__rmod__', '__rmul__', '__ror__', '__rpow__', '__rrshift__', '__rshift__', '__rsub__', '__rtruediv__', '__rxor__', '__setattr__', '__setitem__', '__setstate__', '__sizeof__', '__str__', '__sub__', '__subclasshook__', '__truediv__', '__xor__', 'all', 'any', 'argmax', 'argmin', 'argpartition', 'argsort', 'astype', 'base', 'byteswap', 'choose', 'clip', 'compress', 'conj', 'conjugate', 'copy', 'ctypes', 'cumprod', 'cumsum', 'data', 'diagonal', 'dot', 'dtype', 'dump', 'dumps', 'fill', 'flags', 'flat', 'flatten', 'getfield', 'imag', 'item', 'itemset', 'itemsize', 'max', 'mean', 'min', 'nbytes', 'ndim', 'newbyteorder', 'nonzero', 'partition', 'prod', 'ptp', 'put', 'ravel', 'real', 'repeat', 'reshape', 'resize', 'round', 'searchsorted', 'setfield', 'setflags', 'shape', 'size', 'sort', 'squeeze', 'std', 'strides', 'sum', 'swapaxes', 'take', 'tobytes', 'tofile', 'tolist', 'tostring', 'trace', 'transpose', 'var', 'view']\n",
      "['__add__', '__class__', '__class_getitem__', '__contains__', '__delattr__', '__delitem__', '__dir__', '__doc__', '__eq__', '__format__', '__ge__', '__getattribute__', '__getitem__', '__gt__', '__hash__', '__iadd__', '__imul__', '__init__', '__init_subclass__', '__iter__', '__le__', '__len__', '__lt__', '__mul__', '__ne__', '__new__', '__reduce__', '__reduce_ex__', '__repr__', '__reversed__', '__rmul__', '__setattr__', '__setitem__', '__sizeof__', '__str__', '__subclasshook__', 'append', 'clear', 'copy', 'count', 'extend', 'index', 'insert', 'pop', 'remove', 'reverse', 'sort']\n"
     ]
    }
   ],
   "source": [
    "print(dir(np_salarios))\n",
    "print(dir(salarios.lista))"
   ]
  },
  {
   "cell_type": "markdown",
   "metadata": {},
   "source": [
    "Desvantagens:\n",
    "\n",
    "- Extensibilidade: os ndarrays possuem tamanho estático enquanto as listas possuem tamanho dinâmico"
   ]
  },
  {
   "cell_type": "code",
   "execution_count": 18,
   "metadata": {},
   "outputs": [
    {
     "name": "stdout",
     "output_type": "stream",
     "text": [
      "[1, 2, 3, 8]\n",
      "'numpy.ndarray' object has no attribute 'append'\n"
     ]
    }
   ],
   "source": [
    "lista = [1, 2, 3]\n",
    "lista.append(8)\n",
    "print(lista)\n",
    "try:\n",
    "    np_salarios.append(5)\n",
    "    #np_salarios.add(5)\n",
    "except Exception as e:\n",
    "    print(e)"
   ]
  }
 ],
 "metadata": {
  "kernelspec": {
   "display_name": "p10",
   "language": "python",
   "name": "python3"
  },
  "language_info": {
   "codemirror_mode": {
    "name": "ipython",
    "version": 3
   },
   "file_extension": ".py",
   "mimetype": "text/x-python",
   "name": "python",
   "nbconvert_exporter": "python",
   "pygments_lexer": "ipython3",
   "version": "3.10.13"
  }
 },
 "nbformat": 4,
 "nbformat_minor": 2
}
