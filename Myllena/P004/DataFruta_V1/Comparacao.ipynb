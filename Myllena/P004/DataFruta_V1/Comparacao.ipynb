{
 "cells": [
  {
   "cell_type": "markdown",
   "metadata": {},
   "source": [
    "Para a comparação criaremos uma lista de salários com 5000 valores aleatórios"
   ]
  },
  {
   "cell_type": "code",
   "execution_count": null,
   "metadata": {},
   "outputs": [
    {
     "ename": "",
     "evalue": "",
     "output_type": "error",
     "traceback": [
      "\u001b[1;31mFalha ao iniciar o Kernel. \n",
      "\u001b[1;31mUnable to start Kernel 'base (Python 3.11.5)' due to a timeout waiting for the ports to get used. \n",
      "\u001b[1;31mView Jupyter <a href='command:jupyter.viewOutput'>log</a> for further details."
     ]
    }
   ],
   "source": [
    "import DataFruta_V1 as df\n",
    "salarios = df.ListaSalarios.geraListaSalario(5000)\n",
    "print(salarios.lista[:5])\n"
   ]
  },
  {
   "cell_type": "markdown",
   "metadata": {},
   "source": [
    "Com a nova implementação"
   ]
  },
  {
   "cell_type": "code",
   "execution_count": null,
   "metadata": {},
   "outputs": [
    {
     "ename": "",
     "evalue": "",
     "output_type": "error",
     "traceback": [
      "\u001b[1;31mFalha ao iniciar o Kernel. \n",
      "\u001b[1;31mUnable to start Kernel 'base (Python 3.11.5)' due to a timeout waiting for the ports to get used. \n",
      "\u001b[1;31mView Jupyter <a href='command:jupyter.viewOutput'>log</a> for further details."
     ]
    }
   ],
   "source": [
    "import DataFruta_V1 as df\n",
    "salarios2 = df.ListaSalarios.geraListaSalario(5000)\n",
    "print(salarios2.lista[:5])"
   ]
  },
  {
   "cell_type": "markdown",
   "metadata": {},
   "source": [
    "Agora avaliaremos o tempo necessário para calcular algumas métricas com a lista a partir dos métodos desenvolvidos"
   ]
  },
  {
   "cell_type": "code",
   "execution_count": null,
   "metadata": {},
   "outputs": [
    {
     "ename": "",
     "evalue": "",
     "output_type": "error",
     "traceback": [
      "\u001b[1;31mFalha ao iniciar o Kernel. \n",
      "\u001b[1;31mUnable to start Kernel 'base (Python 3.11.5)' due to a timeout waiting for the ports to get used. \n",
      "\u001b[1;31mView Jupyter <a href='command:jupyter.viewOutput'>log</a> for further details."
     ]
    }
   ],
   "source": [
    "%timeit salarios.mostraMediana()\n",
    "%timeit salarios.mostraMenor()\n",
    "%timeit salarios.mostraMaior()\n",
    "%timeit salarios.mostraDesvPadAmostral()\n",
    "%timeit salarios.mostraDesvPadPopulacional()\n",
    "%timeit salarios.mostraMediaAritmetica()\n",
    "%timeit salarios.mostraMediaGeometrica()\n",
    "%timeit salarios.mostraMediaHarmonica()\n",
    "%timeit salarios.mostraVarianciaAmostral()\n",
    "%timeit salarios.mostraVarianciaPopulacional()\n"
   ]
  },
  {
   "cell_type": "markdown",
   "metadata": {},
   "source": [
    "Agora observaremos o tempo utilizado para os mesmos cálculos com o ndarray"
   ]
  },
  {
   "cell_type": "code",
   "execution_count": null,
   "metadata": {},
   "outputs": [
    {
     "ename": "",
     "evalue": "",
     "output_type": "error",
     "traceback": [
      "\u001b[1;31mFalha ao iniciar o Kernel. \n",
      "\u001b[1;31mUnable to start Kernel 'base (Python 3.11.5)' due to a timeout waiting for the ports to get used. \n",
      "\u001b[1;31mView Jupyter <a href='command:jupyter.viewOutput'>log</a> for further details."
     ]
    }
   ],
   "source": [
    "%timeit salarios2.mostraMediana()\n",
    "%timeit salarios2.mostraMenor()\n",
    "%timeit salarios2.mostraMaior()\n",
    "%timeit salarios2.mostraDesvPadAmostral()\n",
    "%timeit salarios2.mostraDesvPadPopulacional()\n",
    "%timeit salarios2.mostraMediaAritmetica()\n",
    "%timeit salarios2.mostraMediaGeometrica()\n",
    "%timeit salarios2.mostraMediaHarmonica()\n",
    "%timeit salarios2.mostraVarianciaAmostral()\n",
    "%timeit salarios2.mostraVarianciaPopulacional()"
   ]
  },
  {
   "cell_type": "markdown",
   "metadata": {},
   "source": [
    "Algumas vantagens e desvantagens na utilização de ndarray em comparação com listas:\n",
    "\n",
    "Vantagens:\n",
    "\n",
    "- Rapidez: Para os cálculos estatísticos ndarray são mais rápidos, comprova-se vizualizando o tempo gasto para cada cálculo feito anteriormente."
   ]
  },
  {
   "cell_type": "markdown",
   "metadata": {},
   "source": [
    "- ufunc: com a utilização de ufuncs o que seria necessário utilizar loops em listas se torna simples e menos verboso ao utilizar apenas um comando se tentarmos utilizar em listas da erro como a seguir:"
   ]
  },
  {
   "cell_type": "code",
   "execution_count": null,
   "metadata": {},
   "outputs": [
    {
     "ename": "",
     "evalue": "",
     "output_type": "error",
     "traceback": [
      "\u001b[1;31mFalha ao iniciar o Kernel. \n",
      "\u001b[1;31mUnable to start Kernel 'base (Python 3.11.5)' due to a timeout waiting for the ports to get used. \n",
      "\u001b[1;31mView Jupyter <a href='command:jupyter.viewOutput'>log</a> for further details."
     ]
    }
   ],
   "source": [
    "ex = salarios2.lista/5\n",
    "print(ex[:5])\n",
    "try:\n",
    "    ex = salarios.lista/5\n",
    "except Exception as e:\n",
    "    print(e)"
   ]
  },
  {
   "cell_type": "markdown",
   "metadata": {},
   "source": [
    "- diversidade: os ndarrays possuem uma variedade de funções que as listas não possuem como observado abaixo:"
   ]
  },
  {
   "cell_type": "code",
   "execution_count": null,
   "metadata": {},
   "outputs": [
    {
     "ename": "",
     "evalue": "",
     "output_type": "error",
     "traceback": [
      "\u001b[1;31mFalha ao iniciar o Kernel. \n",
      "\u001b[1;31mUnable to start Kernel 'base (Python 3.11.5)' due to a timeout waiting for the ports to get used. \n",
      "\u001b[1;31mView Jupyter <a href='command:jupyter.viewOutput'>log</a> for further details."
     ]
    }
   ],
   "source": [
    "print(dir(salarios2))\n",
    "print(dir(salarios.lista))"
   ]
  },
  {
   "cell_type": "markdown",
   "metadata": {},
   "source": [
    "Desvantagens:\n",
    "\n",
    "- Extensibilidade: os ndarrays possuem tamanho estático enquanto as listas possuem tamanho dinâmico"
   ]
  },
  {
   "cell_type": "code",
   "execution_count": null,
   "metadata": {},
   "outputs": [
    {
     "ename": "",
     "evalue": "",
     "output_type": "error",
     "traceback": [
      "\u001b[1;31mFalha ao iniciar o Kernel. \n",
      "\u001b[1;31mUnable to start Kernel 'base (Python 3.11.5)' due to a timeout waiting for the ports to get used. \n",
      "\u001b[1;31mView Jupyter <a href='command:jupyter.viewOutput'>log</a> for further details."
     ]
    }
   ],
   "source": [
    "lista = [1, 2, 3]\n",
    "lista.append(8)\n",
    "print(lista)\n",
    "try:\n",
    "    salarios2.lista.append(5)\n",
    "    #salarios2.lista.add(5)\n",
    "except Exception as e:\n",
    "    print(e)"
   ]
  }
 ],
 "metadata": {
  "kernelspec": {
   "display_name": "p10",
   "language": "python",
   "name": "python3"
  },
  "language_info": {
   "codemirror_mode": {
    "name": "ipython",
    "version": 3
   },
   "file_extension": ".py",
   "mimetype": "text/x-python",
   "name": "python",
   "nbconvert_exporter": "python",
   "pygments_lexer": "ipython3",
   "version": "3.11.5"
  }
 },
 "nbformat": 4,
 "nbformat_minor": 2
}
