{
 "cells": [
  {
   "cell_type": "code",
   "execution_count": 1,
   "metadata": {},
   "outputs": [
    {
     "ename": "ModuleNotFoundError",
     "evalue": "No module named 'DataFruta_V1'",
     "output_type": "error",
     "traceback": [
      "\u001b[1;31m---------------------------------------------------------------------------\u001b[0m",
      "\u001b[1;31mModuleNotFoundError\u001b[0m                       Traceback (most recent call last)",
      "Cell \u001b[1;32mIn[1], line 1\u001b[0m\n\u001b[1;32m----> 1\u001b[0m \u001b[38;5;28;01mfrom\u001b[39;00m \u001b[38;5;21;01mDataFruta_V1\u001b[39;00m \u001b[38;5;28;01mimport\u001b[39;00m ListaIdades\n\u001b[0;32m      2\u001b[0m idades \u001b[38;5;241m=\u001b[39m ListaIdades\u001b[38;5;241m.\u001b[39mgeraListaIdade(\u001b[38;5;241m5000\u001b[39m)\n\u001b[0;32m      3\u001b[0m \u001b[38;5;28mprint\u001b[39m (idades\u001b[38;5;241m.\u001b[39mmostraMaior())\n",
      "\u001b[1;31mModuleNotFoundError\u001b[0m: No module named 'DataFruta_V1'"
     ]
    }
   ],
   "source": [
    "from DataFruta_V1 import ListaIdades\n",
    "idades = ListaIdades.geraListaIdade(5000)\n",
    "print (idades.mostraMaior())\n",
    "print (idades.mostraMediana())\n",
    "print (idades.mostraMenor())\n",
    "print (idades.mostraMediaGeometrica())\n",
    "print (idades.mostraMediaAritmetrica())\n",
    "print (idades.mostraMediaHarmonica())\n",
    "print (idades.mostraDesvPadPopulacional())\n",
    "print (idades.mostraDesvPadAmostral())\n",
    "print (idades.mostraVariAmostral())\n",
    "print (idades.mostraVariPopulacional())\n"
   ]
  },
  {
   "cell_type": "code",
   "execution_count": 7,
   "metadata": {},
   "outputs": [
    {
     "name": "stdout",
     "output_type": "stream",
     "text": [
      "453 µs ± 12.8 µs per loop (mean ± std. dev. of 7 runs, 1,000 loops each)\n",
      "451 µs ± 3.83 µs per loop (mean ± std. dev. of 7 runs, 1,000 loops each)\n",
      "442 µs ± 2.67 µs per loop (mean ± std. dev. of 7 runs, 1,000 loops each)\n"
     ]
    }
   ],
   "source": [
    "%timeit idades.mostraMediana()\n",
    "%timeit idades.mostraMenor()\n",
    "%timeit idades.mostraMaior()"
   ]
  },
  {
   "cell_type": "code",
   "execution_count": 8,
   "metadata": {},
   "outputs": [
    {
     "name": "stdout",
     "output_type": "stream",
     "text": [
      "13199.096907125393\n",
      "7189.546183207449\n",
      "1320.0160132953367\n"
     ]
    }
   ],
   "source": [
    "from DataFruta_V1 import ListaSalarios\n",
    "salarios = ListaSalarios.geraListaSalario(5000)\n",
    "print (salarios.mostraMaior())\n",
    "print (salarios.mostraMediana())\n",
    "print (salarios.mostraMenor())"
   ]
  },
  {
   "cell_type": "code",
   "execution_count": 9,
   "metadata": {},
   "outputs": [
    {
     "name": "stdout",
     "output_type": "stream",
     "text": [
      "587 µs ± 8.42 µs per loop (mean ± std. dev. of 7 runs, 1,000 loops each)\n",
      "581 µs ± 4.7 µs per loop (mean ± std. dev. of 7 runs, 1,000 loops each)\n",
      "579 µs ± 1.42 µs per loop (mean ± std. dev. of 7 runs, 1,000 loops each)\n"
     ]
    }
   ],
   "source": [
    "%timeit salarios.mostraMediana()\n",
    "%timeit salarios.mostraMenor()\n",
    "%timeit salarios.mostraMaior()"
   ]
  },
  {
   "cell_type": "code",
   "execution_count": 10,
   "metadata": {},
   "outputs": [],
   "source": [
    "import numpy as np\n",
    "np_idades = np.array(idades.lista)\n",
    "np_salarios = np.array(salarios.lista)"
   ]
  },
  {
   "cell_type": "code",
   "execution_count": 11,
   "metadata": {},
   "outputs": [
    {
     "name": "stdout",
     "output_type": "stream",
     "text": [
      "62.8 µs ± 1.63 µs per loop (mean ± std. dev. of 7 runs, 10,000 loops each)\n",
      "4.93 µs ± 43.6 ns per loop (mean ± std. dev. of 7 runs, 100,000 loops each)\n",
      "4.88 µs ± 56.5 ns per loop (mean ± std. dev. of 7 runs, 100,000 loops each)\n"
     ]
    }
   ],
   "source": [
    "%timeit np.median(np_idades)\n",
    "%timeit np.max(np_idades)\n",
    "%timeit np.min(np_idades)"
   ]
  },
  {
   "cell_type": "code",
   "execution_count": 12,
   "metadata": {},
   "outputs": [
    {
     "name": "stdout",
     "output_type": "stream",
     "text": [
      "72.3 µs ± 776 ns per loop (mean ± std. dev. of 7 runs, 10,000 loops each)\n",
      "5.6 µs ± 43.9 ns per loop (mean ± std. dev. of 7 runs, 100,000 loops each)\n",
      "5.58 µs ± 16.5 ns per loop (mean ± std. dev. of 7 runs, 100,000 loops each)\n"
     ]
    }
   ],
   "source": [
    "%timeit np.median(np_salarios)\n",
    "%timeit np.max(np_salarios)\n",
    "%timeit np.min(np_salarios)"
   ]
  },
  {
   "cell_type": "code",
   "execution_count": null,
   "metadata": {},
   "outputs": [],
   "source": []
  }
 ],
 "metadata": {
  "kernelspec": {
   "display_name": "Python 3 (ipykernel)",
   "language": "python",
   "name": "python3"
  },
  "language_info": {
   "codemirror_mode": {
    "name": "ipython",
    "version": 3
   },
   "file_extension": ".py",
   "mimetype": "text/x-python",
   "name": "python",
   "nbconvert_exporter": "python",
   "pygments_lexer": "ipython3",
   "version": "3.11.5"
  }
 },
 "nbformat": 4,
 "nbformat_minor": 2
}
