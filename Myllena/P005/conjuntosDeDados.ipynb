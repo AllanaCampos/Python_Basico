{
 "cells": [
  {
   "cell_type": "code",
   "execution_count": 1,
   "metadata": {},
   "outputs": [
    {
     "name": "stdout",
     "output_type": "stream",
     "text": [
      "2.0.3\n",
      "1.24.3\n"
     ]
    }
   ],
   "source": [
    "import pandas as pd\n",
    "import numpy as np \n",
    "print(pd.__version__ )\n",
    "print(np.__version__ )"
   ]
  },
  {
   "cell_type": "markdown",
   "metadata": {},
   "source": [
    "**Exercício 1**"
   ]
  },
  {
   "cell_type": "markdown",
   "metadata": {},
   "source": [
    "Criando conjuntos de dados para analizar, em ordem alfabetica do grupo."
   ]
  },
  {
   "cell_type": "code",
   "execution_count": 2,
   "metadata": {},
   "outputs": [],
   "source": [
    "identificador = [\"tic18Py06799\",\"tic18Py07100\",\"tic18Py08099\",\"tic18Py07799\",\"tic18Py05996\"]\n",
    "idade = [24,23,24,24,27]\n",
    "formacao = [3,2,2,2,1]\n",
    "formacaoGeral = [1,0,0,0,0]\n",
    "formacaoEspecifica =[\"Ciência da Computação\", \"Engenharia Elétrica\", \"Engenharia Química\", \"Engenharia Química\", \"Engenharia Química\"]\n",
    "andamentoGraduacao = [None,90.16,75.58,76.94,81.38]\n",
    "tempoFormacao = [1,None,None,None,None]\n",
    "experienciaPrevia = [True,True,True,True,True]\n"
   ]
  },
  {
   "cell_type": "markdown",
   "metadata": {},
   "source": [
    "**Exercício 2**"
   ]
  },
  {
   "cell_type": "markdown",
   "metadata": {},
   "source": [
    "Criando objeto Index a partir da lista anterior."
   ]
  },
  {
   "cell_type": "code",
   "execution_count": 3,
   "metadata": {},
   "outputs": [],
   "source": [
    "index = pd.Index(identificador)\n",
    "idades = pd.Series(idade,index=index)\n",
    "formacoes = pd.Series(formacao,index=index)\n",
    "formacoesGerais = pd.Series(formacaoGeral,index=index)\n",
    "formacoesEspecificas = pd.Series(formacaoEspecifica,index=index)\n",
    "andamentoGraduacoes = pd.Series(andamentoGraduacao,index=index)\n",
    "tempoFormacoes = pd.Series(tempoFormacao,index=index)\n",
    "experienciaPrevias = pd.Series(experienciaPrevia,index=index)"
   ]
  },
  {
   "cell_type": "markdown",
   "metadata": {},
   "source": [
    "Determinando Idade Média da equipe."
   ]
  },
  {
   "cell_type": "code",
   "execution_count": 4,
   "metadata": {},
   "outputs": [
    {
     "name": "stdout",
     "output_type": "stream",
     "text": [
      "Idade Média da Equipe é = 24.4\n",
      "Idade minima =  23 o membro mais novo da equipe é:  tic18Py07100\n",
      "Idade máxima =  27 o membro mais velho da equipe é:  tic18Py05996\n"
     ]
    }
   ],
   "source": [
    "print(\"Idade Média da Equipe é =\",idades.mean())\n",
    "idadeMin = idades.idxmin()\n",
    "idadeMax = idades.idxmax()\n",
    "print(\"Idade minima = \",idades[idadeMin], \"o membro mais novo da equipe é: \", idadeMin)\n",
    "print(\"Idade máxima = \",idades[idadeMax], \"o membro mais velho da equipe é: \", idadeMax)"
   ]
  },
  {
   "cell_type": "markdown",
   "metadata": {},
   "source": [
    "Perfil de formação, predominante técnico, graduando ou graduados."
   ]
  },
  {
   "cell_type": "code",
   "execution_count": 5,
   "metadata": {},
   "outputs": [
    {
     "name": "stdout",
     "output_type": "stream",
     "text": [
      "Técnicos = 1\n",
      "Graduandos = 4\n",
      "Graduados = 1\n",
      "Logo, o perfil predominante da equipe é graduandos.\n"
     ]
    }
   ],
   "source": [
    "cont = formacoes.value_counts()\n",
    "tecnicos = cont.get(0,0)+cont.get(1,0)\n",
    "graduandos = cont.get(1,0)+cont.get(2,0)\n",
    "graduados = cont.get(3,0)\n",
    "print(\"Técnicos =\", tecnicos)\n",
    "print(\"Graduandos =\", graduandos)\n",
    "print(\"Graduados =\", graduados)\n",
    "print(\"Logo, o perfil predominante da equipe é graduandos.\")"
   ]
  },
  {
   "cell_type": "markdown",
   "metadata": {},
   "source": [
    "Formação marjoritária."
   ]
  },
  {
   "cell_type": "code",
   "execution_count": 6,
   "metadata": {},
   "outputs": [
    {
     "name": "stdout",
     "output_type": "stream",
     "text": [
      "Em computação tem =  1\n",
      "Em engenharia tem =  4\n"
     ]
    }
   ],
   "source": [
    "cont = formacoesGerais.value_counts()\n",
    "computacao = cont.get(1,0)\n",
    "engenharia = cont.get(0,0)\n",
    "print(\"Em computação tem = \", computacao)\n",
    "print(\"Em engenharia tem = \", engenharia)"
   ]
  },
  {
   "cell_type": "markdown",
   "metadata": {},
   "source": [
    "**Exercício 3**"
   ]
  },
  {
   "cell_type": "markdown",
   "metadata": {},
   "source": [
    "Criando DataFrame\n"
   ]
  },
  {
   "cell_type": "code",
   "execution_count": 7,
   "metadata": {},
   "outputs": [
    {
     "data": {
      "text/html": [
       "<div>\n",
       "<style scoped>\n",
       "    .dataframe tbody tr th:only-of-type {\n",
       "        vertical-align: middle;\n",
       "    }\n",
       "\n",
       "    .dataframe tbody tr th {\n",
       "        vertical-align: top;\n",
       "    }\n",
       "\n",
       "    .dataframe thead th {\n",
       "        text-align: right;\n",
       "    }\n",
       "</style>\n",
       "<table border=\"1\" class=\"dataframe\">\n",
       "  <thead>\n",
       "    <tr style=\"text-align: right;\">\n",
       "      <th></th>\n",
       "      <th>Idade</th>\n",
       "      <th>Formação</th>\n",
       "      <th>Formação Geral</th>\n",
       "      <th>Formação Específica</th>\n",
       "      <th>Andamento da Graduação</th>\n",
       "      <th>Experiência com Progamação</th>\n",
       "    </tr>\n",
       "  </thead>\n",
       "  <tbody>\n",
       "    <tr>\n",
       "      <th>tic18Py06799</th>\n",
       "      <td>24</td>\n",
       "      <td>3</td>\n",
       "      <td>1</td>\n",
       "      <td>Ciência da Computação</td>\n",
       "      <td>NaN</td>\n",
       "      <td>True</td>\n",
       "    </tr>\n",
       "    <tr>\n",
       "      <th>tic18Py07100</th>\n",
       "      <td>23</td>\n",
       "      <td>2</td>\n",
       "      <td>0</td>\n",
       "      <td>Engenharia Elétrica</td>\n",
       "      <td>90.16</td>\n",
       "      <td>True</td>\n",
       "    </tr>\n",
       "    <tr>\n",
       "      <th>tic18Py08099</th>\n",
       "      <td>24</td>\n",
       "      <td>2</td>\n",
       "      <td>0</td>\n",
       "      <td>Engenharia Química</td>\n",
       "      <td>75.58</td>\n",
       "      <td>True</td>\n",
       "    </tr>\n",
       "    <tr>\n",
       "      <th>tic18Py07799</th>\n",
       "      <td>24</td>\n",
       "      <td>2</td>\n",
       "      <td>0</td>\n",
       "      <td>Engenharia Química</td>\n",
       "      <td>76.94</td>\n",
       "      <td>True</td>\n",
       "    </tr>\n",
       "    <tr>\n",
       "      <th>tic18Py05996</th>\n",
       "      <td>27</td>\n",
       "      <td>1</td>\n",
       "      <td>0</td>\n",
       "      <td>Engenharia Química</td>\n",
       "      <td>81.38</td>\n",
       "      <td>True</td>\n",
       "    </tr>\n",
       "  </tbody>\n",
       "</table>\n",
       "</div>"
      ],
      "text/plain": [
       "              Idade  Formação  Formação Geral    Formação Específica  \\\n",
       "tic18Py06799     24         3               1  Ciência da Computação   \n",
       "tic18Py07100     23         2               0    Engenharia Elétrica   \n",
       "tic18Py08099     24         2               0     Engenharia Química   \n",
       "tic18Py07799     24         2               0     Engenharia Química   \n",
       "tic18Py05996     27         1               0     Engenharia Química   \n",
       "\n",
       "              Andamento da Graduação  Experiência com Progamação  \n",
       "tic18Py06799                     NaN                        True  \n",
       "tic18Py07100                   90.16                        True  \n",
       "tic18Py08099                   75.58                        True  \n",
       "tic18Py07799                   76.94                        True  \n",
       "tic18Py05996                   81.38                        True  "
      ]
     },
     "execution_count": 7,
     "metadata": {},
     "output_type": "execute_result"
    }
   ],
   "source": [
    "dados = {'Idade' :idade, 'Formação' :formacao, \n",
    "         'Formação Geral':formacaoGeral, 'Formação Específica':formacaoEspecifica, \n",
    "         'Andamento da Graduação':andamentoGraduacao, 'Experiência com Progamação':experienciaPrevia}\n",
    "df = pd.DataFrame(dados,index=identificador)\n",
    "df"
   ]
  },
  {
   "cell_type": "markdown",
   "metadata": {},
   "source": [
    "Estratégia para tratar os dados na coluna Formação Específica."
   ]
  },
  {
   "cell_type": "code",
   "execution_count": 8,
   "metadata": {},
   "outputs": [
    {
     "data": {
      "text/html": [
       "<div>\n",
       "<style scoped>\n",
       "    .dataframe tbody tr th:only-of-type {\n",
       "        vertical-align: middle;\n",
       "    }\n",
       "\n",
       "    .dataframe tbody tr th {\n",
       "        vertical-align: top;\n",
       "    }\n",
       "\n",
       "    .dataframe thead th {\n",
       "        text-align: right;\n",
       "    }\n",
       "</style>\n",
       "<table border=\"1\" class=\"dataframe\">\n",
       "  <thead>\n",
       "    <tr style=\"text-align: right;\">\n",
       "      <th></th>\n",
       "      <th>Idade</th>\n",
       "      <th>Formação</th>\n",
       "      <th>Formação Geral</th>\n",
       "      <th>Formação Específica</th>\n",
       "      <th>Andamento da Graduação</th>\n",
       "      <th>Experiência com Progamação</th>\n",
       "    </tr>\n",
       "  </thead>\n",
       "  <tbody>\n",
       "    <tr>\n",
       "      <th>tic18Py06799</th>\n",
       "      <td>24</td>\n",
       "      <td>3</td>\n",
       "      <td>1</td>\n",
       "      <td>Computação</td>\n",
       "      <td>NaN</td>\n",
       "      <td>True</td>\n",
       "    </tr>\n",
       "    <tr>\n",
       "      <th>tic18Py07100</th>\n",
       "      <td>23</td>\n",
       "      <td>2</td>\n",
       "      <td>0</td>\n",
       "      <td>Engenharia</td>\n",
       "      <td>90.16</td>\n",
       "      <td>True</td>\n",
       "    </tr>\n",
       "    <tr>\n",
       "      <th>tic18Py08099</th>\n",
       "      <td>24</td>\n",
       "      <td>2</td>\n",
       "      <td>0</td>\n",
       "      <td>Engenharia</td>\n",
       "      <td>75.58</td>\n",
       "      <td>True</td>\n",
       "    </tr>\n",
       "    <tr>\n",
       "      <th>tic18Py07799</th>\n",
       "      <td>24</td>\n",
       "      <td>2</td>\n",
       "      <td>0</td>\n",
       "      <td>Engenharia</td>\n",
       "      <td>76.94</td>\n",
       "      <td>True</td>\n",
       "    </tr>\n",
       "    <tr>\n",
       "      <th>tic18Py05996</th>\n",
       "      <td>27</td>\n",
       "      <td>1</td>\n",
       "      <td>0</td>\n",
       "      <td>Engenharia</td>\n",
       "      <td>81.38</td>\n",
       "      <td>True</td>\n",
       "    </tr>\n",
       "  </tbody>\n",
       "</table>\n",
       "</div>"
      ],
      "text/plain": [
       "              Idade  Formação  Formação Geral Formação Específica  \\\n",
       "tic18Py06799     24         3               1          Computação   \n",
       "tic18Py07100     23         2               0          Engenharia   \n",
       "tic18Py08099     24         2               0          Engenharia   \n",
       "tic18Py07799     24         2               0          Engenharia   \n",
       "tic18Py05996     27         1               0          Engenharia   \n",
       "\n",
       "              Andamento da Graduação  Experiência com Progamação  \n",
       "tic18Py06799                     NaN                        True  \n",
       "tic18Py07100                   90.16                        True  \n",
       "tic18Py08099                   75.58                        True  \n",
       "tic18Py07799                   76.94                        True  \n",
       "tic18Py05996                   81.38                        True  "
      ]
     },
     "execution_count": 8,
     "metadata": {},
     "output_type": "execute_result"
    }
   ],
   "source": [
    "dados = {'Idade' :idade, 'Formação' :formacao, \n",
    "         'Formação Geral':formacaoGeral, 'Formação Específica':formacaoEspecifica, \n",
    "         'Andamento da Graduação':andamentoGraduacao, 'Experiência com Progamação':experienciaPrevia}\n",
    "df = pd.DataFrame(dados, index=identificador)\n",
    "\n",
    "outraCategoria = {'Ciência da Computação': 'Computação', 'Engenharia Elétrica': 'Engenharia', 'Engenharia Química': 'Engenharia'}\n",
    "\n",
    "df['Formação Específica'] = df['Formação Específica'].replace(outraCategoria)\n",
    "\n",
    "df"
   ]
  },
  {
   "cell_type": "code",
   "execution_count": 9,
   "metadata": {},
   "outputs": [
    {
     "name": "stdout",
     "output_type": "stream",
     "text": [
      "idade media = 24.4\n",
      "idade minima =  23 o membro mais novo da equipe é:  tic18Py07100\n",
      "idade maxima =  27 o membro mais velho da equipe é:  tic18Py05996\n"
     ]
    }
   ],
   "source": [
    "print(\"idade media =\",df.loc[:,'Idade'].mean())\n",
    "idadeMin = df.loc[:,'Idade'].idxmin()\n",
    "idadeMax = df.loc[:,'Idade'].idxmax()\n",
    "print(\"idade minima = \",df.loc[idadeMin,'Idade'], \"o membro mais novo da equipe é: \", idadeMin)\n",
    "print(\"idade maxima = \",df.loc[idadeMax,'Idade'], \"o membro mais velho da equipe é: \", idadeMax)\n"
   ]
  },
  {
   "cell_type": "code",
   "execution_count": 10,
   "metadata": {},
   "outputs": [
    {
     "name": "stdout",
     "output_type": "stream",
     "text": [
      "Técnicos = 1\n",
      "Graduandos = 4\n",
      "Graduados = 1\n",
      "Logo, o perfil predominante da equipe é graduandos.\n"
     ]
    }
   ],
   "source": [
    "cont = df.loc[:,'Formação'].value_counts()\n",
    "tecnicos = cont.get(0,0)+cont.get(1,0)\n",
    "graduandos = cont.get(1,0)+cont.get(2,0)\n",
    "graduados = cont.get(3,0)\n",
    "print(\"Técnicos =\", tecnicos)\n",
    "print(\"Graduandos =\", graduandos)\n",
    "print(\"Graduados =\", graduados)\n",
    "print(\"Logo, o perfil predominante da equipe é graduandos.\")"
   ]
  },
  {
   "cell_type": "code",
   "execution_count": 11,
   "metadata": {},
   "outputs": [
    {
     "name": "stdout",
     "output_type": "stream",
     "text": [
      "Em computação tem =  1\n",
      "Em engenharia tem =  4\n"
     ]
    }
   ],
   "source": [
    "cont = df.loc[:,'Formação Geral'].value_counts()\n",
    "computacao = cont.get(1,0)\n",
    "engenharia = cont.get(0,0)\n",
    "print(\"Em computação tem = \", computacao)\n",
    "print(\"Em engenharia tem = \", engenharia)"
   ]
  },
  {
   "cell_type": "markdown",
   "metadata": {},
   "source": [
    "**Exercício 4**"
   ]
  },
  {
   "cell_type": "markdown",
   "metadata": {},
   "source": [
    "Nova dimensão dos dados considerando cada trilha Python, .Net e Java."
   ]
  },
  {
   "cell_type": "code",
   "execution_count": 31,
   "metadata": {},
   "outputs": [],
   "source": [
    "tic18Py = [[\"06799\",\"tic18Py\",24,3,1,\"Ciência da Computação\",None,1,True],\n",
    "           [\"07100\",\"tic18Py\",23,2,0,\"Engenharia Elétrica\",90.16,None,True],\n",
    "           [\"05996\",\"tic18Py\",27,1,0,\"Engenharia Química\",81.38,None,True],\n",
    "           [\"07799\",\"tic18Py\",24,1,0,\"Engenharia Química\",76.94,None,True],\n",
    "           [\"08099\",\"tic18Py\",24,1,0,\"Engenharia Química\",75.58,None,True]]\n",
    "\n",
    "tic18Net = [[\"08200\",\"tic18Net\",23,1,1,\"Ciência da Computação\",66.00,None,True],\n",
    "            [\"86001\",\"tic18Net\",22,1,1,\"Ciência da Computação\",66.00,None,True],\n",
    "            [\"05999\",\"tic18Net\",24,2,0,\"Engenharia Elétrica\",99.00,None,True]]\n",
    "\n",
    "tic18Jav = [[\"06894\",\"tic18Jav\",29,2,1,\"Ciência da Computação\",78.00,None,False],\n",
    "            [\"06200\",\"tic18Jav\",23,2,0,\"Engenharia Elétrica\",72.00,None,False],\n",
    "            [\"86399\",\"tic18Jav\",24,2,0,\"Engenharia Química\",70.16,None,False],\n",
    "            [\"05594\",\"tic18Jav\",29,3,0,\"Engenharia Mecânica\",None,4,False],\n",
    "            [\"05800\",\"tic18Jav\",23,2,0,\"Engenharia Química\",80.00,None,False]]\n",
    "\n",
    "colunas = ['Identificação','Trilha','Idade','Formação','Formação Geral','Formação Específica','Andamento Graduação','Tempo Formação','Experiência em Programacao']"
   ]
  },
  {
   "cell_type": "code",
   "execution_count": 32,
   "metadata": {},
   "outputs": [
    {
     "data": {
      "text/html": [
       "<div>\n",
       "<style scoped>\n",
       "    .dataframe tbody tr th:only-of-type {\n",
       "        vertical-align: middle;\n",
       "    }\n",
       "\n",
       "    .dataframe tbody tr th {\n",
       "        vertical-align: top;\n",
       "    }\n",
       "\n",
       "    .dataframe thead th {\n",
       "        text-align: right;\n",
       "    }\n",
       "</style>\n",
       "<table border=\"1\" class=\"dataframe\">\n",
       "  <thead>\n",
       "    <tr style=\"text-align: right;\">\n",
       "      <th></th>\n",
       "      <th></th>\n",
       "      <th>Idade</th>\n",
       "      <th>Formação</th>\n",
       "      <th>Formação Geral</th>\n",
       "      <th>Formação Específica</th>\n",
       "      <th>Andamento Graduação</th>\n",
       "      <th>Tempo Formação</th>\n",
       "      <th>Experiência em Programacao</th>\n",
       "    </tr>\n",
       "    <tr>\n",
       "      <th>Identificação</th>\n",
       "      <th>Trilha</th>\n",
       "      <th></th>\n",
       "      <th></th>\n",
       "      <th></th>\n",
       "      <th></th>\n",
       "      <th></th>\n",
       "      <th></th>\n",
       "      <th></th>\n",
       "    </tr>\n",
       "  </thead>\n",
       "  <tbody>\n",
       "    <tr>\n",
       "      <th>06799</th>\n",
       "      <th>tic18Py</th>\n",
       "      <td>24</td>\n",
       "      <td>3</td>\n",
       "      <td>1</td>\n",
       "      <td>Ciência da Computação</td>\n",
       "      <td>NaN</td>\n",
       "      <td>1.0</td>\n",
       "      <td>True</td>\n",
       "    </tr>\n",
       "    <tr>\n",
       "      <th>07100</th>\n",
       "      <th>tic18Py</th>\n",
       "      <td>23</td>\n",
       "      <td>2</td>\n",
       "      <td>0</td>\n",
       "      <td>Engenharia Elétrica</td>\n",
       "      <td>90.16</td>\n",
       "      <td>NaN</td>\n",
       "      <td>True</td>\n",
       "    </tr>\n",
       "    <tr>\n",
       "      <th>05996</th>\n",
       "      <th>tic18Py</th>\n",
       "      <td>27</td>\n",
       "      <td>1</td>\n",
       "      <td>0</td>\n",
       "      <td>Engenharia Química</td>\n",
       "      <td>81.38</td>\n",
       "      <td>NaN</td>\n",
       "      <td>True</td>\n",
       "    </tr>\n",
       "    <tr>\n",
       "      <th>07799</th>\n",
       "      <th>tic18Py</th>\n",
       "      <td>24</td>\n",
       "      <td>1</td>\n",
       "      <td>0</td>\n",
       "      <td>Engenharia Química</td>\n",
       "      <td>76.94</td>\n",
       "      <td>NaN</td>\n",
       "      <td>True</td>\n",
       "    </tr>\n",
       "    <tr>\n",
       "      <th>08099</th>\n",
       "      <th>tic18Py</th>\n",
       "      <td>24</td>\n",
       "      <td>1</td>\n",
       "      <td>0</td>\n",
       "      <td>Engenharia Química</td>\n",
       "      <td>75.58</td>\n",
       "      <td>NaN</td>\n",
       "      <td>True</td>\n",
       "    </tr>\n",
       "    <tr>\n",
       "      <th>08200</th>\n",
       "      <th>tic18Net</th>\n",
       "      <td>23</td>\n",
       "      <td>1</td>\n",
       "      <td>1</td>\n",
       "      <td>Ciência da Computação</td>\n",
       "      <td>66.00</td>\n",
       "      <td>NaN</td>\n",
       "      <td>True</td>\n",
       "    </tr>\n",
       "    <tr>\n",
       "      <th>86001</th>\n",
       "      <th>tic18Net</th>\n",
       "      <td>22</td>\n",
       "      <td>1</td>\n",
       "      <td>1</td>\n",
       "      <td>Ciência da Computação</td>\n",
       "      <td>66.00</td>\n",
       "      <td>NaN</td>\n",
       "      <td>True</td>\n",
       "    </tr>\n",
       "    <tr>\n",
       "      <th>05999</th>\n",
       "      <th>tic18Net</th>\n",
       "      <td>24</td>\n",
       "      <td>2</td>\n",
       "      <td>0</td>\n",
       "      <td>Engenharia Elétrica</td>\n",
       "      <td>99.00</td>\n",
       "      <td>NaN</td>\n",
       "      <td>True</td>\n",
       "    </tr>\n",
       "    <tr>\n",
       "      <th>06894</th>\n",
       "      <th>tic18Jav</th>\n",
       "      <td>29</td>\n",
       "      <td>2</td>\n",
       "      <td>1</td>\n",
       "      <td>Ciência da Computação</td>\n",
       "      <td>78.00</td>\n",
       "      <td>NaN</td>\n",
       "      <td>False</td>\n",
       "    </tr>\n",
       "    <tr>\n",
       "      <th>06200</th>\n",
       "      <th>tic18Jav</th>\n",
       "      <td>23</td>\n",
       "      <td>2</td>\n",
       "      <td>0</td>\n",
       "      <td>Engenharia Elétrica</td>\n",
       "      <td>72.00</td>\n",
       "      <td>NaN</td>\n",
       "      <td>False</td>\n",
       "    </tr>\n",
       "    <tr>\n",
       "      <th>86399</th>\n",
       "      <th>tic18Jav</th>\n",
       "      <td>24</td>\n",
       "      <td>2</td>\n",
       "      <td>0</td>\n",
       "      <td>Engenharia Química</td>\n",
       "      <td>70.16</td>\n",
       "      <td>NaN</td>\n",
       "      <td>False</td>\n",
       "    </tr>\n",
       "    <tr>\n",
       "      <th>05594</th>\n",
       "      <th>tic18Jav</th>\n",
       "      <td>29</td>\n",
       "      <td>3</td>\n",
       "      <td>0</td>\n",
       "      <td>Engenharia Mecânica</td>\n",
       "      <td>NaN</td>\n",
       "      <td>4.0</td>\n",
       "      <td>False</td>\n",
       "    </tr>\n",
       "    <tr>\n",
       "      <th>05800</th>\n",
       "      <th>tic18Jav</th>\n",
       "      <td>23</td>\n",
       "      <td>2</td>\n",
       "      <td>0</td>\n",
       "      <td>Engenharia Química</td>\n",
       "      <td>80.00</td>\n",
       "      <td>NaN</td>\n",
       "      <td>False</td>\n",
       "    </tr>\n",
       "  </tbody>\n",
       "</table>\n",
       "</div>"
      ],
      "text/plain": [
       "                        Idade  Formação  Formação Geral  \\\n",
       "Identificação Trilha                                      \n",
       "06799         tic18Py      24         3               1   \n",
       "07100         tic18Py      23         2               0   \n",
       "05996         tic18Py      27         1               0   \n",
       "07799         tic18Py      24         1               0   \n",
       "08099         tic18Py      24         1               0   \n",
       "08200         tic18Net     23         1               1   \n",
       "86001         tic18Net     22         1               1   \n",
       "05999         tic18Net     24         2               0   \n",
       "06894         tic18Jav     29         2               1   \n",
       "06200         tic18Jav     23         2               0   \n",
       "86399         tic18Jav     24         2               0   \n",
       "05594         tic18Jav     29         3               0   \n",
       "05800         tic18Jav     23         2               0   \n",
       "\n",
       "                          Formação Específica  Andamento Graduação  \\\n",
       "Identificação Trilha                                                 \n",
       "06799         tic18Py   Ciência da Computação                  NaN   \n",
       "07100         tic18Py     Engenharia Elétrica                90.16   \n",
       "05996         tic18Py      Engenharia Química                81.38   \n",
       "07799         tic18Py      Engenharia Química                76.94   \n",
       "08099         tic18Py      Engenharia Química                75.58   \n",
       "08200         tic18Net  Ciência da Computação                66.00   \n",
       "86001         tic18Net  Ciência da Computação                66.00   \n",
       "05999         tic18Net    Engenharia Elétrica                99.00   \n",
       "06894         tic18Jav  Ciência da Computação                78.00   \n",
       "06200         tic18Jav    Engenharia Elétrica                72.00   \n",
       "86399         tic18Jav     Engenharia Química                70.16   \n",
       "05594         tic18Jav    Engenharia Mecânica                  NaN   \n",
       "05800         tic18Jav     Engenharia Química                80.00   \n",
       "\n",
       "                        Tempo Formação  Experiência em Programacao  \n",
       "Identificação Trilha                                                \n",
       "06799         tic18Py              1.0                        True  \n",
       "07100         tic18Py              NaN                        True  \n",
       "05996         tic18Py              NaN                        True  \n",
       "07799         tic18Py              NaN                        True  \n",
       "08099         tic18Py              NaN                        True  \n",
       "08200         tic18Net             NaN                        True  \n",
       "86001         tic18Net             NaN                        True  \n",
       "05999         tic18Net             NaN                        True  \n",
       "06894         tic18Jav             NaN                       False  \n",
       "06200         tic18Jav             NaN                       False  \n",
       "86399         tic18Jav             NaN                       False  \n",
       "05594         tic18Jav             4.0                       False  \n",
       "05800         tic18Jav             NaN                       False  "
      ]
     },
     "execution_count": 32,
     "metadata": {},
     "output_type": "execute_result"
    }
   ],
   "source": [
    "df = pd.DataFrame(tic18Py+tic18Net+tic18Jav,columns=colunas)\n",
    "df.set_index(colunas[0:2],inplace=True)\n",
    "df"
   ]
  },
  {
   "cell_type": "markdown",
   "metadata": {},
   "source": [
    "Coletado dados por trilha "
   ]
  },
  {
   "cell_type": "markdown",
   "metadata": {},
   "source": [
    "**PYTHON**"
   ]
  },
  {
   "cell_type": "code",
   "execution_count": 33,
   "metadata": {},
   "outputs": [
    {
     "name": "stdout",
     "output_type": "stream",
     "text": [
      "Idade Média da trilha = 24.4\n",
      "Idade Mínima =  23 o membro mais novo da trilha Python é: 07100\n",
      "Idade Máxima =  27 o membro mais velho da trilha Python é 05996\n"
     ]
    }
   ],
   "source": [
    "print(\"Idade Média da trilha =\",df.loc[pd.IndexSlice[:, 'tic18Py'], 'Idade'].mean())\n",
    "idadeMin = df.loc[pd.IndexSlice[:, 'tic18Py'], 'Idade'].idxmin()\n",
    "idadeMax = df.loc[pd.IndexSlice[:, 'tic18Py'], 'Idade'].idxmax()\n",
    "print(\"Idade Mínima = \",df.loc[idadeMin,'Idade'], \"o membro mais novo da trilha Python é:\", idadeMin[0])\n",
    "print(\"Idade Máxima = \",df.loc[idadeMax,'Idade'], \"o membro mais velho da trilha Python é\", idadeMax[0])"
   ]
  },
  {
   "cell_type": "code",
   "execution_count": 34,
   "metadata": {},
   "outputs": [
    {
     "name": "stdout",
     "output_type": "stream",
     "text": [
      "Técnicos = 3\n",
      "Graduandos = 4\n",
      "Graduados = 1\n"
     ]
    }
   ],
   "source": [
    "cont = df.loc[pd.IndexSlice[:,'tic18Py'], 'Formação'].value_counts()\n",
    "tecnicos = cont.get(0,0)+cont.get(1,0)\n",
    "graduandos = cont.get(1,0)+cont.get(2,0)\n",
    "graduados = cont.get(3,0)\n",
    "print(\"Técnicos =\", tecnicos)\n",
    "print(\"Graduandos =\", graduandos)\n",
    "print(\"Graduados =\", graduados)"
   ]
  },
  {
   "cell_type": "code",
   "execution_count": 35,
   "metadata": {},
   "outputs": [
    {
     "name": "stdout",
     "output_type": "stream",
     "text": [
      "Em computação tem =  1\n",
      "Em engenharia tem =  4\n"
     ]
    }
   ],
   "source": [
    "cont = df.loc[pd.IndexSlice[:,'tic18Py'], 'Formação Geral'].value_counts()\n",
    "computacao = cont.get(1,0)\n",
    "engenharia = cont.get(0,0)\n",
    "print(\"Em computação tem = \", computacao)\n",
    "print(\"Em engenharia tem = \", engenharia)"
   ]
  },
  {
   "cell_type": "markdown",
   "metadata": {},
   "source": [
    "**.NET**"
   ]
  },
  {
   "cell_type": "code",
   "execution_count": 36,
   "metadata": {},
   "outputs": [
    {
     "name": "stdout",
     "output_type": "stream",
     "text": [
      "Idade Média da trilha = 23.0\n",
      "Idade Mínima =  22 o membro mais novo da trilha python é: 86001\n",
      "Idade Máxima =  24 o membro mais velho da trilha python é 05999\n"
     ]
    }
   ],
   "source": [
    "print(\"Idade Média da trilha =\",df.loc[pd.IndexSlice[:, 'tic18Net'], 'Idade'].mean())\n",
    "idadeMin = df.loc[pd.IndexSlice[:, 'tic18Net'], 'Idade'].idxmin()\n",
    "idadeMax = df.loc[pd.IndexSlice[:, 'tic18Net'], 'Idade'].idxmax()\n",
    "print(\"Idade Mínima = \",df.loc[idadeMin,'Idade'], \"o membro mais novo da trilha python é:\", idadeMin[0])\n",
    "print(\"Idade Máxima = \",df.loc[idadeMax,'Idade'], \"o membro mais velho da trilha python é\", idadeMax[0])"
   ]
  },
  {
   "cell_type": "code",
   "execution_count": 37,
   "metadata": {},
   "outputs": [
    {
     "name": "stdout",
     "output_type": "stream",
     "text": [
      "Técnicos = 2\n",
      "Graduandos = 3\n",
      "Graduados = 0\n"
     ]
    }
   ],
   "source": [
    "cont = df.loc[pd.IndexSlice[:,'tic18Net'], 'Formação'].value_counts()\n",
    "tecnicos = cont.get(0,0)+cont.get(1,0)\n",
    "graduandos = cont.get(1,0)+cont.get(2,0)\n",
    "graduados = cont.get(3,0)\n",
    "print(\"Técnicos =\", tecnicos)\n",
    "print(\"Graduandos =\", graduandos)\n",
    "print(\"Graduados =\", graduados)"
   ]
  },
  {
   "cell_type": "code",
   "execution_count": 38,
   "metadata": {},
   "outputs": [
    {
     "name": "stdout",
     "output_type": "stream",
     "text": [
      "Em computação tem =  2\n",
      "Em engenharia tem =  1\n"
     ]
    }
   ],
   "source": [
    "cont = df.loc[pd.IndexSlice[:,'tic18Net'], 'Formação Geral'].value_counts()\n",
    "computacao = cont.get(1,0)\n",
    "engenharia = cont.get(0,0)\n",
    "print(\"Em computação tem = \", computacao)\n",
    "print(\"Em engenharia tem = \", engenharia)"
   ]
  },
  {
   "cell_type": "markdown",
   "metadata": {},
   "source": [
    "**JAVA**"
   ]
  },
  {
   "cell_type": "code",
   "execution_count": 39,
   "metadata": {},
   "outputs": [
    {
     "name": "stdout",
     "output_type": "stream",
     "text": [
      "Idade Média da trilha = 25.6\n",
      "Idade Mínima =  23 o membro mais novo da trilha Java é: 06200\n",
      "Idade Máxima =  29 o membro mais velho da trilha Java é 06894\n"
     ]
    }
   ],
   "source": [
    "print(\"Idade Média da trilha =\",df.loc[pd.IndexSlice[:, 'tic18Jav'], 'Idade'].mean())\n",
    "idadeMin = df.loc[pd.IndexSlice[:, 'tic18Jav'], 'Idade'].idxmin()\n",
    "idadeMax = df.loc[pd.IndexSlice[:, 'tic18Jav'], 'Idade'].idxmax()\n",
    "print(\"Idade Mínima = \",df.loc[idadeMin,'Idade'], \"o membro mais novo da trilha Java é:\", idadeMin[0])\n",
    "print(\"Idade Máxima = \",df.loc[idadeMax,'Idade'], \"o membro mais velho da trilha Java é\", idadeMax[0])"
   ]
  },
  {
   "cell_type": "code",
   "execution_count": 40,
   "metadata": {},
   "outputs": [
    {
     "name": "stdout",
     "output_type": "stream",
     "text": [
      "Técnicos = 0\n",
      "Graduandos = 4\n",
      "Graduados = 1\n"
     ]
    }
   ],
   "source": [
    "cont = df.loc[pd.IndexSlice[:,'tic18Jav'], 'Formação'].value_counts()\n",
    "tecnicos = cont.get(0,0)+cont.get(1,0)\n",
    "graduandos = cont.get(1,0)+cont.get(2,0)\n",
    "graduados = cont.get(3,0)\n",
    "print(\"Técnicos =\", tecnicos)\n",
    "print(\"Graduandos =\", graduandos)\n",
    "print(\"Graduados =\", graduados)"
   ]
  },
  {
   "cell_type": "code",
   "execution_count": 41,
   "metadata": {},
   "outputs": [
    {
     "name": "stdout",
     "output_type": "stream",
     "text": [
      "Em computação tem =  1\n",
      "Em engenharia tem =  4\n"
     ]
    }
   ],
   "source": [
    "cont = df.loc[pd.IndexSlice[:, 'tic18Jav'], 'Formação Geral'].value_counts()\n",
    "computacao = cont.get(1,0)\n",
    "engenharia = cont.get(0,0)\n",
    "print(\"Em computação tem = \", computacao)\n",
    "print(\"Em engenharia tem = \", engenharia)"
   ]
  }
 ],
 "metadata": {
  "kernelspec": {
   "display_name": "TrilhaPython",
   "language": "python",
   "name": "python3"
  },
  "language_info": {
   "codemirror_mode": {
    "name": "ipython",
    "version": 3
   },
   "file_extension": ".py",
   "mimetype": "text/x-python",
   "name": "python",
   "nbconvert_exporter": "python",
   "pygments_lexer": "ipython3",
   "version": "3.11.5"
  }
 },
 "nbformat": 4,
 "nbformat_minor": 2
}
