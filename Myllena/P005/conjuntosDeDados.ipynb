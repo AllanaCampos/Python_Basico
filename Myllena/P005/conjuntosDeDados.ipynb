{
 "cells": [
  {
   "cell_type": "code",
   "execution_count": 2,
   "metadata": {},
   "outputs": [
    {
     "ename": "ModuleNotFoundError",
     "evalue": "No module named 'pandas'",
     "output_type": "error",
     "traceback": [
      "\u001b[1;31m---------------------------------------------------------------------------\u001b[0m",
      "\u001b[1;31mModuleNotFoundError\u001b[0m                       Traceback (most recent call last)",
      "Cell \u001b[1;32mIn[2], line 1\u001b[0m\n\u001b[1;32m----> 1\u001b[0m \u001b[38;5;28;01mimport\u001b[39;00m \u001b[38;5;21;01mpandas\u001b[39;00m \u001b[38;5;28;01mas\u001b[39;00m \u001b[38;5;21;01mpd\u001b[39;00m\n\u001b[0;32m      2\u001b[0m \u001b[38;5;28;01mimport\u001b[39;00m \u001b[38;5;21;01mnumpy\u001b[39;00m \u001b[38;5;28;01mas\u001b[39;00m \u001b[38;5;21;01mnp\u001b[39;00m \n\u001b[0;32m      3\u001b[0m \u001b[38;5;28mprint\u001b[39m(pd\u001b[38;5;241m.\u001b[39m__version__ )\n",
      "\u001b[1;31mModuleNotFoundError\u001b[0m: No module named 'pandas'"
     ]
    }
   ],
   "source": [
    "import pandas as pd\n",
    "import numpy as np \n",
    "print(pd.__version__ )\n",
    "print(np.__version__ )"
   ]
  },
  {
   "cell_type": "markdown",
   "metadata": {},
   "source": [
    "Criando conjuntos de dados para analizar, em ordem alfabetica do grupo."
   ]
  },
  {
   "cell_type": "code",
   "execution_count": 2,
   "metadata": {},
   "outputs": [],
   "source": [
    "id = [\"tic18Py06799\",\"tic18Py07100\",\"tic18Py08099\",\"tic18Py07799\",\"tic18Py05996\"]\n",
    "idade = [24,23,24,24,27]\n",
    "formacao = [3,2,2,2,1]\n",
    "formacaoGeral = [1,0,0,0,0]\n",
    "formacaoEspecifica =[\"Ciência da Computação\", \"Engenharia Elétrica\", \"Engenharia Química\", \"Engenharia Química\", \"Engenharia Química\"]\n",
    "andamentoGraduacao = [None,90.16,75.58,76.94,81.38]\n",
    "tempoFormacao = [1,None,None,None,None]\n",
    "experiencciaPrevia = [True,True,True,True,True]\n"
   ]
  },
  {
   "cell_type": "markdown",
   "metadata": {},
   "source": [
    "Criando objeto Index a partir da lista anterior."
   ]
  },
  {
   "cell_type": "code",
   "execution_count": 3,
   "metadata": {},
   "outputs": [],
   "source": [
    "index = pd.Index(id)\n",
    "idades = pd.Series(idade,index=index)\n",
    "formacoes = pd.Series(formacao,index=index)\n",
    "formacoesGerais = pd.Series(formacaoGeral,index=index)"
   ]
  }
 ],
 "metadata": {
  "kernelspec": {
   "display_name": "TrilhaPython",
   "language": "python",
   "name": "python3"
  },
  "language_info": {
   "codemirror_mode": {
    "name": "ipython",
    "version": 3
   },
   "file_extension": ".py",
   "mimetype": "text/x-python",
   "name": "python",
   "nbconvert_exporter": "python",
   "pygments_lexer": "ipython3",
   "version": "3.10.13"
  }
 },
 "nbformat": 4,
 "nbformat_minor": 2
}
