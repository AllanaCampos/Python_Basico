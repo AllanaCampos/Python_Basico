{
 "cells": [
  {
   "cell_type": "code",
   "execution_count": null,
   "metadata": {},
   "outputs": [],
   "source": [
    "import pandas as pd\n",
    "import numpy as np \n",
    "print(pd.__version__ )\n",
    "print(np.__version__ )"
   ]
  },
  {
   "cell_type": "markdown",
   "metadata": {},
   "source": [
    "Criando conjuntos de dados para analizar, em ordem alfabetica do grupo."
   ]
  },
  {
   "cell_type": "code",
   "execution_count": null,
   "metadata": {},
   "outputs": [],
   "source": [
    "id = [\"tic18Py06799\",\"tic18Py07100\",\"tic18Py08099\",\"tic18Py07799\",\"tic18Py05996\"]\n",
    "idade = [24,23,24,24,27]\n",
    "formacao = [3,2,2,2,1]\n",
    "formacaoGeral = [1,0,0,0,0]\n",
    "formacaoEspecifica =[\"Ciência da Computação\", \"Engenharia Elétrica\", \"Engenharia Química\", \"Engenharia Química\", \"Engenharia Química\"]\n",
    "andamentoGraduacao = [None,90.16,75.58,76.94,81.38]\n",
    "tempoFormacao = [1,None,None,None,None]\n",
    "experienciaPrevia = [True,True,True,True,True]\n"
   ]
  },
  {
   "cell_type": "markdown",
   "metadata": {},
   "source": [
    "Criando objeto Index a partir da lista anterior."
   ]
  },
  {
   "cell_type": "code",
   "execution_count": 3,
   "metadata": {},
   "outputs": [],
   "source": [
    "index = pd.Index(id)\n",
    "idades = pd.Series(idade,index=index)\n",
    "formacoes = pd.Series(formacao,index=index)\n",
    "formacoesGerais = pd.Series(formacaoGeral,index=index)\n",
    "formacoesEspecificas = pd.Series(formacaoEspecifica,index=index)\n",
    "andamentoGraduacoes = pd.Series(andamentoGraduacao,index=index)\n",
    "tempoFormacoes = pd.Series(tempoFormacao,index=index)\n",
    "experienciaPrevias = pd.Series(experienciaPrevia,index=index)"
   ]
  },
  {
   "cell_type": "markdown",
   "metadata": {},
   "source": [
    "Determinando Idade Média da equipe"
   ]
  },
  {
   "cell_type": "code",
   "execution_count": null,
   "metadata": {},
   "outputs": [],
   "source": [
    "print(\"Idade Média da Equipe é =\",idades.mean())\n",
    "idadeMin = idades.idxmin()\n",
    "idadeMax = idades.idxmax()\n",
    "print(\"Idade minima = \",idades[idadeMin], \"membro mais novo da equipe é: \", idadeMin)\n",
    "print(\"Idade máxima = \",idades[idadeMax], \"membro mais velho da equipe é: \", idadeMax)"
   ]
  },
  {
   "cell_type": "markdown",
   "metadata": {},
   "source": [
    "Perfil de formação, predominante técnico, graduando ou graduados."
   ]
  },
  {
   "cell_type": "code",
   "execution_count": null,
   "metadata": {},
   "outputs": [],
   "source": [
    "cont = formacoes.value_counts()\n",
    "tecnicos = cont.get(0,0)+cont.get(1,0)\n",
    "graduandos = cont.get(1,0)+cont.get(2,0)\n",
    "graduados = cont.get(3,0)\n",
    "print(\"Técnicos =\", tecnicos)\n",
    "print(\"Técnicos =\", tecnicos)\n",
    "print(\"Técnicos =\", tecnicos)"
   ]
  }
 ],
 "metadata": {
  "kernelspec": {
   "display_name": "TrilhaPython",
   "language": "python",
   "name": "python3"
  },
  "language_info": {
   "codemirror_mode": {
    "name": "ipython",
    "version": 3
   },
   "file_extension": ".py",
   "mimetype": "text/x-python",
   "name": "python",
   "nbconvert_exporter": "python",
   "pygments_lexer": "ipython3",
   "version": "3.11.5"
  }
 },
 "nbformat": 4,
 "nbformat_minor": 2
}
