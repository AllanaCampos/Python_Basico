{
 "cells": [
  {
   "cell_type": "code",
   "execution_count": 1,
   "metadata": {},
   "outputs": [
    {
     "name": "stdout",
     "output_type": "stream",
     "text": [
      "2.0.3\n",
      "1.24.3\n"
     ]
    }
   ],
   "source": [
    "import pandas as pd\n",
    "import numpy as np \n",
    "print(pd.__version__ )\n",
    "print(np.__version__ )"
   ]
  },
  {
   "cell_type": "markdown",
   "metadata": {},
   "source": [
    "**Exercício 1**"
   ]
  },
  {
   "cell_type": "markdown",
   "metadata": {},
   "source": [
    "Criando conjuntos de dados para analizar, em ordem alfabetica do grupo."
   ]
  },
  {
   "cell_type": "code",
   "execution_count": 13,
   "metadata": {},
   "outputs": [],
   "source": [
    "identificador = [\"tic18Py06799\",\"tic18Py07100\",\"tic18Py08099\",\"tic18Py07799\",\"tic18Py05996\"]\n",
    "idade = [24,23,24,24,27]\n",
    "formacao = [3,2,2,2,1]\n",
    "formacaoGeral = [1,0,0,0,0]\n",
    "formacaoEspecifica =[\"Ciência da Computação\", \"Engenharia Elétrica\", \"Engenharia Química\", \"Engenharia Química\", \"Engenharia Química\"]\n",
    "andamentoGraduacao = [None,90.16,75.58,76.94,81.38]\n",
    "tempoFormacao = [1,None,None,None,None]\n",
    "experienciaPrevia = [True,True,True,True,True]\n"
   ]
  },
  {
   "cell_type": "markdown",
   "metadata": {},
   "source": [
    "**Exercício 2**"
   ]
  },
  {
   "cell_type": "markdown",
   "metadata": {},
   "source": [
    "Criando objeto Index a partir da lista anterior."
   ]
  },
  {
   "cell_type": "code",
   "execution_count": 14,
   "metadata": {},
   "outputs": [],
   "source": [
    "index = pd.Index(identificador)\n",
    "idades = pd.Series(idade,index=index)\n",
    "formacoes = pd.Series(formacao,index=index)\n",
    "formacoesGerais = pd.Series(formacaoGeral,index=index)\n",
    "formacoesEspecificas = pd.Series(formacaoEspecifica,index=index)\n",
    "andamentoGraduacoes = pd.Series(andamentoGraduacao,index=index)\n",
    "tempoFormacoes = pd.Series(tempoFormacao,index=index)\n",
    "experienciaPrevias = pd.Series(experienciaPrevia,index=index)"
   ]
  },
  {
   "cell_type": "markdown",
   "metadata": {},
   "source": [
    "Determinando Idade Média da equipe."
   ]
  },
  {
   "cell_type": "code",
   "execution_count": 15,
   "metadata": {},
   "outputs": [
    {
     "name": "stdout",
     "output_type": "stream",
     "text": [
      "Idade Média da Equipe é = 24.4\n",
      "Idade minima =  23 o membro mais novo da equipe é:  tic18Py07100\n",
      "Idade máxima =  27 o membro mais velho da equipe é:  tic18Py05996\n"
     ]
    }
   ],
   "source": [
    "print(\"Idade Média da Equipe é =\",idades.mean())\n",
    "idadeMin = idades.idxmin()\n",
    "idadeMax = idades.idxmax()\n",
    "print(\"Idade minima = \",idades[idadeMin], \"o membro mais novo da equipe é: \", idadeMin)\n",
    "print(\"Idade máxima = \",idades[idadeMax], \"o membro mais velho da equipe é: \", idadeMax)"
   ]
  },
  {
   "cell_type": "markdown",
   "metadata": {},
   "source": [
    "Perfil de formação, predominante técnico, graduando ou graduados."
   ]
  },
  {
   "cell_type": "code",
   "execution_count": 16,
   "metadata": {},
   "outputs": [
    {
     "name": "stdout",
     "output_type": "stream",
     "text": [
      "Técnicos = 1\n",
      "Graduandos = 4\n",
      "Graduados = 1\n",
      "Logo, o perfil predominante da equipe é graduandos.\n"
     ]
    }
   ],
   "source": [
    "cont = formacoes.value_counts()\n",
    "tecnicos = cont.get(0,0)+cont.get(1,0)\n",
    "graduandos = cont.get(1,0)+cont.get(2,0)\n",
    "graduados = cont.get(3,0)\n",
    "print(\"Técnicos =\", tecnicos)\n",
    "print(\"Graduandos =\", graduandos)\n",
    "print(\"Graduados =\", graduados)\n",
    "print(\"Logo, o perfil predominante da equipe é graduandos.\")"
   ]
  },
  {
   "cell_type": "markdown",
   "metadata": {},
   "source": [
    "Formação marjoritária."
   ]
  },
  {
   "cell_type": "code",
   "execution_count": 17,
   "metadata": {},
   "outputs": [
    {
     "name": "stdout",
     "output_type": "stream",
     "text": [
      "Em computação tem =  1\n",
      "Em engenharia tem =  4\n"
     ]
    }
   ],
   "source": [
    "cont = formacoesGerais.value_counts()\n",
    "computacao = cont.get(1,0)\n",
    "engenharia = cont.get(0,0)\n",
    "print(\"Em computação tem = \", computacao)\n",
    "print(\"Em engenharia tem = \", engenharia)"
   ]
  },
  {
   "cell_type": "markdown",
   "metadata": {},
   "source": [
    "**Exercício 3**"
   ]
  },
  {
   "cell_type": "markdown",
   "metadata": {},
   "source": [
    "Criando DataFrame\n"
   ]
  },
  {
   "cell_type": "code",
   "execution_count": 19,
   "metadata": {},
   "outputs": [
    {
     "data": {
      "text/html": [
       "<div>\n",
       "<style scoped>\n",
       "    .dataframe tbody tr th:only-of-type {\n",
       "        vertical-align: middle;\n",
       "    }\n",
       "\n",
       "    .dataframe tbody tr th {\n",
       "        vertical-align: top;\n",
       "    }\n",
       "\n",
       "    .dataframe thead th {\n",
       "        text-align: right;\n",
       "    }\n",
       "</style>\n",
       "<table border=\"1\" class=\"dataframe\">\n",
       "  <thead>\n",
       "    <tr style=\"text-align: right;\">\n",
       "      <th></th>\n",
       "      <th>Idade</th>\n",
       "      <th>Formação</th>\n",
       "      <th>Formação Geral</th>\n",
       "      <th>Formação Específica</th>\n",
       "      <th>Andamento da Graduação</th>\n",
       "      <th>Experiência com Progamação</th>\n",
       "    </tr>\n",
       "  </thead>\n",
       "  <tbody>\n",
       "    <tr>\n",
       "      <th>tic18Py06799</th>\n",
       "      <td>24</td>\n",
       "      <td>3</td>\n",
       "      <td>1</td>\n",
       "      <td>Ciência da Computação</td>\n",
       "      <td>NaN</td>\n",
       "      <td>True</td>\n",
       "    </tr>\n",
       "    <tr>\n",
       "      <th>tic18Py07100</th>\n",
       "      <td>23</td>\n",
       "      <td>2</td>\n",
       "      <td>0</td>\n",
       "      <td>Engenharia Elétrica</td>\n",
       "      <td>90.16</td>\n",
       "      <td>True</td>\n",
       "    </tr>\n",
       "    <tr>\n",
       "      <th>tic18Py08099</th>\n",
       "      <td>24</td>\n",
       "      <td>2</td>\n",
       "      <td>0</td>\n",
       "      <td>Engenharia Química</td>\n",
       "      <td>75.58</td>\n",
       "      <td>True</td>\n",
       "    </tr>\n",
       "    <tr>\n",
       "      <th>tic18Py07799</th>\n",
       "      <td>24</td>\n",
       "      <td>2</td>\n",
       "      <td>0</td>\n",
       "      <td>Engenharia Química</td>\n",
       "      <td>76.94</td>\n",
       "      <td>True</td>\n",
       "    </tr>\n",
       "    <tr>\n",
       "      <th>tic18Py05996</th>\n",
       "      <td>27</td>\n",
       "      <td>1</td>\n",
       "      <td>0</td>\n",
       "      <td>Engenharia Química</td>\n",
       "      <td>81.38</td>\n",
       "      <td>True</td>\n",
       "    </tr>\n",
       "  </tbody>\n",
       "</table>\n",
       "</div>"
      ],
      "text/plain": [
       "              Idade  Formação  Formação Geral    Formação Específica  \\\n",
       "tic18Py06799     24         3               1  Ciência da Computação   \n",
       "tic18Py07100     23         2               0    Engenharia Elétrica   \n",
       "tic18Py08099     24         2               0     Engenharia Química   \n",
       "tic18Py07799     24         2               0     Engenharia Química   \n",
       "tic18Py05996     27         1               0     Engenharia Química   \n",
       "\n",
       "              Andamento da Graduação  Experiência com Progamação  \n",
       "tic18Py06799                     NaN                        True  \n",
       "tic18Py07100                   90.16                        True  \n",
       "tic18Py08099                   75.58                        True  \n",
       "tic18Py07799                   76.94                        True  \n",
       "tic18Py05996                   81.38                        True  "
      ]
     },
     "execution_count": 19,
     "metadata": {},
     "output_type": "execute_result"
    }
   ],
   "source": [
    "dados = {'Idade' :idade, 'Formação' :formacao, \n",
    "         'Formação Geral':formacaoGeral, 'Formação Específica':formacaoEspecifica, \n",
    "         'Andamento da Graduação':andamentoGraduacao, 'Experiência com Progamação':experienciaPrevia}\n",
    "df = pd.DataFrame(dados,index=identificador)\n",
    "df"
   ]
  }
 ],
 "metadata": {
  "kernelspec": {
   "display_name": "TrilhaPython",
   "language": "python",
   "name": "python3"
  },
  "language_info": {
   "codemirror_mode": {
    "name": "ipython",
    "version": 3
   },
   "file_extension": ".py",
   "mimetype": "text/x-python",
   "name": "python",
   "nbconvert_exporter": "python",
   "pygments_lexer": "ipython3",
   "version": "3.11.5"
  }
 },
 "nbformat": 4,
 "nbformat_minor": 2
}
