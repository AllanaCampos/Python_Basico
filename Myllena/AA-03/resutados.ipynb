{
 "cells": [
  {
   "cell_type": "markdown",
   "metadata": {},
   "source": [
    "## Exercício 1\n",
    "\n",
    "__Primeiro protótipo__: Desenvolva uma interface gráfica que pegue, em tempo real, as informações sobre os dados de quais anos estão disponíveis no site do [Instituto Nacional de Meteorologia](https://portal.inmet.gov.br/dadoshistoricos). Os anos disponíveis devem ser apresentados utilizando um widget apropriado que permita selecionar um, e apenas um ano. Se não tiver conexão a Internet ou se o site não estiver disponível o aplicativo deve mostrar uma mensagem de erro na interface.\n"
   ]
  },
  {
   "cell_type": "markdown",
   "metadata": {},
   "source": [
    "### Criado requisição e manipulação dos dados da web\n",
    "Foi criado a classe Coleta dados. Para criar a requisição para acessar esses dados foi utilizado os pacotes __requests__  e __BeautifulSoup__ posteriormente agrupou os anos disponiveis e os links de cada ano para o donwload dos arquivos.\n",
    "\n",
    "\n"
   ]
  },
  {
   "cell_type": "code",
   "execution_count": null,
   "metadata": {},
   "outputs": [],
   "source": [
    "import requests\n",
    "from bs4 import BeautifulSoup\n",
    "\n",
    "class ColetaDados():\n",
    "    def __init__(self):\n",
    "        self._anosLinks = []\n",
    "\n",
    "        headers = {\n",
    "            'User-Agent': 'Mozilla/5.0 (Windows NT 10.0; Win64; x64) AppleWebKit/537.36 (KHTML, like Gecko) Chrome/58.0.3029.110 Safari/537.3'\n",
    "        }\n",
    "        \n",
    "        # CRIANDO A REQUISIÇÃO PARA ACESSAR OS DADOS\n",
    "        try:\n",
    "            resposta = requests.get(\"https://portal.inmet.gov.br/dadoshistoricos\", headers=headers)\n",
    "\n",
    "\n",
    "        # COLETANDO INFORMAÇÕES DO SITE PEGANDO HTML DO SITE EM FORMA DE TEXTO\n",
    "            html = BeautifulSoup(resposta.text, 'html.parser')\n",
    "        \n",
    "        \n",
    "        # MOSTRANDO A PRIMEIRA TAG DO HTML ARTICLE CHAMADA ARTICLE\n",
    "        # FIND_ALL PEGA TODOS (\"ARTICLE\") DO SITE\n",
    "            articlesTag = html.find_all('article')\n",
    "\n",
    "\n",
    "        # INTERAÇÃO PARA CADA ELEMENTO ARTICLE DA PAGINA\n",
    "        ## find REALIZA UM METODO DE PESQUISA QUE PESQUISA POR TAG (a) E ACESSA (href)\n",
    "            for article in articlesTag:\n",
    "                link = article.find('a')[\"href\"]\n",
    "        \n",
    "        \n",
    "        # REALIZA OUTRA PESQUISA DIVIDINDO A STRING COM O METODO split e acessa a segunda posição [1]\n",
    "                ano = article.find('a').string.split(\" \")[1]\n",
    "                \n",
    "                \n",
    "        # CRIA UM DICIONARIO DE ANO E LINK E ADICIONA A LISTA ANOSLINKS\n",
    "                self._anosLinks.append({\"ano\":ano,\"link\":link})\n",
    "        except:\n",
    "            pass\n",
    "        \n",
    "# EXEMPLO \n",
    "dados = ColetaDados()\n",
    "for i in dados._anosLinks:\n",
    "    print(f\"{i['ano']}, {i['link']}\")"
   ]
  },
  {
   "cell_type": "markdown",
   "metadata": {},
   "source": [
    "Protopito 01"
   ]
  },
  {
   "cell_type": "code",
   "execution_count": null,
   "metadata": {},
   "outputs": [],
   "source": [
    "%run -m prototipo1 ;"
   ]
  },
  {
   "cell_type": "markdown",
   "metadata": {},
   "source": [
    "## Exercício 2\n",
    "\n",
    "__Segundo protótipo__: Com base no ano escolhido sua aplicação deve baixar o arquivo compactado, com os dados de todas as estações, descompactar ele numa pasta temporária e mostrar em um outro widget a lista de estações disponíveis para selecionar uma e apenas uma delas. O widget do protótipo anterior deve ficar disponível para que o usuário possa trocar o ano se desejar. Nesse caso um novo arquivo será baixado e descompactado e as estações disponíveis exibidas para seleção."
   ]
  },
  {
   "cell_type": "markdown",
   "metadata": {},
   "source": [
    "### Donwload e descompactação dos arquivos .zip\n",
    "Para realizar o donwload Na __classe ColetaDados__ foi utilizada para realizar o donwload na mesma além disso, o  novo atributo __path__ foi implementado que é referente ao caminho de download.\n",
    "\n",
    "\n",
    "-> O pacote __os__ foi utilizado para verificar se o arquivo ja foi baixado anteriormente e para criar a pasta que receberá os donwloads caso a mesma não tenha sido criada antes. \n",
    "\n",
    "\n",
    "-> O pacote __wget__ foi utilizado para realizar o donwload do arquivo csv recebendo o link do donwload como parametro.\n",
    "\n",
    "\n",
    "-> O pacote __zipfile__ é reponsavel por descompactar o arquivo zip em uma subpasta com o nome do ano.\n",
    "\n",
    "\n",
    "-> A função __getEstacoes__ rebece um ano como parametro e busca todos os arquivos contidos na pasta com o nome do ano e retorna uma lista de dicionarios com o nome e caminho de cada estação.\n",
    "\n"
   ]
  },
  {
   "cell_type": "code",
   "execution_count": null,
   "metadata": {},
   "outputs": [],
   "source": [
    "import requests\n",
    "from bs4 import BeautifulSoup\n",
    "import wget\n",
    "import zipfile\n",
    "import os\n",
    "\n",
    "class ColetaDados():\n",
    "    def __init__(self):\n",
    "        self._anosLinks = []\n",
    "        self._path=\"./prototipo2Donwloads/\"\n",
    "\n",
    "        if not os.path.exists(self._path):\n",
    "            os.makedirs(self._path)\n",
    "        \n",
    "        headers = {\n",
    "            'User-Agent': 'Mozilla/5.0 (Windows NT 10.0; Win64; x64) AppleWebKit/537.36 (KHTML, like Gecko) Chrome/58.0.3029.110 Safari/537.3'\n",
    "        }\n",
    "        try:\n",
    "            resposta = requests.get(\"https://portal.inmet.gov.br/dadoshistoricos\", headers=headers)\n",
    "\n",
    "        \n",
    "\n",
    "            html = BeautifulSoup(resposta.text, 'html.parser')\n",
    "        \n",
    "            articlesTag = html.find_all('article')\n",
    "\n",
    "\n",
    "            for article in articlesTag:\n",
    "                link = article.find('a')[\"href\"]\n",
    "                \n",
    "                ano = article.find('a').string.split(\" \")[1]\n",
    "                self._anosLinks.append({\"ano\":ano,\"link\":link})\n",
    "        except:\n",
    "            pass\n",
    "\n",
    "    \n",
    "# FUNÇÃO QUE RETORNA AS DADOS CONTIDO NA LISTA anosLinks\n",
    "    def getDados(self):\n",
    "        return self._anosLinks\n",
    "# FUNÇÃO QUE RETORNA AO VALOR DO ATRIBUTO path (execultáveis)\n",
    "    def getPath(self):\n",
    "        return self._path\n",
    "        \n",
    "        \n",
    "# REALIZA O DONWLOAD DO ARQUIVO .ZIP\n",
    "    def donwloadCSV(dado,path):\n",
    "        \n",
    "        \n",
    "# ACESSANDO O VALOR DA CHAVE ANO E LINK DO DICIONÁRIO DADO E ATRIBUI A VÁRIAVEL\n",
    "        ano = dado[\"ano\"]\n",
    "        link = dado[\"link\"]\n",
    "\n",
    "\n",
    "#CRIA O CAMINHO COMPLETO PARA BAIXAR O ZIP\n",
    "## os.path.join CONCATENA AS PARTES DO CAMINHO DE FORMA CORRETA\n",
    "\n",
    "        pathArquivo = os.path.join(path, ano + \".zip\")\n",
    "\n",
    "# VERIFICANDO SE O O ARQUIVO ZIP JA EXISTE NA PASTA\n",
    "        if  not ano+\".zip\" in os.listdir(path):\n",
    "            wget.download(link,pathArquivo)\n",
    "            \n",
    "# ZipFile É USADO PARA ABRIR O ARQUIVO ZIP EM MODO DE LEITURA\n",
    "            with zipfile.ZipFile(pathArquivo,\"r\") as zip:\n",
    "                \n",
    "                # VERIFICA O NOME DO ARQUIVO É O MESMO DO ANO SE SIM, EXTRAI OS ARQUIVOS NA PASTA\n",
    "                if  zip.namelist()[0].split(\"/\")[0] == ano:\n",
    "                    zip.extractall(path)\n",
    "                else:\n",
    "                    zip.extractall(path+\"/\"+ano+\"/\")\n",
    "    \n",
    "# FUNÇÃO QUE EXTRAI AS INFORMAÇÕES SOBRE AS ESTAÇÕES METEOROLOGICAS DOS ARQUIVOS CRIADOS NA PASTA\n",
    "    def getEstacoes(ano,path):\n",
    "        estacoes = []\n",
    "        try:\n",
    "            # LISTANDO TODOS PS ARQUIVOS DENTRO DA PASTA\n",
    "            files = os.listdir(path+ano+\"/\")\n",
    "            for file in files:\n",
    "                \n",
    "                # CRIANDO UM DICIONÁRIO QUE CONTEM AS ESTAÇÕES E O CAMINHO CORRETO DO ARQUIVO\n",
    "                estacoes.append({\n",
    "                    \"estação\":file.split(\"_\")[4],\n",
    "                    \"path\": os.path.join(path,ano, file)})\n",
    "        except Exception:\n",
    "            print(f\"Não há dados de estações baixadas para o ano {ano}\")\n",
    "\n",
    "        return estacoes\n",
    "\n",
    "\n",
    "#EXEMPLO\n",
    "# #INTERAGE COM O USUARIO PARA SELECIONAR UM ANO E BAIXAR O CSV CORRESPONDENTE E EXTRAI AS INFORMAÇÕES.\n",
    "dados = ColetaDados()\n",
    "i = int(input(f\"Digite um valor entre {0} e {len(dados._anosLinks)-1} para selecionar o ano\"))\n",
    "ColetaDados.donwloadCSV(dados._anosLinks[i], dados._path)\n",
    "estacoes = ColetaDados.getEstacoes(dados._anosLinks[i]['ano'],dados._path)\n",
    "for j,k in enumerate(estacoes):\n",
    "    print(f\"{j}: \\testação: {k['estação']},    csv path: {k['path']}\")"
   ]
  },
  {
   "cell_type": "markdown",
   "metadata": {},
   "source": [
    "Protopito 02"
   ]
  },
  {
   "cell_type": "code",
   "execution_count": null,
   "metadata": {},
   "outputs": [],
   "source": [
    "%run -m prototipo2 ;"
   ]
  },
  {
   "cell_type": "markdown",
   "metadata": {},
   "source": [
    "# Exercício 3\n",
    "\n",
    "__Terceiro protótipo__: Com base na estação selecionada gere e exiba dentro da aplicação os gráficos de precipitações e temperaturas medias mensais para a estação selecionada. A interface deve permitir que o usuário troque a estação selecionada a qualquer momento, assim como foi feito co o ano, gerando novos gráficos.   "
   ]
  },
  {
   "cell_type": "markdown",
   "metadata": {},
   "source": [
    "### Gerando graficos\n",
    "Para a geração de graficos foi criada a classe __VerificacaoDeDados__ que em seu construtor recebe como parametro o caminho para o arquivo csv\n",
    "O mesmo tambem é responsavel por criar uma Pandas.DataFrame com caminho do csv e fazer o primeiro tratamento, garantindo que o DataFrame seja padronizado observando as principais discrepancias entre os CSVs.\n",
    "A classe tambem conta com um metodo filtraDados que filtra os dados que foram preenchidos com valor muito grande\n",
    "\n",
    "\n",
    "Conta com o metodo __geraGraficos__ que gera os graficos de média da temperatura mensal e precipitação acumulada mensal e retorna o __GCF__ que serve como parametro para a integração com a interface\n",
    "Para tornar o processo mais comodo e evitar que a interface tenha uma  instancia da classe __AnaliseDeDados__ como parametro foi desenvolvida a função __plotGraficos__ que internamente cria uma instancia da clase __AnaliseDeDados__, filtra os dados, gera o grafico e retorna o __GCF__"
   ]
  },
  {
   "cell_type": "code",
   "execution_count": null,
   "metadata": {},
   "outputs": [],
   "source": [
    "import pandas as pd\n",
    "from numpy import nan\n",
    "import matplotlib.pyplot as plt\n",
    "\n",
    "class VerificacoDeDados():\n",
    "    \n",
    "     # CLASSE PARA ABRIR O ARQUIVO CSV, TRANSFORMAR EM UM DATA FRAME DO PANDAS, FILTRAR DADOS E PLOTAR P GRÁFICO \n",
    "\n",
    "    def __init__(self,csv):\n",
    "      \n",
    "       # CONSTRUTOR DA CLASSE QUE RECEBE O CAINHO DO CSV COMO PARAMETRO\n",
    "       #RENOMEIA O TITULO DO DATA FRAME\n",
    "        \n",
    "        self._df = pd.read_csv(csv, encoding='iso-8859-1', decimal=',', delimiter=';', skiprows=8)\n",
    "        self._df.rename({\"DATA (YYYY-MM-DD)\":\"Data\",\"HORA (UTC)\":\"Hora\",\"Hora UTC\":\"Hora\"},axis=1,inplace=True)\n",
    "        self._df.index = pd.DatetimeIndex(self._df[\"Data\"]+\" \"+self._df[\"Hora\"], name=\"DATA\")\n",
    "\n",
    "\n",
    "    # FUNÇÃO QUE FILTRA OS DADOS PRENCHIDOS DE MODO A REPRESENTAR OS DADOS FALTANTE\n",
    "    def filtraDados(self):\n",
    "       \n",
    "        # LOCALIZANDO AS LINHAS DO VALOR ABSOLUTO SEJA MAIOR QUE 1000 E SUBSTITUINDO POR NAN\n",
    "        self._df.loc[self._df[\"PRECIPITAÇÃO TOTAL, HORÁRIO (mm)\"].abs() > 1000, \"PRECIPITAÇÃO TOTAL, HORÁRIO (mm)\"] = nan\n",
    "        self._df.loc[self._df[\"TEMPERATURA DO PONTO DE ORVALHO (°C)\"].abs() > 1000, \"TEMPERATURA DO AR - BULBO SECO, HORARIA (°C)\"] = nan\n",
    "    \n",
    "    # FUNÇÃO RESPONSÁVEL POR GERAR OS GRAFICOS DA TEMPERATURA SELECIONADA E DE PRECIPITAÇÃO MEDIA MENSAL\n",
    "    def geraGraficos(self):\n",
    "\n",
    "        plt.clf()\n",
    "        plt.subplot(2,1,1)\n",
    "        \n",
    "        # CALCULANDO A MÉDIA MENSAL DA TEMPERATURA DO AR E DA PRECIPITAÇÃO PLOTANDO O GRAFICO AO LONGO DOS MESES\n",
    "        self._df.groupby(self._df.index.month)[\"TEMPERATURA DO AR - BULBO SECO, HORARIA (°C)\"].mean().plot(\n",
    "            ylabel=\"TEMPERATURA (°C)\",\n",
    "            xlabel=\"MÊS\",\n",
    "            title=\"TEMPERATURA DO AR - BULBO SECO, HORARIA (°C)\",\n",
    "            marker=\"s\")\n",
    "        plt.grid()\n",
    "        plt.subplot(2,1,2)\n",
    "        # CALCULA O ACUMULADO DA PRECIPITAÇÃO\n",
    "        self._df.groupby(self._df.index.month)[\"PRECIPITAÇÃO TOTAL, HORÁRIO (mm)\"].sum().plot(\n",
    "            ylabel=\"PRECIPITAÇÃO (mm)\",\n",
    "            xlabel=\"MÊS\",\n",
    "            title=\"PRECIPITAÇÃO MÉDIA MENSAL \",\n",
    "            marker=\"s\")\n",
    "        plt.grid()\n",
    "        plt.subplots_adjust(wspace=1,hspace=1)\n",
    "        \n",
    "        #RETONA PARA GCF QUE SERVE PARA INTERAÇÃO COM A INTERFACE\n",
    "        return plt.gcf()\n",
    "    \n",
    "    \n",
    "    # REALIZA O PROCESSO DE ANÁLISE E GERAÇÃO DE GRÁFICO DO ARQUIVO CSV\n",
    "    def plotGrafico(csv):\n",
    "        # CRIANDO INSTÂNCIA PARA FILTRAR DADOS DO CSV\n",
    "        grafico = VerificacoDeDados(csv)\n",
    "        grafico.filtraDados()\n",
    "        return grafico.geraGraficos()\n",
    "\n",
    "#EXEMPLO\n",
    "# CRIANDO INSTANCIA DADOS PARA COLETAR E BAIXAR DADOS DO CSV\n",
    "dados = ColetaDados()\n",
    "i = int(input(f\"Digite um valor entre {0} e {len(dados._anosLinks)-1} para selecionar o ano\"))\n",
    "ColetaDados.donwloadCSV(dados._anosLinks[i], dados._path)\n",
    "estacoes = ColetaDados.getEstacoes(dados._anosLinks[i]['ano'],dados._path)\n",
    "for j,k in enumerate(estacoes):\n",
    "    print(f\"{j}: \\testação: {k['estação']},    csv path: {k['path']}\")\n",
    "i = int(input(f\"Digite um valor entre {0} e {j} para selecionar a estção\"))\n",
    "\n",
    "VerificacoDeDados.plotGrafico(estacoes[i][\"path\"]);\n"
   ]
  },
  {
   "cell_type": "markdown",
   "metadata": {},
   "source": [
    "Protopito 03"
   ]
  },
  {
   "cell_type": "code",
   "execution_count": 1,
   "metadata": {},
   "outputs": [
    {
     "name": "stdout",
     "output_type": "stream",
     "text": [
      "\n",
      "\n",
      "\n",
      "Finalizando Programa...\n",
      "\n",
      "Excluindo donwloads...\n",
      "\n",
      "Donwloads excluidos com sucesso!\n"
     ]
    },
    {
     "data": {
      "image/png": "[encoded data removed]",
      "text/plain": [
       "<Figure size 640x697 with 2 Axes>"
      ]
     },
     "metadata": {},
     "output_type": "display_data"
    },
    {
     "ename": "",
     "evalue": "",
     "output_type": "error",
     "traceback": [
      "\u001b[1;31mO Kernel deu pane ao executar o código na célula atual ou em uma célula anterior. \n",
      "\u001b[1;31mAnalise o código nas células para identificar uma possível causa da pane. \n",
      "\u001b[1;31mClique <a href='https://aka.ms/vscodeJupyterKernelCrash'>aqui</a> para obter mais informações. \n",
      "\u001b[1;31mConsulte Jupyter <a href='command:jupyter.viewOutput'>log</a> para obter mais detalhes."
     ]
    }
   ],
   "source": [
    "%run -m prototipo3 ;"
   ]
  }
 ],
 "metadata": {
  "kernelspec": {
   "display_name": "Python 3 (ipykernel)",
   "language": "python",
   "name": "python3"
  },
  "language_info": {
   "codemirror_mode": {
    "name": "ipython",
    "version": 3
   },
   "file_extension": ".py",
   "mimetype": "text/x-python",
   "name": "python",
   "nbconvert_exporter": "python",
   "pygments_lexer": "ipython3",
   "version": "3.11.7"
  }
 },
 "nbformat": 4,
 "nbformat_minor": 2
}
