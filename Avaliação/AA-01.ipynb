{
 "cells": [
  {
   "cell_type": "markdown",
   "metadata": {},
   "source": [
    "# Primeira Avaliação Parcial: Avaliação Individual\n",
    "\n",
    "Neste módulo trabalhamos com os recursos da __NumPy__ para processar dados de tipo único de forma eficiente. Um exemplo deste tipo de dados são as imagens que podemos ser armazenadas como _ndarrays_ __NumPy__. O código a seguir gera uma imagem colorida, de 1000 por 1000 _pixels_, armazenada no formato __RGB__. Isto significa que, de cada _pixel_ armazenamos a intensidade da cor dos canais __R__ (_red_ ou vermelho), __G__ (green ou verde) e __B__ (blue o azul).  A intensidade da cor é dada por um inteiro de 8 _bits_ sem sinal."
   ]
  },
  {
   "cell_type": "code",
   "execution_count": 1,
   "metadata": {},
   "outputs": [
    {
     "name": "stdout",
     "output_type": "stream",
     "text": [
      "1.24.3\n"
     ]
    }
   ],
   "source": [
    "# importado a biblioteca numpy\n",
    "import numpy as np\n",
    "print(np.__version__)\n"
   ]
  },
  {
   "cell_type": "code",
   "execution_count": 2,
   "metadata": {},
   "outputs": [],
   "source": [
    "# Definindo a altura e a largura da imagem que represnearão:\n",
    "height = 1000  # altura ou o número de linhas da imagem\n",
    "width = 1000   # largura ou o número de colunas da imagem"
   ]
  },
  {
   "cell_type": "code",
   "execution_count": 3,
   "metadata": {},
   "outputs": [
    {
     "name": "stdout",
     "output_type": "stream",
     "text": [
      "Veja o forma da matriz criada: (1000, 1000, 3)\n",
      "Veja como fica a cor de um pixel: [ 51 138 231] ...\n",
      "Ou a componente vermelha dos 3 primeiro pixels da segunda linha: [233 222  39] ...\n",
      "Ou a componente verde dos 3 últimos pixels da segunda coluna: [188   7 200] ...\n"
     ]
    }
   ],
   "source": [
    "# gerando uma imagem aleatória de 1000 x 1000 pixels\n",
    "random_image = np.random.randint(0, 256, size=(height, width, 3), dtype=np.uint8)\n",
    "print(\"Veja o forma da matriz criada: {}\".format(random_image.shape))\n",
    "print(\"Veja como fica a cor de um pixel: {} ...\".format(random_image[0, 0]))\n",
    "print(\"Ou a componente vermelha dos 3 primeiro pixels da segunda linha: {} ...\".format(random_image[1, 0:3, 0]))\n",
    "print(\"Ou a componente verde dos 3 últimos pixels da segunda coluna: {} ...\".format(random_image[-3:, 1, 1]))"
   ]
  },
  {
   "cell_type": "markdown",
   "metadata": {},
   "source": [
    "## Exercício 1\n",
    "\n",
    "Crie uma função para a qual passamos como parâmetros a altura e a largura e retorna uma imagem, gerada de forma aleatória, em formato __RGB__, com estas dimensões. A imagem deve ser representada utilizando um _ndarray_ como o do exemplo anterior. Se a altura ou a largura não forme passadas como a imagem deve ser gerada com 720 linhas e 1280 colunas. "
   ]
  },
  {
   "cell_type": "code",
   "execution_count": 4,
   "metadata": {},
   "outputs": [],
   "source": [
    "# Implementar aqui\n",
    "def geradorImagens(h = 720, w = 1280):\n",
    "    return np.random.randint(low=0,high=256,size=(h,w,3),dtype=np.uint8)"
   ]
  },
  {
   "cell_type": "code",
   "execution_count": 5,
   "metadata": {},
   "outputs": [
    {
     "name": "stdout",
     "output_type": "stream",
     "text": [
      "(720, 1280, 3)\n",
      "(10, 1280, 3)\n",
      "(10, 10, 3)\n",
      "[[[ 55 200 252]\n",
      "  [ 79 210 244]\n",
      "  [ 34 152 178]\n",
      "  [  5 220 206]\n",
      "  [244 163  18]]\n",
      "\n",
      " [[239  31 184]\n",
      "  [  9  43 162]\n",
      "  [246 229 120]\n",
      "  [ 43  66  44]\n",
      "  [ 68 159  21]]\n",
      "\n",
      " [[ 20 230 199]\n",
      "  [129  26  51]\n",
      "  [220 150 224]\n",
      "  [ 83 105 197]\n",
      "  [ 42  66  89]]\n",
      "\n",
      " [[174 125 226]\n",
      "  [198 144 136]\n",
      "  [181   1  37]\n",
      "  [145 122 189]\n",
      "  [217 121 210]]\n",
      "\n",
      " [[231 132 205]\n",
      "  [ 44  75  33]\n",
      "  [124 209 214]\n",
      "  [ 43 246 235]\n",
      "  [ 18   0 214]]]\n"
     ]
    }
   ],
   "source": [
    "#teste\n",
    "print(geradorImagens().shape) # deve retornar (720, 1280, 3)\n",
    "print(geradorImagens(10).shape) # deve retornar (10, 1280, 3)\n",
    "print(geradorImagens(10,10).shape) # deve retornar (10, 10, 3)\n",
    "print(geradorImagens(5,5)) # deve retornar uma matriz 5x5x3"
   ]
  },
  {
   "cell_type": "markdown",
   "metadata": {},
   "source": [
    "Para simplificar o tratamento durante o processamento das imagens, frequentemente elas são convertidas e imagens em tons de cinza. Estas imagens contem, para cada pixel, uma única intensidade de cor representada como um inteiro de 8 _bits_ sem sinal. Para converter uma imagem __RGB__ em uma imagem em tons de cinza podemos utilizar dois métodos diferentes. \n",
    "\n",
    "1. Calculamos a intensidade da cor de cada _pixel_ como a média das intensidades dos canais __RGB_\n",
    "2. Os valores __RGB__ são convertidos para tons de cinza usando a fórmula __NTSC__: $ 0.299 \\times \\text{Vermelho} + 0.587 \\times \\text{Verde} + 0.114 \\times \\text{Azul} $. Esta fórmula representa de perto a percepção relativa da pessoa média sobre o brilho da luz vermelha, verde e azul."
   ]
  },
  {
   "cell_type": "markdown",
   "metadata": {},
   "source": [
    "## Exercício 2\n",
    "\n",
    "Crie uma função que recebe uma imagem __RGB__ e converte a mesma em tons de cinza. A função deve retornar então a nova imagem. Esta função. \n",
    "* Deve verificar se o argumento de entrada é de fato uma imagem __RGB__ com base no tipo e no atributo ``shape`` do _ndarray_. Casso o argumento esteja errado deve-se lançar uma exceção.\n",
    "* A função recebe como parâmetro de entrada a forma de conversão a ser utilizada: media dos canais ou __NTSC__. Por padrão o algoritmo de utilizado deve ser o __NTSC__.\n",
    "* A função deve utilizas as _ufunc_ e operações definidas na __NumPy_ de forma a minimizar o uso de laços no processamento dos _ndarrays_.  "
   ]
  },
  {
   "cell_type": "code",
   "execution_count": 6,
   "metadata": {},
   "outputs": [],
   "source": [
    "#implementar aqui\n",
    "def rgb2gray(array,forma = \"ntsc\"):\n",
    "    if array.shape[2] != 3:\n",
    "        raise Exception(\"MATRIZ COM FORMATO INVALÍDO\")\n",
    "    \n",
    "    if forma.lower() == \"ntsc\":\n",
    "        return (0.299*array[:,:,0] + 0.587*array[:,:,1] + 0.114*array[:,:,2]).astype(np.uint8)\n",
    "    \n",
    "    if forma.lower() == \"mean\":\n",
    "        return np.mean(array, axis=2, dtype=np.uint8)\n",
    "        "
   ]
  },
  {
   "cell_type": "code",
   "execution_count": 7,
   "metadata": {},
   "outputs": [
    {
     "name": "stdout",
     "output_type": "stream",
     "text": [
      "[[[ 11 251 241]\n",
      "  [227  69 119]]\n",
      "\n",
      " [[ 91 194  35]\n",
      "  [159  71 161]]]\n"
     ]
    }
   ],
   "source": [
    "\n",
    "teste = geradorImagens(2,2)\n",
    "print(teste)\n",
    "\n"
   ]
  },
  {
   "cell_type": "code",
   "execution_count": 8,
   "metadata": {},
   "outputs": [
    {
     "name": "stdout",
     "output_type": "stream",
     "text": [
      "[[178 121]\n",
      " [145 107]]\n",
      "\n",
      "[[82 53]\n",
      " [21 45]]\n"
     ]
    }
   ],
   "source": [
    "ntsc = rgb2gray(teste)\n",
    "print(ntsc)\n",
    "print()\n",
    "mean = rgb2gray(teste,\"mean\")\n",
    "print(mean)"
   ]
  },
  {
   "cell_type": "markdown",
   "metadata": {},
   "source": [
    "# Exercício 3 (Opcional, valendo ponto extra)\n",
    "\n",
    "Refaça a implementação da função anterior utilizando estruturas de repetição e implemente um teste de demonstre, usando uma imagem __RGB__ gerada de forma aleatória de 10.000 linhas por 10.000 colunas, o ganho de desempenho quando utilizamos as _ufunc_ e os operadores de __NumPy__. "
   ]
  },
  {
   "cell_type": "code",
   "execution_count": 9,
   "metadata": {},
   "outputs": [],
   "source": [
    "def rgb2grayFor(array,forma = \"ntsc\"):\n",
    "    if array.shape[2] != 3:\n",
    "        raise Exception(\"MATRIZ COM FORMATO INVALÍDO\")\n",
    "    \n",
    "\n",
    "    h, w, _ = array.shape\n",
    "\n",
    "    res = np.zeros(shape = (h,w))\n",
    "\n",
    "    if forma.lower() == \"ntsc\":\n",
    "        for i in range(h):\n",
    "            for j in range(w):\n",
    "                    res[i,j] = 0.299*array[i,j,0] + 0.587*array[i,j,1] + 0.114*array[i,j,2]\n",
    "        \n",
    "        return res.astype(np.uint8)\n",
    "                    \n",
    "    \n",
    "    if forma.lower() == \"mean\":\n",
    "        for i in range(h):\n",
    "            for j in range(w):\n",
    "                for k in range(3):\n",
    "                    res[i,j]+=array[i,j,k]\n",
    "        \n",
    "        for i in range(h):\n",
    "            for j in range(w):\n",
    "                res[i,j] = res[i,j].astype(np.uint8)/3\n",
    "        \n",
    "        return res.astype(np.uint8)"
   ]
  },
  {
   "cell_type": "markdown",
   "metadata": {},
   "source": [
    "Verificando resultados"
   ]
  },
  {
   "cell_type": "code",
   "execution_count": 10,
   "metadata": {},
   "outputs": [
    {
     "name": "stdout",
     "output_type": "stream",
     "text": [
      "resultado com ufuncs\n",
      "[[178 121]\n",
      " [145 107]] uint8\n",
      "\n",
      "[[82 53]\n",
      " [21 45]] uint8\n",
      "\n",
      "resultado com laço for\n",
      "[[178 121]\n",
      " [145 107]] uint8\n",
      "\n",
      "[[82 53]\n",
      " [21 45]] uint8\n"
     ]
    }
   ],
   "source": [
    "print(\"resultado com ufuncs\")\n",
    "ntsc = rgb2gray(teste)\n",
    "print(ntsc,ntsc.dtype)\n",
    "print()\n",
    "mean = rgb2gray(teste,\"mean\")\n",
    "print(mean,mean.dtype)\n",
    "\n",
    "print(\"\\nresultado com laço for\")\n",
    "ntsc = rgb2grayFor(teste)\n",
    "print(ntsc,ntsc.dtype)\n",
    "print()\n",
    "mean = rgb2grayFor(teste,\"mean\")\n",
    "print(mean,mean.dtype)"
   ]
  },
  {
   "cell_type": "markdown",
   "metadata": {},
   "source": [
    "teste de performace"
   ]
  },
  {
   "cell_type": "code",
   "execution_count": 12,
   "metadata": {},
   "outputs": [
    {
     "name": "stdout",
     "output_type": "stream",
     "text": [
      "resultado da implementação utilizando ufuncs\n",
      "1.23 s ± 13.8 ms per loop (mean ± std. dev. of 7 runs, 1 loop each)\n",
      "883 ms ± 6.62 ms per loop (mean ± std. dev. of 7 runs, 1 loop each)\n",
      "\n",
      "\n",
      " resultado da implementação utilizando laço for\n",
      "7min 32s ± 0 ns per loop (mean ± std. dev. of 1 run, 1 loop each)\n",
      "6min 20s ± 0 ns per loop (mean ± std. dev. of 1 run, 1 loop each)\n"
     ]
    }
   ],
   "source": [
    "img = geradorImagens(10000,10000)\n",
    "\n",
    "print(\"resultado da implementação utilizando ufuncs\")\n",
    "%timeit rgb2gray(img)\n",
    "%timeit rgb2gray(img,\"mean\")\n",
    "print(\"\\n\\n resultado da implementação utilizando laço for\")\n",
    "%timeit -n 1 -r 1 rgb2grayFor(img)\n",
    "%timeit -n 1 -r 1 rgb2grayFor(img,\"mean\")"
   ]
  },
  {
   "cell_type": "markdown",
   "metadata": {},
   "source": [
    "resultado da implementação utilizando ufuncs\n",
    "1.23 s ± 13.8 ms per loop (mean ± std. dev. of 7 runs, 1 loop each)\n",
    "883 ms ± 6.62 ms per loop (mean ± std. dev. of 7 runs, 1 loop each)\n",
    "\n",
    "\n",
    "\n",
    "resultado da implementação utilizando laço for\n",
    "7min 32s ± 0 ns per loop (mean ± std. dev. of 1 run, 1 loop each)\n",
    "6min 20s ± 0 ns per loop (mean ± std. dev. of 1 run, 1 loop each)"
   ]
  },
  {
   "cell_type": "markdown",
   "metadata": {},
   "source": [
    "## Respostas\n",
    "Faça suas implementações neste notebook e envie  mesmo via __Moodle__ até o final do prazo. "
   ]
  }
 ],
 "metadata": {
  "kernelspec": {
   "display_name": "Python 3 (ipykernel)",
   "language": "python",
   "name": "python3"
  },
  "language_info": {
   "codemirror_mode": {
    "name": "ipython",
    "version": 3
   },
   "file_extension": ".py",
   "mimetype": "text/x-python",
   "name": "python",
   "nbconvert_exporter": "python",
   "pygments_lexer": "ipython3",
   "version": "3.11.5"
  }
 },
 "nbformat": 4,
 "nbformat_minor": 2
}
