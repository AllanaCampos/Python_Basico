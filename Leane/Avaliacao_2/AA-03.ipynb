{
 "cells": [
  {
   "cell_type": "markdown",
   "metadata": {},
   "source": [
    "# Segunda Avaliação Parcial\n",
    "\n",
    "Neste módulo trabalhamos a visualização de dados, assim como as técnicas para acessar estes dados da internet. As técnicas de web scraping que estudamos, usando __Requests__, __Beautiful Soup__ e __Selenium__, permitem implementar aplicações que processam informação diretamente da rede.  \n",
    "\n",
    "Desde a Instrução prática 7, por exemplo, estamos trabalhando com dados que baixamos do [Instituto Nacional de Meteorologia](https://portal.inmet.gov.br/dadoshistoricos).  \n",
    "\n",
    "Aprendemos também como implementar uma aplicação com GUI utilizando o __TK Inter__. \n",
    "\n",
    "Neste contexto vamos implementar uma aplicação que, a traves de uma GUI, permita gerar gráficos de precipitações e temperaturas medias mensais de um determinado ano, para uma estação meteorológica. A atividade deve ser organizada da seguinte forma."
   ]
  },
  {
   "cell_type": "markdown",
   "metadata": {},
   "source": [
    "## Exercício 1\n",
    "\n",
    "__Primeiro protótipo__: Desenvolva uma interface gráfica que pegue, em tempo real, as informações sobre os dados de quais anos estão disponíveis no site do [Instituto Nacional de Meteorologia](https://portal.inmet.gov.br/dadoshistoricos). Os anos disponíveis devem ser apresentados utilizando um widget apropriado que permita selecionar um, e apenas um ano. Se não tiver conexão a Internet ou se o site não estiver disponível o aplicativo deve mostrar uma mensagem de erro na interface.\n"
   ]
  },
  {
   "cell_type": "markdown",
   "metadata": {},
   "source": [
    "A classe BuscaDados vai fazer a requisição para coletar a lista de anos.\n",
    "O método obter_anos_disponivei é responsável por fazer uma solicitação HTTP ao URL e extrair informações sobre os anos disponíveis. Ele retorna uma tupla contendo a lista de anos e possíveis erros encontrados durante o processo.\n",
    "Ele tenta fazer uma solicitação HTTP para o URL fornecido usando requests.get(). Se ocorrer algum erro HTTP, ele é capturado e armazenado em self.__erros. Se ocorrer qualquer outro tipo de exceção, também é capturado e armazenado em self.__erros.\n",
    "Se nenhuma exceção for lançada durante a solicitação, o conteúdo da resposta é analisado usando BeautifulSoup para extrair os anos disponíveis e seus respectivos URLs. Essas informações são armazenadas na lista self.__anos.\n",
    "\n"
   ]
  },
  {
   "cell_type": "markdown",
   "metadata": {},
   "source": [
    "A classe interface é responsável por criar uma interface gráfica usando a biblioteca Tkinter em Python para interagir com dados meteorológicos.\n",
    "No método interface é criada uma janela de aplicativo Tkinter. Ele chama o método obter_anos_disponiveis da instância de BuscaDados para recuperar os anos disponíveis e possíveis erros. Com base nos resultados obtidos, a interface é construída de acordo com os anos disponíveis ou exibe uma mensagem de erro se houver problemas ao obter os dados.\n",
    "Se os anos estiverem disponíveis, é criado um menu (OptionMenu) com os anos disponíveis.\n",
    "e não for possível obter os anos, é exibida uma mensagem de erro na interface.\n",
    "Finalmente, a interface entra em loop (mainloop) para que o aplicativo permaneça aberto e responsivo até que o usuário decida fechá-lo."
   ]
  },
  {
   "cell_type": "code",
   "execution_count": null,
   "metadata": {},
   "outputs": [],
   "source": [
    "\n",
    "class BuscaDados:\n",
    "    \n",
    "    def __init__(self, anos, erros):\n",
    "        self.__anos = anos\n",
    "        self.__erros = erros\n",
    "    \n",
    "    def obter_anos_disponiveis(self):\n",
    "        \n",
    "        self.__anos =  []\n",
    "        \n",
    "        headers = {\n",
    "            'User-Agent': 'Mozilla/5.0 (Windows NT 10.0; Win64; x64) AppleWebKit/537.36 (KHTML, like Gecko) Chrome/58.0.3029.110 Safari/537.3'\n",
    "        }\n",
    "        url = \"https://portal.inmet.gov.br/dadoshistoricos\"\n",
    "        \n",
    "        resposta = requests.get(url, headers=headers)  \n",
    "        \n",
    "        self.__erros= None\n",
    "        try:\n",
    "            resposta = requests.get(url, headers=headers)\n",
    "            resposta.raise_for_status()\n",
    "        except requests.HTTPError as http_err:\n",
    "            self.__erros = http_err\n",
    "        except Exception as err:\n",
    "            self.__erros = err\n",
    "        else:\n",
    "            texto = BeautifulSoup(resposta.text, 'html.parser')\n",
    "            articles = texto.find_all('article')\n",
    "            for i in articles:\n",
    "                ano_string = i.find('a').string\n",
    "                ano_formatado = ''.join(filter(str.isdigit, ano_string))\n",
    "                self.__anos.append((ano_formatado, i.find('a')['href']))\n",
    "        \n",
    "        return self.__anos, self.__erros\n",
    "\n",
    "\n",
    "class Interface:\n",
    "    \n",
    "    def __init__(self):\n",
    "        self.ano = BuscaDados([], erros = None)\n",
    "        self.dados = ObterDados()\n",
    "    \n",
    "    def interface(self):\n",
    "        app = tk.Tk()\n",
    "        app.title(\"Dados Meteorológicos\")\n",
    "        app.geometry('500x300')\n",
    "        app.configure(background='black')\n",
    "        \n",
    "        anos, erros = self.ano.obter_anos_disponiveis()  #atribuir valores retornados pela função\n",
    "        self.anos = anos  # Atribuir anos à instância da classe\n",
    "\n",
    "        if self.anos:\n",
    "            opcao = tk.StringVar(app)\n",
    "            opcao.set(self.anos[0][0])\n",
    "            texto = tk.OptionMenu(app, opcao, *[ano[0] for ano in self.anos])\n",
    "            texto.place(x=10, y=10, width=100, height=50)\n",
    "        else:\n",
    "            mensagemErro = tk.Label(app, text=f\"Erro ao obter dados: {erros}\", background='#c38680', wraplength=450)\n",
    "            mensagemErro.place(x=10, y=70, width=450, height=30)\n",
    "\n",
    "        app.mainloop()\n"
   ]
  },
  {
   "cell_type": "code",
   "execution_count": null,
   "metadata": {},
   "outputs": [],
   "source": [
    "%run -m estacoes_V1"
   ]
  },
  {
   "cell_type": "markdown",
   "metadata": {},
   "source": [
    "## Exercício 2\n",
    "\n",
    "__Segundo protótipo__: Com base no ano escolhido sua aplicação deve baixar o arquivo compactado, com os dados de todas as estações, descompactar ele numa pasta temporária e mostrar em um outro widget a lista de estações disponíveis para selecionar uma e apenas uma delas. O widget do protótipo anterior deve ficar disponível para que o usuário possa trocar o ano se desejar. Nesse caso um novo arquivo será baixado e descompactado e as estações disponíveis exibidas para seleção."
   ]
  },
  {
   "cell_type": "markdown",
   "metadata": {},
   "source": [
    "Para a segunda aplicacao, foi add a classe ObterDados     \n",
    "O método downloadDados procura o link correspondente ao ano selecionado na lista de anos fornecida. Se não encontrar o link, imprime uma mensagem de erro e retorna uma lista vazia.\n",
    "Se o link for encontrado, o método cria um diretório para armazenar os arquivos extraídos, baixa o arquivo zip usando a biblioteca wget, extrai seu conteúdo usando zipfile.ZipFile e obtém os nomes das cidades dos arquivos extraídos.\n",
    "Os nomes das cidades são extraídos dos títulos dos arquivos zip. Se ocorrer algum erro durante o processo de download ou extração, uma mensagem de erro é impressa e uma lista vazia é retornada."
   ]
  },
  {
   "cell_type": "code",
   "execution_count": null,
   "metadata": {},
   "outputs": [],
   "source": [
    "def escolhaCidades(self, anoSelecionado, app):     #mudança interface\n",
    "        self.cidades = self.dados.downloadDados(anoSelecionado, self.anos)\n",
    "        opcao2 = tk.StringVar(app)\n",
    "        opcao2.set(\"CIDADE\")\n",
    "        texto2 = tk.OptionMenu(app, opcao2, *self.cidades)\n",
    "        texto2.place(x=10, y=70, width=150, height=50)\n",
    "\n",
    "class ObterDados:\n",
    "    \n",
    "     def downloadDados(self, anoSelecionado, anos):\n",
    "        link = None\n",
    "        for ano in anos:\n",
    "            if ano[0] == anoSelecionado:\n",
    "                link = ano[1]\n",
    "                break  # Parar a busca se o ano for encontrado\n",
    "\n",
    "        if link is None:\n",
    "            print(f\"Não foi possível encontrar o link para o ano {anoSelecionado}\")\n",
    "            return []  # Retorna uma lista vazia se o link não for encontrado\n",
    "\n",
    "        caminho_zip = f'csv/{anoSelecionado}.zip'\n",
    "        caminho_extracao = 'csv/'\n",
    "        \n",
    "        \n",
    "        if not os.path.exists(caminho_extracao):\n",
    "            os.makedirs(caminho_extracao)\n",
    "\n",
    "        try:\n",
    "            # Baixar o arquivo zip\n",
    "            wget.download(link, caminho_zip)\n",
    "            \n",
    "            # Extrair o conteúdo do arquivo zip\n",
    "            with zipfile.ZipFile(caminho_zip, 'r') as zip_ref:\n",
    "                zip_ref.extractall(caminho_extracao)\n",
    "                titulos_arquivos = zip_ref.namelist()\n",
    "            \n",
    "            # Extrair nomes das cidades dos títulos dos arquivos\n",
    "            nomes_cidades = [titulo.split('_')[4] for titulo in titulos_arquivos if len(titulo.split('_')) >= 5]\n",
    "\n",
    "            return nomes_cidades\n",
    "        except Exception as e:\n",
    "            print(f\"Erro ao baixar/descompactar arquivos: {e}\")\n",
    "            return []  # Retorna uma lista vazia em caso de erro"
   ]
  },
  {
   "cell_type": "code",
   "execution_count": null,
   "metadata": {},
   "outputs": [],
   "source": [
    "%run -m estacoes_V2"
   ]
  },
  {
   "cell_type": "markdown",
   "metadata": {},
   "source": [
    "# Exercício 3\n",
    "\n",
    "__Terceiro protótipo__: Com base na estação selecionada gere e exiba dentro da aplicação os gráficos de precipitações e temperaturas medias mensais para a estação selecionada. A interface deve permitir que o usuário troque a estação selecionada a qualquer momento, assim como foi feito co o ano, gerando novos gráficos.   "
   ]
  },
  {
   "cell_type": "markdown",
   "metadata": {},
   "source": [
    "È feita uma nova classe para criar os dataFrame. \n",
    "\n",
    "Método dataFrame: Este método recebe uma cidade, um ano selecionado e uma lista de anos. Ele chama o método downloadDados da instância de ObterDados para obter o caminho do arquivo CSV correspondente à cidade e ao ano selecionados. Em seguida, lê o arquivo CSV usando pd.read_csv, define o índice como uma combinação da data e hora e trata dados ausentes.\n",
    "\n",
    "Método tratamentoDados: Este método realiza tratamentos nos dados do DataFrame, substituindo valores de precipitação e temperatura que ultrapassam determinado limite por None.\n",
    "\n",
    "Método plotGraficos: Este método cria dois subplots, um para a temperatura média mensal e outro para a precipitação média mensal. Ele calcula as médias mensais para temperatura e soma das precipitações, plota os dados usando plt.plot e ajusta as configurações dos gráficos.\n",
    "\n",
    "Função plotGrafico: Esta função está fora da classe e é usada para plotar os gráficos. Ela cria uma instância de Graficos, chama os métodos dataFrame, tratamentoDados e plotGraficos para gerar os gráficos com base nos parâmetros cidade, ano selecionado e lista de anos."
   ]
  },
  {
   "cell_type": "code",
   "execution_count": null,
   "metadata": {},
   "outputs": [],
   "source": [
    "def grafico(self,cidade, anoSelecionado, anos,win):    #mudança em interface\n",
    "        Graficos.plotGrafico(cidade, anoSelecionado, anos)\n",
    "        canvas = FigureCanvasTkAgg(plt.gcf(), master=win)\n",
    "        canvasWidget = canvas.get_tk_widget()\n",
    "        canvasWidget.place(x=180, y=10, width=500, height=400)\n",
    "\n",
    "class Graficos:\n",
    "    def __init__(self):\n",
    "        self.dow = obtencaoDados.ObterDados()\n",
    "        self.cidade = None\n",
    "        self.anoSelecionado = None\n",
    "        self.__df = None\n",
    "        self.caminhoCSV = None\n",
    "    \n",
    "    def dataFrame(self, cidade, anoSelecionado,anos):\n",
    "        self.dow = obtencaoDados.ObterDados()\n",
    "        titulos_arquivos = self.dow.downloadDados(anoSelecionado, anos)[1]\n",
    "        for titulos in titulos_arquivos:\n",
    "            if cidade in titulos:\n",
    "\n",
    "                self.caminhoCSV = f'csv/{titulos}' # Atribuir valor a caminhoCSV\n",
    "          \n",
    "            \n",
    "\n",
    "        self.__df = pd.read_csv(self.caminhoCSV, encoding=\"iso-8859-1\", decimal=',', sep=';', skiprows=8)\n",
    "        self.__df.index = pd.DatetimeIndex(self.__df[\"DATA (YYYY-MM-DD)\"]+\" \"+self.__df[\"HORA (UTC)\"], name=\"DATA\") \n",
    "    \n",
    "        if self.caminhoCSV is None:\n",
    "            print(f\"Arquivo CSV não encontrado para a cidade {cidade} no ano {anoSelecionado}\")\n",
    "            return  # Sair da função se o caminhoCSV não foi definido\n",
    "\n",
    "    def tratamentoDados(self):\n",
    "        self.__df.loc[self.__df[\"PRECIPITAÇÃO TOTAL, HORÁRIO (mm)\"].abs() > 1000, \"PRECIPITAÇÃO TOTAL, HORÁRIO (mm)\"] = None\n",
    "        self.__df.loc[self.__df[\"TEMPERATURA DO PONTO DE ORVALHO (°C)\"].abs() > 1000, \"TEMPERATURA DO PONTO DE ORVALHO (°C)\"] = None\n",
    "    \n",
    "    \n",
    "    def plotGraficos(self):\n",
    "        df = self.__df.groupby(self.__df.index.month)[\"TEMPERATURA DO PONTO DE ORVALHO (°C)\"].mean()\n",
    "        plt.clf()\n",
    "        plt.subplot(2,1,1)\n",
    "        plt.plot(df.index, df, marker='s')\n",
    "        plt.title('Temperatura Média Mensal')\n",
    "        plt.xlabel('Mês')\n",
    "        plt.ylabel('Temperatura (°C)')\n",
    "        plt.grid(True)\n",
    "\n",
    "        dfT = self.__df.groupby(self.__df.index.month)[\"PRECIPITAÇÃO TOTAL, HORÁRIO (mm)\"].sum()\n",
    "        plt.subplot(2,1,2)\n",
    "        plt.plot(dfT.index, dfT, marker='s')\n",
    "        plt.title('Precipitação Média Mensal')\n",
    "        plt.xlabel('Mês')\n",
    "        plt.ylabel('Precipitação')\n",
    "        plt.grid(True)\n",
    "        plt.subplots_adjust(wspace=0,hspace=1)\n",
    "        \n",
    "    def plotGrafico(cidade,anoSelecionado,anos):\n",
    "        df = Graficos()\n",
    "        df.dataFrame(cidade,anoSelecionado,anos)\n",
    "        df.tratamentoDados()\n",
    "        df.plotGraficos()\n",
    "    "
   ]
  },
  {
   "cell_type": "code",
   "execution_count": null,
   "metadata": {},
   "outputs": [],
   "source": [
    "%run -m estacoes_V3"
   ]
  },
  {
   "cell_type": "markdown",
   "metadata": {},
   "source": [
    "## Respostas\n",
    "\n",
    "Implemente sua aplicação como um pacote __Python__ e disponibilize neste __Notebook__ um explicação dos principais pontos da implementação. Utilize o comando mágico ``%run`` para executar o aplicativo desenvolvido.  Envie o __Notebook__ via __Moodle__ assim como o repositório com a implementação do aplicativo até o final do prazo. "
   ]
  }
 ],
 "metadata": {
  "kernelspec": {
   "display_name": "Python 3 (ipykernel)",
   "language": "python",
   "name": "python3"
  },
  "language_info": {
   "codemirror_mode": {
    "name": "ipython",
    "version": 3
   },
   "file_extension": ".py",
   "mimetype": "text/x-python",
   "name": "python",
   "nbconvert_exporter": "python",
   "pygments_lexer": "ipython3",
   "version": "3.11.7"
  }
 },
 "nbformat": 4,
 "nbformat_minor": 2
}
