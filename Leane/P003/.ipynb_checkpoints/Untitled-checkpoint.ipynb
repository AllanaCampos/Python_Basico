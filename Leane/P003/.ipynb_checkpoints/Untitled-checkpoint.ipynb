{
 "cells": [
  {
   "cell_type": "code",
   "execution_count": 59,
   "id": "30ece1cd",
   "metadata": {},
   "outputs": [
    {
     "ename": "AttributeError",
     "evalue": "'list' object has no attribute 'mostraMaior'",
     "output_type": "error",
     "traceback": [
      "\u001b[1;31m---------------------------------------------------------------------------\u001b[0m",
      "\u001b[1;31mAttributeError\u001b[0m                            Traceback (most recent call last)",
      "Cell \u001b[1;32mIn[59], line 7\u001b[0m\n\u001b[0;32m      3\u001b[0m listaIdades \u001b[38;5;241m=\u001b[39m ListaIdades\u001b[38;5;241m.\u001b[39mgeraListaIdade(\u001b[38;5;241m5000\u001b[39m)\n\u001b[0;32m      4\u001b[0m \u001b[38;5;66;03m#print(listaIdades)\u001b[39;00m\n\u001b[0;32m      5\u001b[0m \u001b[38;5;66;03m#print(listaIdades.mostraMediana())\u001b[39;00m\n\u001b[0;32m      6\u001b[0m \u001b[38;5;66;03m#listaIdades.mostraMenor()\u001b[39;00m\n\u001b[1;32m----> 7\u001b[0m listaIdades\u001b[38;5;241m.\u001b[39mmostraMaior()\n",
      "\u001b[1;31mAttributeError\u001b[0m: 'list' object has no attribute 'mostraMaior'"
     ]
    }
   ],
   "source": [
    "from dataFruta.ListaIdades import ListaIdades\n",
    "\n",
    "listaIdades = ListaIdades.geraListaIdade(5000)\n",
    "#print(listaIdades)\n",
    "print(listaIdades.mostraMediana())\n",
    "listaIdades.mostraMenor()\n",
    "listaIdades.mostraMaior()"
   ]
  },
  {
   "cell_type": "code",
   "execution_count": null,
   "id": "eea1b3cc",
   "metadata": {},
   "outputs": [],
   "source": []
  }
 ],
 "metadata": {
  "kernelspec": {
   "display_name": "Python 3 (ipykernel)",
   "language": "python",
   "name": "python3"
  },
  "language_info": {
   "codemirror_mode": {
    "name": "ipython",
    "version": 3
   },
   "file_extension": ".py",
   "mimetype": "text/x-python",
   "name": "python",
   "nbconvert_exporter": "python",
   "pygments_lexer": "ipython3",
   "version": "3.11.5"
  }
 },
 "nbformat": 4,
 "nbformat_minor": 5
}
