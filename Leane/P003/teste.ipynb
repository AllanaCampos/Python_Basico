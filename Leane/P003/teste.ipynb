{
 "cells": [
  {
   "cell_type": "code",
   "execution_count": 1,
   "id": "0a50c527",
   "metadata": {},
   "outputs": [
    {
     "name": "stdout",
     "output_type": "stream",
     "text": [
      "Mediana dos salários: 4968.0\n",
      "None\n",
      "Menor salário: 1588\n",
      "Maior salário: 9441\n",
      "Media geometrica:\n",
      "4894.27808808624\n",
      "Media harmonica:\n",
      "4321.905862717051\n",
      "Media Aritmetrica:\n",
      "5455.58\n",
      "Desvio Padrao:\n",
      "2364.8350140337484\n",
      "Variancia:\n",
      "5592444.643599999\n"
     ]
    }
   ],
   "source": [
    "from DataFruta_V1.ListaSalarios import ListaSalarios\n",
    "\n",
    "listaSalarios = ListaSalarios.geraListaSalario(50)\n",
    "print(listaSalarios.mostraMediana())\n",
    "listaSalarios.mostraMenor()\n",
    "listaSalarios.mostraMaior()\n",
    "print('Media geometrica:')\n",
    "print(listaSalarios.calcularMediaGeometrica())\n",
    "print('Media harmonica:')\n",
    "print(listaSalarios.calcularMediaHarmonica())\n",
    "print('Media Aritmetrica:')\n",
    "print(listaSalarios.calculaMediaAritmetrica())\n",
    "print('Desvio Padrao:')\n",
    "print(listaSalarios.calculaDesvioPadrao())\n",
    "print('Variancia:')\n",
    "print(listaSalarios.calculaVariancia())"
   ]
  },
  {
   "cell_type": "code",
   "execution_count": null,
   "id": "1b155919",
   "metadata": {},
   "outputs": [],
   "source": [
    "print(\"Timeit mediana salarios\")\n",
    "%timeit (listaSalarios.mostraMediana())\n",
    "print(\"Timeit menor salarios\")\n",
    "%timeit (listaSalarios.mostraMenor())\n",
    "print(\"Timeit maior salarios\")\n",
    "%timeit (listaSalarios.mostraMaior())"
   ]
  },
  {
   "cell_type": "code",
   "execution_count": 4,
   "id": "0fc3c62c",
   "metadata": {},
   "outputs": [],
   "source": [
    "import numpy as np\n",
    "salariosNp = np.array(listaSalarios.lista)"
   ]
  },
  {
   "cell_type": "code",
   "execution_count": 5,
   "id": "6ea505e7",
   "metadata": {},
   "outputs": [
    {
     "name": "stdout",
     "output_type": "stream",
     "text": [
      "Timeit mediana\n",
      "63.4 µs ± 8.97 µs per loop (mean ± std. dev. of 7 runs, 10,000 loops each)\n",
      "Timeit maior\n",
      "12.1 µs ± 1.15 µs per loop (mean ± std. dev. of 7 runs, 100,000 loops each)\n",
      "Timeit menor\n",
      "11.1 µs ± 999 ns per loop (mean ± std. dev. of 7 runs, 100,000 loops each)\n",
      "Timeit media geometrica\n",
      "20.1 µs ± 2.67 µs per loop (mean ± std. dev. of 7 runs, 100,000 loops each)\n",
      "Timeit media harmonica\n",
      "18.8 µs ± 1.94 µs per loop (mean ± std. dev. of 7 runs, 10,000 loops each)\n",
      "Timeit media aritmetrica\n",
      "24.9 µs ± 4.81 µs per loop (mean ± std. dev. of 7 runs, 10,000 loops each)\n",
      "Timeit Desvio Padrao\n",
      "78.2 µs ± 8.53 µs per loop (mean ± std. dev. of 7 runs, 10,000 loops each)\n",
      "Timeit variancia\n",
      "68.5 µs ± 4.21 µs per loop (mean ± std. dev. of 7 runs, 10,000 loops each)\n"
     ]
    }
   ],
   "source": [
    "print(\"Timeit mediana\")\n",
    "%timeit np.median(salariosNp)\n",
    "print(\"Timeit maior\")\n",
    "%timeit np.max(salariosNp)\n",
    "print(\"Timeit menor\")\n",
    "%timeit np.min(salariosNp)\n",
    "print(\"Timeit media geometrica\")\n",
    "%timeit np.prod(salariosNp) ** (1 / len(salariosNp))\n",
    "print(\"Timeit media harmonica\")\n",
    "%timeit len(salariosNp) / np.sum(1.0 / salariosNp)\n",
    "print(\"Timeit media aritmetrica\")\n",
    "%timeit np.mean(salariosNp)\n",
    "print(\"Timeit Desvio Padrao\")\n",
    "%timeit np.std(salariosNp)\n",
    "print(\"Timeit variancia\")\n",
    "%timeit np.var(salariosNp)\n",
    "\n"
   ]
  },
  {
   "cell_type": "markdown",
   "id": "3379249f",
   "metadata": {},
   "source": [
    "Vantagens de usar ndarray (NumPy) sobre uma lista padrão:\n",
    "-Eficiência de memória e desempenho\n",
    "-Operações vetorizadas\n",
    "-Funções e métodos integrados\n",
    "\n",
    "Desvantagens de usar ndarray (NumPy) sobre uma lista padrão\n",
    "-Imutabilidade do tamanho\n",
    "-Desempenho de certas operações"
   ]
  }
 ],
 "metadata": {
  "kernelspec": {
   "display_name": "Python 3 (ipykernel)",
   "language": "python",
   "name": "python3"
  },
  "language_info": {
   "codemirror_mode": {
    "name": "ipython",
    "version": 3
   },
   "file_extension": ".py",
   "mimetype": "text/x-python",
   "name": "python",
   "nbconvert_exporter": "python",
   "pygments_lexer": "ipython3",
   "version": "3.11.5"
  }
 },
 "nbformat": 4,
 "nbformat_minor": 5
}
