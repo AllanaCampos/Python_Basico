{
 "cells": [
  {
   "cell_type": "code",
   "execution_count": 27,
   "id": "0a50c527",
   "metadata": {},
   "outputs": [
    {
     "name": "stdout",
     "output_type": "stream",
     "text": [
      "41.0\n",
      "Menor idade: 18\n",
      "Maior idade: 65\n"
     ]
    }
   ],
   "source": [
    "from dataFruta.ListaIdades import ListaIdades\n",
    "\n",
    "listaIdades = ListaIdades.geraListaIdade(5000)\n",
    "print(listaIdades.mostraMediana())\n",
    "listaIdades.mostraMenor()\n",
    "listaIdades.mostraMaior()"
   ]
  },
  {
   "cell_type": "code",
   "execution_count": null,
   "id": "643ae27d",
   "metadata": {},
   "outputs": [],
   "source": [
    "print(\"Timeit mediana idades\")\n",
    "%timeit (listaIdades.mostraMediana())\n",
    "print(\"Timeit menor idades\")\n",
    "%timeit (listaIdades.mostraMenor())\n",
    "print(\"Timeit maior idades\")\n",
    "%timeit (listaIdades.mostraMaior())"
   ]
  },
  {
   "cell_type": "code",
   "execution_count": 17,
   "id": "8fdf9868",
   "metadata": {},
   "outputs": [
    {
     "name": "stdout",
     "output_type": "stream",
     "text": [
      "Mediana dos salários: 5551.5\n",
      "Menor salário: 1321\n",
      "Maior salário: 10000\n"
     ]
    }
   ],
   "source": [
    "from dataFruta.ListaSalarios import ListaSalarios\n",
    "\n",
    "listaSalarios = ListaSalarios.geraListaSalario(5000)\n",
    "listaSalarios.mostraMediana()\n",
    "listaSalarios.mostraMenor()\n",
    "listaSalarios.mostraMaior()"
   ]
  },
  {
   "cell_type": "code",
   "execution_count": null,
   "id": "1b155919",
   "metadata": {},
   "outputs": [],
   "source": [
    "print(\"Timeit mediana salarios\")\n",
    "%timeit (listaSalarios.mostraMediana())\n",
    "print(\"Timeit menor salarios\")\n",
    "%timeit (listaSalarios.mostraMenor())\n",
    "print(\"Timeit maior salarios\")\n",
    "%timeit (listaSalarios.mostraMaior())"
   ]
  },
  {
   "cell_type": "code",
   "execution_count": 23,
   "id": "0fc3c62c",
   "metadata": {},
   "outputs": [],
   "source": [
    "import numpy as np\n",
    "salariosNp = np.array(listaSalarios.lista)\n",
    "idadesNp = np.array(listaIdades.lista)"
   ]
  },
  {
   "cell_type": "code",
   "execution_count": 30,
   "id": "6ea505e7",
   "metadata": {},
   "outputs": [
    {
     "name": "stdout",
     "output_type": "stream",
     "text": [
      "Timeit mediana\n",
      "184 µs ± 27.2 µs per loop (mean ± std. dev. of 7 runs, 1,000 loops each)\n",
      "Timeit maior\n",
      "13.8 µs ± 3.05 µs per loop (mean ± std. dev. of 7 runs, 100,000 loops each)\n",
      "Timeit menor\n",
      "14.8 µs ± 3.81 µs per loop (mean ± std. dev. of 7 runs, 100,000 loops each)\n",
      "Timeit mediana\n",
      "152 µs ± 4.67 µs per loop (mean ± std. dev. of 7 runs, 10,000 loops each)\n",
      "Timeit mior\n",
      "12.5 µs ± 987 ns per loop (mean ± std. dev. of 7 runs, 100,000 loops each)\n",
      "Timeit menor\n",
      "9.75 µs ± 758 ns per loop (mean ± std. dev. of 7 runs, 100,000 loops each)\n"
     ]
    }
   ],
   "source": [
    "print(\"Timeit mediana\")\n",
    "%timeit np.median(salariosNp)\n",
    "print(\"Timeit maior\")\n",
    "%timeit np.max(salariosNp)\n",
    "print(\"Timeit menor\")\n",
    "%timeit np.min(salariosNp)\n",
    "\n",
    "print(\"Timeit mediana\")\n",
    "%timeit np.median(idadesNp)\n",
    "print(\"Timeit mior\")\n",
    "%timeit np.max(idadesNp)\n",
    "print(\"Timeit menor\")\n",
    "%timeit np.min(idadesNp)"
   ]
  }
 ],
 "metadata": {
  "kernelspec": {
   "display_name": "Python 3 (ipykernel)",
   "language": "python",
   "name": "python3"
  },
  "language_info": {
   "codemirror_mode": {
    "name": "ipython",
    "version": 3
   },
   "file_extension": ".py",
   "mimetype": "text/x-python",
   "name": "python",
   "nbconvert_exporter": "python",
   "pygments_lexer": "ipython3",
   "version": "3.11.5"
  }
 },
 "nbformat": 4,
 "nbformat_minor": 5
}
