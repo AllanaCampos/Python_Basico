{
 "cells": [
  {
   "cell_type": "code",
   "execution_count": 1,
   "id": "0a50c527",
   "metadata": {},
   "outputs": [
    {
     "name": "stdout",
     "output_type": "stream",
     "text": [
      "Mediana dos salários: 5851.104145273246\n",
      "None\n",
      "Menor salário: 1341.7666023160546\n",
      "Maior salário: 9937.171409024106\n",
      "Media geometrica:\n",
      "4917.395765894415\n",
      "Media harmonica:\n",
      "3977.6592026872568\n",
      "Media Aritmetrica:\n",
      "5758.660278408834\n",
      "Desvio Padrao:\n",
      "2767.9470952402803\n",
      "Variancia:\n",
      "7661531.122049105\n"
     ]
    }
   ],
   "source": [
    "from DataFruta_V1.ListaSalarios import ListaSalarios\n",
    "\n",
    "listaSalarios = ListaSalarios.geraListaSalario(50)\n",
    "print(listaSalarios.mostraMediana())\n",
    "listaSalarios.mostraMenor()\n",
    "listaSalarios.mostraMaior()\n",
    "print('Media geometrica:')\n",
    "print(listaSalarios.calcularMediaGeometrica())\n",
    "print('Media harmonica:')\n",
    "print(listaSalarios.calcularMediaHarmonica())\n",
    "print('Media Aritmetrica:')\n",
    "print(listaSalarios.calculaMediaAritmetrica())\n",
    "print('Desvio Padrao:')\n",
    "print(listaSalarios.calculaDesvioPadrao())\n",
    "print('Variancia:')\n",
    "print(listaSalarios.calculaVariancia())"
   ]
  },
  {
   "cell_type": "code",
   "execution_count": 9,
   "id": "608001b1",
   "metadata": {},
   "outputs": [
    {
     "name": "stdout",
     "output_type": "stream",
     "text": [
      "Mediana dos salários: 5306.576512746597\n",
      "None\n",
      "Menor salário: 1363.6309285420184\n",
      "Maior salário: 9821.522220231682\n",
      "Media geometrica:\n",
      "5054.032191924872\n",
      "Media harmonica:\n",
      "4453.723829987935\n",
      "Media Aritmetrica:\n",
      "5601.657241250803\n",
      "Desvio Padrao:\n",
      "2382.067224410791\n",
      "Variancia:\n",
      "5674244.261612129\n"
     ]
    }
   ],
   "source": [
    "from DataFruta_V1.ListaSalarios2 import ListaSalarios2\n",
    "\n",
    "listaSalarios2 = ListaSalarios2.geraListaSalario(50)\n",
    "print(listaSalarios2.mostraMediana())\n",
    "listaSalarios2.mostraMenor()\n",
    "listaSalarios2.mostraMaior()\n",
    "print('Media geometrica:')\n",
    "print(listaSalarios2.calcularMediaGeometrica())\n",
    "print('Media harmonica:')\n",
    "print(listaSalarios2.calcularMediaHarmonica())\n",
    "print('Media Aritmetrica:')\n",
    "print(listaSalarios2.calculaMediaAritmetrica())\n",
    "print('Desvio Padrao:')\n",
    "print(listaSalarios2.calculaDesvioPadrao())\n",
    "print('Variancia:')\n",
    "print(listaSalarios2.calculaVariancia())"
   ]
  },
  {
   "cell_type": "code",
   "execution_count": 7,
   "id": "105b9556",
   "metadata": {},
   "outputs": [
    {
     "name": "stdout",
     "output_type": "stream",
     "text": [
      "Mediana dos salários: 5851.104145273246\n",
      "Timeit mediana salarios 0.0 segundos\n",
      "Menor salário: 1341.7666023160546\n",
      "Timeit mostraMenor 0.000997304916381836 segundos\n",
      "Maior salário: 9937.171409024106\n",
      "Timeit mostraMaior 0.0 segundos\n",
      "Timeit calcularMediaGeometrica 0.005349397659301758 segundos\n",
      "Timeit calcularMediaHarmonica 0.0 segundos\n",
      "Timeit calculaMediaAritmetrica 0.0010025501251220703 segundos\n",
      "Timeit calculaDesvioPadrao 0.010934114456176758 segundos\n",
      "Timeit calculaVariancia 0.0 segundos\n"
     ]
    }
   ],
   "source": [
    "import time\n",
    "\n",
    "inicio = time.time()\n",
    "listaSalarios.mostraMediana()\n",
    "fim = time.time()\n",
    "print(\"Timeit mediana salarios\" ,fim - inicio, \"segundos\")\n",
    "\n",
    "inicio = time.time()\n",
    "listaSalarios.mostraMenor()\n",
    "fim = time.time()\n",
    "print(\"Timeit mostraMenor\" ,fim - inicio, \"segundos\")\n",
    "\n",
    "inicio = time.time()\n",
    "listaSalarios.mostraMaior()\n",
    "fim = time.time()\n",
    "print(\"Timeit mostraMaior\" ,fim - inicio, \"segundos\")\n",
    "\n",
    "inicio = time.time()\n",
    "listaSalarios.calcularMediaGeometrica()\n",
    "fim = time.time()\n",
    "print(\"Timeit calcularMediaGeometrica\" ,fim - inicio, \"segundos\")\n",
    "\n",
    "inicio = time.time()\n",
    "listaSalarios.calcularMediaHarmonica()\n",
    "fim = time.time()\n",
    "print(\"Timeit calcularMediaHarmonica\" ,fim - inicio, \"segundos\")\n",
    "\n",
    "inicio = time.time()\n",
    "listaSalarios.calculaMediaAritmetrica()\n",
    "fim = time.time()\n",
    "print(\"Timeit calculaMediaAritmetrica\" ,fim - inicio, \"segundos\")\n",
    "\n",
    "inicio = time.time()\n",
    "listaSalarios.calculaDesvioPadrao()\n",
    "fim = time.time()\n",
    "print(\"Timeit calculaDesvioPadrao\" ,fim - inicio, \"segundos\")\n",
    "\n",
    "inicio = time.time()\n",
    "listaSalarios.calculaVariancia()\n",
    "fim = time.time()\n",
    "print(\"Timeit calculaVariancia\" ,fim - inicio, \"segundos\")"
   ]
  },
  {
   "cell_type": "code",
   "execution_count": 10,
   "id": "4a30a622",
   "metadata": {},
   "outputs": [
    {
     "name": "stdout",
     "output_type": "stream",
     "text": [
      "Mediana dos salários: 5306.576512746597\n",
      "Timeit mediana salarios 0.0010135173797607422 segundos\n",
      "Menor salário: 1363.6309285420184\n",
      "Timeit mostraMenor 0.0 segundos\n",
      "Maior salário: 9821.522220231682\n",
      "Timeit mostraMaior 0.0 segundos\n",
      "Timeit calcularMediaGeometrica 0.0 segundos\n",
      "Timeit calcularMediaHarmonica 0.0 segundos\n",
      "Timeit calculaMediaAritmetrica 0.0009946823120117188 segundos\n",
      "Timeit calculaDesvioPadrao 0.0 segundos\n",
      "Timeit calculaVariancia 0.0 segundos\n"
     ]
    }
   ],
   "source": [
    "import time\n",
    "\n",
    "inicio = time.time()\n",
    "listaSalarios2.mostraMediana()\n",
    "fim = time.time()\n",
    "print(\"Timeit mediana salarios\" ,fim - inicio, \"segundos\")\n",
    "\n",
    "inicio = time.time()\n",
    "listaSalarios2.mostraMenor()\n",
    "fim = time.time()\n",
    "print(\"Timeit mostraMenor\" ,fim - inicio, \"segundos\")\n",
    "\n",
    "inicio = time.time()\n",
    "listaSalarios2.mostraMaior()\n",
    "fim = time.time()\n",
    "print(\"Timeit mostraMaior\" ,fim - inicio, \"segundos\")\n",
    "\n",
    "inicio = time.time()\n",
    "listaSalarios2.calcularMediaGeometrica()\n",
    "fim = time.time()\n",
    "print(\"Timeit calcularMediaGeometrica\" ,fim - inicio, \"segundos\")\n",
    "\n",
    "inicio = time.time()\n",
    "listaSalarios2.calcularMediaHarmonica()\n",
    "fim = time.time()\n",
    "print(\"Timeit calcularMediaHarmonica\" ,fim - inicio, \"segundos\")\n",
    "\n",
    "inicio = time.time()\n",
    "listaSalarios2.calculaMediaAritmetrica()\n",
    "fim = time.time()\n",
    "print(\"Timeit calculaMediaAritmetrica\" ,fim - inicio, \"segundos\")\n",
    "\n",
    "inicio = time.time()\n",
    "listaSalarios2.calculaDesvioPadrao()\n",
    "fim = time.time()\n",
    "print(\"Timeit calculaDesvioPadrao\" ,fim - inicio, \"segundos\")\n",
    "\n",
    "inicio = time.time()\n",
    "listaSalarios2.calculaVariancia()\n",
    "fim = time.time()\n",
    "print(\"Timeit calculaVariancia\" ,fim - inicio, \"segundos\")"
   ]
  },
  {
   "cell_type": "markdown",
   "id": "3379249f",
   "metadata": {},
   "source": [
    "Vantagens de usar NumPy:\n",
    "-Eficiência \n",
    "-Operações vetoriais e de matriz\n",
    "-Facilidade de indexação e fatiamento\n",
    "-Ampla gama de funções\n",
    "\n",
    "Desvantagens de usar NumPy\n",
    "-Consumo de memória\n",
    "-Restrição de tipos de dados homogêneos"
   ]
  }
 ],
 "metadata": {
  "kernelspec": {
   "display_name": "Python 3 (ipykernel)",
   "language": "python",
   "name": "python3"
  },
  "language_info": {
   "codemirror_mode": {
    "name": "ipython",
    "version": 3
   },
   "file_extension": ".py",
   "mimetype": "text/x-python",
   "name": "python",
   "nbconvert_exporter": "python",
   "pygments_lexer": "ipython3",
   "version": "3.11.5"
  }
 },
 "nbformat": 4,
 "nbformat_minor": 5
}
