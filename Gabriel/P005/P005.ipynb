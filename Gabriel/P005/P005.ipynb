{
 "cells": [
  {
   "cell_type": "code",
   "execution_count": 124,
   "metadata": {},
   "outputs": [
    {
     "name": "stdout",
     "output_type": "stream",
     "text": [
      "1.24.3\n",
      "2.0.3\n"
     ]
    }
   ],
   "source": [
    "import numpy as np\n",
    "import pandas as pd\n",
    "\n",
    "print(np.__version__)\n",
    "print(pd.__version__)"
   ]
  },
  {
   "cell_type": "markdown",
   "metadata": {},
   "source": [
    "# Exercício 1: Criando um conjunto de dados"
   ]
  },
  {
   "cell_type": "code",
   "execution_count": 125,
   "metadata": {},
   "outputs": [],
   "source": [
    "id = [\"tic18Py06799\",\"tic18Py07100\",\"tic18Py05996\",\"tic18Py07799\",\"tic18Py08099\"]\n",
    "idade = [24,23,27,24,24]\n",
    "formacao = [3,2,1,2,2]\n",
    "formacaoGeral = [1,0,0,0,0]\n",
    "formarcaoEspecifica = [\"Ciência da Computação\",\"Engenharia Elétrica\",\"Engenharia Química\",\"Engenharia Química\",\"Engenharia Química\"]\n",
    "andamentoGraduacao = [None,90.16,81.38,76.94,75.58]\n",
    "tempoFormacao = [1,None,None,None,None]\n",
    "experienciaPrevia = [True,True,True,True,True]"
   ]
  },
  {
   "cell_type": "markdown",
   "metadata": {},
   "source": [
    "# Exercício 2: Trabalhando com Series"
   ]
  },
  {
   "cell_type": "code",
   "execution_count": 126,
   "metadata": {},
   "outputs": [],
   "source": [
    "index = pd.Index(id)\n",
    "idadeS = pd.Series(idade,index=index)\n",
    "formacaoS = pd.Series(formacao,index=index)\n",
    "formacaoGeralS = pd.Series(formacaoGeral,index=index)\n",
    "formacaoEspecificaS = pd.Series(formarcaoEspecifica,index=index)\n",
    "andamentoGraducaoS = pd.Series(andamentoGraduacao,index=index)\n",
    "tempoFormacaoS = pd.Series(tempoFormacao,index=index)\n",
    "experienciaPreviaS = pd.Series(experienciaPrevia,index=index)\n",
    "\n"
   ]
  },
  {
   "cell_type": "code",
   "execution_count": 127,
   "metadata": {},
   "outputs": [
    {
     "name": "stdout",
     "output_type": "stream",
     "text": [
      "idade media = 24.4\n",
      "idade minima =  23 pertencente a tic18Py07100\n",
      "idade maxima =  27 pertencente a tic18Py05996\n"
     ]
    }
   ],
   "source": [
    "print(\"idade media =\",idadeS.mean())\n",
    "minIdade = idadeS.idxmin()\n",
    "maxIdade = idadeS.idxmax()\n",
    "print(\"idade minima = \",idadeS[minIdade], \"pertencente a\", minIdade)\n",
    "print(\"idade maxima = \",idadeS[maxIdade], \"pertencente a\", maxIdade)\n",
    "\n"
   ]
  },
  {
   "cell_type": "code",
   "execution_count": 128,
   "metadata": {},
   "outputs": [
    {
     "name": "stdout",
     "output_type": "stream",
     "text": [
      "Tecnicos = 1\n",
      "Graduandos =  4\n",
      "Graduados =  1\n"
     ]
    }
   ],
   "source": [
    "contagem = formacaoS.value_counts()\n",
    "#Alunos com o perfil 1, contam tanto como tecnicos quanto como graduandos\n",
    "tecnicos = contagem.get(0,0)+contagem.get(1,0)\n",
    "graduandos = contagem.get(1,0)+contagem.get(2,0)\n",
    "graduados = contagem.get(3,0)\n",
    "print(\"Tecnicos =\",tecnicos)\n",
    "print(\"Graduandos = \",graduandos)\n",
    "print(\"Graduados = \", graduados)\n",
    "\n"
   ]
  },
  {
   "cell_type": "code",
   "execution_count": 129,
   "metadata": {},
   "outputs": [
    {
     "name": "stdout",
     "output_type": "stream",
     "text": [
      "Computação = 1\n",
      "Engenharia =  4\n"
     ]
    }
   ],
   "source": [
    "contagem = formacaoGeralS.value_counts()\n",
    "computacao = contagem.get(1,0)\n",
    "engenharia = contagem.get(0,0)\n",
    "print(\"Computação =\",computacao)\n",
    "print(\"Engenharia = \",engenharia)\n",
    "\n"
   ]
  },
  {
   "cell_type": "markdown",
   "metadata": {},
   "source": [
    "Exercício 3: Trabalhando com DataFrames"
   ]
  },
  {
   "cell_type": "code",
   "execution_count": 130,
   "metadata": {},
   "outputs": [
    {
     "data": {
      "text/html": [
       "<div>\n",
       "<style scoped>\n",
       "    .dataframe tbody tr th:only-of-type {\n",
       "        vertical-align: middle;\n",
       "    }\n",
       "\n",
       "    .dataframe tbody tr th {\n",
       "        vertical-align: top;\n",
       "    }\n",
       "\n",
       "    .dataframe thead th {\n",
       "        text-align: right;\n",
       "    }\n",
       "</style>\n",
       "<table border=\"1\" class=\"dataframe\">\n",
       "  <thead>\n",
       "    <tr style=\"text-align: right;\">\n",
       "      <th></th>\n",
       "      <th>Idade</th>\n",
       "      <th>Formação</th>\n",
       "      <th>Formação Geral</th>\n",
       "      <th>Formação Específica</th>\n",
       "      <th>Andamento da Graduação</th>\n",
       "      <th>Tempo de Formação</th>\n",
       "      <th>Experiencia com Programação</th>\n",
       "    </tr>\n",
       "  </thead>\n",
       "  <tbody>\n",
       "    <tr>\n",
       "      <th>tic18Py06799</th>\n",
       "      <td>24</td>\n",
       "      <td>3</td>\n",
       "      <td>1</td>\n",
       "      <td>Ciência da Computação</td>\n",
       "      <td>NaN</td>\n",
       "      <td>1.0</td>\n",
       "      <td>True</td>\n",
       "    </tr>\n",
       "    <tr>\n",
       "      <th>tic18Py07100</th>\n",
       "      <td>23</td>\n",
       "      <td>2</td>\n",
       "      <td>0</td>\n",
       "      <td>Engenharia Elétrica</td>\n",
       "      <td>90.16</td>\n",
       "      <td>NaN</td>\n",
       "      <td>True</td>\n",
       "    </tr>\n",
       "    <tr>\n",
       "      <th>tic18Py05996</th>\n",
       "      <td>27</td>\n",
       "      <td>1</td>\n",
       "      <td>0</td>\n",
       "      <td>Engenharia Química</td>\n",
       "      <td>81.38</td>\n",
       "      <td>NaN</td>\n",
       "      <td>True</td>\n",
       "    </tr>\n",
       "    <tr>\n",
       "      <th>tic18Py07799</th>\n",
       "      <td>24</td>\n",
       "      <td>2</td>\n",
       "      <td>0</td>\n",
       "      <td>Engenharia Química</td>\n",
       "      <td>76.94</td>\n",
       "      <td>NaN</td>\n",
       "      <td>True</td>\n",
       "    </tr>\n",
       "    <tr>\n",
       "      <th>tic18Py08099</th>\n",
       "      <td>24</td>\n",
       "      <td>2</td>\n",
       "      <td>0</td>\n",
       "      <td>Engenharia Química</td>\n",
       "      <td>75.58</td>\n",
       "      <td>NaN</td>\n",
       "      <td>True</td>\n",
       "    </tr>\n",
       "  </tbody>\n",
       "</table>\n",
       "</div>"
      ],
      "text/plain": [
       "              Idade  Formação  Formação Geral    Formação Específica  \\\n",
       "tic18Py06799     24         3               1  Ciência da Computação   \n",
       "tic18Py07100     23         2               0    Engenharia Elétrica   \n",
       "tic18Py05996     27         1               0     Engenharia Química   \n",
       "tic18Py07799     24         2               0     Engenharia Química   \n",
       "tic18Py08099     24         2               0     Engenharia Química   \n",
       "\n",
       "              Andamento da Graduação  Tempo de Formação  \\\n",
       "tic18Py06799                     NaN                1.0   \n",
       "tic18Py07100                   90.16                NaN   \n",
       "tic18Py05996                   81.38                NaN   \n",
       "tic18Py07799                   76.94                NaN   \n",
       "tic18Py08099                   75.58                NaN   \n",
       "\n",
       "              Experiencia com Programação  \n",
       "tic18Py06799                         True  \n",
       "tic18Py07100                         True  \n",
       "tic18Py05996                         True  \n",
       "tic18Py07799                         True  \n",
       "tic18Py08099                         True  "
      ]
     },
     "execution_count": 130,
     "metadata": {},
     "output_type": "execute_result"
    }
   ],
   "source": [
    "dadosDic = {'Idade':idade,\n",
    "            'Formação':formacao,\n",
    "            'Formação Geral':formacaoGeral,\n",
    "            'Formação Específica':formarcaoEspecifica,\n",
    "            'Andamento da Graduação':andamentoGraduacao,\n",
    "            'Tempo de Formação':tempoFormacao,\n",
    "            'Experiencia com Programação':experienciaPrevia}\n",
    "df = pd.DataFrame(dadosDic,index=id)\n",
    "df"
   ]
  },
  {
   "cell_type": "markdown",
   "metadata": {},
   "source": [
    "### Tratamento de Dados faltando"
   ]
  },
  {
   "cell_type": "markdown",
   "metadata": {},
   "source": [
    "O dados faltando podem ser lidados com uma filtragem dos mesmos para a realização de calculos como apresentado abaixo"
   ]
  },
  {
   "cell_type": "code",
   "execution_count": 131,
   "metadata": {},
   "outputs": [
    {
     "data": {
      "text/plain": [
       "81.015"
      ]
     },
     "execution_count": 131,
     "metadata": {},
     "output_type": "execute_result"
    }
   ],
   "source": [
    "#media do andamento de graduação\n",
    "\n",
    "df.loc[:,'Andamento da Graduação'].dropna().mean()"
   ]
  },
  {
   "cell_type": "code",
   "execution_count": 132,
   "metadata": {},
   "outputs": [
    {
     "name": "stdout",
     "output_type": "stream",
     "text": [
      "idade media = 24.4\n",
      "idade minima =  23 pertencente a tic18Py07100\n",
      "idade maxima =  27 pertencente a tic18Py05996\n"
     ]
    }
   ],
   "source": [
    "\n",
    "print(\"idade media =\",df.loc[:,'Idade'].mean())\n",
    "minIdade = df.loc[:,'Idade'].idxmin()\n",
    "maxIdade = df.loc[:,'Idade'].idxmax()\n",
    "print(\"idade minima = \",df.loc[minIdade,'Idade'], \"pertencente a\", minIdade)\n",
    "print(\"idade maxima = \",df.loc[maxIdade,'Idade'], \"pertencente a\", maxIdade)\n"
   ]
  },
  {
   "cell_type": "code",
   "execution_count": 133,
   "metadata": {},
   "outputs": [
    {
     "name": "stdout",
     "output_type": "stream",
     "text": [
      "idade media = 24.4\n",
      "idade minima =  23 pertencente a tic18Py07100\n",
      "idade maxima =  27 pertencente a tic18Py05996\n"
     ]
    }
   ],
   "source": [
    "\n",
    "print(\"idade media =\",df.loc[:,'Idade'].mean())\n",
    "minIdade = df.loc[:,'Idade'].idxmin()\n",
    "maxIdade = df.loc[:,'Idade'].idxmax()\n",
    "print(\"idade minima = \",df.loc[minIdade,'Idade'], \"pertencente a\", minIdade)\n",
    "print(\"idade maxima = \",df.loc[maxIdade,'Idade'], \"pertencente a\", maxIdade)\n"
   ]
  },
  {
   "cell_type": "code",
   "execution_count": 134,
   "metadata": {},
   "outputs": [
    {
     "name": "stdout",
     "output_type": "stream",
     "text": [
      "Tecnicos = 1\n",
      "Graduandos =  4\n",
      "Graduados =  1\n"
     ]
    }
   ],
   "source": [
    "contagem = df.loc[:,'Formação'].value_counts()\n",
    "#Alunos com o perfil 1, contam tanto como tecnicos quanto como graduandos\n",
    "tecnicos = contagem.get(0,0)+contagem.get(1,0)\n",
    "graduandos = contagem.get(1,0)+contagem.get(2,0)\n",
    "graduados = contagem.get(3,0)\n",
    "print(\"Tecnicos =\",tecnicos)\n",
    "print(\"Graduandos = \",graduandos)\n",
    "print(\"Graduados = \", graduados)"
   ]
  },
  {
   "cell_type": "code",
   "execution_count": 135,
   "metadata": {},
   "outputs": [
    {
     "name": "stdout",
     "output_type": "stream",
     "text": [
      "Computação = 1\n",
      "Engenharia =  4\n"
     ]
    }
   ],
   "source": [
    "contagem = df.loc[:,'Formação Geral'].value_counts()\n",
    "computacao = contagem.get(1,0)\n",
    "engenharia = contagem.get(0,0)\n",
    "print(\"Computação =\",computacao)\n",
    "print(\"Engenharia = \",engenharia)"
   ]
  },
  {
   "cell_type": "markdown",
   "metadata": {},
   "source": [
    "### Tratamento de Dados da Formação especifica\n"
   ]
  },
  {
   "cell_type": "markdown",
   "metadata": {},
   "source": [
    "O campo de formação expecifica, se preenchido pelo usuario, pode gerar diversas inconsitencias. As duas possiveis soluções são: ter um banco de dados com os nomes de cada formação especifica possivel, e fazer o usuario selecionar uma delas, contudo pode gerar o problema das opções disponiveis não conteplarem a formação do usuario, uma possivel solução é caso o usuario não encontre sua formação especifica é pela interação com o usuario adicionar uma nova formação"
   ]
  },
  {
   "cell_type": "code",
   "execution_count": 136,
   "metadata": {},
   "outputs": [
    {
     "name": "stdout",
     "output_type": "stream",
     "text": [
      "0 - engenharia elétrica\n",
      "1 - engenharia química\n",
      "2 - engenharia mecanica\n",
      "3 - ciencia da computação\n",
      "digite o indice que corresponde a sua formação (caso não esteja disponivel digite -1)\n",
      "\n",
      "formacao =  engenharia mecanica\n"
     ]
    }
   ],
   "source": [
    "\n",
    "formações = ['engenharia elétrica','engenharia química','engenharia mecanica','ciencia da computação']\n",
    "for i,formacao in enumerate(formações):\n",
    "    print(str(i)+\" - \"+str(formacao))\n",
    "print(\"digite o indice que corresponde a sua formação (caso não esteja disponivel digite -1)\")\n",
    "print()\n",
    "try:\n",
    "    indice = int(input())\n",
    "except:\n",
    "    print(\"valor invalido\")\n",
    "\n",
    "formacao = None\n",
    "\n",
    "if indice>-1 and indice<len(formações):\n",
    "    if indice!=1:\n",
    "        formacao = formações[indice]\n",
    "    else:\n",
    "        print(\"digite o nome da nova formação\")\n",
    "        novaFormação = input().lower()\n",
    "        formacao = novaFormação\n",
    "        formações.append(novaFormação)\n",
    "else:\n",
    "    print(\"valor invalido\")\n",
    "\n",
    "print(\"formacao = \",formacao)\n"
   ]
  },
  {
   "cell_type": "markdown",
   "metadata": {},
   "source": [
    "# Exercício 4: Trabalhando com MultiIndex"
   ]
  },
  {
   "cell_type": "code",
   "execution_count": 137,
   "metadata": {},
   "outputs": [],
   "source": [
    "tic18Py = [[\"06799\",\"tic18Py\",24,3,1,\"Ciência da Computação\",None,1,True],\n",
    "           [\"07100\",\"tic18Py\",23,2,0,\"Engenharia Elétrica\",90.16,None,True],\n",
    "           [\"05996\",\"tic18Py\",27,1,0,\"Engenharia Química\",81.38,None,True],\n",
    "           [\"07799\",\"tic18Py\",24,1,0,\"Engenharia Química\",76.94,None,True],\n",
    "           [\"08099\",\"tic18Py\",24,1,0,\"Engenharia Química\",75.58,None,True]]\n",
    "\n",
    "tic18Net = [[\"08200\",\"tic18Net\",23,1,1,\"Ciência da Computação\",66.00,None,True],\n",
    "            [\"86001\",\"tic18Net\",22,1,1,\"Ciência da Computação\",66.00,None,True],\n",
    "            [\"05999\",\"tic18Net\",24,2,0,\"Engenharia Elétrica\",99.00,None,True]]\n",
    "\n",
    "tic18Jav = [[\"06894\",\"tic18Jav\",29,2,1,\"Análise e Desenvolvimento de Sistemas\",78.00,None,False],\n",
    "            [\"06200\",\"tic18Jav\",23,2,0,\"Engenharia Elétrica\",72.00,None,False],\n",
    "            [\"86399\",\"tic18Jav\",24,2,0,\"Engenharia Química\",70.16,None,False],\n",
    "            [\"05594\",\"tic18Jav\",29,3,0,\"Engenharia Mecânica\",None,4,False],\n",
    "            [\"05800\",\"tic18Jav\",23,2,0,\"Engenharia Química\",80.00,None,False]]\n",
    "\n",
    "colunas = ['identificacao','trilha','idade','formacao','formacaoGeral','formacaoEspecifica','andamentoGraduacao','tempoFormacao','experienciaProgramacao']"
   ]
  },
  {
   "cell_type": "code",
   "execution_count": 138,
   "metadata": {},
   "outputs": [
    {
     "data": {
      "text/html": [
       "<div>\n",
       "<style scoped>\n",
       "    .dataframe tbody tr th:only-of-type {\n",
       "        vertical-align: middle;\n",
       "    }\n",
       "\n",
       "    .dataframe tbody tr th {\n",
       "        vertical-align: top;\n",
       "    }\n",
       "\n",
       "    .dataframe thead th {\n",
       "        text-align: right;\n",
       "    }\n",
       "</style>\n",
       "<table border=\"1\" class=\"dataframe\">\n",
       "  <thead>\n",
       "    <tr style=\"text-align: right;\">\n",
       "      <th></th>\n",
       "      <th></th>\n",
       "      <th>idade</th>\n",
       "      <th>formacao</th>\n",
       "      <th>formacaoGeral</th>\n",
       "      <th>formacaoEspecifica</th>\n",
       "      <th>andamentoGraduacao</th>\n",
       "      <th>tempoFormacao</th>\n",
       "      <th>experienciaProgramacao</th>\n",
       "    </tr>\n",
       "    <tr>\n",
       "      <th>identificacao</th>\n",
       "      <th>trilha</th>\n",
       "      <th></th>\n",
       "      <th></th>\n",
       "      <th></th>\n",
       "      <th></th>\n",
       "      <th></th>\n",
       "      <th></th>\n",
       "      <th></th>\n",
       "    </tr>\n",
       "  </thead>\n",
       "  <tbody>\n",
       "    <tr>\n",
       "      <th>06799</th>\n",
       "      <th>tic18Py</th>\n",
       "      <td>24</td>\n",
       "      <td>3</td>\n",
       "      <td>1</td>\n",
       "      <td>Ciência da Computação</td>\n",
       "      <td>NaN</td>\n",
       "      <td>1.0</td>\n",
       "      <td>True</td>\n",
       "    </tr>\n",
       "    <tr>\n",
       "      <th>07100</th>\n",
       "      <th>tic18Py</th>\n",
       "      <td>23</td>\n",
       "      <td>2</td>\n",
       "      <td>0</td>\n",
       "      <td>Engenharia Elétrica</td>\n",
       "      <td>90.16</td>\n",
       "      <td>NaN</td>\n",
       "      <td>True</td>\n",
       "    </tr>\n",
       "    <tr>\n",
       "      <th>05996</th>\n",
       "      <th>tic18Py</th>\n",
       "      <td>27</td>\n",
       "      <td>1</td>\n",
       "      <td>0</td>\n",
       "      <td>Engenharia Química</td>\n",
       "      <td>81.38</td>\n",
       "      <td>NaN</td>\n",
       "      <td>True</td>\n",
       "    </tr>\n",
       "    <tr>\n",
       "      <th>07799</th>\n",
       "      <th>tic18Py</th>\n",
       "      <td>24</td>\n",
       "      <td>1</td>\n",
       "      <td>0</td>\n",
       "      <td>Engenharia Química</td>\n",
       "      <td>76.94</td>\n",
       "      <td>NaN</td>\n",
       "      <td>True</td>\n",
       "    </tr>\n",
       "    <tr>\n",
       "      <th>08099</th>\n",
       "      <th>tic18Py</th>\n",
       "      <td>24</td>\n",
       "      <td>1</td>\n",
       "      <td>0</td>\n",
       "      <td>Engenharia Química</td>\n",
       "      <td>75.58</td>\n",
       "      <td>NaN</td>\n",
       "      <td>True</td>\n",
       "    </tr>\n",
       "    <tr>\n",
       "      <th>08200</th>\n",
       "      <th>tic18Net</th>\n",
       "      <td>23</td>\n",
       "      <td>1</td>\n",
       "      <td>1</td>\n",
       "      <td>Ciência da Computação</td>\n",
       "      <td>66.00</td>\n",
       "      <td>NaN</td>\n",
       "      <td>True</td>\n",
       "    </tr>\n",
       "    <tr>\n",
       "      <th>86001</th>\n",
       "      <th>tic18Net</th>\n",
       "      <td>22</td>\n",
       "      <td>1</td>\n",
       "      <td>1</td>\n",
       "      <td>Ciência da Computação</td>\n",
       "      <td>66.00</td>\n",
       "      <td>NaN</td>\n",
       "      <td>True</td>\n",
       "    </tr>\n",
       "    <tr>\n",
       "      <th>05999</th>\n",
       "      <th>tic18Net</th>\n",
       "      <td>24</td>\n",
       "      <td>2</td>\n",
       "      <td>0</td>\n",
       "      <td>Engenharia Elétrica</td>\n",
       "      <td>99.00</td>\n",
       "      <td>NaN</td>\n",
       "      <td>True</td>\n",
       "    </tr>\n",
       "    <tr>\n",
       "      <th>06894</th>\n",
       "      <th>tic18Jav</th>\n",
       "      <td>29</td>\n",
       "      <td>2</td>\n",
       "      <td>1</td>\n",
       "      <td>Análise e Desenvolvimento de Sistemas</td>\n",
       "      <td>78.00</td>\n",
       "      <td>NaN</td>\n",
       "      <td>False</td>\n",
       "    </tr>\n",
       "    <tr>\n",
       "      <th>06200</th>\n",
       "      <th>tic18Jav</th>\n",
       "      <td>23</td>\n",
       "      <td>2</td>\n",
       "      <td>0</td>\n",
       "      <td>Engenharia Elétrica</td>\n",
       "      <td>72.00</td>\n",
       "      <td>NaN</td>\n",
       "      <td>False</td>\n",
       "    </tr>\n",
       "    <tr>\n",
       "      <th>86399</th>\n",
       "      <th>tic18Jav</th>\n",
       "      <td>24</td>\n",
       "      <td>2</td>\n",
       "      <td>0</td>\n",
       "      <td>Engenharia Química</td>\n",
       "      <td>70.16</td>\n",
       "      <td>NaN</td>\n",
       "      <td>False</td>\n",
       "    </tr>\n",
       "    <tr>\n",
       "      <th>05594</th>\n",
       "      <th>tic18Jav</th>\n",
       "      <td>29</td>\n",
       "      <td>3</td>\n",
       "      <td>0</td>\n",
       "      <td>Engenharia Mecânica</td>\n",
       "      <td>NaN</td>\n",
       "      <td>4.0</td>\n",
       "      <td>False</td>\n",
       "    </tr>\n",
       "    <tr>\n",
       "      <th>05800</th>\n",
       "      <th>tic18Jav</th>\n",
       "      <td>23</td>\n",
       "      <td>2</td>\n",
       "      <td>0</td>\n",
       "      <td>Engenharia Química</td>\n",
       "      <td>80.00</td>\n",
       "      <td>NaN</td>\n",
       "      <td>False</td>\n",
       "    </tr>\n",
       "  </tbody>\n",
       "</table>\n",
       "</div>"
      ],
      "text/plain": [
       "                        idade  formacao  formacaoGeral  \\\n",
       "identificacao trilha                                     \n",
       "06799         tic18Py      24         3              1   \n",
       "07100         tic18Py      23         2              0   \n",
       "05996         tic18Py      27         1              0   \n",
       "07799         tic18Py      24         1              0   \n",
       "08099         tic18Py      24         1              0   \n",
       "08200         tic18Net     23         1              1   \n",
       "86001         tic18Net     22         1              1   \n",
       "05999         tic18Net     24         2              0   \n",
       "06894         tic18Jav     29         2              1   \n",
       "06200         tic18Jav     23         2              0   \n",
       "86399         tic18Jav     24         2              0   \n",
       "05594         tic18Jav     29         3              0   \n",
       "05800         tic18Jav     23         2              0   \n",
       "\n",
       "                                           formacaoEspecifica  \\\n",
       "identificacao trilha                                            \n",
       "06799         tic18Py                   Ciência da Computação   \n",
       "07100         tic18Py                     Engenharia Elétrica   \n",
       "05996         tic18Py                      Engenharia Química   \n",
       "07799         tic18Py                      Engenharia Química   \n",
       "08099         tic18Py                      Engenharia Química   \n",
       "08200         tic18Net                  Ciência da Computação   \n",
       "86001         tic18Net                  Ciência da Computação   \n",
       "05999         tic18Net                    Engenharia Elétrica   \n",
       "06894         tic18Jav  Análise e Desenvolvimento de Sistemas   \n",
       "06200         tic18Jav                    Engenharia Elétrica   \n",
       "86399         tic18Jav                     Engenharia Química   \n",
       "05594         tic18Jav                    Engenharia Mecânica   \n",
       "05800         tic18Jav                     Engenharia Química   \n",
       "\n",
       "                        andamentoGraduacao  tempoFormacao  \\\n",
       "identificacao trilha                                        \n",
       "06799         tic18Py                  NaN            1.0   \n",
       "07100         tic18Py                90.16            NaN   \n",
       "05996         tic18Py                81.38            NaN   \n",
       "07799         tic18Py                76.94            NaN   \n",
       "08099         tic18Py                75.58            NaN   \n",
       "08200         tic18Net               66.00            NaN   \n",
       "86001         tic18Net               66.00            NaN   \n",
       "05999         tic18Net               99.00            NaN   \n",
       "06894         tic18Jav               78.00            NaN   \n",
       "06200         tic18Jav               72.00            NaN   \n",
       "86399         tic18Jav               70.16            NaN   \n",
       "05594         tic18Jav                 NaN            4.0   \n",
       "05800         tic18Jav               80.00            NaN   \n",
       "\n",
       "                        experienciaProgramacao  \n",
       "identificacao trilha                            \n",
       "06799         tic18Py                     True  \n",
       "07100         tic18Py                     True  \n",
       "05996         tic18Py                     True  \n",
       "07799         tic18Py                     True  \n",
       "08099         tic18Py                     True  \n",
       "08200         tic18Net                    True  \n",
       "86001         tic18Net                    True  \n",
       "05999         tic18Net                    True  \n",
       "06894         tic18Jav                   False  \n",
       "06200         tic18Jav                   False  \n",
       "86399         tic18Jav                   False  \n",
       "05594         tic18Jav                   False  \n",
       "05800         tic18Jav                   False  "
      ]
     },
     "execution_count": 138,
     "metadata": {},
     "output_type": "execute_result"
    }
   ],
   "source": [
    "df = pd.DataFrame(tic18Py+tic18Net+tic18Jav,columns=colunas)\n",
    "df.set_index(colunas[0:2],inplace=True)\n",
    "df\n",
    "\n"
   ]
  },
  {
   "cell_type": "code",
   "execution_count": 139,
   "metadata": {},
   "outputs": [
    {
     "name": "stdout",
     "output_type": "stream",
     "text": [
      "\n",
      "trilha PYTHON\n",
      "idade media = 24.4\n",
      "idade minima =  23 pertencente a 07100\n",
      "idade maxima =  27 pertencente a 05996\n",
      "\n",
      "trilha .NET\n",
      "idade media = 23.0\n",
      "idade minima =  22 pertencente a 86001\n",
      "idade maxima =  24 pertencente a 05999\n",
      "\n",
      "trilha JAVA\n",
      "idade media = 25.6\n",
      "idade minima =  23 pertencente a 06200\n",
      "idade maxima =  29 pertencente a 06894\n"
     ]
    }
   ],
   "source": [
    "print(\"\\ntrilha PYTHON\")\n",
    "print(\"idade media =\",df.loc[pd.IndexSlice[:, 'tic18Py'], 'idade'].mean())\n",
    "minIdade = df.loc[pd.IndexSlice[:, 'tic18Py'], 'idade'].idxmin()\n",
    "maxIdade = df.loc[pd.IndexSlice[:, 'tic18Py'], 'idade'].idxmax()\n",
    "print(\"idade minima = \",df.loc[minIdade,'idade'], \"pertencente a\", minIdade[0])\n",
    "print(\"idade maxima = \",df.loc[maxIdade,'idade'], \"pertencente a\", maxIdade[0])\n",
    "print(\"\\ntrilha .NET\")\n",
    "print(\"idade media =\",df.loc[pd.IndexSlice[:, 'tic18Net'], 'idade'].mean())\n",
    "minIdade = df.loc[pd.IndexSlice[:, 'tic18Net'], 'idade'].idxmin()\n",
    "maxIdade = df.loc[pd.IndexSlice[:, 'tic18Net'], 'idade'].idxmax()\n",
    "print(\"idade minima = \",df.loc[minIdade,'idade'], \"pertencente a\", minIdade[0])\n",
    "print(\"idade maxima = \",df.loc[maxIdade,'idade'], \"pertencente a\", maxIdade[0])\n",
    "print(\"\\ntrilha JAVA\")\n",
    "print(\"idade media =\",df.loc[pd.IndexSlice[:, 'tic18Jav'], 'idade'].mean())\n",
    "minIdade = df.loc[pd.IndexSlice[:, 'tic18Jav'], 'idade'].idxmin()\n",
    "maxIdade = df.loc[pd.IndexSlice[:, 'tic18Jav'], 'idade'].idxmax()\n",
    "print(\"idade minima = \",df.loc[minIdade,'idade'], \"pertencente a\", minIdade[0])\n",
    "print(\"idade maxima = \",df.loc[maxIdade,'idade'], \"pertencente a\", maxIdade[0])"
   ]
  },
  {
   "cell_type": "code",
   "execution_count": 140,
   "metadata": {},
   "outputs": [
    {
     "name": "stdout",
     "output_type": "stream",
     "text": [
      "\n",
      "trilha PYTHON\n",
      "Tecnicos = 3\n",
      "Graduandos =  4\n",
      "Graduados =  1\n",
      "\n",
      "trilha .NET\n",
      "Tecnicos = 2\n",
      "Graduandos =  3\n",
      "Graduados =  0\n",
      "\n",
      "trilha JAVA\n",
      "Tecnicos = 0\n",
      "Graduandos =  4\n",
      "Graduados =  1\n"
     ]
    }
   ],
   "source": [
    "#Alunos com o perfil 1, contam tanto como tecnicos quanto como graduandos\n",
    "print(\"\\ntrilha PYTHON\")\n",
    "contagem = df.loc[pd.IndexSlice[:, 'tic18Py'], 'formacao'].value_counts()\n",
    "tecnicos = contagem.get(0,0)+contagem.get(1,0)\n",
    "graduandos = contagem.get(1,0)+contagem.get(2,0)\n",
    "graduados = contagem.get(3,0)\n",
    "print(\"Tecnicos =\",tecnicos)\n",
    "print(\"Graduandos = \",graduandos)\n",
    "print(\"Graduados = \", graduados)\n",
    "\n",
    "print(\"\\ntrilha .NET\")\n",
    "contagem = df.loc[pd.IndexSlice[:, 'tic18Net'], 'formacao'].value_counts()\n",
    "tecnicos = contagem.get(0,0)+contagem.get(1,0)\n",
    "graduandos = contagem.get(1,0)+contagem.get(2,0)\n",
    "graduados = contagem.get(3,0)\n",
    "print(\"Tecnicos =\",tecnicos)\n",
    "print(\"Graduandos = \",graduandos)\n",
    "print(\"Graduados = \", graduados)\n",
    "\n",
    "print(\"\\ntrilha JAVA\")\n",
    "contagem = df.loc[pd.IndexSlice[:, 'tic18Jav'], 'formacao'].value_counts()\n",
    "tecnicos = contagem.get(0,0)+contagem.get(1,0)\n",
    "graduandos = contagem.get(1,0)+contagem.get(2,0)\n",
    "graduados = contagem.get(3,0)\n",
    "print(\"Tecnicos =\",tecnicos)\n",
    "print(\"Graduandos = \",graduandos)\n",
    "print(\"Graduados = \", graduados)"
   ]
  },
  {
   "cell_type": "code",
   "execution_count": 141,
   "metadata": {},
   "outputs": [
    {
     "name": "stdout",
     "output_type": "stream",
     "text": [
      "\n",
      "trilha PYTHON\n",
      "Computação = 1\n",
      "Engenharia =  4\n",
      "\n",
      "trilha .NET\n",
      "Computação = 2\n",
      "Engenharia =  1\n",
      "\n",
      "trilha JAVA\n",
      "Computação = 1\n",
      "Engenharia =  4\n"
     ]
    }
   ],
   "source": [
    "print(\"\\ntrilha PYTHON\")\n",
    "contagem = df.loc[pd.IndexSlice[:, 'tic18Py'], 'formacaoGeral'].value_counts()\n",
    "computacao = contagem.get(1,0)\n",
    "engenharia = contagem.get(0,0)\n",
    "print(\"Computação =\",computacao)\n",
    "print(\"Engenharia = \",engenharia)\n",
    "\n",
    "print(\"\\ntrilha .NET\")\n",
    "contagem = df.loc[pd.IndexSlice[:, 'tic18Net'], 'formacaoGeral'].value_counts()\n",
    "computacao = contagem.get(1,0)\n",
    "engenharia = contagem.get(0,0)\n",
    "print(\"Computação =\",computacao)\n",
    "print(\"Engenharia = \",engenharia)\n",
    "\n",
    "print(\"\\ntrilha JAVA\")\n",
    "contagem = df.loc[pd.IndexSlice[:, 'tic18Jav'], 'formacaoGeral'].value_counts()\n",
    "computacao = contagem.get(1,0)\n",
    "engenharia = contagem.get(0,0)\n",
    "print(\"Computação =\",computacao)\n",
    "print(\"Engenharia = \",engenharia)"
   ]
  }
 ],
 "metadata": {
  "kernelspec": {
   "display_name": "tic18",
   "language": "python",
   "name": "python3"
  },
  "language_info": {
   "codemirror_mode": {
    "name": "ipython",
    "version": 3
   },
   "file_extension": ".py",
   "mimetype": "text/x-python",
   "name": "python",
   "nbconvert_exporter": "python",
   "pygments_lexer": "ipython3",
   "version": "3.11.5"
  }
 },
 "nbformat": 4,
 "nbformat_minor": 2
}
