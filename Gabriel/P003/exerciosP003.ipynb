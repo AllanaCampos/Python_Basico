{
 "cells": [
  {
   "cell_type": "code",
   "execution_count": 1,
   "metadata": {},
   "outputs": [],
   "source": [
    "import DataFruta_V1 as df\n",
    "import numpy as np"
   ]
  },
  {
   "cell_type": "code",
   "execution_count": 2,
   "metadata": {},
   "outputs": [],
   "source": [
    "n = 5000\n",
    "salarios = df.ListaSalarios.geraListaSalarios(n)\n",
    "\n",
    "\n",
    "salariosNp = np.array(salarios.getLista())\n"
   ]
  },
  {
   "cell_type": "code",
   "execution_count": 3,
   "metadata": {},
   "outputs": [
    {
     "name": "stdout",
     "output_type": "stream",
     "text": [
      "18.2 µs ± 220 ns per loop (mean ± std. dev. of 7 runs, 100,000 loops each)\n",
      "151 µs ± 192 ns per loop (mean ± std. dev. of 7 runs, 10,000 loops each)\n",
      "329 µs ± 604 ns per loop (mean ± std. dev. of 7 runs, 1,000 loops each)\n",
      "530 µs ± 1.42 µs per loop (mean ± std. dev. of 7 runs, 1,000 loops each)\n",
      "536 µs ± 2.46 µs per loop (mean ± std. dev. of 7 runs, 1,000 loops each)\n",
      "536 µs ± 4.24 µs per loop (mean ± std. dev. of 7 runs, 1,000 loops each)\n",
      "1.26 ms ± 31.2 µs per loop (mean ± std. dev. of 7 runs, 1,000 loops each)\n",
      "1.24 ms ± 8.48 µs per loop (mean ± std. dev. of 7 runs, 1,000 loops each)\n"
     ]
    }
   ],
   "source": [
    "%timeit (salarios.mediaAritimetica())\n",
    "%timeit (salarios.mediaGeometrica())\n",
    "%timeit (salarios.mediaHarmonica())\n",
    "%timeit (salarios.mostraMediana())\n",
    "%timeit (salarios.medianaInferior())\n",
    "%timeit (salarios.medianaSuperior())\n",
    "%timeit (salarios.varianciaPopulacional())\n",
    "%timeit (salarios.varianciaAmostral())"
   ]
  },
  {
   "cell_type": "markdown",
   "metadata": {},
   "source": [
    "Definindo novas funções para calculos estatisticos com arrays "
   ]
  },
  {
   "cell_type": "code",
   "execution_count": 4,
   "metadata": {},
   "outputs": [],
   "source": [
    "def npMediaGeometrica(array):\n",
    "    return np.prod(array)**(1/len(array))\n",
    "\n",
    "def npMediaHarmonica(array):\n",
    "    harm = 1/array\n",
    "    return len(array)/np.sum(harm)\n",
    "\n",
    "def npMedianaSup(array):\n",
    "    array1 = np.sort(array)\n",
    "    array1 = array1[len(array1)//2:]\n",
    "    return np.median(array1)\n",
    "\n",
    "def npMedianaInf(array):\n",
    "    array1 = np.sort(array)\n",
    "    array1 = array1[:len(array1)//2]\n",
    "    return np.median(array1)"
   ]
  },
  {
   "cell_type": "code",
   "execution_count": 6,
   "metadata": {},
   "outputs": [
    {
     "name": "stdout",
     "output_type": "stream",
     "text": [
      "11.2 µs ± 59.1 ns per loop (mean ± std. dev. of 7 runs, 100,000 loops each)\n",
      "15.4 µs ± 59.5 ns per loop (mean ± std. dev. of 7 runs, 100,000 loops each)\n",
      "16.2 µs ± 100 ns per loop (mean ± std. dev. of 7 runs, 100,000 loops each)\n",
      "100 µs ± 248 ns per loop (mean ± std. dev. of 7 runs, 10,000 loops each)\n",
      "301 µs ± 1.22 µs per loop (mean ± std. dev. of 7 runs, 1,000 loops each)\n",
      "301 µs ± 1.5 µs per loop (mean ± std. dev. of 7 runs, 1,000 loops each)\n",
      "41.2 µs ± 163 ns per loop (mean ± std. dev. of 7 runs, 10,000 loops each)\n",
      "41.9 µs ± 161 ns per loop (mean ± std. dev. of 7 runs, 10,000 loops each)\n"
     ]
    }
   ],
   "source": [
    "%timeit (np.mean(salariosNp))\n",
    "%timeit (npMediaGeometrica(salariosNp))\n",
    "%timeit (npMediaHarmonica(salariosNp))\n",
    "%timeit (np.median(salariosNp))\n",
    "%timeit (npMedianaInf(salariosNp))\n",
    "%timeit (npMedianaSup(salariosNp))\n",
    "%timeit (np.var(salariosNp))\n",
    "%timeit (np.var(salariosNp, ddof=1))\n"
   ]
  },
  {
   "cell_type": "markdown",
   "metadata": {},
   "source": [
    "É possivel notar que as implementações realizadas com o pacote numpy são muito mais eficientes, contudo como array são de tamanho e tipo estatico, diferente das listas, para adicionar ou remover um valor do mesmo, é necessario criar um novo array"
   ]
  },
  {
   "cell_type": "code",
   "execution_count": null,
   "metadata": {},
   "outputs": [],
   "source": [
    "lista = [1, 2, 3, 4 , 5]\n",
    "\n",
    "lista.append(6)\n",
    "print(lista)\n",
    "\n",
    "\n",
    "array = np.array([1,2,3,4,5])\n",
    "arraySec = np.zeros(6)\n",
    "arraySec[:5] = array[:]\n",
    "arraySec[-1:] = 6\n",
    "array = arraySec\n",
    "\n",
    "print(array)"
   ]
  }
 ],
 "metadata": {
  "kernelspec": {
   "display_name": "base",
   "language": "python",
   "name": "python3"
  },
  "language_info": {
   "codemirror_mode": {
    "name": "ipython",
    "version": 3
   },
   "file_extension": ".py",
   "mimetype": "text/x-python",
   "name": "python",
   "nbconvert_exporter": "python",
   "pygments_lexer": "ipython3",
   "version": "3.11.5"
  }
 },
 "nbformat": 4,
 "nbformat_minor": 2
}
