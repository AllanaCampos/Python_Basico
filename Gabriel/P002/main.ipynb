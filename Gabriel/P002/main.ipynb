{
 "cells": [
  {
   "cell_type": "code",
   "execution_count": 15,
   "metadata": {},
   "outputs": [],
   "source": [
    "import DataFruta as df"
   ]
  },
  {
   "cell_type": "markdown",
   "metadata": {},
   "source": [
    "Teste das novas funções"
   ]
  },
  {
   "cell_type": "code",
   "execution_count": 11,
   "metadata": {},
   "outputs": [
    {
     "name": "stdout",
     "output_type": "stream",
     "text": [
      "4114.15335015202, 5330.119383350873, 4583.878758919902, 5377.175481709362, 7207.976963861861\n",
      "----------------------------------------\n",
      "4114.15335015202, 5330.119383350873, 4583.878758919902, 5377.175481709362, 7207.976963861861\n"
     ]
    }
   ],
   "source": [
    "n = 5\n",
    "idades = df.geraListaIdade(n)\n",
    "salarios = df.geraListaSalarios(n)\n",
    "print(salarios)\n",
    "print(40*\"-\")\n",
    "print(salarios)"
   ]
  },
  {
   "cell_type": "code",
   "execution_count": 12,
   "metadata": {},
   "outputs": [],
   "source": [
    "n = 5000\n",
    "idades = df.geraListaIdade(n)\n",
    "salarios = df.geraListaSalarios(n)"
   ]
  },
  {
   "cell_type": "code",
   "execution_count": null,
   "metadata": {},
   "outputs": [],
   "source": []
  },
  {
   "cell_type": "markdown",
   "metadata": {},
   "source": [
    "Medindo desempenho para as idades"
   ]
  },
  {
   "cell_type": "code",
   "execution_count": 13,
   "metadata": {},
   "outputs": [
    {
     "name": "stdout",
     "output_type": "stream",
     "text": [
      "mediana\n",
      "413 µs ± 1.67 µs per loop (mean ± std. dev. of 7 runs, 1,000 loops each)\n",
      "maior\n",
      "413 µs ± 2.3 µs per loop (mean ± std. dev. of 7 runs, 1,000 loops each)\n",
      "menor\n",
      "412 µs ± 1.18 µs per loop (mean ± std. dev. of 7 runs, 1,000 loops each)\n"
     ]
    }
   ],
   "source": [
    "print(\"mediana\")\n",
    "%timeit idades.mostraMediana()\n",
    "print(\"maior\")\n",
    "%timeit idades.mostraMenor()\n",
    "print(\"menor\")\n",
    "%timeit idades.mostraMaior()"
   ]
  },
  {
   "cell_type": "markdown",
   "metadata": {},
   "source": [
    "Medindo desempenho para os salários"
   ]
  },
  {
   "cell_type": "code",
   "execution_count": 14,
   "metadata": {},
   "outputs": [
    {
     "name": "stdout",
     "output_type": "stream",
     "text": [
      "mediana\n",
      "526 µs ± 4.89 µs per loop (mean ± std. dev. of 7 runs, 1,000 loops each)\n",
      "maior\n",
      "522 µs ± 2.44 µs per loop (mean ± std. dev. of 7 runs, 1,000 loops each)\n",
      "menor\n",
      "522 µs ± 2.95 µs per loop (mean ± std. dev. of 7 runs, 1,000 loops each)\n"
     ]
    }
   ],
   "source": [
    "print(\"mediana\")\n",
    "%timeit salarios.mostraMediana()\n",
    "print(\"maior\")\n",
    "%timeit salarios.mostraMenor()\n",
    "print(\"menor\")\n",
    "%timeit salarios.mostraMaior()"
   ]
  }
 ],
 "metadata": {
  "kernelspec": {
   "display_name": "base",
   "language": "python",
   "name": "python3"
  },
  "language_info": {
   "codemirror_mode": {
    "name": "ipython",
    "version": 3
   },
   "file_extension": ".py",
   "mimetype": "text/x-python",
   "name": "python",
   "nbconvert_exporter": "python",
   "pygments_lexer": "ipython3",
   "version": "3.11.5"
  }
 },
 "nbformat": 4,
 "nbformat_minor": 2
}
