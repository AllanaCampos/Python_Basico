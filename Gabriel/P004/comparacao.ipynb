{
 "cells": [
  {
   "cell_type": "markdown",
   "metadata": {},
   "source": [
    "Para a comparação de ndarrays e listas criaremos uma lista de salários com 5000 valores aleatórios"
   ]
  },
  {
   "cell_type": "code",
   "execution_count": 10,
   "metadata": {},
   "outputs": [
    {
     "name": "stdout",
     "output_type": "stream",
     "text": [
      "[11939.922908134711, 5852.043007231481, 8145.593340105864, 11634.799194648393, 7387.564423961941]\n"
     ]
    }
   ],
   "source": [
    "import DataFruta_V1 as df\n",
    "salarios = df.ListaSalarios.geraListaSalario(5000)\n",
    "print(salarios.lista[:5])\n"
   ]
  },
  {
   "cell_type": "code",
   "execution_count": 3,
   "metadata": {},
   "outputs": [
    {
     "name": "stdout",
     "output_type": "stream",
     "text": [
      "514 µs ± 3.81 µs per loop (mean ± std. dev. of 7 runs, 1,000 loops each)\n",
      "511 µs ± 2.6 µs per loop (mean ± std. dev. of 7 runs, 1,000 loops each)\n",
      "516 µs ± 3.48 µs per loop (mean ± std. dev. of 7 runs, 1,000 loops each)\n",
      "1.23 ms ± 10 µs per loop (mean ± std. dev. of 7 runs, 1,000 loops each)\n",
      "1.22 ms ± 5.86 µs per loop (mean ± std. dev. of 7 runs, 1,000 loops each)\n",
      "21 µs ± 325 ns per loop (mean ± std. dev. of 7 runs, 100,000 loops each)\n",
      "151 µs ± 1.07 µs per loop (mean ± std. dev. of 7 runs, 10,000 loops each)\n",
      "329 µs ± 733 ns per loop (mean ± std. dev. of 7 runs, 1,000 loops each)\n",
      "1.22 ms ± 8.04 µs per loop (mean ± std. dev. of 7 runs, 1,000 loops each)\n",
      "1.24 ms ± 7.76 µs per loop (mean ± std. dev. of 7 runs, 1,000 loops each)\n"
     ]
    }
   ],
   "source": [
    "%timeit salarios.mostraMediana()\n",
    "%timeit salarios.mostraMenor()\n",
    "%timeit salarios.mostraMaior()\n",
    "%timeit salarios.mostraDesvioPadraoAmostral()\n",
    "%timeit salarios.mostraDesvioPadraoPopulacional()\n",
    "%timeit salarios.mostraMediaAritmetica()\n",
    "%timeit salarios.mostraMediaGeometrica()\n",
    "%timeit salarios.mostraMediaHarmonica()\n",
    "%timeit salarios.mostraVarianciaAmostral()\n",
    "%timeit salarios.mostraVarianciaPopulacional()\n"
   ]
  },
  {
   "cell_type": "code",
   "execution_count": 11,
   "metadata": {},
   "outputs": [
    {
     "name": "stdout",
     "output_type": "stream",
     "text": [
      "[11939.92290813  5852.04300723  8145.59334011 11634.79919465\n",
      "  7387.56442396]\n"
     ]
    }
   ],
   "source": [
    "import DataFruta_V2 as df\n",
    "salariosNp = df.ListaSalarios(salarios.lista)\n",
    "print(salariosNp.lista[:5])"
   ]
  },
  {
   "cell_type": "code",
   "execution_count": 12,
   "metadata": {},
   "outputs": [
    {
     "name": "stdout",
     "output_type": "stream",
     "text": [
      "91.9 µs ± 505 ns per loop (mean ± std. dev. of 7 runs, 10,000 loops each)\n",
      "6.94 µs ± 17.7 ns per loop (mean ± std. dev. of 7 runs, 100,000 loops each)\n",
      "6.97 µs ± 36.6 ns per loop (mean ± std. dev. of 7 runs, 100,000 loops each)\n",
      "45.9 µs ± 228 ns per loop (mean ± std. dev. of 7 runs, 10,000 loops each)\n",
      "45.1 µs ± 342 ns per loop (mean ± std. dev. of 7 runs, 10,000 loops each)\n",
      "11.6 µs ± 84.3 ns per loop (mean ± std. dev. of 7 runs, 100,000 loops each)\n",
      "15.3 µs ± 72.3 ns per loop (mean ± std. dev. of 7 runs, 100,000 loops each)\n",
      "16.3 µs ± 95.6 ns per loop (mean ± std. dev. of 7 runs, 100,000 loops each)\n",
      "42.7 µs ± 192 ns per loop (mean ± std. dev. of 7 runs, 10,000 loops each)\n",
      "45 µs ± 286 ns per loop (mean ± std. dev. of 7 runs, 10,000 loops each)\n"
     ]
    }
   ],
   "source": [
    "%timeit salariosNp.mostraMediana()\n",
    "%timeit salariosNp.mostraMenor()\n",
    "%timeit salariosNp.mostraMaior()\n",
    "%timeit salariosNp.mostraDesvioPadraoAmostral()\n",
    "%timeit salariosNp.mostraDesvioPadraoPopulacional()\n",
    "%timeit salariosNp.mostraMediaAritmetica()\n",
    "%timeit salariosNp.mostraMediaGeometrica()\n",
    "%timeit salariosNp.mostraMediaHarmonica()\n",
    "%timeit salariosNp.mostraVarianciaAmostral()\n",
    "%timeit salariosNp.mostraVarianciaPopulacional()\n"
   ]
  },
  {
   "cell_type": "markdown",
   "metadata": {},
   "source": [
    "A partir do observado podemos listar algumas vantagens e desvantagens na utilização de ndarray em comparação com listas:\n",
    "\n",
    "Vantagens:\n",
    "\n",
    "- Rapidez: Para os cálculos estatísticos ndarray são mais rápidos, comprova-se vizualizando o tempo gasto para cada cálculo feito anteriormente."
   ]
  },
  {
   "cell_type": "markdown",
   "metadata": {},
   "source": [
    "- ufunc: com a utilização de ufuncs o que seria necessário utilizar loops em listas se torna simples e menos verboso ao utilizar apenas um comando se tentarmos utilizar em listas da erro como a seguir:"
   ]
  },
  {
   "cell_type": "code",
   "execution_count": 13,
   "metadata": {},
   "outputs": [
    {
     "name": "stdout",
     "output_type": "stream",
     "text": [
      "[2387.98458163 1170.40860145 1629.11866802 2326.95983893 1477.51288479]\n",
      "unsupported operand type(s) for /: 'list' and 'int'\n"
     ]
    }
   ],
   "source": [
    "ex = salariosNp.lista/5\n",
    "print(ex[:5])\n",
    "try:\n",
    "    ex = salarios.lista/5\n",
    "except Exception as e:\n",
    "    print(e)"
   ]
  },
  {
   "cell_type": "markdown",
   "metadata": {},
   "source": [
    "- diversidade: os ndarrays possuem uma variedade de funções que as listas não possuem como observado abaixo:"
   ]
  },
  {
   "cell_type": "code",
   "execution_count": 14,
   "metadata": {},
   "outputs": [
    {
     "name": "stdout",
     "output_type": "stream",
     "text": [
      "['T', '__abs__', '__add__', '__and__', '__array__', '__array_finalize__', '__array_function__', '__array_interface__', '__array_prepare__', '__array_priority__', '__array_struct__', '__array_ufunc__', '__array_wrap__', '__bool__', '__class__', '__class_getitem__', '__complex__', '__contains__', '__copy__', '__deepcopy__', '__delattr__', '__delitem__', '__dir__', '__divmod__', '__dlpack__', '__dlpack_device__', '__doc__', '__eq__', '__float__', '__floordiv__', '__format__', '__ge__', '__getattribute__', '__getitem__', '__getstate__', '__gt__', '__hash__', '__iadd__', '__iand__', '__ifloordiv__', '__ilshift__', '__imatmul__', '__imod__', '__imul__', '__index__', '__init__', '__init_subclass__', '__int__', '__invert__', '__ior__', '__ipow__', '__irshift__', '__isub__', '__iter__', '__itruediv__', '__ixor__', '__le__', '__len__', '__lshift__', '__lt__', '__matmul__', '__mod__', '__mul__', '__ne__', '__neg__', '__new__', '__or__', '__pos__', '__pow__', '__radd__', '__rand__', '__rdivmod__', '__reduce__', '__reduce_ex__', '__repr__', '__rfloordiv__', '__rlshift__', '__rmatmul__', '__rmod__', '__rmul__', '__ror__', '__rpow__', '__rrshift__', '__rshift__', '__rsub__', '__rtruediv__', '__rxor__', '__setattr__', '__setitem__', '__setstate__', '__sizeof__', '__str__', '__sub__', '__subclasshook__', '__truediv__', '__xor__', 'all', 'any', 'argmax', 'argmin', 'argpartition', 'argsort', 'astype', 'base', 'byteswap', 'choose', 'clip', 'compress', 'conj', 'conjugate', 'copy', 'ctypes', 'cumprod', 'cumsum', 'data', 'diagonal', 'dot', 'dtype', 'dump', 'dumps', 'fill', 'flags', 'flat', 'flatten', 'getfield', 'imag', 'item', 'itemset', 'itemsize', 'max', 'mean', 'min', 'nbytes', 'ndim', 'newbyteorder', 'nonzero', 'partition', 'prod', 'ptp', 'put', 'ravel', 'real', 'repeat', 'reshape', 'resize', 'round', 'searchsorted', 'setfield', 'setflags', 'shape', 'size', 'sort', 'squeeze', 'std', 'strides', 'sum', 'swapaxes', 'take', 'tobytes', 'tofile', 'tolist', 'tostring', 'trace', 'transpose', 'var', 'view']\n",
      "['__add__', '__class__', '__class_getitem__', '__contains__', '__delattr__', '__delitem__', '__dir__', '__doc__', '__eq__', '__format__', '__ge__', '__getattribute__', '__getitem__', '__getstate__', '__gt__', '__hash__', '__iadd__', '__imul__', '__init__', '__init_subclass__', '__iter__', '__le__', '__len__', '__lt__', '__mul__', '__ne__', '__new__', '__reduce__', '__reduce_ex__', '__repr__', '__reversed__', '__rmul__', '__setattr__', '__setitem__', '__sizeof__', '__str__', '__subclasshook__', 'append', 'clear', 'copy', 'count', 'extend', 'index', 'insert', 'pop', 'remove', 'reverse', 'sort']\n"
     ]
    }
   ],
   "source": [
    "print(dir(salariosNp.lista))\n",
    "print(dir(salarios.lista))"
   ]
  },
  {
   "cell_type": "markdown",
   "metadata": {},
   "source": [
    "Desvantagens:\n",
    "\n",
    "- Extensibilidade: os ndarrays possuem tamanho estático enquanto as listas possuem tamanho dinâmico"
   ]
  },
  {
   "cell_type": "code",
   "execution_count": 17,
   "metadata": {},
   "outputs": [
    {
     "name": "stdout",
     "output_type": "stream",
     "text": [
      "[1, 2, 3]\n",
      "[1, 2, 3, 8]\n",
      "'numpy.ndarray' object has no attribute 'append'\n"
     ]
    }
   ],
   "source": [
    "lista = [1, 2, 3]\n",
    "print(lista)\n",
    "lista.append(8)\n",
    "print(lista)\n",
    "try:\n",
    "    salariosNp.lista.append(5)\n",
    "except Exception as e:\n",
    "    print(e)"
   ]
  }
 ],
 "metadata": {
  "kernelspec": {
   "display_name": "p10",
   "language": "python",
   "name": "python3"
  },
  "language_info": {
   "codemirror_mode": {
    "name": "ipython",
    "version": 3
   },
   "file_extension": ".py",
   "mimetype": "text/x-python",
   "name": "python",
   "nbconvert_exporter": "python",
   "pygments_lexer": "ipython3",
   "version": "3.11.5"
  }
 },
 "nbformat": 4,
 "nbformat_minor": 2
}
