{
 "cells": [
  {
   "cell_type": "markdown",
   "metadata": {},
   "source": [
    "# A caminhada aleatória\n",
    "\n",
    "O problema da caminhada aleatória surge, de diversas formas, em estratégias para resolução de problemas utilizando métodos probabilísticos. A ideia geral é simular uma dinâmica acompanhando uma \"partícula\" que se move, de  forma \"aleatória\" num domínio. Geralmente estamos interessados em acompanhar as trajetórias ou os sítios do domínio que foram visitados pela partícula.\n",
    "\n",
    "Vamos supor, por exemplo, que uma grade bidimensional, representada na forma de uma matriz, mapeia os cruzamentos das ruas de uma cidade. Um indivíduo sai de um destes cruzamentos e, escolhendo de forma aleatória em qual direção seguir vai de uma esquina a outra, sem sair da cidade. Qual a probabilidade deste indivíduo chegar a um determinado ponto da cidade? \n",
    "\n",
    "Esta é uma versão muito simplificada do problema conhecido como o \"Andar do bêbado\". Geralmente se trata de determinar alguma probabilidade, como no exemplo anterior, ou determinar quais as áreas com mais probabilidades de serem visitas (por quais esquinas o bêbado tem mais probabilidade de passar). Para estimar estes valores implementamos um algoritmo que realiza várias simulações, ou seja simula o percurso os percursos realizados por N indivíduos e conta quantos chegaram ao destino e/ou por quais esquinas passaram.  \n",
    "\n",
    "Vamos fazer algumas simulações baseadas neste problema?"
   ]
  },
  {
   "cell_type": "markdown",
   "metadata": {},
   "source": [
    "1. Suponha que a sua cidade é representada como uma matriz de 400 linhas por 400 colunas. Suponha também que o bar está localizado na posição i = 200 e j = 200 ( o bêbado sempre sai desta posição). Qual a probabilidade dele em casa sendo qu a mesma se encontra no canto superior esquerdo da matriz (i = 0, j = 0)? Mostre também, com um mapa de calor, as esquinas que tem maior probabilidade de serem visitadas pelo bêbado. A dinâmica do trajeto é a seguinte. \n",
    "* O bêbado sempre sai do bar escolhendo uma das quatro possíveis direciones, que o levará a uma esquina (up, down right or left).\n",
    "* Toda vez que o bêbado chega numa esquina você precisa contar que a mesma foi visitada;\n",
    "* Se a esquina visitada não for o destino final o bêbado escolhe uma nova direção para andar entre as quatro possíveis, o que levará a uma nova esquina.\n",
    "* Toda vez que o bêbado chega numa borda as direções que o levariam a sair do domínio sào descartadas ( a cidade tem uma muralha a prova de bêbados).\n",
    "* Após ter visitado 500 esquina e se ainda não tiver chegado em casa a simulação para e começamos uma nova; \n",
    "* Toda vez que o a simulação leve o bêbado até em casa, contabiliza uma chegada e começa uma nova simulação;\n",
    "* Vamos escolher fazer 1000 simulações;\n",
    "* Após concluídas as 1000 simulações calculamos a probabilidade como o número de chegadas em casa dividido por 1000;\n",
    "* A matriz visualizada como uma imagem serve como mapa de calor para mostrar as esquinas mais visitadas. Como geramos esta visualização?\n",
    "\n"
   ]
  },
  {
   "cell_type": "code",
   "execution_count": 7,
   "metadata": {},
   "outputs": [],
   "source": [
    "import numpy as np\n",
    "import random as rd"
   ]
  },
  {
   "cell_type": "code",
   "execution_count": 8,
   "metadata": {},
   "outputs": [],
   "source": [
    "def determinaDirecao(cidade,pos): \n",
    "    #0 up, 1 down, 2 rigth, 3 left\n",
    "    direcao = int(rd.randint(0,3))\n",
    "    match direcao:\n",
    "        case 0:\n",
    "            return (pos[0]-1, pos[1])\n",
    "        case 1:\n",
    "            return (pos[0]+1, pos[1])\n",
    "        case 2:\n",
    "            return (pos[0], pos[1]+1)\n",
    "        case 3:\n",
    "            return (pos[0], pos[1]-1)"
   ]
  },
  {
   "cell_type": "code",
   "execution_count": 9,
   "metadata": {},
   "outputs": [],
   "source": [
    "\n",
    "def simulacao(qtdMax = 500,posInicial = (200,200), target = (0,0)):\n",
    "    cidade = np.zeros((400,400),dtype=\"int\")\n",
    "    pos = posInicial\n",
    "    cidade[pos] = 1\n",
    "    qtd = 0\n",
    "    chegou = False\n",
    "\n",
    "    while qtd<qtdMax:\n",
    "        qtd += 1\n",
    "        newPos = determinaDirecao(cidade,pos)\n",
    "        while (max(newPos)>399 or min(newPos)<0):\n",
    "            newPos = determinaDirecao(cidade,pos)\n",
    "        pos = newPos\n",
    "        \n",
    "        #print(pos)\n",
    "        cidade[pos] += 1\n",
    "        if pos == target:\n",
    "            chegou=True\n",
    "            break\n",
    "    \n",
    "        \n",
    "\n",
    "    return (cidade,chegou)\n",
    "\n",
    "\n"
   ]
  },
  {
   "cell_type": "code",
   "execution_count": 10,
   "metadata": {},
   "outputs": [],
   "source": [
    "import matplotlib.pyplot as plt\n",
    "\n"
   ]
  },
  {
   "cell_type": "code",
   "execution_count": 11,
   "metadata": {},
   "outputs": [],
   "source": [
    "cidade, chegou = simulacao()"
   ]
  },
  {
   "cell_type": "code",
   "execution_count": 12,
   "metadata": {},
   "outputs": [
    {
     "data": {
      "image/png": "[encoded data removed]",
      "text/plain": [
       "<Figure size 640x480 with 1 Axes>"
      ]
     },
     "metadata": {},
     "output_type": "display_data"
    }
   ],
   "source": [
    "\n",
    "cidade = np.zeros((400,400),dtype=\"int\")\n",
    "chegou = []\n",
    "numSimulacoes = 1000\n",
    "for _ in range(numSimulacoes):\n",
    "    c, ch = simulacao()\n",
    "    cidade+=c\n",
    "    chegou.append(ch)\n",
    "\n",
    "\n",
    "#%matplotlib widget\n",
    "im = plt.imshow(cidade, cmap='hot')\n",
    "plt.title(\"Prop = \"+str(sum(chegou)/numSimulacoes));\n"
   ]
  },
  {
   "cell_type": "code",
   "execution_count": null,
   "metadata": {},
   "outputs": [],
   "source": []
  }
 ],
 "metadata": {
  "kernelspec": {
   "display_name": "Python 3 (ipykernel)",
   "language": "python",
   "name": "python3"
  },
  "language_info": {
   "codemirror_mode": {
    "name": "ipython",
    "version": 3
   },
   "file_extension": ".py",
   "mimetype": "text/x-python",
   "name": "python",
   "nbconvert_exporter": "python",
   "pygments_lexer": "ipython3",
   "version": "3.11.4"
  }
 },
 "nbformat": 4,
 "nbformat_minor": 2
}
