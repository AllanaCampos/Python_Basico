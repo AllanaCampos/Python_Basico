{
 "cells": [
  {
   "cell_type": "markdown",
   "metadata": {},
   "source": [
    "# Segunda Avaliação Parcial\n",
    "\n",
    "Neste módulo trabalhamos a visualização de dados, assim como as técnicas para acessar estes dados da internet. As técnicas de web scraping que estudamos, usando __Requests__, __Beautiful Soup__ e __Selenium__, permitem implementar aplicações que processam informação diretamente da rede.  \n",
    "\n",
    "Desde a Instrução prática 7, por exemplo, estamos trabalhando com dados que baixamos do [Instituto Nacional de Meteorologia](https://portal.inmet.gov.br/dadoshistoricos).  \n",
    "\n",
    "Aprendemos também como implementar uma aplicação com GUI utilizando o __TK Inter__. \n",
    "\n",
    "Neste contexto vamos implementar uma aplicação que, a traves de uma GUI, permita gerar gráficos de precipitações e temperaturas medias mensais de um determinado ano, para uma estação meteorológica. A atividade deve ser organizada da seguinte forma."
   ]
  },
  {
   "cell_type": "markdown",
   "metadata": {},
   "source": [
    "## Exercício 1\n",
    "\n",
    "__Primeiro protótipo__: Desenvolva uma interface gráfica que pegue, em tempo real, as informações sobre os dados de quais anos estão disponíveis no site do [Instituto Nacional de Meteorologia](https://portal.inmet.gov.br/dadoshistoricos). Os anos disponíveis devem ser apresentados utilizando um widget apropriado que permita selecionar um, e apenas um ano. Se não tiver conexão a Internet ou se o site não estiver disponível o aplicativo deve mostrar uma mensagem de erro na interface.\n"
   ]
  },
  {
   "cell_type": "markdown",
   "metadata": {},
   "source": [
    "### Requisição e manipulação dos dados da web\n",
    "Foi criada a classe manipulação de dados\n",
    "Para realizar a requisição dos dados foi utilizado a pacote __requests__  e __BeautifulSoup__ para que fosse possivel agrupar o anos disponiveis e os links para o donwload dos arquivos referentes ao ano\n",
    "\n",
    "\n"
   ]
  },
  {
   "cell_type": "code",
   "execution_count": 1,
   "metadata": {},
   "outputs": [],
   "source": [
    "import requests\n",
    "from bs4 import BeautifulSoup\n",
    "\n",
    "class ManipulacaoDeDados():\n",
    "    def __init__(self):\n",
    "        self._anosLinks = []\n",
    "\n",
    "        \n",
    "        headers = {\n",
    "            'User-Agent': 'Mozilla/5.0 (Windows NT 10.0; Win64; x64) AppleWebKit/537.36 (KHTML, like Gecko) Chrome/58.0.3029.110 Safari/537.3'\n",
    "        }\n",
    "        try:\n",
    "            resposta = requests.get(\"https://portal.inmet.gov.br/dadoshistoricos\", headers=headers)\n",
    "\n",
    "        \n",
    "\n",
    "            html = BeautifulSoup(resposta.text, 'html.parser')\n",
    "        \n",
    "            articlesTag = html.find_all('article')\n",
    "\n",
    "\n",
    "            for article in articlesTag:\n",
    "                link = article.find('a')[\"href\"]\n",
    "                \n",
    "                ano = article.find('a').string.split(\" \")[1]\n",
    "                self._anosLinks.append({\"ano\":ano,\"link\":link})\n",
    "        except:\n",
    "            pass\n",
    "    "
   ]
  },
  {
   "cell_type": "markdown",
   "metadata": {},
   "source": [
    "Exemplo da implementação"
   ]
  },
  {
   "cell_type": "code",
   "execution_count": 2,
   "metadata": {},
   "outputs": [
    {
     "name": "stdout",
     "output_type": "stream",
     "text": [
      "2000, https://portal.inmet.gov.br/uploads/dadoshistoricos/2000.zip\n",
      "2001, https://portal.inmet.gov.br/uploads/dadoshistoricos/2001.zip\n",
      "2002, https://portal.inmet.gov.br/uploads/dadoshistoricos/2002.zip\n",
      "2003, https://portal.inmet.gov.br/uploads/dadoshistoricos/2003.zip\n",
      "2004, https://portal.inmet.gov.br/uploads/dadoshistoricos/2004.zip\n",
      "2005, https://portal.inmet.gov.br/uploads/dadoshistoricos/2005.zip\n",
      "2006, https://portal.inmet.gov.br/uploads/dadoshistoricos/2006.zip\n",
      "2007, https://portal.inmet.gov.br/uploads/dadoshistoricos/2007.zip\n",
      "2008, https://portal.inmet.gov.br/uploads/dadoshistoricos/2008.zip\n",
      "2009, https://portal.inmet.gov.br/uploads/dadoshistoricos/2009.zip\n",
      "2010, https://portal.inmet.gov.br/uploads/dadoshistoricos/2010.zip\n",
      "2011, https://portal.inmet.gov.br/uploads/dadoshistoricos/2011.zip\n",
      "2012, https://portal.inmet.gov.br/uploads/dadoshistoricos/2012.zip\n",
      "2013, https://portal.inmet.gov.br/uploads/dadoshistoricos/2013.zip\n",
      "2014, https://portal.inmet.gov.br/uploads/dadoshistoricos/2014.zip\n",
      "2015, https://portal.inmet.gov.br/uploads/dadoshistoricos/2015.zip\n",
      "2016, https://portal.inmet.gov.br/uploads/dadoshistoricos/2016.zip\n",
      "2017, https://portal.inmet.gov.br/uploads/dadoshistoricos/2017.zip\n",
      "2018, https://portal.inmet.gov.br/uploads/dadoshistoricos/2018.zip\n",
      "2019, https://portal.inmet.gov.br/uploads/dadoshistoricos/2019.zip\n",
      "2020, https://portal.inmet.gov.br/uploads/dadoshistoricos/2020.zip\n",
      "2021, https://portal.inmet.gov.br/uploads/dadoshistoricos/2021.zip\n",
      "2022, https://portal.inmet.gov.br/uploads/dadoshistoricos/2022.zip\n",
      "2023, https://portal.inmet.gov.br/uploads/dadoshistoricos/2023.zip\n",
      "2024, https://portal.inmet.gov.br/uploads/dadoshistoricos/2024.zip\n"
     ]
    }
   ],
   "source": [
    "dados = ManipulacaoDeDados()\n",
    "for i in dados._anosLinks:\n",
    "    print(f\"{i['ano']}, {i['link']}\")"
   ]
  },
  {
   "cell_type": "markdown",
   "metadata": {},
   "source": [
    "Execução do protopito 01"
   ]
  },
  {
   "cell_type": "code",
   "execution_count": null,
   "metadata": {},
   "outputs": [],
   "source": [
    "#%run -m climaplotEx1 ;"
   ]
  },
  {
   "cell_type": "markdown",
   "metadata": {},
   "source": [
    "## Exercício 2\n",
    "\n",
    "__Segundo protótipo__: Com base no ano escolhido sua aplicação deve baixar o arquivo compactado, com os dados de todas as estações, descompactar ele numa pasta temporária e mostrar em um outro widget a lista de estações disponíveis para selecionar uma e apenas uma delas. O widget do protótipo anterior deve ficar disponível para que o usuário possa trocar o ano se desejar. Nesse caso um novo arquivo será baixado e descompactado e as estações disponíveis exibidas para seleção."
   ]
  },
  {
   "cell_type": "markdown",
   "metadata": {},
   "source": [
    "### Donwload e descompactação dos arquivos .zip\n",
    "Para realizar o donwload a classe ManipulacaoDeDados foi expandida. \n",
    "Ganhando um novo atributo __path__ referente ao caminho de download.\n",
    "O pacote __os__ para verificar se o arquivo ja foi baixado anteriormente e para criar a pasta que receberá os donwloads caso a mesma não tenha sido criada antes. \n",
    "O pacote __wget__ é utilizado para realizar o donwload do arquivo csv recebendo o link do donwload como parametro. \n",
    "O pacote __zipfile__ é reponsavel por descompactar o arquivo zip em uma subpasta com o nome do ano.\n",
    "A função __getEstacoes__ rebece um ano como parametro e busca todos os arquivos contidos na pasta com o nome do ano e retorna uma lista de dicionarios com o nome e caminho de cada estação\n",
    "\n"
   ]
  },
  {
   "cell_type": "code",
   "execution_count": 3,
   "metadata": {},
   "outputs": [],
   "source": [
    "import requests\n",
    "from bs4 import BeautifulSoup\n",
    "import wget\n",
    "import zipfile\n",
    "import os\n",
    "\n",
    "class ManipulacaoDeDados():\n",
    "    def __init__(self):\n",
    "        self._anosLinks = []\n",
    "        self._path=\"./climaplotDonwloads/\"\n",
    "\n",
    "        if not os.path.exists(self._path):\n",
    "            os.makedirs(self._path)\n",
    "        \n",
    "        headers = {\n",
    "            'User-Agent': 'Mozilla/5.0 (Windows NT 10.0; Win64; x64) AppleWebKit/537.36 (KHTML, like Gecko) Chrome/58.0.3029.110 Safari/537.3'\n",
    "        }\n",
    "        try:\n",
    "            resposta = requests.get(\"https://portal.inmet.gov.br/dadoshistoricos\", headers=headers)\n",
    "\n",
    "        \n",
    "\n",
    "            html = BeautifulSoup(resposta.text, 'html.parser')\n",
    "        \n",
    "            articlesTag = html.find_all('article')\n",
    "\n",
    "\n",
    "            for article in articlesTag:\n",
    "                link = article.find('a')[\"href\"]\n",
    "                \n",
    "                ano = article.find('a').string.split(\" \")[1]\n",
    "                self._anosLinks.append({\"ano\":ano,\"link\":link})\n",
    "        except:\n",
    "            pass\n",
    "\n",
    "    \n",
    "\n",
    "    def getDados(self):\n",
    "        return self._anosLinks\n",
    "\n",
    "    def getPath(self):\n",
    "        return self._path\n",
    "        \n",
    "\n",
    "    def donwloadCSV(dado,path):\n",
    "\n",
    "        ano = dado[\"ano\"]\n",
    "        link = dado[\"link\"]\n",
    "\n",
    "        pathArquivo = os.path.join(path, ano + \".zip\")\n",
    "\n",
    "        \n",
    "        if  not ano+\".zip\" in os.listdir(path):\n",
    "            wget.download(link,pathArquivo)\n",
    "            with zipfile.ZipFile(pathArquivo,\"r\") as zip:\n",
    "                if  zip.namelist()[0].split(\"/\")[0] == ano:\n",
    "                    zip.extractall(path)\n",
    "                else:\n",
    "                    zip.extractall(path+\"/\"+ano+\"/\")\n",
    "    \n",
    "\n",
    "    def getEstacoes(ano,path):\n",
    "        estacoes = []\n",
    "        try:\n",
    "            files = os.listdir(path+ano+\"/\")\n",
    "            for file in files:\n",
    "                estacoes.append({\n",
    "                    \"estação\":file.split(\"_\")[4],\n",
    "                    \"path\": os.path.join(path,ano, file)})\n",
    "        except Exception:\n",
    "            print(f\"Não há dados de estações baixadas para o ano {ano}\")\n",
    "\n",
    "        return estacoes\n",
    "    "
   ]
  },
  {
   "cell_type": "markdown",
   "metadata": {},
   "source": [
    "Exemplo da implementação\n"
   ]
  },
  {
   "cell_type": "code",
   "execution_count": null,
   "metadata": {},
   "outputs": [],
   "source": [
    "dados = ManipulacaoDeDados()\n",
    "i = int(input(f\"Digite um valor entre {0} e {len(dados._anosLinks)-1} para selecionar o ano\"))\n",
    "ManipulacaoDeDados.donwloadCSV(dados._anosLinks[i], dados._path)\n",
    "estacoes = ManipulacaoDeDados.getEstacoes(dados._anosLinks[i]['ano'],dados._path)\n",
    "for j,k in enumerate(estacoes):\n",
    "    print(f\"{j}: \\testação: {k['estação']},    csv path: {k['path']}\")"
   ]
  },
  {
   "cell_type": "markdown",
   "metadata": {},
   "source": [
    "Execução do protopito 02"
   ]
  },
  {
   "cell_type": "code",
   "execution_count": null,
   "metadata": {},
   "outputs": [],
   "source": [
    "#%run -m climaplotEx2 ;"
   ]
  },
  {
   "cell_type": "markdown",
   "metadata": {},
   "source": [
    "# Exercício 3\n",
    "\n",
    "__Terceiro protótipo__: Com base na estação selecionada gere e exiba dentro da aplicação os gráficos de precipitações e temperaturas medias mensais para a estação selecionada. A interface deve permitir que o usuário troque a estação selecionada a qualquer momento, assim como foi feito co o ano, gerando novos gráficos.   "
   ]
  },
  {
   "cell_type": "markdown",
   "metadata": {},
   "source": [
    "### Geração de graficos\n",
    "Para a geração de graficos foi criada uma nova classe __AnaliseDeDados__ que em seu construtor recepe como parametro o caminho para o arquivo csv\n",
    "O mesmo tambem é responsavel por criar uma Pandas.DataFrame com caminho do csv e fazer o primeiro tratamento, garantindo que o DataFrame seja padronizado observando as principais discrepancias entre os CSVs.\n",
    "A classe tambem conta com um metodo filtraDados que filtra os dados que foram preenchidos com valor muito grande\n",
    "Tambem conta com o metodo __geraGraficos__ que gera os graficos de temperatura e precipitação media mensal e retorna o GCF que serve como parametro para a integração com a interface\n",
    "Para tornar o processo mais comodo e evitar que a interface tenha uma  instancia da classe __AnaliseDeDados__ como parametro fui desenvolvida a função __plotGraficos__ que internamente cria uma instancia da clase __AnaliseDeDados__, filtra os dados, gera o grafico e retorna o GCF"
   ]
  },
  {
   "cell_type": "code",
   "execution_count": null,
   "metadata": {},
   "outputs": [],
   "source": [
    "import pandas as pd\n",
    "from numpy import nan\n",
    "import matplotlib.pyplot as plt\n",
    "\n",
    "class AnaliseDeDados():\n",
    "    \"\"\"\n",
    "        Classe responsavel por abrir o arquivo csv, transforma-lo em um Pandas.DataFrame, filtrar os dados e gerar os graficos\n",
    "    \"\"\"\n",
    "    def __init__(self,csv):\n",
    "        \"\"\"\n",
    "            Construtor da classe recebe o caminho para o arquivo csv como parametro\n",
    "        \"\"\"\n",
    "        self._df = pd.read_csv(csv, encoding='iso-8859-1', decimal=',', delimiter=';', skiprows=8)\n",
    "        self._df.rename({\"DATA (YYYY-MM-DD)\":\"Data\",\"HORA (UTC)\":\"Hora\",\"Hora UTC\":\"Hora\"},axis=1,inplace=True)\n",
    "        self._df.index = pd.DatetimeIndex(self._df[\"Data\"]+\" \"+self._df[\"Hora\"], name=\"DATA\")\n",
    "\n",
    "\n",
    "        \n",
    "    def filtraDados(self):\n",
    "        \"\"\"\n",
    "            Metodo resposavel por filtrar dados preenchidos de modo a represebtar dados faltando\n",
    "        \"\"\"\n",
    "        self._df.loc[self._df[\"PRECIPITAÇÃO TOTAL, HORÁRIO (mm)\"].abs() > 1000, \"PRECIPITAÇÃO TOTAL, HORÁRIO (mm)\"] = nan\n",
    "        self._df.loc[self._df[\"TEMPERATURA DO PONTO DE ORVALHO (°C)\"].abs() > 1000, \"TEMPERATURA DO PONTO DE ORVALHO (°C)\"] = nan\n",
    "    \n",
    "\n",
    "    def geraGraficos(self):\n",
    "        \"\"\"\n",
    "            Metodo responsavel por gerar os graficos de temperatura media mensal do ponto de orvalho e de precipitação media mensal \n",
    "        \"\"\"\n",
    "        plt.clf()\n",
    "        plt.subplot(2,1,1)\n",
    "        self._df.groupby(self._df.index.month)[\"TEMPERATURA DO PONTO DE ORVALHO (°C)\"].mean().plot(\n",
    "            ylabel=\"TEMPERATURA (°C)\",\n",
    "            xlabel=\"MÊS\",\n",
    "            title=\"TEMPERATURA MÉDIA MENSAL DO PONTO DE ORVALHO (°C)\",\n",
    "            marker=\"o\")\n",
    "        plt.xticks(range(1, 13)) \n",
    "        plt.grid()\n",
    "        plt.subplot(2,1,2)\n",
    "        self._df.groupby(self._df.index.month)[\"PRECIPITAÇÃO TOTAL, HORÁRIO (mm)\"].mean().plot(\n",
    "            ylabel=\"PRECIPITAÇÃO (mm)\",\n",
    "            xlabel=\"MÊS\",\n",
    "            title=\"PRECIPITAÇÃO MÉDIA MENSAL \",\n",
    "            marker=\"o\")\n",
    "        plt.grid()\n",
    "        plt.subplots_adjust(wspace=1,hspace=1)\n",
    "        plt.xticks(range(1, 13)) \n",
    "        return plt.gcf()\n",
    "    \n",
    "    def plotGrafico(csv):\n",
    "        grafico = AnaliseDeDados(csv)\n",
    "        grafico.filtraDados()\n",
    "        return grafico.geraGraficos()"
   ]
  },
  {
   "cell_type": "markdown",
   "metadata": {},
   "source": [
    "Exemplo da implementação"
   ]
  },
  {
   "cell_type": "code",
   "execution_count": null,
   "metadata": {},
   "outputs": [],
   "source": [
    "dados = ManipulacaoDeDados()\n",
    "i = int(input(f\"Digite um valor entre {0} e {len(dados._anosLinks)-1} para selecionar o ano\"))\n",
    "ManipulacaoDeDados.donwloadCSV(dados._anosLinks[i], dados._path)\n",
    "estacoes = ManipulacaoDeDados.getEstacoes(dados._anosLinks[i]['ano'],dados._path)\n",
    "for j,k in enumerate(estacoes):\n",
    "    print(f\"{j}: \\testação: {k['estação']},    csv path: {k['path']}\")\n",
    "i = int(input(f\"Digite um valor entre {0} e {j} para selecionar a estção\"))\n",
    "\n",
    "AnaliseDeDados.plotGrafico(estacoes[i][\"path\"]);"
   ]
  },
  {
   "cell_type": "markdown",
   "metadata": {},
   "source": [
    "Execução do protopito 03"
   ]
  },
  {
   "cell_type": "code",
   "execution_count": null,
   "metadata": {},
   "outputs": [],
   "source": [
    "#%run -m climaplotEx3 ;"
   ]
  },
  {
   "cell_type": "markdown",
   "metadata": {},
   "source": [
    "## Respostas\n",
    "\n",
    "Implemente sua aplicação como um pacote __Python__ e disponibilize neste __Notebook__ um explicação dos principais pontos da implementação. Utilize o comando mágico ``%run`` para executar o aplicativo desenvolvido.  Envie o __Notebook__ via __Moodle__ assim como o repositório com a implementação do aplicativo até o final do prazo. "
   ]
  },
  {
   "cell_type": "markdown",
   "metadata": {},
   "source": [
    "Execução do arquivo final"
   ]
  },
  {
   "cell_type": "code",
   "execution_count": 4,
   "metadata": {},
   "outputs": [
    {
     "name": "stdout",
     "output_type": "stream",
     "text": [
      "\n",
      "\n",
      "\n",
      "\n",
      "\n",
      "\n",
      "Finalizando Programa...\n",
      "\n",
      "Excluindo donwloads...\n",
      "\n",
      "Donwloads excluidos com sucesso!\n"
     ]
    },
    {
     "data": {
      "image/png": "[encoded data removed]",
      "text/plain": [
       "<Figure size 640x480 with 2 Axes>"
      ]
     },
     "metadata": {},
     "output_type": "display_data"
    }
   ],
   "source": [
    "%run -m climaplot ;"
   ]
  }
 ],
 "metadata": {
  "kernelspec": {
   "display_name": "Python 3 (ipykernel)",
   "language": "python",
   "name": "python3"
  },
  "language_info": {
   "codemirror_mode": {
    "name": "ipython",
    "version": 3
   },
   "file_extension": ".py",
   "mimetype": "text/x-python",
   "name": "python",
   "nbconvert_exporter": "python",
   "pygments_lexer": "ipython3",
   "version": "3.11.5"
  }
 },
 "nbformat": 4,
 "nbformat_minor": 2
}
