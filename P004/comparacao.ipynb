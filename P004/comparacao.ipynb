{
 "cells": [
  {
   "cell_type": "markdown",
   "metadata": {},
   "source": [
    "Para a comparação criaremos uma lista de salários com 5000 valores aleatórios a partir da implementação inicial"
   ]
  },
  {
   "cell_type": "code",
   "execution_count": 6,
   "metadata": {},
   "outputs": [
    {
     "name": "stdout",
     "output_type": "stream",
     "text": [
      "[12716.939389426729, 4349.135162973305, 7392.305428977386, 2874.5958247584886, 10442.443663295144]\n"
     ]
    }
   ],
   "source": [
    "import DataFruta_V1 as df\n",
    "salarios = df.ListaSalarios.geraListaSalario(5000)\n",
    "print(salarios.lista[:5])\n"
   ]
  },
  {
   "cell_type": "markdown",
   "metadata": {},
   "source": [
    "O mesmo com a nova implementação"
   ]
  },
  {
   "cell_type": "code",
   "execution_count": 3,
   "metadata": {},
   "outputs": [
    {
     "name": "stdout",
     "output_type": "stream",
     "text": [
      "[ 3822.36162807  3139.50950611  7312.12724053 12152.70750389\n",
      "  9189.08935299]\n"
     ]
    }
   ],
   "source": [
    "import DataFruta_V2 as df2\n",
    "salarios2 = df2.ListaSalarios.geraListaSalario(5000)\n",
    "print(salarios2.lista[:5])"
   ]
  },
  {
   "cell_type": "markdown",
   "metadata": {},
   "source": [
    "Agora avaliaremos o tempo necessário para calcular algumas métricas utilizando a implementação com listas"
   ]
  },
  {
   "cell_type": "code",
   "execution_count": 8,
   "metadata": {},
   "outputs": [
    {
     "name": "stdout",
     "output_type": "stream",
     "text": [
      "985 µs ± 160 µs per loop (mean ± std. dev. of 7 runs, 1,000 loops each)\n",
      "952 µs ± 112 µs per loop (mean ± std. dev. of 7 runs, 1,000 loops each)\n",
      "1.05 ms ± 166 µs per loop (mean ± std. dev. of 7 runs, 1,000 loops each)\n",
      "1.82 ms ± 498 µs per loop (mean ± std. dev. of 7 runs, 100 loops each)\n",
      "2.32 ms ± 470 µs per loop (mean ± std. dev. of 7 runs, 100 loops each)\n",
      "28.1 µs ± 2.2 µs per loop (mean ± std. dev. of 7 runs, 100,000 loops each)\n",
      "471 µs ± 82.9 µs per loop (mean ± std. dev. of 7 runs, 1,000 loops each)\n",
      "951 µs ± 86.9 µs per loop (mean ± std. dev. of 7 runs, 1,000 loops each)\n",
      "2.26 ms ± 430 µs per loop (mean ± std. dev. of 7 runs, 100 loops each)\n",
      "2.3 ms ± 518 µs per loop (mean ± std. dev. of 7 runs, 100 loops each)\n"
     ]
    }
   ],
   "source": [
    "%timeit salarios.mostraMediana()\n",
    "%timeit salarios.mostraMenor()\n",
    "%timeit salarios.mostraMaior()\n",
    "%timeit salarios.mostraDesvioPadraoAmostral()\n",
    "%timeit salarios.mostraDesvioPadraoPopulacional()\n",
    "%timeit salarios.mostraMediaAritmetica()\n",
    "%timeit salarios.mostraMediaGeometrica()\n",
    "%timeit salarios.mostraMediaHarmonica()\n",
    "%timeit salarios.mostraVarianciaAmostral()\n",
    "%timeit salarios.mostraVarianciaPopulacional()\n"
   ]
  },
  {
   "cell_type": "markdown",
   "metadata": {},
   "source": [
    "O mesmo com a implementação utilizando ndarrays"
   ]
  },
  {
   "cell_type": "code",
   "execution_count": 4,
   "metadata": {},
   "outputs": [
    {
     "name": "stdout",
     "output_type": "stream",
     "text": [
      "1.47 ms ± 64 µs per loop (mean ± std. dev. of 7 runs, 1,000 loops each)\n",
      "3.75 µs ± 146 ns per loop (mean ± std. dev. of 7 runs, 100,000 loops each)\n",
      "3.79 µs ± 155 ns per loop (mean ± std. dev. of 7 runs, 100,000 loops each)\n",
      "42.9 µs ± 1.06 µs per loop (mean ± std. dev. of 7 runs, 10,000 loops each)\n",
      "59.2 µs ± 18.6 µs per loop (mean ± std. dev. of 7 runs, 10,000 loops each)\n",
      "10.6 µs ± 785 ns per loop (mean ± std. dev. of 7 runs, 100,000 loops each)\n",
      "15.6 µs ± 674 ns per loop (mean ± std. dev. of 7 runs, 100,000 loops each)\n",
      "16.8 µs ± 1.41 µs per loop (mean ± std. dev. of 7 runs, 100,000 loops each)\n",
      "38.3 µs ± 1.58 µs per loop (mean ± std. dev. of 7 runs, 10,000 loops each)\n",
      "46.1 µs ± 9.6 µs per loop (mean ± std. dev. of 7 runs, 10,000 loops each)\n"
     ]
    }
   ],
   "source": [
    "%timeit salarios2.mostraMediana()\n",
    "%timeit salarios2.mostraMenor()\n",
    "%timeit salarios2.mostraMaior()\n",
    "%timeit salarios2.mostraDesvioPadraoAmostral()\n",
    "%timeit salarios2.mostraDesvioPadraoPopulacional()\n",
    "%timeit salarios2.mostraMediaAritmetica()\n",
    "%timeit salarios2.mostraMediaGeometrica()\n",
    "%timeit salarios2.mostraMediaHarmonica()\n",
    "%timeit salarios2.mostraVarianciaAmostral()\n",
    "%timeit salarios2.mostraVarianciaPopulacional()"
   ]
  },
  {
   "cell_type": "markdown",
   "metadata": {},
   "source": [
    "A partir do observado podemos listar algumas vantagens e desvantagens na utilização de ndarray em comparação com listas:\n",
    "\n",
    "Vantagens:\n",
    "\n",
    "- Rapidez: Para os cálculos estatísticos ndarray são mais rápidos, comprova-se vizualizando o tempo gasto para cada cálculo feito anteriormente."
   ]
  },
  {
   "cell_type": "markdown",
   "metadata": {},
   "source": [
    "- ufunc: com a utilização de ufuncs o que seria necessário utilizar loops em listas se torna simples e menos verboso ao utilizar apenas um comando se tentarmos utilizar em listas da erro como a seguir:"
   ]
  },
  {
   "cell_type": "code",
   "execution_count": 10,
   "metadata": {},
   "outputs": [
    {
     "name": "stdout",
     "output_type": "stream",
     "text": [
      "[2631.22558084  996.94356872  660.09694556 1544.40605117 1019.85026393]\n",
      "unsupported operand type(s) for /: 'list' and 'int'\n"
     ]
    }
   ],
   "source": [
    "ex = salarios2.lista/5\n",
    "print(ex[:5])\n",
    "try:\n",
    "    ex = salarios.lista/5\n",
    "except Exception as e:\n",
    "    print(e)"
   ]
  },
  {
   "cell_type": "markdown",
   "metadata": {},
   "source": [
    "- diversidade: os ndarrays possuem uma variedade de funções que as listas não possuem como observado abaixo:"
   ]
  },
  {
   "cell_type": "code",
   "execution_count": 11,
   "metadata": {},
   "outputs": [
    {
     "name": "stdout",
     "output_type": "stream",
     "text": [
      "['T', '__abs__', '__add__', '__and__', '__array__', '__array_finalize__', '__array_function__', '__array_interface__', '__array_prepare__', '__array_priority__', '__array_struct__', '__array_ufunc__', '__array_wrap__', '__bool__', '__class__', '__class_getitem__', '__complex__', '__contains__', '__copy__', '__deepcopy__', '__delattr__', '__delitem__', '__dir__', '__divmod__', '__dlpack__', '__dlpack_device__', '__doc__', '__eq__', '__float__', '__floordiv__', '__format__', '__ge__', '__getattribute__', '__getitem__', '__gt__', '__hash__', '__iadd__', '__iand__', '__ifloordiv__', '__ilshift__', '__imatmul__', '__imod__', '__imul__', '__index__', '__init__', '__init_subclass__', '__int__', '__invert__', '__ior__', '__ipow__', '__irshift__', '__isub__', '__iter__', '__itruediv__', '__ixor__', '__le__', '__len__', '__lshift__', '__lt__', '__matmul__', '__mod__', '__mul__', '__ne__', '__neg__', '__new__', '__or__', '__pos__', '__pow__', '__radd__', '__rand__', '__rdivmod__', '__reduce__', '__reduce_ex__', '__repr__', '__rfloordiv__', '__rlshift__', '__rmatmul__', '__rmod__', '__rmul__', '__ror__', '__rpow__', '__rrshift__', '__rshift__', '__rsub__', '__rtruediv__', '__rxor__', '__setattr__', '__setitem__', '__setstate__', '__sizeof__', '__str__', '__sub__', '__subclasshook__', '__truediv__', '__xor__', 'all', 'any', 'argmax', 'argmin', 'argpartition', 'argsort', 'astype', 'base', 'byteswap', 'choose', 'clip', 'compress', 'conj', 'conjugate', 'copy', 'ctypes', 'cumprod', 'cumsum', 'data', 'diagonal', 'dot', 'dtype', 'dump', 'dumps', 'fill', 'flags', 'flat', 'flatten', 'getfield', 'imag', 'item', 'itemset', 'itemsize', 'max', 'mean', 'min', 'nbytes', 'ndim', 'newbyteorder', 'nonzero', 'partition', 'prod', 'ptp', 'put', 'ravel', 'real', 'repeat', 'reshape', 'resize', 'round', 'searchsorted', 'setfield', 'setflags', 'shape', 'size', 'sort', 'squeeze', 'std', 'strides', 'sum', 'swapaxes', 'take', 'tobytes', 'tofile', 'tolist', 'tostring', 'trace', 'transpose', 'var', 'view']\n",
      "['__add__', '__class__', '__class_getitem__', '__contains__', '__delattr__', '__delitem__', '__dir__', '__doc__', '__eq__', '__format__', '__ge__', '__getattribute__', '__getitem__', '__gt__', '__hash__', '__iadd__', '__imul__', '__init__', '__init_subclass__', '__iter__', '__le__', '__len__', '__lt__', '__mul__', '__ne__', '__new__', '__reduce__', '__reduce_ex__', '__repr__', '__reversed__', '__rmul__', '__setattr__', '__setitem__', '__sizeof__', '__str__', '__subclasshook__', 'append', 'clear', 'copy', 'count', 'extend', 'index', 'insert', 'pop', 'remove', 'reverse', 'sort']\n"
     ]
    }
   ],
   "source": [
    "print(dir(salarios2.lista))\n",
    "print(dir(salarios.lista))"
   ]
  },
  {
   "cell_type": "markdown",
   "metadata": {},
   "source": [
    "Desvantagens:\n",
    "\n",
    "- Extensibilidade: os ndarrays possuem tamanho estático enquanto as listas possuem tamanho dinâmico"
   ]
  },
  {
   "cell_type": "code",
   "execution_count": 12,
   "metadata": {},
   "outputs": [
    {
     "name": "stdout",
     "output_type": "stream",
     "text": [
      "[1, 2, 3, 8]\n",
      "'numpy.ndarray' object has no attribute 'append'\n"
     ]
    }
   ],
   "source": [
    "lista = [1, 2, 3]\n",
    "lista.append(8)\n",
    "print(lista)\n",
    "try:\n",
    "    salarios2.lista.append(5)\n",
    "    #salarios2.lista.add(5)\n",
    "except Exception as e:\n",
    "    print(e)"
   ]
  }
 ],
 "metadata": {
  "kernelspec": {
   "display_name": "p10",
   "language": "python",
   "name": "python3"
  },
  "language_info": {
   "codemirror_mode": {
    "name": "ipython",
    "version": 3
   },
   "file_extension": ".py",
   "mimetype": "text/x-python",
   "name": "python",
   "nbconvert_exporter": "python",
   "pygments_lexer": "ipython3",
   "version": "3.10.13"
  }
 },
 "nbformat": 4,
 "nbformat_minor": 2
}
