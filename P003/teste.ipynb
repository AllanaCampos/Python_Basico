{
 "cells": [
  {
   "cell_type": "code",
   "execution_count": 1,
   "metadata": {},
   "outputs": [
    {
     "name": "stdout",
     "output_type": "stream",
     "text": [
      "39.0\n",
      "18\n",
      "65\n",
      "37.75406956794952\n",
      "40.52\n",
      "35.01327779124973\n",
      "107.08479999999997\n",
      "106.58479999999997\n",
      "213.16959999999995\n",
      "214.16959999999995\n"
     ]
    }
   ],
   "source": [
    "import DataFruta_V1 as df\n",
    "idades = df.ListaIdades.geraListaIdade(50)\n",
    "print(idades.mostraMediana())\n",
    "print(idades.mostraMenor())\n",
    "print(idades.mostraMaior())\n",
    "print(idades.mostraMediaGeometrica())\n",
    "print(idades.mostraMediaAritmetica())\n",
    "print(idades.mostraMediaHarmonica())\n",
    "print(idades.mostraDesvioPadraoPopulacional())\n",
    "print(idades.mostraDesvioPadraoAmostral())\n",
    "print(idades.mostraVarianciaAmostral())\n",
    "print(idades.mostraVarianciaPopulacional())"
   ]
  },
  {
   "cell_type": "code",
   "execution_count": 2,
   "metadata": {},
   "outputs": [
    {
     "name": "stdout",
     "output_type": "stream",
     "text": [
      "449 µs ± 21.5 µs per loop (mean ± std. dev. of 7 runs, 1,000 loops each)\n",
      "422 µs ± 16.5 µs per loop (mean ± std. dev. of 7 runs, 1,000 loops each)\n",
      "438 µs ± 31.6 µs per loop (mean ± std. dev. of 7 runs, 1,000 loops each)\n"
     ]
    }
   ],
   "source": [
    "%timeit idades.mostraMediana()\n",
    "%timeit idades.mostraMenor()\n",
    "%timeit idades.mostraMaior()"
   ]
  },
  {
   "cell_type": "code",
   "execution_count": 3,
   "metadata": {},
   "outputs": [
    {
     "name": "stdout",
     "output_type": "stream",
     "text": [
      "7412.364971188499\n",
      "1320.7020541370457\n",
      "13196.922348987015\n"
     ]
    }
   ],
   "source": [
    "salarios = df.ListaSalarios.geraListaSalario(5000)\n",
    "print(salarios.mostraMediana())\n",
    "print(salarios.mostraMenor())\n",
    "print(salarios.mostraMaior())"
   ]
  },
  {
   "cell_type": "code",
   "execution_count": 4,
   "metadata": {},
   "outputs": [
    {
     "name": "stdout",
     "output_type": "stream",
     "text": [
      "575 µs ± 43.8 µs per loop (mean ± std. dev. of 7 runs, 1,000 loops each)\n",
      "590 µs ± 32.3 µs per loop (mean ± std. dev. of 7 runs, 1,000 loops each)\n",
      "629 µs ± 24.4 µs per loop (mean ± std. dev. of 7 runs, 1,000 loops each)\n"
     ]
    }
   ],
   "source": [
    "%timeit salarios.mostraMediana()\n",
    "%timeit salarios.mostraMenor()\n",
    "%timeit salarios.mostraMaior()"
   ]
  },
  {
   "cell_type": "code",
   "execution_count": 6,
   "metadata": {},
   "outputs": [],
   "source": [
    "import numpy as np\n",
    "np_idades = np.array(idades.lista)\n",
    "np_salarios = np.array(salarios.lista)"
   ]
  },
  {
   "cell_type": "code",
   "execution_count": 10,
   "metadata": {},
   "outputs": [
    {
     "name": "stdout",
     "output_type": "stream",
     "text": [
      "78.2 µs ± 5.22 µs per loop (mean ± std. dev. of 7 runs, 10,000 loops each)\n",
      "5.1 µs ± 337 ns per loop (mean ± std. dev. of 7 runs, 100,000 loops each)\n",
      "6.08 µs ± 703 ns per loop (mean ± std. dev. of 7 runs, 100,000 loops each)\n"
     ]
    }
   ],
   "source": [
    "%timeit np.median(np_idades)\n",
    "%timeit np.max(np_idades)\n",
    "%timeit np.min(np_idades)"
   ]
  },
  {
   "cell_type": "code",
   "execution_count": 11,
   "metadata": {},
   "outputs": [
    {
     "name": "stdout",
     "output_type": "stream",
     "text": [
      "93.4 µs ± 8.17 µs per loop (mean ± std. dev. of 7 runs, 10,000 loops each)\n",
      "7.05 µs ± 937 ns per loop (mean ± std. dev. of 7 runs, 100,000 loops each)\n",
      "6.76 µs ± 472 ns per loop (mean ± std. dev. of 7 runs, 100,000 loops each)\n"
     ]
    }
   ],
   "source": [
    "%timeit np.median(np_salarios)\n",
    "%timeit np.max(np_salarios)\n",
    "%timeit np.min(np_salarios)"
   ]
  }
 ],
 "metadata": {
  "kernelspec": {
   "display_name": "p10",
   "language": "python",
   "name": "python3"
  },
  "language_info": {
   "codemirror_mode": {
    "name": "ipython",
    "version": 3
   },
   "file_extension": ".py",
   "mimetype": "text/x-python",
   "name": "python",
   "nbconvert_exporter": "python",
   "pygments_lexer": "ipython3",
   "version": "3.10.13"
  }
 },
 "nbformat": 4,
 "nbformat_minor": 2
}
